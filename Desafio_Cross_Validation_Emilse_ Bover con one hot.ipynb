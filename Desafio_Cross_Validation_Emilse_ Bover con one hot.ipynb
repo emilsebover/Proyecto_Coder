{
 "cells": [
  {
   "cell_type": "code",
   "execution_count": 1,
   "id": "d6da22ed",
   "metadata": {},
   "outputs": [
    {
     "data": {
      "text/html": [
       "<script>\n",
       "code_show=true; \n",
       "function code_toggle() {\n",
       " if (code_show){\n",
       " $('div.input').hide();\n",
       " } else {\n",
       " $('div.input').show();\n",
       " }\n",
       " code_show = !code_show\n",
       "} \n",
       "$( document ).ready(code_toggle);\n",
       "</script>\n",
       "<form action=\"javascript:code_toggle()\"><input type=\"submit\" value=\"code.\"></form>"
      ],
      "text/plain": [
       "<IPython.core.display.HTML object>"
      ]
     },
     "execution_count": 1,
     "metadata": {},
     "output_type": "execute_result"
    }
   ],
   "source": [
    "from IPython.display import HTML\n",
    "\n",
    "HTML('''<script>\n",
    "code_show=true; \n",
    "function code_toggle() {\n",
    " if (code_show){\n",
    " $('div.input').hide();\n",
    " } else {\n",
    " $('div.input').show();\n",
    " }\n",
    " code_show = !code_show\n",
    "} \n",
    "$( document ).ready(code_toggle);\n",
    "</script>\n",
    "<form action=\"javascript:code_toggle()\"><input type=\"submit\" value=\"code.\"></form>''')"
   ]
  },
  {
   "attachments": {},
   "cell_type": "markdown",
   "id": "a65ad590",
   "metadata": {},
   "source": [
    "# Introducción"
   ]
  },
  {
   "attachments": {},
   "cell_type": "markdown",
   "id": "943474ae",
   "metadata": {},
   "source": [
    "En presente trabajo se analizaron los resultados productivos de una empresa productora de pollos parrilleros para detectar las variables que impactan sobre los resultados y realizar recomendaciones a partir de ello. En segunda instancia se construyó un modelo de regresión "
   ]
  },
  {
   "attachments": {},
   "cell_type": "markdown",
   "id": "1c303bfc",
   "metadata": {},
   "source": [
    "## Obtención de base de datos"
   ]
  },
  {
   "cell_type": "code",
   "execution_count": 1,
   "id": "f473cc0f",
   "metadata": {},
   "outputs": [
    {
     "name": "stdout",
     "output_type": "stream",
     "text": [
      "Requirement already satisfied: ipython-autotime in c:\\users\\ebover\\anaconda3\\lib\\site-packages (0.3.1)\n",
      "Requirement already satisfied: ipython in c:\\users\\ebover\\anaconda3\\lib\\site-packages (from ipython-autotime) (7.31.1)\n",
      "Requirement already satisfied: setuptools>=18.5 in c:\\users\\ebover\\anaconda3\\lib\\site-packages (from ipython->ipython-autotime) (63.4.1)\n",
      "Requirement already satisfied: jedi>=0.16 in c:\\users\\ebover\\anaconda3\\lib\\site-packages (from ipython->ipython-autotime) (0.18.1)\n",
      "Requirement already satisfied: decorator in c:\\users\\ebover\\anaconda3\\lib\\site-packages (from ipython->ipython-autotime) (5.1.1)\n",
      "Requirement already satisfied: pickleshare in c:\\users\\ebover\\anaconda3\\lib\\site-packages (from ipython->ipython-autotime) (0.7.5)\n",
      "Requirement already satisfied: traitlets>=4.2 in c:\\users\\ebover\\anaconda3\\lib\\site-packages (from ipython->ipython-autotime) (5.1.1)\n",
      "Requirement already satisfied: prompt-toolkit!=3.0.0,!=3.0.1,<3.1.0,>=2.0.0 in c:\\users\\ebover\\anaconda3\\lib\\site-packages (from ipython->ipython-autotime) (3.0.20)\n",
      "Requirement already satisfied: pygments in c:\\users\\ebover\\anaconda3\\lib\\site-packages (from ipython->ipython-autotime) (2.11.2)\n",
      "Requirement already satisfied: backcall in c:\\users\\ebover\\anaconda3\\lib\\site-packages (from ipython->ipython-autotime) (0.2.0)\n",
      "Requirement already satisfied: matplotlib-inline in c:\\users\\ebover\\anaconda3\\lib\\site-packages (from ipython->ipython-autotime) (0.1.6)\n",
      "Requirement already satisfied: colorama in c:\\users\\ebover\\anaconda3\\lib\\site-packages (from ipython->ipython-autotime) (0.4.5)\n",
      "Requirement already satisfied: parso<0.9.0,>=0.8.0 in c:\\users\\ebover\\anaconda3\\lib\\site-packages (from jedi>=0.16->ipython->ipython-autotime) (0.8.3)\n",
      "Requirement already satisfied: wcwidth in c:\\users\\ebover\\anaconda3\\lib\\site-packages (from prompt-toolkit!=3.0.0,!=3.0.1,<3.1.0,>=2.0.0->ipython->ipython-autotime) (0.2.5)\n",
      "Note: you may need to restart the kernel to use updated packages.\n",
      "time: 0 ns (started: 2023-06-24 21:52:07 -03:00)\n"
     ]
    },
    {
     "name": "stderr",
     "output_type": "stream",
     "text": [
      "WARNING: Ignoring invalid distribution -illow (c:\\users\\ebover\\anaconda3\\lib\\site-packages)\n",
      "WARNING: Ignoring invalid distribution -illow (c:\\users\\ebover\\anaconda3\\lib\\site-packages)\n"
     ]
    }
   ],
   "source": [
    "# Se presentan las librerías utilizadas:\n",
    "# Importaciones\n",
    "import numpy as np\n",
    "import pandas as pd\n",
    "#import pandas_profiling\n",
    "import plotly.express as px\n",
    "import seaborn as sns\n",
    "import matplotlib.pyplot as plt\n",
    "from prettytable import PrettyTable\n",
    "import xlsxwriter\n",
    "import datetime\n",
    "import statsmodels.api as sm\n",
    "import requests\n",
    "import json\n",
    "import plotly.express as px\n",
    "import ydata_profiling\n",
    "from matplotlib import rcParams\n",
    "from numpy import mean\n",
    "from numpy import std\n",
    "\n",
    "# Para modelaje:\n",
    "from sklearn.svm import SVR\n",
    "from sklearn.model_selection import train_test_split\n",
    "from sklearn.linear_model import LassoCV\n",
    "from sklearn.ensemble import RandomForestRegressor\n",
    "import xgboost as xgb\n",
    "from sklearn.impute import SimpleImputer\n",
    "from sklearn.compose import ColumnTransformer\n",
    "from sklearn.pipeline import Pipeline\n",
    "from sklearn.preprocessing import OneHotEncoder, StandardScaler\n",
    "from sklearn.model_selection import RandomizedSearchCV\n",
    "from sklearn.model_selection import cross_val_score\n",
    "from sklearn.feature_selection import VarianceThreshold\n",
    "from sklearn.ensemble import VotingRegressor\n",
    "from imblearn import FunctionSampler\n",
    "from sklearn import metrics\n",
    "%pip install ipython-autotime\n",
    "%load_ext autotime\n",
    "import pickle\n",
    "from sklearn.metrics import mean_squared_error, r2_score\n",
    "from sklearn import preprocessing"
   ]
  },
  {
   "cell_type": "code",
   "execution_count": 2,
   "id": "bae7f623",
   "metadata": {},
   "outputs": [
    {
     "name": "stdout",
     "output_type": "stream",
     "text": [
      "time: 13.6 s (started: 2023-06-24 21:52:22 -03:00)\n"
     ]
    }
   ],
   "source": [
    "#Ingresos semanales compilado registra resultados finales de la producción en la pestaña BASE. Contiene además datos de genética, nutrición y sanidad.\n",
    "df = pd.read_excel(r\"C:\\Users\\ebover\\OneDrive - FRIGORIFICO DE AVES SOYCHU S.A.I.C.F.I.A\\ingresos semanales compilado.xlsx\",sheet_name='BASE', skiprows=1 , usecols=range(1,67))"
   ]
  },
  {
   "attachments": {},
   "cell_type": "markdown",
   "id": "ca760d02",
   "metadata": {},
   "source": [
    "## Feature extraction preliminar"
   ]
  },
  {
   "cell_type": "code",
   "execution_count": 3,
   "id": "895267f6",
   "metadata": {},
   "outputs": [
    {
     "name": "stdout",
     "output_type": "stream",
     "text": [
      "time: 78 ms (started: 2023-06-24 21:52:39 -03:00)\n"
     ]
    }
   ],
   "source": [
    "df.drop(df[(df['A.D.'] >100)].index, inplace=True) #Se eliminan valores erróneos\n",
    "df.drop(df[(df['Edad'] >70)].index, inplace=True) #Se elimninan edades fuera de estándar\n",
    "df.drop(df[(df['Destino'] =='EXP')].index, inplace=True) # se eliminan crianzas de pollos enviados a exportación\n"
   ]
  },
  {
   "cell_type": "code",
   "execution_count": 4,
   "id": "ba4146c5",
   "metadata": {},
   "outputs": [
    {
     "data": {
      "text/plain": [
       "array(['granja', 'Nombre', 'Primer BB', 'Cantid. BB', 'A Faena',\n",
       "       '% a 7 Días', '% Mortan.', '% Fal.', 'Kg. Pollo', 'P. Prom.',\n",
       "       'Kg. Alim.', 'Conv', 'Ulto. Levan.', 'Edad', 'A.D.', 'E.F.S.',\n",
       "       'Gas', '$ x Ave Ter.', 'Gas x Ave In.', 'Bonificación',\n",
       "       'Total Liqu.', 'Total Liq. con Bioseguridad',\n",
       "       '$ AVE FINAL POR SISTEMA', 'año ingreso', 'mes ingreso',\n",
       "       'semana ingreso', 'año levante', 'mes levante', 'semana levante',\n",
       "       'sexo', 'zona', 'Tipo de granja', 'Estación del año',\n",
       "       'Días de receso', 'Días de receso corregido',\n",
       "       'Fuera de rango por receso', 'fuera de rango por mortandad',\n",
       "       'mortandad semanal promedio', 'Conversión ajustada a 2,7 kg',\n",
       "       'Consumo medio diario (g)', 'Consumo ajustado a 2,7 kg', 'Destino',\n",
       "       'capacidad', 'Densidad', 'kg pollo/m2', 'aves/comedero',\n",
       "       'Cuartil por crianza 2017', 'Ventilación forzada',\n",
       "       'Ambiente controlado', 'Distancia a planta alimento', 'localidad',\n",
       "       'experim', 'dada de baja', 'Cuartil EFS 2019',\n",
       "       '% desvío consumo std', 'EFS según ranking 19', 'Índice', 'nd',\n",
       "       'zona climática', 'Cuartil EFS 2021', 'conv aj aviagen 2021',\n",
       "       'conv aj AVIAGEN', 'hepatitis', 'consumo total', 'Pes conv 2,7',\n",
       "       'zona prod'], dtype=object)"
      ]
     },
     "execution_count": 4,
     "metadata": {},
     "output_type": "execute_result"
    },
    {
     "name": "stdout",
     "output_type": "stream",
     "text": [
      "time: 16 ms (started: 2023-06-24 21:01:35 -03:00)\n"
     ]
    }
   ],
   "source": [
    "columns_names = df.columns.values\n",
    "columns_names"
   ]
  },
  {
   "cell_type": "code",
   "execution_count": 4,
   "id": "9d750780",
   "metadata": {},
   "outputs": [
    {
     "data": {
      "text/html": [
       "<div>\n",
       "<style scoped>\n",
       "    .dataframe tbody tr th:only-of-type {\n",
       "        vertical-align: middle;\n",
       "    }\n",
       "\n",
       "    .dataframe tbody tr th {\n",
       "        vertical-align: top;\n",
       "    }\n",
       "\n",
       "    .dataframe thead th {\n",
       "        text-align: right;\n",
       "    }\n",
       "</style>\n",
       "<table border=\"1\" class=\"dataframe\">\n",
       "  <thead>\n",
       "    <tr style=\"text-align: right;\">\n",
       "      <th></th>\n",
       "      <th>Días de receso corregido</th>\n",
       "      <th>granja</th>\n",
       "      <th>Cantid. BB</th>\n",
       "      <th>% a 7 Días</th>\n",
       "      <th>% Mortan.</th>\n",
       "      <th>Edad</th>\n",
       "      <th>mes levante</th>\n",
       "      <th>Consumo medio diario (g)</th>\n",
       "      <th>Estación del año</th>\n",
       "      <th>Densidad</th>\n",
       "      <th>Ventilación forzada</th>\n",
       "      <th>Ambiente controlado</th>\n",
       "      <th>localidad</th>\n",
       "      <th>% desvío consumo std</th>\n",
       "      <th>zona climática</th>\n",
       "      <th>zona prod</th>\n",
       "    </tr>\n",
       "  </thead>\n",
       "  <tbody>\n",
       "    <tr>\n",
       "      <th>0</th>\n",
       "      <td>14</td>\n",
       "      <td>2544</td>\n",
       "      <td>36000</td>\n",
       "      <td>0.55</td>\n",
       "      <td>2.88</td>\n",
       "      <td>49.0</td>\n",
       "      <td>1</td>\n",
       "      <td>115.963592</td>\n",
       "      <td>verano</td>\n",
       "      <td>12.000000</td>\n",
       "      <td>S</td>\n",
       "      <td>N</td>\n",
       "      <td>San Pedro</td>\n",
       "      <td>-10.389276</td>\n",
       "      <td>Arrecifes</td>\n",
       "      <td>BA</td>\n",
       "    </tr>\n",
       "    <tr>\n",
       "      <th>1</th>\n",
       "      <td>12</td>\n",
       "      <td>2558</td>\n",
       "      <td>57500</td>\n",
       "      <td>0.83</td>\n",
       "      <td>5.71</td>\n",
       "      <td>52.9</td>\n",
       "      <td>1</td>\n",
       "      <td>117.081839</td>\n",
       "      <td>verano</td>\n",
       "      <td>10.454545</td>\n",
       "      <td>N</td>\n",
       "      <td>N</td>\n",
       "      <td>Salto</td>\n",
       "      <td>-14.867094</td>\n",
       "      <td>Arrecifes</td>\n",
       "      <td>BA</td>\n",
       "    </tr>\n",
       "    <tr>\n",
       "      <th>2</th>\n",
       "      <td>11</td>\n",
       "      <td>2761</td>\n",
       "      <td>39000</td>\n",
       "      <td>0.92</td>\n",
       "      <td>6.45</td>\n",
       "      <td>49.0</td>\n",
       "      <td>1</td>\n",
       "      <td>127.820226</td>\n",
       "      <td>verano</td>\n",
       "      <td>9.470000</td>\n",
       "      <td>N</td>\n",
       "      <td>N</td>\n",
       "      <td>Chivilcoy</td>\n",
       "      <td>-1.227077</td>\n",
       "      <td>25 de mayo</td>\n",
       "      <td>BA</td>\n",
       "    </tr>\n",
       "    <tr>\n",
       "      <th>3</th>\n",
       "      <td>9</td>\n",
       "      <td>2524</td>\n",
       "      <td>30000</td>\n",
       "      <td>1.35</td>\n",
       "      <td>5.90</td>\n",
       "      <td>49.0</td>\n",
       "      <td>1</td>\n",
       "      <td>127.343729</td>\n",
       "      <td>verano</td>\n",
       "      <td>10.000000</td>\n",
       "      <td>N</td>\n",
       "      <td>N</td>\n",
       "      <td>San Pedro</td>\n",
       "      <td>-1.595289</td>\n",
       "      <td>Arrecifes</td>\n",
       "      <td>BA</td>\n",
       "    </tr>\n",
       "    <tr>\n",
       "      <th>4</th>\n",
       "      <td>10</td>\n",
       "      <td>2741</td>\n",
       "      <td>42000</td>\n",
       "      <td>0.76</td>\n",
       "      <td>7.35</td>\n",
       "      <td>51.0</td>\n",
       "      <td>1</td>\n",
       "      <td>138.304026</td>\n",
       "      <td>verano</td>\n",
       "      <td>10.769231</td>\n",
       "      <td>N</td>\n",
       "      <td>N</td>\n",
       "      <td>Arrecifes</td>\n",
       "      <td>3.530095</td>\n",
       "      <td>Arrecifes</td>\n",
       "      <td>BA</td>\n",
       "    </tr>\n",
       "  </tbody>\n",
       "</table>\n",
       "</div>"
      ],
      "text/plain": [
       "   Días de receso corregido  granja  Cantid. BB  % a 7 Días  % Mortan.  Edad  \\\n",
       "0                        14    2544       36000        0.55       2.88  49.0   \n",
       "1                        12    2558       57500        0.83       5.71  52.9   \n",
       "2                        11    2761       39000        0.92       6.45  49.0   \n",
       "3                         9    2524       30000        1.35       5.90  49.0   \n",
       "4                        10    2741       42000        0.76       7.35  51.0   \n",
       "\n",
       "   mes levante  Consumo medio diario (g) Estación del año   Densidad  \\\n",
       "0            1                115.963592           verano  12.000000   \n",
       "1            1                117.081839           verano  10.454545   \n",
       "2            1                127.820226           verano   9.470000   \n",
       "3            1                127.343729           verano  10.000000   \n",
       "4            1                138.304026           verano  10.769231   \n",
       "\n",
       "  Ventilación forzada Ambiente controlado  localidad  % desvío consumo std  \\\n",
       "0                   S                   N  San Pedro            -10.389276   \n",
       "1                   N                   N      Salto            -14.867094   \n",
       "2                   N                   N  Chivilcoy             -1.227077   \n",
       "3                   N                   N  San Pedro             -1.595289   \n",
       "4                   N                   N  Arrecifes              3.530095   \n",
       "\n",
       "  zona climática zona prod  \n",
       "0      Arrecifes        BA  \n",
       "1      Arrecifes        BA  \n",
       "2     25 de mayo        BA  \n",
       "3      Arrecifes        BA  \n",
       "4      Arrecifes        BA  "
      ]
     },
     "execution_count": 4,
     "metadata": {},
     "output_type": "execute_result"
    },
    {
     "name": "stdout",
     "output_type": "stream",
     "text": [
      "time: 47 ms (started: 2023-06-24 21:52:46 -03:00)\n"
     ]
    }
   ],
   "source": [
    "#subset para modelo\n",
    "dfm=df[['Días de receso corregido','granja','Cantid. BB','% a 7 Días','% Mortan.','Edad','mes levante','Consumo medio diario (g)','Estación del año','Densidad','Ventilación forzada','Ambiente controlado','localidad', '% desvío consumo std','zona climática','zona prod' ]]\n",
    "dfm.head()"
   ]
  },
  {
   "cell_type": "code",
   "execution_count": 5,
   "id": "b8f7890e",
   "metadata": {},
   "outputs": [
    {
     "name": "stdout",
     "output_type": "stream",
     "text": [
      "Shape:  (14629, 66)\n",
      "+--------------------------+---------+----------------+-------------+---------+----------------+---------------------+\n",
      "|         Variable         |   Tipo  | Cant. No Nulos | Cant. Nulos | % Nulos | Valores Únicos |       Ejemplo       |\n",
      "+--------------------------+---------+----------------+-------------+---------+----------------+---------------------+\n",
      "| Días de receso corregido |  int64  |     14629      |      0      |   0.0   |       28       |          14         |\n",
      "|          granja          |  int64  |     14629      |      0      |   0.0   |      753       |         2544        |\n",
      "|        Cantid. BB        |  int64  |     14629      |      0      |   0.0   |      2390      |        36000        |\n",
      "|        % a 7 Días        | float64 |     14629      |      0      |   0.0   |      620       |         0.55        |\n",
      "|        % Mortan.         | float64 |     14629      |      0      |   0.0   |      2228      |         2.88        |\n",
      "|           Edad           | float64 |     14629      |      0      |   0.0   |      212       |         49.0        |\n",
      "|       mes levante        |  int64  |     14629      |      0      |   0.0   |       12       |          1          |\n",
      "| Consumo medio diario (g) | float64 |     14629      |      0      |   0.0   |     13978      |  115.96359170598797 |\n",
      "|     Estación del año     |  object |     14629      |      0      |   0.0   |       4        |        verano       |\n",
      "|         Densidad         | float64 |     14629      |      0      |   0.0   |      5391      |         12.0        |\n",
      "|   Ventilación forzada    |  object |     14629      |      0      |   0.0   |       3        |          S          |\n",
      "|   Ambiente controlado    |  object |     14629      |      0      |   0.0   |       2        |          N          |\n",
      "|        localidad         |  object |     14629      |      0      |   0.0   |       41       |      San Pedro      |\n",
      "|   % desvío consumo std   | float64 |     14629      |      0      |   0.0   |     14305      | -10.389276240444559 |\n",
      "|      zona climática      |  object |     14629      |      0      |   0.0   |       5        |      Arrecifes      |\n",
      "|        zona prod         |  object |     14629      |      0      |   0.0   |       3        |          BA         |\n",
      "+--------------------------+---------+----------------+-------------+---------+----------------+---------------------+\n",
      "\n",
      "time: 110 ms (started: 2023-06-24 21:52:50 -03:00)\n"
     ]
    }
   ],
   "source": [
    "def df_explore(dfm):\n",
    "    # Tabla de descripción de las principales características de cada columna de un conjunto de datos\n",
    "    print( 'Shape: ', df.shape)\n",
    "\n",
    "    t = PrettyTable(['Variable',\n",
    "                     'Tipo',\n",
    "                     'Cant. No Nulos',\n",
    "                     'Cant. Nulos',\n",
    "                     '% Nulos',\n",
    "                     'Valores Únicos',\n",
    "                     'Ejemplo',\n",
    "                    ])\n",
    "\n",
    "    for c in dfm.columns:\n",
    "        t.add_row([c,                                                                                         # Variable\n",
    "                   dfm[c].dtype,                                                                               # tipo\n",
    "                   len(dfm[c])-np.sum(dfm[c].isna().sort_values(ascending=False)),                              # Cant. No Nulos\n",
    "                   np.sum(dfm[c].isna()),                                                                 # Cant. Nulos\n",
    "                   np.round(dfm[c].isna().sort_values(ascending=False).sum()/len(df)*100, 2),        # % Nulos\n",
    "                   np.count_nonzero(dfm[c].unique()),                                                          # Valores Únicos\n",
    "                   dfm[~dfm[c].isnull()][c].iloc[0],                                                            # Ejemplo\n",
    "                  ])\n",
    "    print(t)\n",
    "    print()\n",
    "    return\n",
    "\n",
    "df_explore(dfm)"
   ]
  },
  {
   "cell_type": "code",
   "execution_count": 6,
   "id": "718845f4",
   "metadata": {},
   "outputs": [
    {
     "name": "stdout",
     "output_type": "stream",
     "text": [
      "Empty DataFrame\n",
      "Columns: [Correlacion]\n",
      "Index: []\n",
      "time: 31 ms (started: 2023-06-24 21:53:01 -03:00)\n"
     ]
    }
   ],
   "source": [
    "c = dfm.corr(numeric_only=True).abs()\n",
    "s = c.unstack()\n",
    "correlacion=pd.DataFrame(s)\n",
    "correlacion.columns=[\"Correlacion\"]\n",
    "correlaciones_max=correlacion.query(\"Correlacion>0.8 & Correlacion!=1\")\n",
    "\n",
    "with pd.option_context('display.max_rows', None,\n",
    "                       'display.max_columns', None,\n",
    "                       'display.precision', 3,\n",
    "                       ):\n",
    "    print(correlaciones_max)"
   ]
  },
  {
   "cell_type": "code",
   "execution_count": 7,
   "id": "015c4b5a",
   "metadata": {},
   "outputs": [
    {
     "data": {
      "text/html": [
       "<div>\n",
       "<style scoped>\n",
       "    .dataframe tbody tr th:only-of-type {\n",
       "        vertical-align: middle;\n",
       "    }\n",
       "\n",
       "    .dataframe tbody tr th {\n",
       "        vertical-align: top;\n",
       "    }\n",
       "\n",
       "    .dataframe thead th {\n",
       "        text-align: right;\n",
       "    }\n",
       "</style>\n",
       "<table border=\"1\" class=\"dataframe\">\n",
       "  <thead>\n",
       "    <tr style=\"text-align: right;\">\n",
       "      <th></th>\n",
       "      <th></th>\n",
       "      <th>Correlacion</th>\n",
       "    </tr>\n",
       "  </thead>\n",
       "  <tbody>\n",
       "    <tr>\n",
       "      <th rowspan=\"6\" valign=\"top\">Consumo medio diario (g)</th>\n",
       "      <th>% desvío consumo std</th>\n",
       "      <td>0.775343</td>\n",
       "    </tr>\n",
       "    <tr>\n",
       "      <th>mes levante</th>\n",
       "      <td>0.184582</td>\n",
       "    </tr>\n",
       "    <tr>\n",
       "      <th>Edad</th>\n",
       "      <td>0.170924</td>\n",
       "    </tr>\n",
       "    <tr>\n",
       "      <th>% a 7 Días</th>\n",
       "      <td>0.100126</td>\n",
       "    </tr>\n",
       "    <tr>\n",
       "      <th>% Mortan.</th>\n",
       "      <td>0.084959</td>\n",
       "    </tr>\n",
       "    <tr>\n",
       "      <th>Días de receso corregido</th>\n",
       "      <td>0.073382</td>\n",
       "    </tr>\n",
       "  </tbody>\n",
       "</table>\n",
       "</div>"
      ],
      "text/plain": [
       "                                                   Correlacion\n",
       "Consumo medio diario (g) % desvío consumo std         0.775343\n",
       "                         mes levante                  0.184582\n",
       "                         Edad                         0.170924\n",
       "                         % a 7 Días                   0.100126\n",
       "                         % Mortan.                    0.084959\n",
       "                         Días de receso corregido     0.073382"
      ]
     },
     "execution_count": 7,
     "metadata": {},
     "output_type": "execute_result"
    },
    {
     "name": "stdout",
     "output_type": "stream",
     "text": [
      "time: 32 ms (started: 2023-06-24 21:53:04 -03:00)\n"
     ]
    }
   ],
   "source": [
    "c = dfm.corr(numeric_only=True).abs()\n",
    "s = c.unstack()\n",
    "correlacion=pd.DataFrame(s)\n",
    "correlacion.columns=[\"Correlacion\"]\n",
    "correlacion=correlacion[correlacion.index.isin(['Consumo medio diario (g)'], level=0)]\n",
    "correlacion.query(\"Correlacion>0.05 & Correlacion!=1\").sort_values(by=\"Correlacion\",ascending=False)"
   ]
  },
  {
   "cell_type": "code",
   "execution_count": 9,
   "id": "1a4028c0",
   "metadata": {},
   "outputs": [
    {
     "data": {
      "image/png": "[encoded data removed]",
      "text/plain": [
       "<Figure size 640x480 with 1 Axes>"
      ]
     },
     "metadata": {},
     "output_type": "display_data"
    },
    {
     "name": "stdout",
     "output_type": "stream",
     "text": [
      "time: 594 ms (started: 2023-06-24 21:01:58 -03:00)\n"
     ]
    }
   ],
   "source": [
    "plot=sns.histplot(x=\"Consumo medio diario (g)\", data=dfm);"
   ]
  },
  {
   "cell_type": "code",
   "execution_count": 10,
   "id": "36bf2626",
   "metadata": {},
   "outputs": [
    {
     "data": {
      "image/png": "[encoded data removed]",
      "text/plain": [
       "<Figure size 640x480 with 1 Axes>"
      ]
     },
     "metadata": {},
     "output_type": "display_data"
    },
    {
     "name": "stdout",
     "output_type": "stream",
     "text": [
      "time: 204 ms (started: 2023-06-24 21:02:01 -03:00)\n"
     ]
    }
   ],
   "source": [
    "sns.scatterplot(x=\"mes levante\",y=\"Consumo medio diario (g)\", data=dfm);"
   ]
  },
  {
   "cell_type": "code",
   "execution_count": 11,
   "id": "b48c244f",
   "metadata": {},
   "outputs": [
    {
     "data": {
      "image/png": "[encoded data removed]",
      "text/plain": [
       "<Figure size 640x480 with 1 Axes>"
      ]
     },
     "metadata": {},
     "output_type": "display_data"
    },
    {
     "name": "stdout",
     "output_type": "stream",
     "text": [
      "time: 157 ms (started: 2023-06-24 21:02:05 -03:00)\n"
     ]
    }
   ],
   "source": [
    "sns.boxplot(x=\"Ventilación forzada\",y=\"Consumo medio diario (g)\", data=dfm);"
   ]
  },
  {
   "attachments": {},
   "cell_type": "markdown",
   "id": "6cb2b878",
   "metadata": {},
   "source": [
    "# Encoding"
   ]
  },
  {
   "attachments": {},
   "cell_type": "markdown",
   "id": "0af74627",
   "metadata": {},
   "source": [
    "## Transformaciones categóricas"
   ]
  },
  {
   "cell_type": "code",
   "execution_count": 8,
   "id": "f06f8052",
   "metadata": {},
   "outputs": [
    {
     "data": {
      "text/plain": [
       "array([[0., 0., 0., 1.],\n",
       "       [0., 0., 0., 1.],\n",
       "       [0., 0., 0., 1.],\n",
       "       ...,\n",
       "       [0., 1., 0., 0.],\n",
       "       [0., 1., 0., 0.],\n",
       "       [0., 1., 0., 0.]])"
      ]
     },
     "execution_count": 8,
     "metadata": {},
     "output_type": "execute_result"
    },
    {
     "name": "stdout",
     "output_type": "stream",
     "text": [
      "time: 15 ms (started: 2023-06-24 21:53:12 -03:00)\n"
     ]
    }
   ],
   "source": [
    "encoder = OneHotEncoder()\n",
    "data = encoder.fit_transform(dfm['Estación del año'].values.reshape(-1, 1))\n",
    "data\n",
    "data = encoder.fit_transform(dfm['Estación del año'].values.reshape(-1, 1)).toarray()\n",
    "data\n"
   ]
  },
  {
   "cell_type": "code",
   "execution_count": 9,
   "id": "9f1e1371",
   "metadata": {},
   "outputs": [
    {
     "data": {
      "text/plain": [
       "[array(['invierno', 'otoño', 'primavera', 'verano'], dtype=object)]"
      ]
     },
     "execution_count": 9,
     "metadata": {},
     "output_type": "execute_result"
    },
    {
     "name": "stdout",
     "output_type": "stream",
     "text": [
      "time: 0 ns (started: 2023-06-24 21:53:16 -03:00)\n"
     ]
    }
   ],
   "source": [
    "encoder.categories_"
   ]
  },
  {
   "cell_type": "code",
   "execution_count": 10,
   "id": "49fd9305",
   "metadata": {},
   "outputs": [
    {
     "name": "stdout",
     "output_type": "stream",
     "text": [
      "time: 0 ns (started: 2023-06-24 21:53:19 -03:00)\n"
     ]
    }
   ],
   "source": [
    "dfm = pd.concat([\n",
    "    dfm.drop('Estación del año', axis = 1),\n",
    "    pd.DataFrame(data, columns = encoder.categories_[0])\n",
    "], axis = 1)"
   ]
  },
  {
   "cell_type": "code",
   "execution_count": 11,
   "id": "8b784493",
   "metadata": {},
   "outputs": [
    {
     "name": "stdout",
     "output_type": "stream",
     "text": [
      "time: 31 ms (started: 2023-06-24 21:53:22 -03:00)\n"
     ]
    }
   ],
   "source": [
    "encoder = OneHotEncoder()\n",
    "data = encoder.fit_transform(dfm['Ambiente controlado'].values.reshape(-1, 1))\n",
    "data\n",
    "data = encoder.fit_transform(dfm['Ambiente controlado'].values.reshape(-1, 1)).toarray()\n",
    "data\n",
    "encoder.categories_\n",
    "dfm = pd.concat([\n",
    "    dfm.drop('Ambiente controlado', axis = 1),\n",
    "    pd.DataFrame(data, columns = encoder.categories_[0])\n",
    "], axis = 1)\n"
   ]
  },
  {
   "cell_type": "code",
   "execution_count": 21,
   "id": "7312e820",
   "metadata": {},
   "outputs": [
    {
     "name": "stdout",
     "output_type": "stream",
     "text": [
      "time: 32 ms (started: 2023-06-24 21:17:09 -03:00)\n"
     ]
    }
   ],
   "source": [
    "encoder = OneHotEncoder()\n",
    "data = encoder.fit_transform(dfm['localidad'].values.reshape(-1, 1))\n",
    "data\n",
    "data = encoder.fit_transform(dfm['localidad'].values.reshape(-1, 1)).toarray()\n",
    "data\n",
    "encoder.categories_\n",
    "dfm = pd.concat([\n",
    "    dfm.drop('localidad', axis = 1),\n",
    "    pd.DataFrame(data, columns = encoder.categories_[0])\n",
    "], axis = 1)\n"
   ]
  },
  {
   "cell_type": "code",
   "execution_count": 12,
   "id": "9b32859c",
   "metadata": {},
   "outputs": [
    {
     "name": "stdout",
     "output_type": "stream",
     "text": [
      "time: 16 ms (started: 2023-06-24 21:53:30 -03:00)\n"
     ]
    }
   ],
   "source": [
    "encoder = OneHotEncoder()\n",
    "data = encoder.fit_transform(dfm['zona climática'].values.reshape(-1, 1))\n",
    "data\n",
    "data = encoder.fit_transform(dfm['zona climática'].values.reshape(-1, 1)).toarray()\n",
    "data\n",
    "encoder.categories_\n",
    "dfm = pd.concat([\n",
    "    dfm.drop('zona climática', axis = 1),\n",
    "    pd.DataFrame(data, columns = encoder.categories_[0])\n",
    "], axis = 1)\n"
   ]
  },
  {
   "cell_type": "code",
   "execution_count": 13,
   "id": "ad9c1cb0",
   "metadata": {},
   "outputs": [
    {
     "name": "stdout",
     "output_type": "stream",
     "text": [
      "time: 16 ms (started: 2023-06-24 21:53:33 -03:00)\n"
     ]
    }
   ],
   "source": [
    "encoder = OneHotEncoder()\n",
    "data = encoder.fit_transform(dfm['zona prod'].values.reshape(-1, 1))\n",
    "data\n",
    "data = encoder.fit_transform(dfm['zona prod'].values.reshape(-1, 1)).toarray()\n",
    "data\n",
    "encoder.categories_\n",
    "dfm = pd.concat([\n",
    "    dfm.drop('zona prod', axis = 1),\n",
    "    pd.DataFrame(data, columns = encoder.categories_[0])\n",
    "], axis = 1)\n"
   ]
  },
  {
   "cell_type": "code",
   "execution_count": 14,
   "id": "abce26b3",
   "metadata": {},
   "outputs": [
    {
     "name": "stdout",
     "output_type": "stream",
     "text": [
      "time: 31 ms (started: 2023-06-24 21:53:35 -03:00)\n"
     ]
    }
   ],
   "source": [
    "encoder = OneHotEncoder()\n",
    "data = encoder.fit_transform(dfm['Ventilación forzada'].values.reshape(-1, 1))\n",
    "data\n",
    "data = encoder.fit_transform(dfm['Ventilación forzada'].values.reshape(-1, 1)).toarray()\n",
    "data\n",
    "encoder.categories_\n",
    "dfm = pd.concat([\n",
    "    dfm.drop('Ventilación forzada', axis = 1),\n",
    "    pd.DataFrame(data, columns = encoder.categories_[0])\n",
    "], axis = 1)\n"
   ]
  },
  {
   "cell_type": "code",
   "execution_count": 15,
   "id": "98a9d477",
   "metadata": {},
   "outputs": [
    {
     "data": {
      "text/html": [
       "<div>\n",
       "<style scoped>\n",
       "    .dataframe tbody tr th:only-of-type {\n",
       "        vertical-align: middle;\n",
       "    }\n",
       "\n",
       "    .dataframe tbody tr th {\n",
       "        vertical-align: top;\n",
       "    }\n",
       "\n",
       "    .dataframe thead th {\n",
       "        text-align: right;\n",
       "    }\n",
       "</style>\n",
       "<table border=\"1\" class=\"dataframe\">\n",
       "  <thead>\n",
       "    <tr style=\"text-align: right;\">\n",
       "      <th></th>\n",
       "      <th>Días de receso corregido</th>\n",
       "      <th>granja</th>\n",
       "      <th>Cantid. BB</th>\n",
       "      <th>% a 7 Días</th>\n",
       "      <th>% Mortan.</th>\n",
       "      <th>Edad</th>\n",
       "      <th>mes levante</th>\n",
       "      <th>Consumo medio diario (g)</th>\n",
       "      <th>Densidad</th>\n",
       "      <th>localidad</th>\n",
       "      <th>...</th>\n",
       "      <th>otra ER</th>\n",
       "      <th>NaN</th>\n",
       "      <th>BA</th>\n",
       "      <th>CR</th>\n",
       "      <th>ER</th>\n",
       "      <th>NaN</th>\n",
       "      <th>MI</th>\n",
       "      <th>N</th>\n",
       "      <th>S</th>\n",
       "      <th>NaN</th>\n",
       "    </tr>\n",
       "  </thead>\n",
       "  <tbody>\n",
       "    <tr>\n",
       "      <th>0</th>\n",
       "      <td>14.0</td>\n",
       "      <td>2544.0</td>\n",
       "      <td>36000.0</td>\n",
       "      <td>0.55</td>\n",
       "      <td>2.88</td>\n",
       "      <td>49.0</td>\n",
       "      <td>1.0</td>\n",
       "      <td>115.963592</td>\n",
       "      <td>12.000000</td>\n",
       "      <td>San Pedro</td>\n",
       "      <td>...</td>\n",
       "      <td>0.0</td>\n",
       "      <td>0.0</td>\n",
       "      <td>1.0</td>\n",
       "      <td>0.0</td>\n",
       "      <td>0.0</td>\n",
       "      <td>0.0</td>\n",
       "      <td>0.0</td>\n",
       "      <td>0.0</td>\n",
       "      <td>1.0</td>\n",
       "      <td>0.0</td>\n",
       "    </tr>\n",
       "    <tr>\n",
       "      <th>1</th>\n",
       "      <td>12.0</td>\n",
       "      <td>2558.0</td>\n",
       "      <td>57500.0</td>\n",
       "      <td>0.83</td>\n",
       "      <td>5.71</td>\n",
       "      <td>52.9</td>\n",
       "      <td>1.0</td>\n",
       "      <td>117.081839</td>\n",
       "      <td>10.454545</td>\n",
       "      <td>Salto</td>\n",
       "      <td>...</td>\n",
       "      <td>0.0</td>\n",
       "      <td>0.0</td>\n",
       "      <td>1.0</td>\n",
       "      <td>0.0</td>\n",
       "      <td>0.0</td>\n",
       "      <td>0.0</td>\n",
       "      <td>0.0</td>\n",
       "      <td>1.0</td>\n",
       "      <td>0.0</td>\n",
       "      <td>0.0</td>\n",
       "    </tr>\n",
       "    <tr>\n",
       "      <th>2</th>\n",
       "      <td>11.0</td>\n",
       "      <td>2761.0</td>\n",
       "      <td>39000.0</td>\n",
       "      <td>0.92</td>\n",
       "      <td>6.45</td>\n",
       "      <td>49.0</td>\n",
       "      <td>1.0</td>\n",
       "      <td>127.820226</td>\n",
       "      <td>9.470000</td>\n",
       "      <td>Chivilcoy</td>\n",
       "      <td>...</td>\n",
       "      <td>0.0</td>\n",
       "      <td>0.0</td>\n",
       "      <td>1.0</td>\n",
       "      <td>0.0</td>\n",
       "      <td>0.0</td>\n",
       "      <td>0.0</td>\n",
       "      <td>0.0</td>\n",
       "      <td>1.0</td>\n",
       "      <td>0.0</td>\n",
       "      <td>0.0</td>\n",
       "    </tr>\n",
       "    <tr>\n",
       "      <th>3</th>\n",
       "      <td>9.0</td>\n",
       "      <td>2524.0</td>\n",
       "      <td>30000.0</td>\n",
       "      <td>1.35</td>\n",
       "      <td>5.90</td>\n",
       "      <td>49.0</td>\n",
       "      <td>1.0</td>\n",
       "      <td>127.343729</td>\n",
       "      <td>10.000000</td>\n",
       "      <td>San Pedro</td>\n",
       "      <td>...</td>\n",
       "      <td>0.0</td>\n",
       "      <td>0.0</td>\n",
       "      <td>1.0</td>\n",
       "      <td>0.0</td>\n",
       "      <td>0.0</td>\n",
       "      <td>0.0</td>\n",
       "      <td>0.0</td>\n",
       "      <td>1.0</td>\n",
       "      <td>0.0</td>\n",
       "      <td>0.0</td>\n",
       "    </tr>\n",
       "    <tr>\n",
       "      <th>4</th>\n",
       "      <td>10.0</td>\n",
       "      <td>2741.0</td>\n",
       "      <td>42000.0</td>\n",
       "      <td>0.76</td>\n",
       "      <td>7.35</td>\n",
       "      <td>51.0</td>\n",
       "      <td>1.0</td>\n",
       "      <td>138.304026</td>\n",
       "      <td>10.769231</td>\n",
       "      <td>Arrecifes</td>\n",
       "      <td>...</td>\n",
       "      <td>0.0</td>\n",
       "      <td>0.0</td>\n",
       "      <td>1.0</td>\n",
       "      <td>0.0</td>\n",
       "      <td>0.0</td>\n",
       "      <td>0.0</td>\n",
       "      <td>0.0</td>\n",
       "      <td>1.0</td>\n",
       "      <td>0.0</td>\n",
       "      <td>0.0</td>\n",
       "    </tr>\n",
       "  </tbody>\n",
       "</table>\n",
       "<p>5 rows × 32 columns</p>\n",
       "</div>"
      ],
      "text/plain": [
       "   Días de receso corregido  granja  Cantid. BB  % a 7 Días  % Mortan.  Edad  \\\n",
       "0                      14.0  2544.0     36000.0        0.55       2.88  49.0   \n",
       "1                      12.0  2558.0     57500.0        0.83       5.71  52.9   \n",
       "2                      11.0  2761.0     39000.0        0.92       6.45  49.0   \n",
       "3                       9.0  2524.0     30000.0        1.35       5.90  49.0   \n",
       "4                      10.0  2741.0     42000.0        0.76       7.35  51.0   \n",
       "\n",
       "   mes levante  Consumo medio diario (g)   Densidad  localidad  ...  otra ER  \\\n",
       "0          1.0                115.963592  12.000000  San Pedro  ...      0.0   \n",
       "1          1.0                117.081839  10.454545      Salto  ...      0.0   \n",
       "2          1.0                127.820226   9.470000  Chivilcoy  ...      0.0   \n",
       "3          1.0                127.343729  10.000000  San Pedro  ...      0.0   \n",
       "4          1.0                138.304026  10.769231  Arrecifes  ...      0.0   \n",
       "\n",
       "   NaN   BA   CR   ER  NaN   MI    N    S  NaN  \n",
       "0  0.0  1.0  0.0  0.0  0.0  0.0  0.0  1.0  0.0  \n",
       "1  0.0  1.0  0.0  0.0  0.0  0.0  1.0  0.0  0.0  \n",
       "2  0.0  1.0  0.0  0.0  0.0  0.0  1.0  0.0  0.0  \n",
       "3  0.0  1.0  0.0  0.0  0.0  0.0  1.0  0.0  0.0  \n",
       "4  0.0  1.0  0.0  0.0  0.0  0.0  1.0  0.0  0.0  \n",
       "\n",
       "[5 rows x 32 columns]"
      ]
     },
     "execution_count": 15,
     "metadata": {},
     "output_type": "execute_result"
    },
    {
     "name": "stdout",
     "output_type": "stream",
     "text": [
      "time: 32 ms (started: 2023-06-24 21:53:38 -03:00)\n"
     ]
    }
   ],
   "source": [
    "dfm.head()"
   ]
  },
  {
   "attachments": {},
   "cell_type": "markdown",
   "id": "3f40e884",
   "metadata": {},
   "source": [
    "# Feature selection"
   ]
  },
  {
   "attachments": {},
   "cell_type": "markdown",
   "id": "c8a5929a",
   "metadata": {},
   "source": [
    "## Exploratory Data Analysis\n"
   ]
  },
  {
   "attachments": {},
   "cell_type": "markdown",
   "id": "bd6d6c08",
   "metadata": {},
   "source": [
    "# Entrenamiento modelos machine learning"
   ]
  },
  {
   "attachments": {},
   "cell_type": "markdown",
   "id": "690b19c9",
   "metadata": {},
   "source": [
    "# Modelos de regresión con base completa"
   ]
  },
  {
   "cell_type": "code",
   "execution_count": 16,
   "id": "ee4c4393",
   "metadata": {},
   "outputs": [
    {
     "data": {
      "text/html": [
       "<div>\n",
       "<style scoped>\n",
       "    .dataframe tbody tr th:only-of-type {\n",
       "        vertical-align: middle;\n",
       "    }\n",
       "\n",
       "    .dataframe tbody tr th {\n",
       "        vertical-align: top;\n",
       "    }\n",
       "\n",
       "    .dataframe thead th {\n",
       "        text-align: right;\n",
       "    }\n",
       "</style>\n",
       "<table border=\"1\" class=\"dataframe\">\n",
       "  <thead>\n",
       "    <tr style=\"text-align: right;\">\n",
       "      <th></th>\n",
       "      <th>Días de receso corregido</th>\n",
       "      <th>granja</th>\n",
       "      <th>Cantid. BB</th>\n",
       "      <th>% a 7 Días</th>\n",
       "      <th>% Mortan.</th>\n",
       "      <th>Edad</th>\n",
       "      <th>mes levante</th>\n",
       "      <th>Consumo medio diario (g)</th>\n",
       "      <th>Densidad</th>\n",
       "      <th>localidad</th>\n",
       "      <th>...</th>\n",
       "      <th>otra ER</th>\n",
       "      <th>NaN</th>\n",
       "      <th>BA</th>\n",
       "      <th>CR</th>\n",
       "      <th>ER</th>\n",
       "      <th>NaN</th>\n",
       "      <th>MI</th>\n",
       "      <th>N</th>\n",
       "      <th>S</th>\n",
       "      <th>NaN</th>\n",
       "    </tr>\n",
       "  </thead>\n",
       "  <tbody>\n",
       "    <tr>\n",
       "      <th>0</th>\n",
       "      <td>14.0</td>\n",
       "      <td>2544.0</td>\n",
       "      <td>36000.0</td>\n",
       "      <td>0.55</td>\n",
       "      <td>2.88</td>\n",
       "      <td>49.0</td>\n",
       "      <td>1.0</td>\n",
       "      <td>115.963592</td>\n",
       "      <td>12.000000</td>\n",
       "      <td>San Pedro</td>\n",
       "      <td>...</td>\n",
       "      <td>0.0</td>\n",
       "      <td>0.0</td>\n",
       "      <td>1.0</td>\n",
       "      <td>0.0</td>\n",
       "      <td>0.0</td>\n",
       "      <td>0.0</td>\n",
       "      <td>0.0</td>\n",
       "      <td>0.0</td>\n",
       "      <td>1.0</td>\n",
       "      <td>0.0</td>\n",
       "    </tr>\n",
       "    <tr>\n",
       "      <th>1</th>\n",
       "      <td>12.0</td>\n",
       "      <td>2558.0</td>\n",
       "      <td>57500.0</td>\n",
       "      <td>0.83</td>\n",
       "      <td>5.71</td>\n",
       "      <td>52.9</td>\n",
       "      <td>1.0</td>\n",
       "      <td>117.081839</td>\n",
       "      <td>10.454545</td>\n",
       "      <td>Salto</td>\n",
       "      <td>...</td>\n",
       "      <td>0.0</td>\n",
       "      <td>0.0</td>\n",
       "      <td>1.0</td>\n",
       "      <td>0.0</td>\n",
       "      <td>0.0</td>\n",
       "      <td>0.0</td>\n",
       "      <td>0.0</td>\n",
       "      <td>1.0</td>\n",
       "      <td>0.0</td>\n",
       "      <td>0.0</td>\n",
       "    </tr>\n",
       "    <tr>\n",
       "      <th>2</th>\n",
       "      <td>11.0</td>\n",
       "      <td>2761.0</td>\n",
       "      <td>39000.0</td>\n",
       "      <td>0.92</td>\n",
       "      <td>6.45</td>\n",
       "      <td>49.0</td>\n",
       "      <td>1.0</td>\n",
       "      <td>127.820226</td>\n",
       "      <td>9.470000</td>\n",
       "      <td>Chivilcoy</td>\n",
       "      <td>...</td>\n",
       "      <td>0.0</td>\n",
       "      <td>0.0</td>\n",
       "      <td>1.0</td>\n",
       "      <td>0.0</td>\n",
       "      <td>0.0</td>\n",
       "      <td>0.0</td>\n",
       "      <td>0.0</td>\n",
       "      <td>1.0</td>\n",
       "      <td>0.0</td>\n",
       "      <td>0.0</td>\n",
       "    </tr>\n",
       "    <tr>\n",
       "      <th>3</th>\n",
       "      <td>9.0</td>\n",
       "      <td>2524.0</td>\n",
       "      <td>30000.0</td>\n",
       "      <td>1.35</td>\n",
       "      <td>5.90</td>\n",
       "      <td>49.0</td>\n",
       "      <td>1.0</td>\n",
       "      <td>127.343729</td>\n",
       "      <td>10.000000</td>\n",
       "      <td>San Pedro</td>\n",
       "      <td>...</td>\n",
       "      <td>0.0</td>\n",
       "      <td>0.0</td>\n",
       "      <td>1.0</td>\n",
       "      <td>0.0</td>\n",
       "      <td>0.0</td>\n",
       "      <td>0.0</td>\n",
       "      <td>0.0</td>\n",
       "      <td>1.0</td>\n",
       "      <td>0.0</td>\n",
       "      <td>0.0</td>\n",
       "    </tr>\n",
       "    <tr>\n",
       "      <th>4</th>\n",
       "      <td>10.0</td>\n",
       "      <td>2741.0</td>\n",
       "      <td>42000.0</td>\n",
       "      <td>0.76</td>\n",
       "      <td>7.35</td>\n",
       "      <td>51.0</td>\n",
       "      <td>1.0</td>\n",
       "      <td>138.304026</td>\n",
       "      <td>10.769231</td>\n",
       "      <td>Arrecifes</td>\n",
       "      <td>...</td>\n",
       "      <td>0.0</td>\n",
       "      <td>0.0</td>\n",
       "      <td>1.0</td>\n",
       "      <td>0.0</td>\n",
       "      <td>0.0</td>\n",
       "      <td>0.0</td>\n",
       "      <td>0.0</td>\n",
       "      <td>1.0</td>\n",
       "      <td>0.0</td>\n",
       "      <td>0.0</td>\n",
       "    </tr>\n",
       "  </tbody>\n",
       "</table>\n",
       "<p>5 rows × 32 columns</p>\n",
       "</div>"
      ],
      "text/plain": [
       "   Días de receso corregido  granja  Cantid. BB  % a 7 Días  % Mortan.  Edad  \\\n",
       "0                      14.0  2544.0     36000.0        0.55       2.88  49.0   \n",
       "1                      12.0  2558.0     57500.0        0.83       5.71  52.9   \n",
       "2                      11.0  2761.0     39000.0        0.92       6.45  49.0   \n",
       "3                       9.0  2524.0     30000.0        1.35       5.90  49.0   \n",
       "4                      10.0  2741.0     42000.0        0.76       7.35  51.0   \n",
       "\n",
       "   mes levante  Consumo medio diario (g)   Densidad  localidad  ...  otra ER  \\\n",
       "0          1.0                115.963592  12.000000  San Pedro  ...      0.0   \n",
       "1          1.0                117.081839  10.454545      Salto  ...      0.0   \n",
       "2          1.0                127.820226   9.470000  Chivilcoy  ...      0.0   \n",
       "3          1.0                127.343729  10.000000  San Pedro  ...      0.0   \n",
       "4          1.0                138.304026  10.769231  Arrecifes  ...      0.0   \n",
       "\n",
       "   NaN   BA   CR   ER  NaN   MI    N    S  NaN  \n",
       "0  0.0  1.0  0.0  0.0  0.0  0.0  0.0  1.0  0.0  \n",
       "1  0.0  1.0  0.0  0.0  0.0  0.0  1.0  0.0  0.0  \n",
       "2  0.0  1.0  0.0  0.0  0.0  0.0  1.0  0.0  0.0  \n",
       "3  0.0  1.0  0.0  0.0  0.0  0.0  1.0  0.0  0.0  \n",
       "4  0.0  1.0  0.0  0.0  0.0  0.0  1.0  0.0  0.0  \n",
       "\n",
       "[5 rows x 32 columns]"
      ]
     },
     "execution_count": 16,
     "metadata": {},
     "output_type": "execute_result"
    },
    {
     "name": "stdout",
     "output_type": "stream",
     "text": [
      "time: 16 ms (started: 2023-06-24 21:53:42 -03:00)\n"
     ]
    }
   ],
   "source": [
    "dfn=dfm\n",
    "dfn.head()"
   ]
  },
  {
   "cell_type": "code",
   "execution_count": 18,
   "id": "22a43b58",
   "metadata": {},
   "outputs": [
    {
     "name": "stdout",
     "output_type": "stream",
     "text": [
      "time: 31 ms (started: 2023-06-24 22:09:57 -03:00)\n"
     ]
    }
   ],
   "source": [
    "from sklearn.model_selection import train_test_split\n",
    "\n",
    "X3=dfn.drop('Consumo medio diario (g)', axis=1) \n",
    "\n",
    "y3=dfn['Consumo medio diario (g)']\n",
    "\n",
    "X3_train, X3_test, y3_train, y3_test = train_test_split(X3, y3, test_size=0.30, random_state=42)"
   ]
  },
  {
   "attachments": {},
   "cell_type": "markdown",
   "id": "4f13a67f",
   "metadata": {},
   "source": [
    "## Linear regression"
   ]
  },
  {
   "cell_type": "code",
   "execution_count": 19,
   "id": "e3d0d8d0",
   "metadata": {},
   "outputs": [
    {
     "name": "stdout",
     "output_type": "stream",
     "text": [
      "time: 0 ns (started: 2023-06-24 22:10:08 -03:00)\n"
     ]
    }
   ],
   "source": [
    "from sklearn.linear_model import LinearRegression\n"
   ]
  },
  {
   "cell_type": "code",
   "execution_count": 20,
   "id": "07d689bb",
   "metadata": {},
   "outputs": [
    {
     "name": "stderr",
     "output_type": "stream",
     "text": [
      "c:\\Users\\ebover\\Anaconda3\\lib\\site-packages\\sklearn\\utils\\validation.py:1688: FutureWarning: Feature names only support names that are all strings. Got feature names with dtypes: ['float', 'str']. An error will be raised in 1.2.\n",
      "  warnings.warn(\n"
     ]
    },
    {
     "ename": "ValueError",
     "evalue": "could not convert string to float: 'San Pedro'",
     "output_type": "error",
     "traceback": [
      "\u001b[1;31m---------------------------------------------------------------------------\u001b[0m",
      "\u001b[1;31mValueError\u001b[0m                                Traceback (most recent call last)",
      "\u001b[1;32m~\\AppData\\Local\\Temp\\ipykernel_7100\\2753248033.py\u001b[0m in \u001b[0;36m<module>\u001b[1;34m\u001b[0m\n\u001b[0;32m      1\u001b[0m \u001b[0mmodel\u001b[0m \u001b[1;33m=\u001b[0m \u001b[0mLinearRegression\u001b[0m\u001b[1;33m(\u001b[0m\u001b[0mfit_intercept\u001b[0m\u001b[1;33m=\u001b[0m\u001b[1;32mTrue\u001b[0m\u001b[1;33m)\u001b[0m\u001b[1;33m\u001b[0m\u001b[1;33m\u001b[0m\u001b[0m\n\u001b[1;32m----> 2\u001b[1;33m \u001b[0mmodel\u001b[0m\u001b[1;33m.\u001b[0m\u001b[0mfit\u001b[0m\u001b[1;33m(\u001b[0m\u001b[0mX3\u001b[0m\u001b[1;33m,\u001b[0m \u001b[0my3\u001b[0m\u001b[1;33m)\u001b[0m\u001b[1;33m\u001b[0m\u001b[1;33m\u001b[0m\u001b[0m\n\u001b[0m\u001b[0;32m      3\u001b[0m \u001b[0my3_train_pred\u001b[0m \u001b[1;33m=\u001b[0m \u001b[0mmodel\u001b[0m\u001b[1;33m.\u001b[0m\u001b[0mpredict\u001b[0m\u001b[1;33m(\u001b[0m\u001b[0mX3_train\u001b[0m\u001b[1;33m)\u001b[0m\u001b[1;33m\u001b[0m\u001b[1;33m\u001b[0m\u001b[0m\n\u001b[0;32m      4\u001b[0m \u001b[0my3_test_pred\u001b[0m \u001b[1;33m=\u001b[0m \u001b[0mmodel\u001b[0m\u001b[1;33m.\u001b[0m\u001b[0mpredict\u001b[0m\u001b[1;33m(\u001b[0m\u001b[0mX3_test\u001b[0m\u001b[1;33m)\u001b[0m\u001b[1;33m\u001b[0m\u001b[1;33m\u001b[0m\u001b[0m\n",
      "\u001b[1;32mc:\\Users\\ebover\\Anaconda3\\lib\\site-packages\\sklearn\\linear_model\\_base.py\u001b[0m in \u001b[0;36mfit\u001b[1;34m(self, X, y, sample_weight)\u001b[0m\n\u001b[0;32m    660\u001b[0m         \u001b[0maccept_sparse\u001b[0m \u001b[1;33m=\u001b[0m \u001b[1;32mFalse\u001b[0m \u001b[1;32mif\u001b[0m \u001b[0mself\u001b[0m\u001b[1;33m.\u001b[0m\u001b[0mpositive\u001b[0m \u001b[1;32melse\u001b[0m \u001b[1;33m[\u001b[0m\u001b[1;34m\"csr\"\u001b[0m\u001b[1;33m,\u001b[0m \u001b[1;34m\"csc\"\u001b[0m\u001b[1;33m,\u001b[0m \u001b[1;34m\"coo\"\u001b[0m\u001b[1;33m]\u001b[0m\u001b[1;33m\u001b[0m\u001b[1;33m\u001b[0m\u001b[0m\n\u001b[0;32m    661\u001b[0m \u001b[1;33m\u001b[0m\u001b[0m\n\u001b[1;32m--> 662\u001b[1;33m         X, y = self._validate_data(\n\u001b[0m\u001b[0;32m    663\u001b[0m             \u001b[0mX\u001b[0m\u001b[1;33m,\u001b[0m \u001b[0my\u001b[0m\u001b[1;33m,\u001b[0m \u001b[0maccept_sparse\u001b[0m\u001b[1;33m=\u001b[0m\u001b[0maccept_sparse\u001b[0m\u001b[1;33m,\u001b[0m \u001b[0my_numeric\u001b[0m\u001b[1;33m=\u001b[0m\u001b[1;32mTrue\u001b[0m\u001b[1;33m,\u001b[0m \u001b[0mmulti_output\u001b[0m\u001b[1;33m=\u001b[0m\u001b[1;32mTrue\u001b[0m\u001b[1;33m\u001b[0m\u001b[1;33m\u001b[0m\u001b[0m\n\u001b[0;32m    664\u001b[0m         )\n",
      "\u001b[1;32mc:\\Users\\ebover\\Anaconda3\\lib\\site-packages\\sklearn\\base.py\u001b[0m in \u001b[0;36m_validate_data\u001b[1;34m(self, X, y, reset, validate_separately, **check_params)\u001b[0m\n\u001b[0;32m    579\u001b[0m                 \u001b[0my\u001b[0m \u001b[1;33m=\u001b[0m \u001b[0mcheck_array\u001b[0m\u001b[1;33m(\u001b[0m\u001b[0my\u001b[0m\u001b[1;33m,\u001b[0m \u001b[1;33m**\u001b[0m\u001b[0mcheck_y_params\u001b[0m\u001b[1;33m)\u001b[0m\u001b[1;33m\u001b[0m\u001b[1;33m\u001b[0m\u001b[0m\n\u001b[0;32m    580\u001b[0m             \u001b[1;32melse\u001b[0m\u001b[1;33m:\u001b[0m\u001b[1;33m\u001b[0m\u001b[1;33m\u001b[0m\u001b[0m\n\u001b[1;32m--> 581\u001b[1;33m                 \u001b[0mX\u001b[0m\u001b[1;33m,\u001b[0m \u001b[0my\u001b[0m \u001b[1;33m=\u001b[0m \u001b[0mcheck_X_y\u001b[0m\u001b[1;33m(\u001b[0m\u001b[0mX\u001b[0m\u001b[1;33m,\u001b[0m \u001b[0my\u001b[0m\u001b[1;33m,\u001b[0m \u001b[1;33m**\u001b[0m\u001b[0mcheck_params\u001b[0m\u001b[1;33m)\u001b[0m\u001b[1;33m\u001b[0m\u001b[1;33m\u001b[0m\u001b[0m\n\u001b[0m\u001b[0;32m    582\u001b[0m             \u001b[0mout\u001b[0m \u001b[1;33m=\u001b[0m \u001b[0mX\u001b[0m\u001b[1;33m,\u001b[0m \u001b[0my\u001b[0m\u001b[1;33m\u001b[0m\u001b[1;33m\u001b[0m\u001b[0m\n\u001b[0;32m    583\u001b[0m \u001b[1;33m\u001b[0m\u001b[0m\n",
      "\u001b[1;32mc:\\Users\\ebover\\Anaconda3\\lib\\site-packages\\sklearn\\utils\\validation.py\u001b[0m in \u001b[0;36mcheck_X_y\u001b[1;34m(X, y, accept_sparse, accept_large_sparse, dtype, order, copy, force_all_finite, ensure_2d, allow_nd, multi_output, ensure_min_samples, ensure_min_features, y_numeric, estimator)\u001b[0m\n\u001b[0;32m    962\u001b[0m         \u001b[1;32mraise\u001b[0m \u001b[0mValueError\u001b[0m\u001b[1;33m(\u001b[0m\u001b[1;34m\"y cannot be None\"\u001b[0m\u001b[1;33m)\u001b[0m\u001b[1;33m\u001b[0m\u001b[1;33m\u001b[0m\u001b[0m\n\u001b[0;32m    963\u001b[0m \u001b[1;33m\u001b[0m\u001b[0m\n\u001b[1;32m--> 964\u001b[1;33m     X = check_array(\n\u001b[0m\u001b[0;32m    965\u001b[0m         \u001b[0mX\u001b[0m\u001b[1;33m,\u001b[0m\u001b[1;33m\u001b[0m\u001b[1;33m\u001b[0m\u001b[0m\n\u001b[0;32m    966\u001b[0m         \u001b[0maccept_sparse\u001b[0m\u001b[1;33m=\u001b[0m\u001b[0maccept_sparse\u001b[0m\u001b[1;33m,\u001b[0m\u001b[1;33m\u001b[0m\u001b[1;33m\u001b[0m\u001b[0m\n",
      "\u001b[1;32mc:\\Users\\ebover\\Anaconda3\\lib\\site-packages\\sklearn\\utils\\validation.py\u001b[0m in \u001b[0;36mcheck_array\u001b[1;34m(array, accept_sparse, accept_large_sparse, dtype, order, copy, force_all_finite, ensure_2d, allow_nd, ensure_min_samples, ensure_min_features, estimator)\u001b[0m\n\u001b[0;32m    744\u001b[0m                     \u001b[0marray\u001b[0m \u001b[1;33m=\u001b[0m \u001b[0marray\u001b[0m\u001b[1;33m.\u001b[0m\u001b[0mastype\u001b[0m\u001b[1;33m(\u001b[0m\u001b[0mdtype\u001b[0m\u001b[1;33m,\u001b[0m \u001b[0mcasting\u001b[0m\u001b[1;33m=\u001b[0m\u001b[1;34m\"unsafe\"\u001b[0m\u001b[1;33m,\u001b[0m \u001b[0mcopy\u001b[0m\u001b[1;33m=\u001b[0m\u001b[1;32mFalse\u001b[0m\u001b[1;33m)\u001b[0m\u001b[1;33m\u001b[0m\u001b[1;33m\u001b[0m\u001b[0m\n\u001b[0;32m    745\u001b[0m                 \u001b[1;32melse\u001b[0m\u001b[1;33m:\u001b[0m\u001b[1;33m\u001b[0m\u001b[1;33m\u001b[0m\u001b[0m\n\u001b[1;32m--> 746\u001b[1;33m                     \u001b[0marray\u001b[0m \u001b[1;33m=\u001b[0m \u001b[0mnp\u001b[0m\u001b[1;33m.\u001b[0m\u001b[0masarray\u001b[0m\u001b[1;33m(\u001b[0m\u001b[0marray\u001b[0m\u001b[1;33m,\u001b[0m \u001b[0morder\u001b[0m\u001b[1;33m=\u001b[0m\u001b[0morder\u001b[0m\u001b[1;33m,\u001b[0m \u001b[0mdtype\u001b[0m\u001b[1;33m=\u001b[0m\u001b[0mdtype\u001b[0m\u001b[1;33m)\u001b[0m\u001b[1;33m\u001b[0m\u001b[1;33m\u001b[0m\u001b[0m\n\u001b[0m\u001b[0;32m    747\u001b[0m             \u001b[1;32mexcept\u001b[0m \u001b[0mComplexWarning\u001b[0m \u001b[1;32mas\u001b[0m \u001b[0mcomplex_warning\u001b[0m\u001b[1;33m:\u001b[0m\u001b[1;33m\u001b[0m\u001b[1;33m\u001b[0m\u001b[0m\n\u001b[0;32m    748\u001b[0m                 raise ValueError(\n",
      "\u001b[1;32mc:\\Users\\ebover\\Anaconda3\\lib\\site-packages\\pandas\\core\\generic.py\u001b[0m in \u001b[0;36m__array__\u001b[1;34m(self, dtype)\u001b[0m\n\u001b[0;32m   1996\u001b[0m     \u001b[1;32mdef\u001b[0m \u001b[0m__array__\u001b[0m\u001b[1;33m(\u001b[0m\u001b[0mself\u001b[0m\u001b[1;33m,\u001b[0m \u001b[0mdtype\u001b[0m\u001b[1;33m:\u001b[0m \u001b[0mnpt\u001b[0m\u001b[1;33m.\u001b[0m\u001b[0mDTypeLike\u001b[0m \u001b[1;33m|\u001b[0m \u001b[1;32mNone\u001b[0m \u001b[1;33m=\u001b[0m \u001b[1;32mNone\u001b[0m\u001b[1;33m)\u001b[0m \u001b[1;33m->\u001b[0m \u001b[0mnp\u001b[0m\u001b[1;33m.\u001b[0m\u001b[0mndarray\u001b[0m\u001b[1;33m:\u001b[0m\u001b[1;33m\u001b[0m\u001b[1;33m\u001b[0m\u001b[0m\n\u001b[0;32m   1997\u001b[0m         \u001b[0mvalues\u001b[0m \u001b[1;33m=\u001b[0m \u001b[0mself\u001b[0m\u001b[1;33m.\u001b[0m\u001b[0m_values\u001b[0m\u001b[1;33m\u001b[0m\u001b[1;33m\u001b[0m\u001b[0m\n\u001b[1;32m-> 1998\u001b[1;33m         \u001b[0marr\u001b[0m \u001b[1;33m=\u001b[0m \u001b[0mnp\u001b[0m\u001b[1;33m.\u001b[0m\u001b[0masarray\u001b[0m\u001b[1;33m(\u001b[0m\u001b[0mvalues\u001b[0m\u001b[1;33m,\u001b[0m \u001b[0mdtype\u001b[0m\u001b[1;33m=\u001b[0m\u001b[0mdtype\u001b[0m\u001b[1;33m)\u001b[0m\u001b[1;33m\u001b[0m\u001b[1;33m\u001b[0m\u001b[0m\n\u001b[0m\u001b[0;32m   1999\u001b[0m         if (\n\u001b[0;32m   2000\u001b[0m             \u001b[0mastype_is_view\u001b[0m\u001b[1;33m(\u001b[0m\u001b[0mvalues\u001b[0m\u001b[1;33m.\u001b[0m\u001b[0mdtype\u001b[0m\u001b[1;33m,\u001b[0m \u001b[0marr\u001b[0m\u001b[1;33m.\u001b[0m\u001b[0mdtype\u001b[0m\u001b[1;33m)\u001b[0m\u001b[1;33m\u001b[0m\u001b[1;33m\u001b[0m\u001b[0m\n",
      "\u001b[1;31mValueError\u001b[0m: could not convert string to float: 'San Pedro'"
     ]
    },
    {
     "name": "stdout",
     "output_type": "stream",
     "text": [
      "time: 110 ms (started: 2023-06-24 22:10:11 -03:00)\n"
     ]
    }
   ],
   "source": [
    "model = LinearRegression(fit_intercept=True)\n",
    "model.fit(X3, y3)\n",
    "y3_train_pred = model.predict(X3_train)\n",
    "y3_test_pred = model.predict(X3_test)\n"
   ]
  },
  {
   "cell_type": "code",
   "execution_count": 21,
   "id": "a2278eed",
   "metadata": {},
   "outputs": [
    {
     "name": "stdout",
     "output_type": "stream",
     "text": [
      "Error en datos de train: 1.01339441598609\n",
      "Error en datos de test: 1.473659568754025\n"
     ]
    }
   ],
   "source": [
    "print('Error en datos de train:', mean_squared_error(y3_train, y3_train_pred))\n",
    "print('Error en datos de test:', mean_squared_error(y3_test, y3_test_pred))\n",
    "\n",
    "lr_test_mse = mean_squared_error(y3_test, y3_test_pred)\n",
    "lr_train_mse = mean_squared_error(y3_train, y3_train_pred)"
   ]
  },
  {
   "cell_type": "code",
   "execution_count": 22,
   "id": "5bbedb2f",
   "metadata": {},
   "outputs": [
    {
     "data": {
      "text/plain": [
       "array([-3.57100378e-03, -2.77690536e-05,  4.53369695e-07, -5.26169112e-02,\n",
       "       -2.03713593e-02,  2.00080018e+00,  1.57422739e-02, -9.54779886e-02,\n",
       "       -4.38094655e-02, -3.45684645e-02, -5.72274659e-02,  2.82940477e-03,\n",
       "        1.26159120e+00, -2.83266284e-02, -6.30676547e-02])"
      ]
     },
     "execution_count": 22,
     "metadata": {},
     "output_type": "execute_result"
    }
   ],
   "source": [
    "model.coef_"
   ]
  },
  {
   "cell_type": "code",
   "execution_count": 23,
   "id": "0d36e7fb",
   "metadata": {},
   "outputs": [
    {
     "data": {
      "text/html": [
       "<div>\n",
       "<style scoped>\n",
       "    .dataframe tbody tr th:only-of-type {\n",
       "        vertical-align: middle;\n",
       "    }\n",
       "\n",
       "    .dataframe tbody tr th {\n",
       "        vertical-align: top;\n",
       "    }\n",
       "\n",
       "    .dataframe thead th {\n",
       "        text-align: right;\n",
       "    }\n",
       "</style>\n",
       "<table border=\"1\" class=\"dataframe\">\n",
       "  <thead>\n",
       "    <tr style=\"text-align: right;\">\n",
       "      <th></th>\n",
       "      <th>index</th>\n",
       "      <th>Coefficient</th>\n",
       "    </tr>\n",
       "  </thead>\n",
       "  <tbody>\n",
       "    <tr>\n",
       "      <th>0</th>\n",
       "      <td>Días de receso corregido</td>\n",
       "      <td>-3.571004e-03</td>\n",
       "    </tr>\n",
       "    <tr>\n",
       "      <th>1</th>\n",
       "      <td>granja</td>\n",
       "      <td>-2.776905e-05</td>\n",
       "    </tr>\n",
       "    <tr>\n",
       "      <th>2</th>\n",
       "      <td>Cantid. BB</td>\n",
       "      <td>4.533697e-07</td>\n",
       "    </tr>\n",
       "    <tr>\n",
       "      <th>3</th>\n",
       "      <td>% a 7 Días</td>\n",
       "      <td>-5.261691e-02</td>\n",
       "    </tr>\n",
       "    <tr>\n",
       "      <th>4</th>\n",
       "      <td>% Mortan.</td>\n",
       "      <td>-2.037136e-02</td>\n",
       "    </tr>\n",
       "    <tr>\n",
       "      <th>5</th>\n",
       "      <td>Edad</td>\n",
       "      <td>2.000800e+00</td>\n",
       "    </tr>\n",
       "    <tr>\n",
       "      <th>6</th>\n",
       "      <td>mes levante</td>\n",
       "      <td>1.574227e-02</td>\n",
       "    </tr>\n",
       "    <tr>\n",
       "      <th>7</th>\n",
       "      <td>Estación del año</td>\n",
       "      <td>-9.547799e-02</td>\n",
       "    </tr>\n",
       "    <tr>\n",
       "      <th>8</th>\n",
       "      <td>Densidad</td>\n",
       "      <td>-4.380947e-02</td>\n",
       "    </tr>\n",
       "    <tr>\n",
       "      <th>9</th>\n",
       "      <td>Ventilación forzada</td>\n",
       "      <td>-3.456846e-02</td>\n",
       "    </tr>\n",
       "    <tr>\n",
       "      <th>10</th>\n",
       "      <td>Ambiente controlado</td>\n",
       "      <td>-5.722747e-02</td>\n",
       "    </tr>\n",
       "    <tr>\n",
       "      <th>11</th>\n",
       "      <td>localidad</td>\n",
       "      <td>2.829405e-03</td>\n",
       "    </tr>\n",
       "    <tr>\n",
       "      <th>12</th>\n",
       "      <td>% desvío consumo std</td>\n",
       "      <td>1.261591e+00</td>\n",
       "    </tr>\n",
       "    <tr>\n",
       "      <th>13</th>\n",
       "      <td>zona climática</td>\n",
       "      <td>-2.832663e-02</td>\n",
       "    </tr>\n",
       "    <tr>\n",
       "      <th>14</th>\n",
       "      <td>zona prod</td>\n",
       "      <td>-6.306765e-02</td>\n",
       "    </tr>\n",
       "  </tbody>\n",
       "</table>\n",
       "</div>"
      ],
      "text/plain": [
       "                       index   Coefficient\n",
       "0   Días de receso corregido -3.571004e-03\n",
       "1                     granja -2.776905e-05\n",
       "2                 Cantid. BB  4.533697e-07\n",
       "3                 % a 7 Días -5.261691e-02\n",
       "4                  % Mortan. -2.037136e-02\n",
       "5                       Edad  2.000800e+00\n",
       "6                mes levante  1.574227e-02\n",
       "7           Estación del año -9.547799e-02\n",
       "8                   Densidad -4.380947e-02\n",
       "9        Ventilación forzada -3.456846e-02\n",
       "10       Ambiente controlado -5.722747e-02\n",
       "11                 localidad  2.829405e-03\n",
       "12      % desvío consumo std  1.261591e+00\n",
       "13            zona climática -2.832663e-02\n",
       "14                 zona prod -6.306765e-02"
      ]
     },
     "execution_count": 23,
     "metadata": {},
     "output_type": "execute_result"
    }
   ],
   "source": [
    "coeff_df2 = pd.DataFrame(model.coef_, X3.columns, columns=['Coefficient']).reset_index()\n",
    "coeff_df2"
   ]
  },
  {
   "cell_type": "code",
   "execution_count": 24,
   "id": "c1e72423",
   "metadata": {},
   "outputs": [],
   "source": [
    "ax=sns.barplot(data=coeff_df2, x='Coefficient',y='index') \n",
    "ax.bar_label(ax.containers[0])\n",
    "ax.set(xlim=(-100, 40))\n",
    "ax.set(title='Coeficientes de correlación');"
   ]
  },
  {
   "attachments": {},
   "cell_type": "markdown",
   "id": "8d48efc5",
   "metadata": {},
   "source": [
    "# KNN"
   ]
  },
  {
   "cell_type": "code",
   "execution_count": 25,
   "id": "e391806d",
   "metadata": {},
   "outputs": [],
   "source": [
    "from sklearn.neighbors import KNeighborsRegressor\n",
    "k_range = range(1, 50)\n",
    "scores = []\n",
    "for k in k_range:\n",
    "    knn = KNeighborsRegressor(n_neighbors = k)\n",
    "    knn.fit(X3_train, y3_train)\n",
    "    scores.append(knn.score(X3_test, y3_test))\n",
    "plt.figure()\n",
    "plt.xlabel('k')\n",
    "plt.ylabel('accuracy')\n",
    "plt.scatter(k_range, scores)\n",
    "plt.xticks([0,5,10,20,30,40,50]);"
   ]
  },
  {
   "cell_type": "code",
   "execution_count": 26,
   "id": "25db7bbf",
   "metadata": {},
   "outputs": [
    {
     "name": "stdout",
     "output_type": "stream",
     "text": [
      "Error en datos de train: 43.57636764246187\n",
      "Error en datos de test: 43.18669968770842\n"
     ]
    }
   ],
   "source": [
    "from sklearn.neighbors import KNeighborsRegressor\n",
    "\n",
    "model = KNeighborsRegressor(n_neighbors=5)\n",
    "model.fit(X3, y3)\n",
    "y3_train_pred = model.predict(X3_train)\n",
    "y3_test_pred = model.predict(X3_test)\n",
    "\n",
    "\n",
    "\n",
    "print('Error en datos de train:', mean_squared_error(y3_train, y3_train_pred))\n",
    "print('Error en datos de test:', mean_squared_error(y3_test, y3_test_pred))\n",
    "\n",
    "knr_test_mse = mean_squared_error(y3_test, y3_test_pred)\n",
    "knr_train_mse = mean_squared_error(y3_train, y3_train_pred)\n"
   ]
  },
  {
   "attachments": {},
   "cell_type": "markdown",
   "id": "3b745b6b",
   "metadata": {},
   "source": [
    "# Random forest regression"
   ]
  },
  {
   "cell_type": "code",
   "execution_count": 27,
   "id": "55a19d5d",
   "metadata": {},
   "outputs": [],
   "source": [
    "from sklearn.ensemble import RandomForestRegressor\n",
    "\n",
    "model = RandomForestRegressor(n_estimators=50, random_state=42)\n",
    "model.fit(X3, y3)\n",
    "y3_train_pred = model.predict(X3_train)\n",
    "y3_test_pred = model.predict(X3_test)"
   ]
  },
  {
   "cell_type": "code",
   "execution_count": 28,
   "id": "b6a567d9",
   "metadata": {},
   "outputs": [
    {
     "name": "stdout",
     "output_type": "stream",
     "text": [
      "Error en datos de train: 0.05508697900293476\n",
      "Error en datos de test: 0.06651983056664607\n"
     ]
    }
   ],
   "source": [
    "print('Error en datos de train:', mean_squared_error(y3_train, y3_train_pred))\n",
    "print('Error en datos de test:', mean_squared_error(y3_test, y3_test_pred))\n",
    "\n",
    "rfr_test_mse = mean_squared_error(y3_train, y3_train_pred)\n",
    "rfr_train_mse = mean_squared_error(y3_test, y3_test_pred)"
   ]
  },
  {
   "attachments": {},
   "cell_type": "markdown",
   "id": "fb04c5e4",
   "metadata": {},
   "source": [
    "# Xgboost"
   ]
  },
  {
   "cell_type": "code",
   "execution_count": 29,
   "id": "ca4922d9",
   "metadata": {
    "scrolled": true
   },
   "outputs": [
    {
     "name": "stdout",
     "output_type": "stream",
     "text": [
      "Requirement already satisfied: xgboost in c:\\users\\ebover\\anaconda3\\lib\\site-packages (1.7.5)\n",
      "Requirement already satisfied: numpy in c:\\users\\ebover\\anaconda3\\lib\\site-packages (from xgboost) (1.21.5)\n",
      "Requirement already satisfied: scipy in c:\\users\\ebover\\anaconda3\\lib\\site-packages (from xgboost) (1.9.1)\n"
     ]
    }
   ],
   "source": [
    "! pip install xgboost"
   ]
  },
  {
   "cell_type": "code",
   "execution_count": 30,
   "id": "443c33b1",
   "metadata": {},
   "outputs": [],
   "source": [
    "import xgboost as xgb\n",
    "\n",
    "model = xgb.XGBRegressor(n_estimators=50, random_state=42)\n",
    "model.fit(X3, y3)\n",
    "y3_train_pred = model.predict(X3_train)\n",
    "y3_test_pred = model.predict(X3_test)"
   ]
  },
  {
   "cell_type": "code",
   "execution_count": 31,
   "id": "50e0b8ce",
   "metadata": {},
   "outputs": [
    {
     "name": "stdout",
     "output_type": "stream",
     "text": [
      "Error en datos de train: 0.1754135633459414\n",
      "Error en datos de test: 0.16788461475781824\n"
     ]
    }
   ],
   "source": [
    "print('Error en datos de train:', mean_squared_error(y3_train, y3_train_pred))\n",
    "print('Error en datos de test:', mean_squared_error(y3_test, y3_test_pred))\n",
    "\n",
    "xgb_test_mse = mean_squared_error(y3_train, y3_train_pred)\n",
    "xgb_train_mse = mean_squared_error(y3_test, y3_test_pred)"
   ]
  },
  {
   "cell_type": "code",
   "execution_count": 32,
   "id": "3d232858",
   "metadata": {},
   "outputs": [
    {
     "name": "stderr",
     "output_type": "stream",
     "text": [
      "C:\\Users\\ebover\\AppData\\Local\\Temp\\ipykernel_17448\\2044295298.py:15: UserWarning: Matplotlib is currently using module://matplotlib_inline.backend_inline, which is a non-GUI backend, so cannot show the figure.\n",
      "  plt.show()\n"
     ]
    }
   ],
   "source": [
    "valores = [lr_train_mse, knr_train_mse, rfr_train_mse, xgb_train_mse]\n",
    "\n",
    "nombres = ['Lineal', 'Knn', 'Forest', 'XGB']\n",
    "\n",
    "plt.figure(figsize=(10, 6))\n",
    "plt.bar(nombres, valores, color='blue')\n",
    "\n",
    "plt.xlabel('Modelo')\n",
    "plt.ylabel('MSE Train')\n",
    "plt.title('Comparación de MSE entre modelos de regresión')\n",
    "\n",
    "for i, value in enumerate(valores):\n",
    "    plt.text(i, value, str(round(value, 2)), ha='center', va='bottom')\n",
    "\n",
    "plt.show()"
   ]
  },
  {
   "cell_type": "code",
   "execution_count": 33,
   "id": "a53457f8",
   "metadata": {},
   "outputs": [
    {
     "name": "stderr",
     "output_type": "stream",
     "text": [
      "C:\\Users\\ebover\\AppData\\Local\\Temp\\ipykernel_17448\\1213487991.py:15: UserWarning: Matplotlib is currently using module://matplotlib_inline.backend_inline, which is a non-GUI backend, so cannot show the figure.\n",
      "  plt.show()\n"
     ]
    }
   ],
   "source": [
    "valores = [lr_test_mse, knr_test_mse, rfr_test_mse, xgb_test_mse]\n",
    "\n",
    "nombres = ['Lineal', 'Knn', 'Forest', 'XGB']\n",
    "\n",
    "plt.figure(figsize=(10, 6))\n",
    "plt.bar(nombres, valores, color='blue')\n",
    "\n",
    "plt.xlabel('Modelo')\n",
    "plt.ylabel('MSE Test')\n",
    "plt.title('Comparación de MSE entre modelos de regresión')\n",
    "\n",
    "for i, value in enumerate(valores):\n",
    "    plt.text(i, value, str(round(value, 2)), ha='center', va='bottom')\n",
    "\n",
    "plt.show()"
   ]
  },
  {
   "cell_type": "code",
   "execution_count": 34,
   "id": "15125f39",
   "metadata": {
    "scrolled": true
   },
   "outputs": [
    {
     "name": "stdout",
     "output_type": "stream",
     "text": [
      "MSE: 0.16788461475781824\n"
     ]
    }
   ],
   "source": [
    "from sklearn.metrics import mean_squared_error\n",
    "mse = mean_squared_error(y3_test, y3_test_pred)\n",
    "print(\"MSE:\", mse)"
   ]
  },
  {
   "cell_type": "code",
   "execution_count": 35,
   "id": "a678a107",
   "metadata": {},
   "outputs": [
    {
     "name": "stdout",
     "output_type": "stream",
     "text": [
      "RMSE: 0.40973725087892393\n"
     ]
    }
   ],
   "source": [
    "from sklearn.metrics import mean_squared_error\n",
    "rmse = np.sqrt(mse)\n",
    "print(\"RMSE:\", rmse)"
   ]
  },
  {
   "cell_type": "code",
   "execution_count": 36,
   "id": "b4605262",
   "metadata": {},
   "outputs": [
    {
     "name": "stdout",
     "output_type": "stream",
     "text": [
      "MAE: 0.31797237295534353\n"
     ]
    }
   ],
   "source": [
    "from sklearn.metrics import mean_absolute_error\n",
    "mae = mean_absolute_error(y3_test, y3_test_pred)\n",
    "print(\"MAE:\", mae)"
   ]
  },
  {
   "cell_type": "code",
   "execution_count": 37,
   "id": "d8cddc01",
   "metadata": {},
   "outputs": [
    {
     "name": "stdout",
     "output_type": "stream",
     "text": [
      "R^2: 0.9978225536566645\n"
     ]
    }
   ],
   "source": [
    "from sklearn.metrics import r2_score\n",
    "r2 = r2_score(y3_test, y3_test_pred)\n",
    "print(\"R^2:\", r2)"
   ]
  },
  {
   "attachments": {},
   "cell_type": "markdown",
   "id": "99867739",
   "metadata": {},
   "source": [
    "Todos los modelos con excepción del KNN tienen valores muy bajos de MSE y elevada correlación. A continuación se realizarán pruebas con tratamientos diferentes de los datos."
   ]
  },
  {
   "attachments": {},
   "cell_type": "markdown",
   "id": "37a0472f",
   "metadata": {},
   "source": [
    "## Cross validation"
   ]
  },
  {
   "cell_type": "code",
   "execution_count": 38,
   "id": "d4fc6153",
   "metadata": {},
   "outputs": [
    {
     "name": "stderr",
     "output_type": "stream",
     "text": [
      "[Parallel(n_jobs=1)]: Using backend SequentialBackend with 1 concurrent workers.\n",
      "[Parallel(n_jobs=1)]: Done   7 out of   7 | elapsed:    2.0s finished\n"
     ]
    }
   ],
   "source": [
    "from sklearn.model_selection import cross_val_score\n",
    "from sklearn.ensemble import RandomForestRegressor\n",
    "# crear el modelo\n",
    "model = RandomForestRegressor(random_state=42, n_estimators=10,max_depth=4)\n",
    "scores = cross_val_score(model, X3, y3, cv=7, verbose=1,scoring='r2')"
   ]
  },
  {
   "cell_type": "code",
   "execution_count": 39,
   "id": "e07e8d8a",
   "metadata": {},
   "outputs": [
    {
     "name": "stdout",
     "output_type": "stream",
     "text": [
      "0.85 de r2 promedio con una desviacion estandar de 0.02\n"
     ]
    }
   ],
   "source": [
    "print(\"%0.2f de r2 promedio con una desviacion estandar de %0.2f\" % (scores.mean(), scores.std()))"
   ]
  },
  {
   "attachments": {},
   "cell_type": "markdown",
   "id": "8b67faab",
   "metadata": {},
   "source": [
    "Realizando una prueba de cross validation previa a hacer correr el modelo de RandomForestRegressor el valor de correlación se redujo al 85%, por lo que disminuyó el overfitting de los modelos anteriores."
   ]
  },
  {
   "attachments": {},
   "cell_type": "markdown",
   "id": "818d5d11",
   "metadata": {},
   "source": [
    "## PCA"
   ]
  },
  {
   "cell_type": "code",
   "execution_count": 40,
   "id": "0834c006",
   "metadata": {},
   "outputs": [],
   "source": [
    "from sklearn.preprocessing import StandardScaler"
   ]
  },
  {
   "cell_type": "code",
   "execution_count": 41,
   "id": "bd2e5d9e",
   "metadata": {},
   "outputs": [],
   "source": [
    "scaler = StandardScaler()\n",
    "X = scaler.fit_transform(X3)"
   ]
  },
  {
   "cell_type": "code",
   "execution_count": 42,
   "id": "1e86930e",
   "metadata": {},
   "outputs": [
    {
     "data": {
      "text/plain": [
       "array([[ 1.00006836e+00, -1.54238810e-01, -1.74449295e-01,\n",
       "         2.49094086e-02, -6.25191174e-02, -7.69419865e-02,\n",
       "         1.72668405e-01, -4.45771110e-02, -1.69428388e-01,\n",
       "        -8.12870026e-02, -7.21087338e-02, -6.03990543e-02,\n",
       "         1.15878089e-01,  1.18284184e-01,  1.46799656e-01],\n",
       "       [-1.54238810e-01,  1.00006836e+00,  3.93559779e-01,\n",
       "         1.58156618e-01, -7.87320454e-02, -5.68101786e-02,\n",
       "         5.14244952e-03,  3.94739724e-03,  9.60058860e-02,\n",
       "         8.63691989e-03, -1.12668627e-02,  2.37200752e-01,\n",
       "         5.88729465e-02, -7.33759141e-01, -7.96449999e-01],\n",
       "       [-1.74449295e-01,  3.93559779e-01,  1.00006836e+00,\n",
       "         8.45504920e-02, -6.12151307e-02, -1.25482585e-01,\n",
       "         1.36276038e-02, -1.11071361e-02,  4.13582770e-01,\n",
       "         2.75543950e-01,  3.37505373e-01, -1.90273023e-03,\n",
       "         5.75494488e-02, -4.03769050e-01, -4.53570878e-01],\n",
       "       [ 2.49094086e-02,  1.58156618e-01,  8.45504920e-02,\n",
       "         1.00006836e+00,  3.25959439e-01,  1.53836993e-02,\n",
       "         5.02926431e-02, -9.55867854e-02,  2.73581941e-02,\n",
       "        -2.95496542e-02, -2.38116334e-02,  3.34410448e-02,\n",
       "        -9.34199972e-02, -1.52197835e-01, -1.70512470e-01],\n",
       "       [-6.25191174e-02, -7.87320454e-02, -6.12151307e-02,\n",
       "         3.25959439e-01,  1.00006836e+00,  3.06699843e-01,\n",
       "        -1.59893316e-01,  1.65909652e-02, -7.31317655e-02,\n",
       "        -4.67028815e-02, -4.78218221e-02, -6.28680129e-03,\n",
       "        -2.58741932e-01,  5.14288028e-02,  1.00037703e-01],\n",
       "       [-7.69419865e-02, -5.68101786e-02, -1.25482585e-01,\n",
       "         1.53836993e-02,  3.06699843e-01,  1.00006836e+00,\n",
       "        -3.06040335e-01,  5.18764165e-02, -1.52415236e-01,\n",
       "        -1.34845519e-01, -1.49668938e-01,  3.23199101e-02,\n",
       "        -4.80214181e-01,  1.08069478e-02,  8.87022519e-02],\n",
       "       [ 1.72668405e-01,  5.14244952e-03,  1.36276038e-02,\n",
       "         5.02926431e-02, -1.59893316e-01, -3.06040335e-01,\n",
       "         1.00006836e+00, -2.95751972e-01,  7.20815761e-02,\n",
       "        -4.10362826e-03, -6.17171487e-03,  7.08156570e-03,\n",
       "         3.52605098e-01, -7.18776967e-03, -3.51776669e-03],\n",
       "       [-4.45771110e-02,  3.94739724e-03, -1.11071361e-02,\n",
       "        -9.55867854e-02,  1.65909652e-02,  5.18764165e-02,\n",
       "        -2.95751972e-01,  1.00006836e+00, -1.16467472e-01,\n",
       "         1.99809115e-03,  1.84746552e-03,  6.88662653e-04,\n",
       "        -1.42475748e-01, -6.09413015e-03, -7.09871400e-03],\n",
       "       [-1.69428388e-01,  9.60058860e-02,  4.13582770e-01,\n",
       "         2.73581941e-02, -7.31317655e-02, -1.52415236e-01,\n",
       "         7.20815761e-02, -1.16467472e-01,  1.00006836e+00,\n",
       "         4.21199642e-01,  4.79984480e-01, -2.80283875e-02,\n",
       "         5.96027101e-02, -6.36313228e-02, -1.08178278e-01],\n",
       "       [-8.12870026e-02,  8.63691989e-03,  2.75543950e-01,\n",
       "        -2.95496542e-02, -4.67028815e-02, -1.34845519e-01,\n",
       "        -4.10362826e-03,  1.99809115e-03,  4.21199642e-01,\n",
       "         1.00006836e+00,  5.62227397e-01, -1.13081783e-02,\n",
       "         1.33714886e-01,  4.40282658e-02, -3.22207664e-02],\n",
       "       [-7.21087338e-02, -1.12668627e-02,  3.37505373e-01,\n",
       "        -2.38116334e-02, -4.78218221e-02, -1.49668938e-01,\n",
       "        -6.17171487e-03,  1.84746552e-03,  4.79984480e-01,\n",
       "         5.62227397e-01,  1.00006836e+00, -9.49700428e-02,\n",
       "         1.09204929e-01,  6.68109907e-02,  3.58483584e-03],\n",
       "       [-6.03990543e-02,  2.37200752e-01, -1.90273023e-03,\n",
       "         3.34410448e-02, -6.28680129e-03,  3.23199101e-02,\n",
       "         7.08156570e-03,  6.88662653e-04, -2.80283875e-02,\n",
       "        -1.13081783e-02, -9.49700428e-02,  1.00006836e+00,\n",
       "         1.71630612e-02, -2.53019740e-02, -5.71056521e-02],\n",
       "       [ 1.15878089e-01,  5.88729465e-02,  5.75494488e-02,\n",
       "        -9.34199972e-02, -2.58741932e-01, -4.80214181e-01,\n",
       "         3.52605098e-01, -1.42475748e-01,  5.96027101e-02,\n",
       "         1.33714886e-01,  1.09204929e-01,  1.71630612e-02,\n",
       "         1.00006836e+00,  4.27328492e-03, -1.10670617e-01],\n",
       "       [ 1.18284184e-01, -7.33759141e-01, -4.03769050e-01,\n",
       "        -1.52197835e-01,  5.14288028e-02,  1.08069478e-02,\n",
       "        -7.18776967e-03, -6.09413015e-03, -6.36313228e-02,\n",
       "         4.40282658e-02,  6.68109907e-02, -2.53019740e-02,\n",
       "         4.27328492e-03,  1.00006836e+00,  8.32945814e-01],\n",
       "       [ 1.46799656e-01, -7.96449999e-01, -4.53570878e-01,\n",
       "        -1.70512470e-01,  1.00037703e-01,  8.87022519e-02,\n",
       "        -3.51776669e-03, -7.09871400e-03, -1.08178278e-01,\n",
       "        -3.22207664e-02,  3.58483584e-03, -5.71056521e-02,\n",
       "        -1.10670617e-01,  8.32945814e-01,  1.00006836e+00]])"
      ]
     },
     "execution_count": 42,
     "metadata": {},
     "output_type": "execute_result"
    }
   ],
   "source": [
    "cov_matrix = np.cov(X.T)\n",
    "cov_matrix"
   ]
  },
  {
   "cell_type": "code",
   "execution_count": 43,
   "id": "8ca005f6",
   "metadata": {},
   "outputs": [],
   "source": [
    "eig_values, eig_vectors = np.linalg.eig(cov_matrix)"
   ]
  },
  {
   "cell_type": "code",
   "execution_count": 44,
   "id": "24dfe058",
   "metadata": {},
   "outputs": [
    {
     "data": {
      "text/plain": [
       "array([[ 0.13727956, -0.0762289 , -0.28035897,  0.14641751, -0.33507297,\n",
       "        -0.4065889 ,  0.72886758, -0.01832365,  0.02631121, -0.04623678,\n",
       "         0.04716557, -0.21266307, -0.04142957,  0.11782643,  0.01588493],\n",
       "       [-0.45906017,  0.2405763 , -0.10200783, -0.0463481 ,  0.09560613,\n",
       "        -0.0602507 ,  0.08550543,  0.28450334,  0.74657023,  0.09314456,\n",
       "         0.01755933,  0.08114654,  0.15084703,  0.14032169,  0.04927409],\n",
       "       [-0.40075314, -0.09319356,  0.18285795,  0.01755454, -0.08017301,\n",
       "         0.05501537,  0.05543589,  0.03382456,  0.05316579, -0.25023982,\n",
       "        -0.18324632, -0.51594838, -0.22142978, -0.60645977,  0.0352411 ],\n",
       "       [-0.1014172 ,  0.15896838,  0.04911929,  0.6268496 , -0.07835297,\n",
       "        -0.34565228, -0.22121689,  0.04151181, -0.0192404 , -0.27475936,\n",
       "         0.35397314,  0.27715591, -0.02815949, -0.1999546 , -0.2721499 ],\n",
       "       [ 0.09870029,  0.22794617,  0.29110279,  0.47976149, -0.02104843,\n",
       "        -0.19801903, -0.20605572, -0.02926022,  0.01425878,  0.36589584,\n",
       "        -0.38143185, -0.37100368,  0.01981755,  0.25373008,  0.2417197 ],\n",
       "       [ 0.14239179,  0.34739377,  0.31766339,  0.05412956,  0.0676451 ,\n",
       "         0.25023437,  0.41336525, -0.00235998,  0.02342204,  0.20348645,\n",
       "        -0.26672037,  0.17562744, -0.00880846, -0.18015239, -0.58366091],\n",
       "       [-0.05749867, -0.24228904, -0.40834419,  0.31527042,  0.0607644 ,\n",
       "         0.12228753,  0.00643429, -0.04526011,  0.02560666, -0.20828323,\n",
       "        -0.68109211,  0.36198652,  0.04259772, -0.06251498,  0.08020024],\n",
       "       [ 0.03333848,  0.12977533,  0.18910366, -0.48154343, -0.19482868,\n",
       "        -0.60141713, -0.20764477,  0.00623208,  0.00366598, -0.25857166,\n",
       "        -0.38974606,  0.13480693, -0.02284107,  0.06199192, -0.1739952 ],\n",
       "       [-0.24069558, -0.32834586,  0.28969272,  0.11604653,  0.08420785,\n",
       "         0.17005248,  0.06015496, -0.00666145, -0.00433728, -0.38151571,\n",
       "        -0.01759132, -0.16146887, -0.12145353,  0.63463828, -0.32821146],\n",
       "       [-0.16639943, -0.37450666,  0.32094772,  0.00752639,  0.06423247,\n",
       "        -0.19540086,  0.14860521,  0.03625083,  0.02259978,  0.37228315,\n",
       "         0.02875823,  0.41438453, -0.55463793, -0.0445535 ,  0.20501621],\n",
       "       [-0.16473456, -0.40095767,  0.35203009,  0.0265123 , -0.05581841,\n",
       "        -0.12526836,  0.12804246, -0.0136186 , -0.0933451 ,  0.12124674,\n",
       "         0.00997229,  0.09808122,  0.77305687, -0.14020853,  0.04087032],\n",
       "       [-0.06299106,  0.10705171, -0.06814595, -0.02448194,  0.87204387,\n",
       "        -0.33205571,  0.19489983, -0.04614216, -0.21024758, -0.09450688,\n",
       "        -0.00258   , -0.10215674,  0.04439819, -0.03164053,  0.04406467],\n",
       "       [-0.11897259, -0.329343  , -0.38709097, -0.02560621,  0.03928316,\n",
       "        -0.18069167, -0.25490283,  0.09783224, -0.03190422,  0.48031587,\n",
       "        -0.03083426, -0.23898935, -0.02693554, -0.03935353, -0.57103614],\n",
       "       [ 0.44518183, -0.27772349,  0.10031859,  0.03102686,  0.16911596,\n",
       "        -0.06604563, -0.08526463, -0.50902789,  0.60851116, -0.08460725,\n",
       "         0.0567398 , -0.08698927, -0.01328785, -0.13957661, -0.08016031],\n",
       "       [ 0.48582406, -0.21972299,  0.1076377 ,  0.04837886,  0.12005371,\n",
       "         0.00188082, -0.02479596,  0.800345  ,  0.11212558, -0.14107742,\n",
       "        -0.02756199, -0.07035591, -0.00580077, -0.08732614,  0.018518  ]])"
      ]
     },
     "execution_count": 44,
     "metadata": {},
     "output_type": "execute_result"
    }
   ],
   "source": [
    "eig_vectors"
   ]
  },
  {
   "cell_type": "code",
   "execution_count": 45,
   "id": "61696d8f",
   "metadata": {},
   "outputs": [
    {
     "data": {
      "text/plain": [
       "array([3.11130389, 2.31503564, 1.89231356, 1.33160683, 1.03999416,\n",
       "       0.95131382, 0.83067624, 0.1411822 , 0.22960355, 0.65927642,\n",
       "       0.60544616, 0.55320944, 0.41679326, 0.47252145, 0.45074882])"
      ]
     },
     "execution_count": 45,
     "metadata": {},
     "output_type": "execute_result"
    }
   ],
   "source": [
    "eig_values"
   ]
  },
  {
   "cell_type": "code",
   "execution_count": 46,
   "id": "cdbe4674",
   "metadata": {},
   "outputs": [
    {
     "data": {
      "text/plain": [
       "array([0.20740608, 0.15432516, 0.12614561, 0.08876772, 0.0693282 ,\n",
       "       0.06341659, 0.05537463, 0.0094115 , 0.01530586, 0.04394876,\n",
       "       0.04036032, 0.03687811, 0.02778432, 0.03149928, 0.03004787])"
      ]
     },
     "execution_count": 46,
     "metadata": {},
     "output_type": "execute_result"
    }
   ],
   "source": [
    "eig_values / eig_values.sum()"
   ]
  },
  {
   "cell_type": "code",
   "execution_count": 47,
   "id": "40e6e87d",
   "metadata": {},
   "outputs": [],
   "source": [
    "idx = eig_values.argsort()[::-1]\n",
    "eig_values = eig_values[idx]\n",
    "eig_vectors = eig_vectors[:, idx]"
   ]
  },
  {
   "cell_type": "code",
   "execution_count": 48,
   "id": "4a6fe092",
   "metadata": {},
   "outputs": [
    {
     "data": {
      "text/plain": [
       "array([[ 0.13727956, -0.0762289 , -0.28035897,  0.14641751, -0.33507297,\n",
       "        -0.4065889 ,  0.72886758, -0.04623678,  0.04716557, -0.21266307,\n",
       "         0.11782643,  0.01588493, -0.04142957,  0.02631121, -0.01832365],\n",
       "       [-0.45906017,  0.2405763 , -0.10200783, -0.0463481 ,  0.09560613,\n",
       "        -0.0602507 ,  0.08550543,  0.09314456,  0.01755933,  0.08114654,\n",
       "         0.14032169,  0.04927409,  0.15084703,  0.74657023,  0.28450334],\n",
       "       [-0.40075314, -0.09319356,  0.18285795,  0.01755454, -0.08017301,\n",
       "         0.05501537,  0.05543589, -0.25023982, -0.18324632, -0.51594838,\n",
       "        -0.60645977,  0.0352411 , -0.22142978,  0.05316579,  0.03382456],\n",
       "       [-0.1014172 ,  0.15896838,  0.04911929,  0.6268496 , -0.07835297,\n",
       "        -0.34565228, -0.22121689, -0.27475936,  0.35397314,  0.27715591,\n",
       "        -0.1999546 , -0.2721499 , -0.02815949, -0.0192404 ,  0.04151181],\n",
       "       [ 0.09870029,  0.22794617,  0.29110279,  0.47976149, -0.02104843,\n",
       "        -0.19801903, -0.20605572,  0.36589584, -0.38143185, -0.37100368,\n",
       "         0.25373008,  0.2417197 ,  0.01981755,  0.01425878, -0.02926022],\n",
       "       [ 0.14239179,  0.34739377,  0.31766339,  0.05412956,  0.0676451 ,\n",
       "         0.25023437,  0.41336525,  0.20348645, -0.26672037,  0.17562744,\n",
       "        -0.18015239, -0.58366091, -0.00880846,  0.02342204, -0.00235998],\n",
       "       [-0.05749867, -0.24228904, -0.40834419,  0.31527042,  0.0607644 ,\n",
       "         0.12228753,  0.00643429, -0.20828323, -0.68109211,  0.36198652,\n",
       "        -0.06251498,  0.08020024,  0.04259772,  0.02560666, -0.04526011],\n",
       "       [ 0.03333848,  0.12977533,  0.18910366, -0.48154343, -0.19482868,\n",
       "        -0.60141713, -0.20764477, -0.25857166, -0.38974606,  0.13480693,\n",
       "         0.06199192, -0.1739952 , -0.02284107,  0.00366598,  0.00623208],\n",
       "       [-0.24069558, -0.32834586,  0.28969272,  0.11604653,  0.08420785,\n",
       "         0.17005248,  0.06015496, -0.38151571, -0.01759132, -0.16146887,\n",
       "         0.63463828, -0.32821146, -0.12145353, -0.00433728, -0.00666145],\n",
       "       [-0.16639943, -0.37450666,  0.32094772,  0.00752639,  0.06423247,\n",
       "        -0.19540086,  0.14860521,  0.37228315,  0.02875823,  0.41438453,\n",
       "        -0.0445535 ,  0.20501621, -0.55463793,  0.02259978,  0.03625083],\n",
       "       [-0.16473456, -0.40095767,  0.35203009,  0.0265123 , -0.05581841,\n",
       "        -0.12526836,  0.12804246,  0.12124674,  0.00997229,  0.09808122,\n",
       "        -0.14020853,  0.04087032,  0.77305687, -0.0933451 , -0.0136186 ],\n",
       "       [-0.06299106,  0.10705171, -0.06814595, -0.02448194,  0.87204387,\n",
       "        -0.33205571,  0.19489983, -0.09450688, -0.00258   , -0.10215674,\n",
       "        -0.03164053,  0.04406467,  0.04439819, -0.21024758, -0.04614216],\n",
       "       [-0.11897259, -0.329343  , -0.38709097, -0.02560621,  0.03928316,\n",
       "        -0.18069167, -0.25490283,  0.48031587, -0.03083426, -0.23898935,\n",
       "        -0.03935353, -0.57103614, -0.02693554, -0.03190422,  0.09783224],\n",
       "       [ 0.44518183, -0.27772349,  0.10031859,  0.03102686,  0.16911596,\n",
       "        -0.06604563, -0.08526463, -0.08460725,  0.0567398 , -0.08698927,\n",
       "        -0.13957661, -0.08016031, -0.01328785,  0.60851116, -0.50902789],\n",
       "       [ 0.48582406, -0.21972299,  0.1076377 ,  0.04837886,  0.12005371,\n",
       "         0.00188082, -0.02479596, -0.14107742, -0.02756199, -0.07035591,\n",
       "        -0.08732614,  0.018518  , -0.00580077,  0.11212558,  0.800345  ]])"
      ]
     },
     "execution_count": 48,
     "metadata": {},
     "output_type": "execute_result"
    }
   ],
   "source": [
    "eig_vectors"
   ]
  },
  {
   "cell_type": "code",
   "execution_count": 49,
   "id": "5f6accb5",
   "metadata": {},
   "outputs": [],
   "source": [
    "sns.scatterplot(eig_vectors);"
   ]
  },
  {
   "cell_type": "code",
   "execution_count": 50,
   "id": "dff05535",
   "metadata": {},
   "outputs": [],
   "source": [
    "# A partir de los autovalores, calculamos la varianza explicada\n",
    "tot = sum(eig_values)\n",
    "var_exp = [(i / tot)*100 for i in sorted(eig_values, reverse=True)]\n",
    "cum_var_exp = np.cumsum(var_exp)\n",
    "\n",
    "# Representamos en un diagrama de barras la varianza explicada por cada autovalor, y la acumulada\n",
    "with plt.style.context('seaborn-pastel'):\n",
    "    plt.figure(figsize=(6, 4))\n",
    "\n",
    "    plt.bar(range(15), var_exp, alpha=0.5, align='center',\n",
    "            label='Varianza individual explicada', color='g')\n",
    "    plt.step(range(15), cum_var_exp, where='mid', linestyle='--', label='Varianza explicada acumulada')\n",
    "    plt.ylabel('Ratio de Varianza Explicada')\n",
    "    plt.xlabel('Componentes Principales')\n",
    "    plt.legend(loc='best')\n",
    "    plt.tight_layout()"
   ]
  },
  {
   "attachments": {},
   "cell_type": "markdown",
   "id": "fde9284b",
   "metadata": {},
   "source": [
    "En el gráfico se observa que los tres primeros grupos explican la mayor parte de la varianza."
   ]
  },
  {
   "cell_type": "code",
   "execution_count": 51,
   "id": "6ba8c040",
   "metadata": {},
   "outputs": [],
   "source": [
    "W = eig_vectors[:, :3]\n",
    "X_pca = X.dot(W)"
   ]
  },
  {
   "cell_type": "code",
   "execution_count": 52,
   "id": "71307e9d",
   "metadata": {
    "scrolled": true
   },
   "outputs": [
    {
     "data": {
      "text/html": [
       "<div>\n",
       "<style scoped>\n",
       "    .dataframe tbody tr th:only-of-type {\n",
       "        vertical-align: middle;\n",
       "    }\n",
       "\n",
       "    .dataframe tbody tr th {\n",
       "        vertical-align: top;\n",
       "    }\n",
       "\n",
       "    .dataframe thead th {\n",
       "        text-align: right;\n",
       "    }\n",
       "</style>\n",
       "<table border=\"1\" class=\"dataframe\">\n",
       "  <thead>\n",
       "    <tr style=\"text-align: right;\">\n",
       "      <th></th>\n",
       "      <th>PC1</th>\n",
       "      <th>PC2</th>\n",
       "      <th>PC3</th>\n",
       "      <th>Consumo medio diario (g)</th>\n",
       "    </tr>\n",
       "  </thead>\n",
       "  <tbody>\n",
       "    <tr>\n",
       "      <th>0</th>\n",
       "      <td>-1.943989</td>\n",
       "      <td>0.378588</td>\n",
       "      <td>1.487043</td>\n",
       "      <td>115.963592</td>\n",
       "    </tr>\n",
       "    <tr>\n",
       "      <th>1</th>\n",
       "      <td>-1.168620</td>\n",
       "      <td>2.519232</td>\n",
       "      <td>1.272180</td>\n",
       "      <td>117.081839</td>\n",
       "    </tr>\n",
       "    <tr>\n",
       "      <th>2</th>\n",
       "      <td>-1.510770</td>\n",
       "      <td>1.877993</td>\n",
       "      <td>0.043684</td>\n",
       "      <td>127.820226</td>\n",
       "    </tr>\n",
       "    <tr>\n",
       "      <th>3</th>\n",
       "      <td>-1.347753</td>\n",
       "      <td>1.820664</td>\n",
       "      <td>0.182468</td>\n",
       "      <td>127.343729</td>\n",
       "    </tr>\n",
       "    <tr>\n",
       "      <th>4</th>\n",
       "      <td>-1.405300</td>\n",
       "      <td>1.347566</td>\n",
       "      <td>0.506204</td>\n",
       "      <td>138.304026</td>\n",
       "    </tr>\n",
       "  </tbody>\n",
       "</table>\n",
       "</div>"
      ],
      "text/plain": [
       "        PC1       PC2       PC3  Consumo medio diario (g)\n",
       "0 -1.943989  0.378588  1.487043                115.963592\n",
       "1 -1.168620  2.519232  1.272180                117.081839\n",
       "2 -1.510770  1.877993  0.043684                127.820226\n",
       "3 -1.347753  1.820664  0.182468                127.343729\n",
       "4 -1.405300  1.347566  0.506204                138.304026"
      ]
     },
     "execution_count": 52,
     "metadata": {},
     "output_type": "execute_result"
    }
   ],
   "source": [
    "data_pca = pd.DataFrame(X_pca, columns = ['PC1', 'PC2','PC3'])\n",
    "data_pca = pd.concat([data_pca, y3], axis = 1)\n",
    "data_pca.head()"
   ]
  },
  {
   "cell_type": "code",
   "execution_count": 53,
   "id": "c90e7d89",
   "metadata": {},
   "outputs": [
    {
     "name": "stdout",
     "output_type": "stream",
     "text": [
      "<class 'pandas.core.frame.DataFrame'>\n",
      "Int64Index: 15743 entries, 0 to 15747\n",
      "Data columns (total 4 columns):\n",
      " #   Column                    Non-Null Count  Dtype  \n",
      "---  ------                    --------------  -----  \n",
      " 0   PC1                       14629 non-null  float64\n",
      " 1   PC2                       14629 non-null  float64\n",
      " 2   PC3                       14629 non-null  float64\n",
      " 3   Consumo medio diario (g)  14629 non-null  float64\n",
      "dtypes: float64(4)\n",
      "memory usage: 615.0 KB\n"
     ]
    }
   ],
   "source": [
    "data_pca.info()"
   ]
  },
  {
   "cell_type": "code",
   "execution_count": 54,
   "id": "7ac84406",
   "metadata": {},
   "outputs": [
    {
     "data": {
      "text/plain": [
       "PC1                         1114\n",
       "PC2                         1114\n",
       "PC3                         1114\n",
       "Consumo medio diario (g)    1114\n",
       "dtype: int64"
      ]
     },
     "execution_count": 54,
     "metadata": {},
     "output_type": "execute_result"
    }
   ],
   "source": [
    "data_pca.isna().sum()"
   ]
  },
  {
   "cell_type": "code",
   "execution_count": 55,
   "id": "13b9776d",
   "metadata": {},
   "outputs": [],
   "source": [
    "data_pca=data_pca.dropna()"
   ]
  },
  {
   "cell_type": "code",
   "execution_count": 56,
   "id": "38548ad6",
   "metadata": {},
   "outputs": [
    {
     "name": "stderr",
     "output_type": "stream",
     "text": [
      "C:\\Users\\ebover\\AppData\\Local\\Temp\\ipykernel_17448\\3471747326.py:1: FutureWarning: In a future version of pandas all arguments of DataFrame.drop except for the argument 'labels' will be keyword-only.\n",
      "  X4=data_pca.drop('Consumo medio diario (g)', 1)\n"
     ]
    }
   ],
   "source": [
    "X4=data_pca.drop('Consumo medio diario (g)', 1) \n",
    "\n",
    "y4=data_pca['Consumo medio diario (g)']\n",
    "\n",
    "X4_train, X4_test, y4_train, y4_test = train_test_split(X4, y4, test_size=0.30, random_state=42)"
   ]
  },
  {
   "cell_type": "code",
   "execution_count": 57,
   "id": "92e3dcd6",
   "metadata": {},
   "outputs": [
    {
     "data": {
      "text/plain": [
       "PC1    0\n",
       "PC2    0\n",
       "PC3    0\n",
       "dtype: int64"
      ]
     },
     "execution_count": 57,
     "metadata": {},
     "output_type": "execute_result"
    }
   ],
   "source": [
    "X4.isna().sum()"
   ]
  },
  {
   "cell_type": "code",
   "execution_count": 58,
   "id": "7cab8bd6",
   "metadata": {},
   "outputs": [
    {
     "data": {
      "text/plain": [
       "0"
      ]
     },
     "execution_count": 58,
     "metadata": {},
     "output_type": "execute_result"
    }
   ],
   "source": [
    "y4.isna().sum()"
   ]
  },
  {
   "attachments": {},
   "cell_type": "markdown",
   "id": "95666ab9",
   "metadata": {},
   "source": [
    "## Linear regression"
   ]
  },
  {
   "cell_type": "code",
   "execution_count": 59,
   "id": "7c147066",
   "metadata": {},
   "outputs": [],
   "source": [
    "model = LinearRegression(fit_intercept=True)\n",
    "model.fit(X4, y4)\n",
    "y4_train_pred = model.predict(X4_train)\n",
    "y4_test_pred = model.predict(X4_test)\n"
   ]
  },
  {
   "cell_type": "code",
   "execution_count": 60,
   "id": "42843a61",
   "metadata": {},
   "outputs": [
    {
     "name": "stdout",
     "output_type": "stream",
     "text": [
      "Error en datos de train: 75.73164913469432\n",
      "Error en datos de test: 75.07720896859855\n"
     ]
    }
   ],
   "source": [
    "print('Error en datos de train:', mean_squared_error(y4_train, y4_train_pred))\n",
    "print('Error en datos de test:', mean_squared_error(y4_test, y4_test_pred))\n",
    "\n",
    "lr_test_mse = mean_squared_error(y4_test, y4_test_pred)\n",
    "lr_train_mse = mean_squared_error(y4_train, y4_train_pred)"
   ]
  },
  {
   "cell_type": "code",
   "execution_count": 61,
   "id": "c70e5220",
   "metadata": {},
   "outputs": [
    {
     "data": {
      "text/plain": [
       "array([-0.08022211,  0.17836044, -0.17317319])"
      ]
     },
     "execution_count": 61,
     "metadata": {},
     "output_type": "execute_result"
    }
   ],
   "source": [
    "model.coef_"
   ]
  },
  {
   "cell_type": "code",
   "execution_count": 62,
   "id": "62b12056",
   "metadata": {},
   "outputs": [
    {
     "data": {
      "text/html": [
       "<div>\n",
       "<style scoped>\n",
       "    .dataframe tbody tr th:only-of-type {\n",
       "        vertical-align: middle;\n",
       "    }\n",
       "\n",
       "    .dataframe tbody tr th {\n",
       "        vertical-align: top;\n",
       "    }\n",
       "\n",
       "    .dataframe thead th {\n",
       "        text-align: right;\n",
       "    }\n",
       "</style>\n",
       "<table border=\"1\" class=\"dataframe\">\n",
       "  <thead>\n",
       "    <tr style=\"text-align: right;\">\n",
       "      <th></th>\n",
       "      <th>index</th>\n",
       "      <th>Coefficient</th>\n",
       "    </tr>\n",
       "  </thead>\n",
       "  <tbody>\n",
       "    <tr>\n",
       "      <th>0</th>\n",
       "      <td>PC1</td>\n",
       "      <td>-0.080222</td>\n",
       "    </tr>\n",
       "    <tr>\n",
       "      <th>1</th>\n",
       "      <td>PC2</td>\n",
       "      <td>0.178360</td>\n",
       "    </tr>\n",
       "    <tr>\n",
       "      <th>2</th>\n",
       "      <td>PC3</td>\n",
       "      <td>-0.173173</td>\n",
       "    </tr>\n",
       "  </tbody>\n",
       "</table>\n",
       "</div>"
      ],
      "text/plain": [
       "  index  Coefficient\n",
       "0   PC1    -0.080222\n",
       "1   PC2     0.178360\n",
       "2   PC3    -0.173173"
      ]
     },
     "execution_count": 62,
     "metadata": {},
     "output_type": "execute_result"
    }
   ],
   "source": [
    "coeff_df2 = pd.DataFrame(model.coef_, X4.columns, columns=['Coefficient']).reset_index()\n",
    "coeff_df2"
   ]
  },
  {
   "cell_type": "code",
   "execution_count": 63,
   "id": "e3b25380",
   "metadata": {},
   "outputs": [],
   "source": [
    "ax=sns.barplot(data=coeff_df2, x='Coefficient',y='index') \n",
    "ax.bar_label(ax.containers[0])\n",
    "ax.set(xlim=(-100, 40))\n",
    "ax.set(title='Coeficientes de correlación');"
   ]
  },
  {
   "attachments": {},
   "cell_type": "markdown",
   "id": "6c90e878",
   "metadata": {},
   "source": [
    "# KNN"
   ]
  },
  {
   "cell_type": "code",
   "execution_count": 64,
   "id": "a0436214",
   "metadata": {},
   "outputs": [],
   "source": [
    "from sklearn.neighbors import KNeighborsRegressor\n",
    "k_range = range(1, 50)\n",
    "scores = []\n",
    "for k in k_range:\n",
    "    knn = KNeighborsRegressor(n_neighbors = k)\n",
    "    knn.fit(X4_train, y4_train)\n",
    "    scores.append(knn.score(X4_test, y4_test))\n",
    "plt.figure()\n",
    "plt.xlabel('k')\n",
    "plt.ylabel('accuracy')\n",
    "plt.scatter(k_range, scores)\n",
    "plt.xticks([0,5,10,20,30,40,50]);"
   ]
  },
  {
   "cell_type": "code",
   "execution_count": 65,
   "id": "886815a6",
   "metadata": {},
   "outputs": [
    {
     "name": "stdout",
     "output_type": "stream",
     "text": [
      "Error en datos de train: 73.05908757345728\n",
      "Error en datos de test: 71.89272808984317\n"
     ]
    }
   ],
   "source": [
    "from sklearn.neighbors import KNeighborsRegressor\n",
    "\n",
    "model = KNeighborsRegressor(n_neighbors=40)\n",
    "model.fit(X4, y4)\n",
    "y4_train_pred = model.predict(X4_train)\n",
    "y4_test_pred = model.predict(X4_test)\n",
    "\n",
    "\n",
    "\n",
    "print('Error en datos de train:', mean_squared_error(y4_train, y4_train_pred))\n",
    "print('Error en datos de test:', mean_squared_error(y4_test, y4_test_pred))\n",
    "\n",
    "knr_test_mse = mean_squared_error(y4_test, y4_test_pred)\n",
    "knr_train_mse = mean_squared_error(y4_train, y4_train_pred)\n"
   ]
  },
  {
   "attachments": {},
   "cell_type": "markdown",
   "id": "1033c41f",
   "metadata": {},
   "source": [
    "# Random forest regression"
   ]
  },
  {
   "cell_type": "code",
   "execution_count": 66,
   "id": "422ace9a",
   "metadata": {},
   "outputs": [],
   "source": [
    "from sklearn.ensemble import RandomForestRegressor\n",
    "\n",
    "model = RandomForestRegressor(n_estimators=50, random_state=42)\n",
    "model.fit(X4, y4)\n",
    "y4_train_pred = model.predict(X4_train)\n",
    "y4_test_pred = model.predict(X4_test)"
   ]
  },
  {
   "cell_type": "code",
   "execution_count": 67,
   "id": "2a8e11d1",
   "metadata": {},
   "outputs": [
    {
     "name": "stdout",
     "output_type": "stream",
     "text": [
      "Error en datos de train: 11.877880805256414\n",
      "Error en datos de test: 11.745148024888314\n"
     ]
    }
   ],
   "source": [
    "print('Error en datos de train:', mean_squared_error(y4_train, y4_train_pred))\n",
    "print('Error en datos de test:', mean_squared_error(y4_test, y4_test_pred))\n",
    "\n",
    "rfr_test_mse = mean_squared_error(y4_train, y4_train_pred)\n",
    "rfr_train_mse = mean_squared_error(y4_test, y4_test_pred)"
   ]
  },
  {
   "attachments": {},
   "cell_type": "markdown",
   "id": "dae678ef",
   "metadata": {},
   "source": [
    "# Xgboost"
   ]
  },
  {
   "cell_type": "code",
   "execution_count": 68,
   "id": "25e79eb1",
   "metadata": {},
   "outputs": [],
   "source": [
    "import xgboost as xgb\n",
    "\n",
    "model = xgb.XGBRegressor(n_estimators=50, random_state=42)\n",
    "model.fit(X4, y4)\n",
    "y4_train_pred = model.predict(X4_train)\n",
    "y4_test_pred = model.predict(X4_test)"
   ]
  },
  {
   "cell_type": "code",
   "execution_count": 69,
   "id": "9c45c2ce",
   "metadata": {},
   "outputs": [
    {
     "name": "stdout",
     "output_type": "stream",
     "text": [
      "Error en datos de train: 61.81331799300588\n",
      "Error en datos de test: 60.522694959601445\n"
     ]
    }
   ],
   "source": [
    "print('Error en datos de train:', mean_squared_error(y4_train, y4_train_pred))\n",
    "print('Error en datos de test:', mean_squared_error(y4_test, y4_test_pred))\n",
    "\n",
    "xgb_test_mse = mean_squared_error(y4_train, y4_train_pred)\n",
    "xgb_train_mse = mean_squared_error(y4_test, y4_test_pred)"
   ]
  },
  {
   "cell_type": "code",
   "execution_count": 70,
   "id": "4d634012",
   "metadata": {},
   "outputs": [
    {
     "name": "stderr",
     "output_type": "stream",
     "text": [
      "C:\\Users\\ebover\\AppData\\Local\\Temp\\ipykernel_17448\\2044295298.py:15: UserWarning: Matplotlib is currently using module://matplotlib_inline.backend_inline, which is a non-GUI backend, so cannot show the figure.\n",
      "  plt.show()\n"
     ]
    }
   ],
   "source": [
    "valores = [lr_train_mse, knr_train_mse, rfr_train_mse, xgb_train_mse]\n",
    "\n",
    "nombres = ['Lineal', 'Knn', 'Forest', 'XGB']\n",
    "\n",
    "plt.figure(figsize=(10, 6))\n",
    "plt.bar(nombres, valores, color='blue')\n",
    "\n",
    "plt.xlabel('Modelo')\n",
    "plt.ylabel('MSE Train')\n",
    "plt.title('Comparación de MSE entre modelos de regresión')\n",
    "\n",
    "for i, value in enumerate(valores):\n",
    "    plt.text(i, value, str(round(value, 2)), ha='center', va='bottom')\n",
    "\n",
    "plt.show()"
   ]
  },
  {
   "cell_type": "code",
   "execution_count": 71,
   "id": "739839f9",
   "metadata": {},
   "outputs": [
    {
     "name": "stderr",
     "output_type": "stream",
     "text": [
      "C:\\Users\\ebover\\AppData\\Local\\Temp\\ipykernel_17448\\1213487991.py:15: UserWarning: Matplotlib is currently using module://matplotlib_inline.backend_inline, which is a non-GUI backend, so cannot show the figure.\n",
      "  plt.show()\n"
     ]
    }
   ],
   "source": [
    "valores = [lr_test_mse, knr_test_mse, rfr_test_mse, xgb_test_mse]\n",
    "\n",
    "nombres = ['Lineal', 'Knn', 'Forest', 'XGB']\n",
    "\n",
    "plt.figure(figsize=(10, 6))\n",
    "plt.bar(nombres, valores, color='blue')\n",
    "\n",
    "plt.xlabel('Modelo')\n",
    "plt.ylabel('MSE Test')\n",
    "plt.title('Comparación de MSE entre modelos de regresión')\n",
    "\n",
    "for i, value in enumerate(valores):\n",
    "    plt.text(i, value, str(round(value, 2)), ha='center', va='bottom')\n",
    "\n",
    "plt.show()"
   ]
  },
  {
   "cell_type": "code",
   "execution_count": 72,
   "id": "86f32c7f",
   "metadata": {
    "scrolled": true
   },
   "outputs": [
    {
     "name": "stdout",
     "output_type": "stream",
     "text": [
      "MSE: 60.522694959601445\n"
     ]
    }
   ],
   "source": [
    "from sklearn.metrics import mean_squared_error\n",
    "mse = mean_squared_error(y4_test, y4_test_pred)\n",
    "print(\"MSE:\", mse)"
   ]
  },
  {
   "cell_type": "code",
   "execution_count": 73,
   "id": "e78b70cd",
   "metadata": {},
   "outputs": [
    {
     "name": "stdout",
     "output_type": "stream",
     "text": [
      "RMSE: 7.779633343519568\n"
     ]
    }
   ],
   "source": [
    "from sklearn.metrics import mean_squared_error\n",
    "rmse = np.sqrt(mse)\n",
    "print(\"RMSE:\", rmse)"
   ]
  },
  {
   "cell_type": "code",
   "execution_count": 74,
   "id": "2ea29118",
   "metadata": {},
   "outputs": [
    {
     "name": "stdout",
     "output_type": "stream",
     "text": [
      "MAE: 6.044986729521293\n"
     ]
    }
   ],
   "source": [
    "from sklearn.metrics import mean_absolute_error\n",
    "mae = mean_absolute_error(y4_test, y4_test_pred)\n",
    "print(\"MAE:\", mae)"
   ]
  },
  {
   "cell_type": "code",
   "execution_count": 75,
   "id": "70f08337",
   "metadata": {},
   "outputs": [
    {
     "name": "stdout",
     "output_type": "stream",
     "text": [
      "R^2: 0.19450065785654835\n"
     ]
    }
   ],
   "source": [
    "from sklearn.metrics import r2_score\n",
    "r2 = r2_score(y4_test, y4_test_pred)\n",
    "print(\"R^2:\", r2)"
   ]
  },
  {
   "attachments": {},
   "cell_type": "markdown",
   "id": "4633123d",
   "metadata": {},
   "source": [
    "Luego de reducir a 3 los componentes originales de la base todos los valores de MSE resultaron elevados con excepción de RandomForest, el coeficiente de determinación, a su vez, se redujo al 20%."
   ]
  },
  {
   "attachments": {},
   "cell_type": "markdown",
   "id": "10680269",
   "metadata": {},
   "source": [
    "## Validación del modelo"
   ]
  },
  {
   "attachments": {},
   "cell_type": "markdown",
   "id": "e365a7e2",
   "metadata": {},
   "source": [
    "## LOOCV"
   ]
  },
  {
   "cell_type": "code",
   "execution_count": 76,
   "id": "46a75565",
   "metadata": {},
   "outputs": [],
   "source": [
    "from sklearn.model_selection import LeaveOneOut\n",
    "# crear el procediemiento LOOCV\n",
    "cv = LeaveOneOut()"
   ]
  },
  {
   "cell_type": "code",
   "execution_count": 77,
   "id": "ab4c6725",
   "metadata": {},
   "outputs": [
    {
     "data": {
      "text/plain": [
       "sklearn.model_selection._split.LeaveOneOut"
      ]
     },
     "execution_count": 77,
     "metadata": {},
     "output_type": "execute_result"
    }
   ],
   "source": [
    "LeaveOneOut"
   ]
  },
  {
   "cell_type": "code",
   "execution_count": 78,
   "id": "9c41f5b6",
   "metadata": {},
   "outputs": [],
   "source": [
    "# crear el modelo\n",
    "from sklearn.ensemble import RandomForestRegressor\n",
    "model = RandomForestRegressor(random_state=42, n_estimators=10,max_depth=4)"
   ]
  },
  {
   "cell_type": "code",
   "execution_count": 79,
   "id": "e2601555",
   "metadata": {},
   "outputs": [
    {
     "data": {
      "text/plain": [
       "<function sklearn.model_selection._validation.cross_val_score(estimator, X, y=None, *, groups=None, scoring=None, cv=None, n_jobs=None, verbose=0, fit_params=None, pre_dispatch='2*n_jobs', error_score=nan)>"
      ]
     },
     "execution_count": 79,
     "metadata": {},
     "output_type": "execute_result"
    }
   ],
   "source": [
    " cross_val_score"
   ]
  },
  {
   "cell_type": "code",
   "execution_count": 80,
   "id": "70ff8674",
   "metadata": {},
   "outputs": [
    {
     "name": "stderr",
     "output_type": "stream",
     "text": [
      "[Parallel(n_jobs=1)]: Using backend SequentialBackend with 1 concurrent workers.\n",
      "[Parallel(n_jobs=1)]: Done 14629 out of 14629 | elapsed: 45.1min finished\n"
     ]
    }
   ],
   "source": [
    "# evaluar el modelo\n",
    "scores = cross_val_score(model, X, y, scoring='accuracy', cv=cv, verbose=1)"
   ]
  },
  {
   "cell_type": "code",
   "execution_count": 81,
   "id": "3ab86012",
   "metadata": {},
   "outputs": [
    {
     "name": "stderr",
     "output_type": "stream",
     "text": [
      "[Parallel(n_jobs=1)]: Using backend SequentialBackend with 1 concurrent workers.\n",
      "[Parallel(n_jobs=1)]: Done 14629 out of 14629 | elapsed: 76.3min finished\n"
     ]
    }
   ],
   "source": [
    "# evaluar el modelo (criterio de comparacion MAE)\n",
    "from sklearn.metrics import mean_squared_error,  make_scorer   \n",
    "MAE = make_scorer(mean_absolute_error)\n",
    "scores = cross_val_score(model, X, y, scoring=MAE, cv=cv,error_score='raise',verbose=1)\n",
    "# convertir a postivos\n",
    "scores = abs(scores)\n"
   ]
  },
  {
   "cell_type": "code",
   "execution_count": 82,
   "id": "9ac5cdb7",
   "metadata": {},
   "outputs": [
    {
     "name": "stdout",
     "output_type": "stream",
     "text": [
      "MAE: 0.000 (0.000)\n"
     ]
    }
   ],
   "source": [
    "# reportar el performance\n",
    "print('MAE: %.3f (%.3f)' % (mean(scores), std(scores)))"
   ]
  },
  {
   "attachments": {},
   "cell_type": "markdown",
   "id": "52e08521",
   "metadata": {},
   "source": [
    "El modelo se evalúa utilizando LOOCV y el rendimiento estimado al hacer predicciones sobre nuevos datos tiene una precisión de alrededor de ~%."
   ]
  },
  {
   "attachments": {},
   "cell_type": "markdown",
   "id": "03a70462",
   "metadata": {},
   "source": [
    "## Stratified- K fold"
   ]
  },
  {
   "cell_type": "code",
   "execution_count": 84,
   "id": "945914b4",
   "metadata": {},
   "outputs": [
    {
     "name": "stderr",
     "output_type": "stream",
     "text": [
      "[Parallel(n_jobs=1)]: Using backend SequentialBackend with 1 concurrent workers.\n",
      "[Parallel(n_jobs=1)]: Done   7 out of   7 | elapsed:    1.7s finished\n"
     ]
    }
   ],
   "source": [
    "from sklearn.model_selection import cross_val_score\n",
    "from sklearn.ensemble import RandomForestRegressor\n",
    "# crear el modelo\n",
    "model = RandomForestRegressor(random_state=42, n_estimators=10,max_depth=4)\n",
    "scores = cross_val_score(model, X, y, cv=7, verbose=1,scoring='r2')"
   ]
  },
  {
   "cell_type": "code",
   "execution_count": 85,
   "id": "76fe73dc",
   "metadata": {},
   "outputs": [
    {
     "name": "stdout",
     "output_type": "stream",
     "text": [
      "0.99 de r2 promedio con una desviacion estandar de 0.02\n"
     ]
    }
   ],
   "source": [
    "print(\"%0.2f de r2 promedio con una desviacion estandar de %0.2f\" % (scores.mean(), scores.std()))"
   ]
  },
  {
   "attachments": {},
   "cell_type": "markdown",
   "id": "7df8eab1",
   "metadata": {},
   "source": [
    "**Evaluación del modelo**:\n",
    "\n",
    "El último paso es evaluar el rendimiento del algoritmo. Este paso es particularmente importante para comparar qué tan bien funcionan los diferentes algoritmos en un conjunto de datos en particular. Para los algoritmos de regresión, se utilizan comúnmente tres métricas de evaluación:\n",
    "\n",
    "* El error absoluto medio (MAE)\n",
    "* El error cuadrático medio (MSE)\n",
    "* Root Mean Squared Error (RMSE)"
   ]
  },
  {
   "cell_type": "code",
   "execution_count": null,
   "id": "e6cb6e17",
   "metadata": {},
   "outputs": [],
   "source": []
  }
 ],
 "metadata": {
  "kernelspec": {
   "display_name": "Python 3 (ipykernel)",
   "language": "python",
   "name": "python3"
  },
  "language_info": {
   "codemirror_mode": {
    "name": "ipython",
    "version": 3
   },
   "file_extension": ".py",
   "mimetype": "text/x-python",
   "name": "python",
   "nbconvert_exporter": "python",
   "pygments_lexer": "ipython3",
   "version": "3.9.13"
  }
 },
 "nbformat": 4,
 "nbformat_minor": 5
}
