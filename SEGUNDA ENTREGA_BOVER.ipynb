{
 "cells": [
  {
   "cell_type": "markdown",
   "id": "0c58e797",
   "metadata": {},
   "source": [
    "# Abstract"
   ]
  },
  {
   "cell_type": "markdown",
   "id": "a77f2cb4",
   "metadata": {},
   "source": [
    "En presente trabajo se analizaron los resultados productivos de una empresa productora de pollos parrilleros para detectar las variables que impactan sobre los resultados y realizar recomendaciones a partir de ello. En segunda instancia se construyó un modelo de predicción de resultados productivos en función de los datos que se suministren en el futuro. "
   ]
  },
  {
   "cell_type": "markdown",
   "id": "053e3bc0",
   "metadata": {},
   "source": [
    "# Objetivo"
   ]
  },
  {
   "cell_type": "markdown",
   "id": "28f22379",
   "metadata": {},
   "source": [
    "El objetivo del presente trabajo es detectar el impacto de los factores que afectan al crecimiento de los pollos parrilleros para tomar decisiones que mejoren los resultados productivos. "
   ]
  },
  {
   "cell_type": "markdown",
   "id": "14ae148c",
   "metadata": {},
   "source": [
    "# Contexto comercial"
   ]
  },
  {
   "cell_type": "markdown",
   "id": "c8fc930c",
   "metadata": {},
   "source": [
    "El retorno económico de la empresa productora de pollos parrilleros depende de la obtención de mejores resultados productivos. A mayor ganancia de peso diaria, por ejemplo, el consumo total de alimento será menor disminuyendo el costo. Otro impacto positivo del aumento de la ganancia de peso diaria es que se reduce la edad a faena de los animales ya que se alcanza el peso deseado en menor cantidad de días. Esta reducción de días permite: liberación de superficie de producción (metros cuadrados de galpón, rotación), menor propensión a sufrir enfermedades y accidentes (por ejemplo cortes de luz). También el dueño de la granja tiene menores costos de luz y gas y por lo tanto mayores ganancias finales también."
   ]
  },
  {
   "cell_type": "markdown",
   "id": "33fe959e",
   "metadata": {},
   "source": [
    "# Contexto analítico"
   ]
  },
  {
   "cell_type": "code",
   "execution_count": null,
   "id": "ad95e81f",
   "metadata": {},
   "outputs": [],
   "source": [
    "# Se presentan las librerías utilizadas:\n",
    "import pandas as pd\n",
    "import xlsxwriter\n",
    "import matplotlib as mpl\n",
    "import matplotlib.pyplot as plt\n",
    "import seaborn as sns\n",
    "import scipy as sp\n",
    "import numpy as np\n",
    "import datetime\n",
    "import pingouin as pg\n",
    "import statsmodels.api as sm\n",
    "from scipy import stats\n",
    "import requests\n",
    "import json\n",
    "\n",
    "!pip install nbconvert\n",
    "! pip install -U scikit-learn\n",
    "\n",
    "! pip install pyppeteer\n",
    "\n",
    "import plotly.express as px\n"
   ]
  },
  {
   "cell_type": "code",
   "execution_count": null,
   "id": "d0cf7680",
   "metadata": {},
   "outputs": [],
   "source": [
    "pip install https://github.com/pandas-profiling/pandas-profiling/archive/master.zip "
   ]
  },
  {
   "cell_type": "code",
   "execution_count": null,
   "id": "97bb50a6",
   "metadata": {},
   "outputs": [],
   "source": [
    "import ydata_profiling"
   ]
  },
  {
   "cell_type": "markdown",
   "id": "130ba586",
   "metadata": {},
   "source": [
    "# Data acquisition"
   ]
  },
  {
   "cell_type": "markdown",
   "id": "17b699be",
   "metadata": {},
   "source": [
    "La empresa ha provisto un archivo excel con información de resultados y se utilizaron datos climáticos históricos obtenidos a través de una API de Open Meteo."
   ]
  },
  {
   "cell_type": "code",
   "execution_count": null,
   "id": "fb71f8f6",
   "metadata": {},
   "outputs": [],
   "source": [
    "\n",
    "#Ingresos semanales compilado registra resultados finales de la producción en la pestaña BASE. Contiene además datos de genética, nutrición y sanidad.\n",
    "df = pd.read_excel(r\"C:\\Users\\ebover\\OneDrive - FRIGORIFICO DE AVES SOYCHU S.A.I.C.F.I.A\\ingresos semanales compilado.xlsx\",sheet_name='BASE', skiprows=1 , usecols=range(1,67))\n"
   ]
  },
  {
   "cell_type": "code",
   "execution_count": null,
   "id": "416857cb",
   "metadata": {},
   "outputs": [],
   "source": [
    "# Se hizo una solicitud HTTP a la API de Open-Meteo\n",
    "response = requests.get('https://archive-api.open-meteo.com/v1/archive?latitude=-32.48&longitude=-58.23&start_date=2020-01-01&end_date=2022-12-31&daily=temperature_2m_max,temperature_2m_min,precipitation_sum&timezone=America%2FSao_Paulo')\n",
    "\n",
    "# Se convirtieron los datos JSON en un diccionario de Python\n",
    "data = response.json()['daily']\n",
    "\n",
    "# Se convirtió el diccionario en un DataFrame de pandas\n",
    "dfc = pd.DataFrame(data)\n"
   ]
  },
  {
   "cell_type": "markdown",
   "id": "bf425937",
   "metadata": {},
   "source": [
    "# Data wrangling"
   ]
  },
  {
   "cell_type": "markdown",
   "id": "83c87853",
   "metadata": {},
   "source": [
    "Primero se eliminaron valores erróneos de la base de datos que se conocían antes de iniciar el análisis:"
   ]
  },
  {
   "cell_type": "markdown",
   "id": "313c2163",
   "metadata": {},
   "source": [
    "## Base de datos productivos"
   ]
  },
  {
   "cell_type": "code",
   "execution_count": null,
   "id": "f05b427b",
   "metadata": {},
   "outputs": [],
   "source": [
    "df.drop(df[(df['A.D.'] >100)].index, inplace=True) #Elimino valores erróneos\n",
    "df.drop(df[(df['Edad'] >70)].index, inplace=True) #Elimino edades fuera de estándar"
   ]
  },
  {
   "cell_type": "code",
   "execution_count": null,
   "id": "b8f3b5dd",
   "metadata": {},
   "outputs": [],
   "source": [
    "df.head()"
   ]
  },
  {
   "cell_type": "code",
   "execution_count": null,
   "id": "e41a8701",
   "metadata": {},
   "outputs": [],
   "source": [
    "columns_names = df.columns.values\n",
    "columns_names\n",
    "# Los resultados se agrupan por crianza (índice) de cada granja y se registran los diferentes resultados e indicadores de la producción#"
   ]
  },
  {
   "cell_type": "code",
   "execution_count": 63,
   "id": "05e7adcb",
   "metadata": {},
   "outputs": [
    {
     "name": "stdout",
     "output_type": "stream",
     "text": [
      "<class 'pandas.core.frame.DataFrame'>\n",
      "Int64Index: 15571 entries, 0 to 15573\n",
      "Data columns (total 24 columns):\n",
      " #   Column                    Non-Null Count  Dtype         \n",
      "---  ------                    --------------  -----         \n",
      " 0   granja                    15571 non-null  int64         \n",
      " 1   Primer BB                 15571 non-null  datetime64[ns]\n",
      " 2   A Faena                   15571 non-null  int64         \n",
      " 3   % Mortan.                 15571 non-null  float64       \n",
      " 4   P. Prom.                  15571 non-null  float64       \n",
      " 5   Ulto. Levan.              15571 non-null  datetime64[ns]\n",
      " 6   Edad                      15571 non-null  float64       \n",
      " 7   A.D.                      15571 non-null  float64       \n",
      " 8   año levante               15571 non-null  int64         \n",
      " 9   mes levante               15571 non-null  int64         \n",
      " 10  Tipo de granja            15571 non-null  object        \n",
      " 11  Estación del año          15571 non-null  object        \n",
      " 12  Consumo medio diario (g)  15571 non-null  float64       \n",
      " 13  Destino                   15571 non-null  object        \n",
      " 14  Densidad                  15571 non-null  float64       \n",
      " 15  kg pollo/m2               15571 non-null  float64       \n",
      " 16  Ventilación forzada       15571 non-null  object        \n",
      " 17  Ambiente controlado       15571 non-null  object        \n",
      " 18  localidad                 15571 non-null  object        \n",
      " 19  % desvío consumo std      15571 non-null  float64       \n",
      " 20  Índice                    15571 non-null  int64         \n",
      " 21  zona climática            15571 non-null  object        \n",
      " 22  Pes conv 2,7              15571 non-null  float64       \n",
      " 23  zona prod                 15571 non-null  object        \n",
      "dtypes: datetime64[ns](2), float64(9), int64(5), object(8)\n",
      "memory usage: 3.5+ MB\n"
     ]
    }
   ],
   "source": [
    "df.info()"
   ]
  },
  {
   "cell_type": "code",
   "execution_count": null,
   "id": "db458641",
   "metadata": {},
   "outputs": [],
   "source": [
    "df.shape"
   ]
  },
  {
   "cell_type": "markdown",
   "id": "db17f6c2",
   "metadata": {},
   "source": [
    "La base de datos contiene resultados productivos de 15.571 crianzas desde el año 2015 hasta la primera quincena del mes de abril de 2023."
   ]
  },
  {
   "cell_type": "code",
   "execution_count": null,
   "id": "9c858d6a",
   "metadata": {},
   "outputs": [],
   "source": [
    "df.isna().sum()"
   ]
  },
  {
   "cell_type": "markdown",
   "id": "eb5635df",
   "metadata": {},
   "source": [
    "Los valores en blanco hallados pertenecen a una columna que no será utilizada en este análisis"
   ]
  },
  {
   "cell_type": "code",
   "execution_count": null,
   "id": "51bb6908",
   "metadata": {},
   "outputs": [],
   "source": [
    "df.duplicated()"
   ]
  },
  {
   "cell_type": "markdown",
   "id": "e7da5ddc",
   "metadata": {},
   "source": [
    "La base no posee valores de crianzas duplicados."
   ]
  },
  {
   "cell_type": "markdown",
   "id": "6814c065",
   "metadata": {},
   "source": [
    "## Base de datos climáticos de Concepción del Uruguay, Entre Ríos"
   ]
  },
  {
   "cell_type": "code",
   "execution_count": null,
   "id": "08678941",
   "metadata": {},
   "outputs": [],
   "source": [
    "dfc.head()"
   ]
  },
  {
   "cell_type": "code",
   "execution_count": null,
   "id": "9e6710a3",
   "metadata": {},
   "outputs": [],
   "source": [
    "columns_names = dfc.columns.values\n",
    "columns_names"
   ]
  },
  {
   "cell_type": "code",
   "execution_count": null,
   "id": "d53b844c",
   "metadata": {},
   "outputs": [],
   "source": [
    "dfc.shape"
   ]
  },
  {
   "cell_type": "code",
   "execution_count": null,
   "id": "8743a07c",
   "metadata": {},
   "outputs": [],
   "source": [
    "dfc.info()"
   ]
  },
  {
   "cell_type": "code",
   "execution_count": null,
   "id": "cbd60461",
   "metadata": {},
   "outputs": [],
   "source": [
    "dfc.isna().sum()"
   ]
  },
  {
   "cell_type": "markdown",
   "id": "4f33eb40",
   "metadata": {},
   "source": [
    "La base no posee valores en blanco"
   ]
  },
  {
   "cell_type": "code",
   "execution_count": null,
   "id": "bd397bfb",
   "metadata": {},
   "outputs": [],
   "source": [
    "dfc.duplicated()"
   ]
  },
  {
   "cell_type": "markdown",
   "id": "55422320",
   "metadata": {},
   "source": [
    "La base no posee fechas duplicadas"
   ]
  },
  {
   "attachments": {
    "image-2.png": {
     "image/png": "[encoded data removed]"
    }
   },
   "cell_type": "markdown",
   "id": "75d3c39d",
   "metadata": {},
   "source": [
    "De la base de datos provista por la empresa se seleccionarán las siguientes columnas para el análisis:\n",
    "\n",
    "![image-2.png](attachment:image-2.png)\n"
   ]
  },
  {
   "cell_type": "code",
   "execution_count": null,
   "id": "e18b5d2c",
   "metadata": {},
   "outputs": [],
   "source": [
    "df=df[['granja','Primer BB','A Faena',\n",
    "       '% Mortan.','P. Prom.',\n",
    "       'Ulto. Levan.', 'Edad', 'A.D.',\n",
    "     'año levante', 'mes levante',\n",
    "       'Tipo de granja', 'Estación del año',\n",
    "       'Consumo medio diario (g)', 'Destino',\n",
    "     'Densidad', 'kg pollo/m2',\n",
    "    'Ventilación forzada',\n",
    "       'Ambiente controlado','localidad',\n",
    "  '% desvío consumo std', 'Índice',\n",
    "       'zona climática',\n",
    "   'Pes conv 2,7',\n",
    "       'zona prod']]"
   ]
  },
  {
   "cell_type": "code",
   "execution_count": null,
   "id": "b913e1cb",
   "metadata": {},
   "outputs": [],
   "source": [
    "df.head()"
   ]
  },
  {
   "cell_type": "markdown",
   "id": "513bd7eb",
   "metadata": {},
   "source": [
    "# Análisis exploratorio de datos"
   ]
  },
  {
   "cell_type": "code",
   "execution_count": null,
   "id": "c025a298",
   "metadata": {},
   "outputs": [],
   "source": [
    "#Data Profiling\n",
    "profile = pandas_profiling.ProfileReport(df)\n",
    "profile"
   ]
  },
  {
   "cell_type": "code",
   "execution_count": null,
   "id": "ec827f30",
   "metadata": {},
   "outputs": [],
   "source": [
    "#Histograma de Ganancia media diaria de peso de las 15.571 crianzas de la base#\n",
    "sns.histplot(data=df, x='A.D.')"
   ]
  },
  {
   "cell_type": "code",
   "execution_count": null,
   "id": "ce8a60b3",
   "metadata": {},
   "outputs": [],
   "source": [
    "df['A.D.'].describe().round(2)"
   ]
  },
  {
   "cell_type": "markdown",
   "id": "ed40dad6",
   "metadata": {},
   "source": [
    "La **ganancia media diaria de peso** es una medida que permite comparar resultados entre granjas y además permite ver la evolución de los resultados globales de la empresa a lo largo del tiempo. A mayor valor, mejor será el resultado. El valor medio es de **57.18** gramos de peso ganados promedio por día."
   ]
  },
  {
   "cell_type": "code",
   "execution_count": null,
   "id": "cbe62993",
   "metadata": {},
   "outputs": [],
   "source": [
    "df['Ulto. Levan.'] = pd.to_datetime(df['Ulto. Levan.'])"
   ]
  },
  {
   "cell_type": "code",
   "execution_count": 107,
   "id": "a01cbc30",
   "metadata": {},
   "outputs": [],
   "source": [
    "dfc['time'] = pd.to_datetime(dfc['time'])"
   ]
  },
  {
   "cell_type": "code",
   "execution_count": 64,
   "id": "3939352e",
   "metadata": {},
   "outputs": [],
   "source": [
    "df_1=df[['A.D.','año levante']]"
   ]
  },
  {
   "cell_type": "code",
   "execution_count": 65,
   "id": "5e220cfd",
   "metadata": {},
   "outputs": [
    {
     "data": {
      "text/plain": [
       "0        2015\n",
       "1        2015\n",
       "2        2015\n",
       "3        2015\n",
       "4        2015\n",
       "         ... \n",
       "15569    2023\n",
       "15570    2023\n",
       "15571    2023\n",
       "15572    2023\n",
       "15573    2020\n",
       "Name: año levante, Length: 15571, dtype: object"
      ]
     },
     "execution_count": 65,
     "metadata": {},
     "output_type": "execute_result"
    }
   ],
   "source": [
    "df_1['año levante'].astype('object')"
   ]
  },
  {
   "cell_type": "code",
   "execution_count": 66,
   "id": "f257354e",
   "metadata": {},
   "outputs": [
    {
     "data": {
      "text/html": [
       "<div>\n",
       "<style scoped>\n",
       "    .dataframe tbody tr th:only-of-type {\n",
       "        vertical-align: middle;\n",
       "    }\n",
       "\n",
       "    .dataframe tbody tr th {\n",
       "        vertical-align: top;\n",
       "    }\n",
       "\n",
       "    .dataframe thead th {\n",
       "        text-align: right;\n",
       "    }\n",
       "</style>\n",
       "<table border=\"1\" class=\"dataframe\">\n",
       "  <thead>\n",
       "    <tr style=\"text-align: right;\">\n",
       "      <th></th>\n",
       "      <th>A.D.</th>\n",
       "      <th>año levante</th>\n",
       "    </tr>\n",
       "  </thead>\n",
       "  <tbody>\n",
       "    <tr>\n",
       "      <th>15569</th>\n",
       "      <td>40.63</td>\n",
       "      <td>2023</td>\n",
       "    </tr>\n",
       "    <tr>\n",
       "      <th>15570</th>\n",
       "      <td>57.60</td>\n",
       "      <td>2023</td>\n",
       "    </tr>\n",
       "    <tr>\n",
       "      <th>15571</th>\n",
       "      <td>58.82</td>\n",
       "      <td>2023</td>\n",
       "    </tr>\n",
       "    <tr>\n",
       "      <th>15572</th>\n",
       "      <td>54.53</td>\n",
       "      <td>2023</td>\n",
       "    </tr>\n",
       "    <tr>\n",
       "      <th>15573</th>\n",
       "      <td>61.50</td>\n",
       "      <td>2020</td>\n",
       "    </tr>\n",
       "  </tbody>\n",
       "</table>\n",
       "</div>"
      ],
      "text/plain": [
       "        A.D.  año levante\n",
       "15569  40.63         2023\n",
       "15570  57.60         2023\n",
       "15571  58.82         2023\n",
       "15572  54.53         2023\n",
       "15573  61.50         2020"
      ]
     },
     "execution_count": 66,
     "metadata": {},
     "output_type": "execute_result"
    }
   ],
   "source": [
    "df_1=df_1[df_1['año levante']]\n",
    "df_1.tail()"
   ]
  },
  {
   "cell_type": "code",
   "execution_count": 85,
   "id": "7d8a4b34",
   "metadata": {},
   "outputs": [
    {
     "data": {
      "text/html": [
       "<div>\n",
       "<style scoped>\n",
       "    .dataframe tbody tr th:only-of-type {\n",
       "        vertical-align: middle;\n",
       "    }\n",
       "\n",
       "    .dataframe tbody tr th {\n",
       "        vertical-align: top;\n",
       "    }\n",
       "\n",
       "    .dataframe thead th {\n",
       "        text-align: right;\n",
       "    }\n",
       "</style>\n",
       "<table border=\"1\" class=\"dataframe\">\n",
       "  <thead>\n",
       "    <tr style=\"text-align: right;\">\n",
       "      <th></th>\n",
       "      <th>año levante</th>\n",
       "      <th>A.D.</th>\n",
       "    </tr>\n",
       "  </thead>\n",
       "  <tbody>\n",
       "    <tr>\n",
       "      <th>0</th>\n",
       "      <td>2015</td>\n",
       "      <td>55.65</td>\n",
       "    </tr>\n",
       "    <tr>\n",
       "      <th>1</th>\n",
       "      <td>2016</td>\n",
       "      <td>56.45</td>\n",
       "    </tr>\n",
       "    <tr>\n",
       "      <th>2</th>\n",
       "      <td>2017</td>\n",
       "      <td>58.12</td>\n",
       "    </tr>\n",
       "    <tr>\n",
       "      <th>3</th>\n",
       "      <td>2018</td>\n",
       "      <td>57.92</td>\n",
       "    </tr>\n",
       "    <tr>\n",
       "      <th>4</th>\n",
       "      <td>2019</td>\n",
       "      <td>56.99</td>\n",
       "    </tr>\n",
       "    <tr>\n",
       "      <th>5</th>\n",
       "      <td>2020</td>\n",
       "      <td>56.76</td>\n",
       "    </tr>\n",
       "    <tr>\n",
       "      <th>6</th>\n",
       "      <td>2021</td>\n",
       "      <td>58.44</td>\n",
       "    </tr>\n",
       "    <tr>\n",
       "      <th>7</th>\n",
       "      <td>2022</td>\n",
       "      <td>57.82</td>\n",
       "    </tr>\n",
       "  </tbody>\n",
       "</table>\n",
       "</div>"
      ],
      "text/plain": [
       "   año levante   A.D.\n",
       "0         2015  55.65\n",
       "1         2016  56.45\n",
       "2         2017  58.12\n",
       "3         2018  57.92\n",
       "4         2019  56.99\n",
       "5         2020  56.76\n",
       "6         2021  58.44\n",
       "7         2022  57.82"
      ]
     },
     "execution_count": 85,
     "metadata": {},
     "output_type": "execute_result"
    }
   ],
   "source": [
    "df_1=df_1.groupby('año levante').mean().reset_index().round(2)\n",
    "df_1"
   ]
  },
  {
   "cell_type": "code",
   "execution_count": 86,
   "id": "fa1491cd",
   "metadata": {},
   "outputs": [
    {
     "name": "stdout",
     "output_type": "stream",
     "text": [
      "<class 'pandas.core.frame.DataFrame'>\n",
      "RangeIndex: 8 entries, 0 to 7\n",
      "Data columns (total 2 columns):\n",
      " #   Column       Non-Null Count  Dtype  \n",
      "---  ------       --------------  -----  \n",
      " 0   año levante  8 non-null      int64  \n",
      " 1   A.D.         8 non-null      float64\n",
      "dtypes: float64(1), int64(1)\n",
      "memory usage: 256.0 bytes\n"
     ]
    }
   ],
   "source": [
    "df_1.info()"
   ]
  },
  {
   "cell_type": "code",
   "execution_count": 87,
   "id": "6873cef1",
   "metadata": {},
   "outputs": [],
   "source": [
    "  df_1.drop(df_1[(df_1['año levante'] ==2023)].index, inplace=True) "
   ]
  },
  {
   "cell_type": "code",
   "execution_count": 88,
   "id": "db7cfa88",
   "metadata": {},
   "outputs": [
    {
     "data": {
      "text/plain": [
       "[Text(0.5, 1.0, 'Ganancia diaria de peso por año')]"
      ]
     },
     "execution_count": 88,
     "metadata": {},
     "output_type": "execute_result"
    },
    {
     "data": {
      "image/png": "[encoded data removed]",
      "text/plain": [
       "<Figure size 640x480 with 1 Axes>"
      ]
     },
     "metadata": {},
     "output_type": "display_data"
    }
   ],
   "source": [
    "# Gráfico\n",
    "ax=sns.barplot(data=df_1, x='año levante',y='A.D.') \n",
    "ax.bar_label(ax.containers[0])\n",
    "ax.set(ylim=(40, 70))\n",
    "ax.set(title='Ganancia diaria de peso por año')"
   ]
  },
  {
   "cell_type": "markdown",
   "id": "836f1aac",
   "metadata": {},
   "source": [
    "Se observa que las ganancias de peso de los años 2017 y 2021 fueron superiores al resto de los años analizados. El año 2023 fue excluído por estar incompleto."
   ]
  },
  {
   "cell_type": "code",
   "execution_count": 89,
   "id": "9308789b",
   "metadata": {},
   "outputs": [
    {
     "data": {
      "text/html": [
       "<div>\n",
       "<style scoped>\n",
       "    .dataframe tbody tr th:only-of-type {\n",
       "        vertical-align: middle;\n",
       "    }\n",
       "\n",
       "    .dataframe tbody tr th {\n",
       "        vertical-align: top;\n",
       "    }\n",
       "\n",
       "    .dataframe thead th {\n",
       "        text-align: right;\n",
       "    }\n",
       "</style>\n",
       "<table border=\"1\" class=\"dataframe\">\n",
       "  <thead>\n",
       "    <tr style=\"text-align: right;\">\n",
       "      <th></th>\n",
       "      <th>A.D.</th>\n",
       "      <th>Estación del año</th>\n",
       "    </tr>\n",
       "  </thead>\n",
       "  <tbody>\n",
       "    <tr>\n",
       "      <th>0</th>\n",
       "      <td>54.49</td>\n",
       "      <td>verano</td>\n",
       "    </tr>\n",
       "    <tr>\n",
       "      <th>1</th>\n",
       "      <td>50.63</td>\n",
       "      <td>verano</td>\n",
       "    </tr>\n",
       "    <tr>\n",
       "      <th>2</th>\n",
       "      <td>56.12</td>\n",
       "      <td>verano</td>\n",
       "    </tr>\n",
       "    <tr>\n",
       "      <th>3</th>\n",
       "      <td>56.12</td>\n",
       "      <td>verano</td>\n",
       "    </tr>\n",
       "    <tr>\n",
       "      <th>4</th>\n",
       "      <td>60.98</td>\n",
       "      <td>verano</td>\n",
       "    </tr>\n",
       "  </tbody>\n",
       "</table>\n",
       "</div>"
      ],
      "text/plain": [
       "    A.D. Estación del año\n",
       "0  54.49           verano\n",
       "1  50.63           verano\n",
       "2  56.12           verano\n",
       "3  56.12           verano\n",
       "4  60.98           verano"
      ]
     },
     "execution_count": 89,
     "metadata": {},
     "output_type": "execute_result"
    }
   ],
   "source": [
    "df_2=df[['A.D.','Estación del año']]\n",
    "df_2.head()"
   ]
  },
  {
   "cell_type": "code",
   "execution_count": 90,
   "id": "733d6b04",
   "metadata": {},
   "outputs": [
    {
     "data": {
      "text/html": [
       "<div>\n",
       "<style scoped>\n",
       "    .dataframe tbody tr th:only-of-type {\n",
       "        vertical-align: middle;\n",
       "    }\n",
       "\n",
       "    .dataframe tbody tr th {\n",
       "        vertical-align: top;\n",
       "    }\n",
       "\n",
       "    .dataframe thead th {\n",
       "        text-align: right;\n",
       "    }\n",
       "</style>\n",
       "<table border=\"1\" class=\"dataframe\">\n",
       "  <thead>\n",
       "    <tr style=\"text-align: right;\">\n",
       "      <th></th>\n",
       "      <th>Estación del año</th>\n",
       "      <th>A.D.</th>\n",
       "    </tr>\n",
       "  </thead>\n",
       "  <tbody>\n",
       "    <tr>\n",
       "      <th>0</th>\n",
       "      <td>invierno</td>\n",
       "      <td>57.99</td>\n",
       "    </tr>\n",
       "    <tr>\n",
       "      <th>1</th>\n",
       "      <td>otoño</td>\n",
       "      <td>55.87</td>\n",
       "    </tr>\n",
       "    <tr>\n",
       "      <th>2</th>\n",
       "      <td>primavera</td>\n",
       "      <td>59.94</td>\n",
       "    </tr>\n",
       "    <tr>\n",
       "      <th>3</th>\n",
       "      <td>verano</td>\n",
       "      <td>55.14</td>\n",
       "    </tr>\n",
       "  </tbody>\n",
       "</table>\n",
       "</div>"
      ],
      "text/plain": [
       "  Estación del año   A.D.\n",
       "0         invierno  57.99\n",
       "1            otoño  55.87\n",
       "2        primavera  59.94\n",
       "3           verano  55.14"
      ]
     },
     "execution_count": 90,
     "metadata": {},
     "output_type": "execute_result"
    }
   ],
   "source": [
    "df_2=df_2.groupby('Estación del año').mean().reset_index().round(2)\n",
    "df_2"
   ]
  },
  {
   "cell_type": "code",
   "execution_count": 91,
   "id": "5221fcb5",
   "metadata": {},
   "outputs": [
    {
     "data": {
      "text/plain": [
       "[Text(0.5, 1.0, 'Ganancia diaria de peso por estación del año')]"
      ]
     },
     "execution_count": 91,
     "metadata": {},
     "output_type": "execute_result"
    },
    {
     "data": {
      "image/png": "[encoded data removed]",
      "text/plain": [
       "<Figure size 640x480 with 1 Axes>"
      ]
     },
     "metadata": {},
     "output_type": "display_data"
    }
   ],
   "source": [
    "# Gráfico\n",
    "ax=sns.barplot(data=df_2, x='Estación del año',y='A.D.') \n",
    "ax.bar_label(ax.containers[0])\n",
    "ax.set(ylim=(40, 70))\n",
    "ax.set(title='Ganancia diaria de peso por estación del año')"
   ]
  },
  {
   "cell_type": "markdown",
   "id": "52ab7639",
   "metadata": {},
   "source": [
    "Se observa que la ganancia de peso es variable según la estación del año en la que se desarrolle la crianza, las mayores ganancias de peso ocurren en primavera y las peores en verano dando indicios de que el ambiente puede estar afectando el resultado productivo."
   ]
  },
  {
   "cell_type": "code",
   "execution_count": 93,
   "id": "f99dcb40",
   "metadata": {},
   "outputs": [
    {
     "data": {
      "text/html": [
       "<div>\n",
       "<style scoped>\n",
       "    .dataframe tbody tr th:only-of-type {\n",
       "        vertical-align: middle;\n",
       "    }\n",
       "\n",
       "    .dataframe tbody tr th {\n",
       "        vertical-align: top;\n",
       "    }\n",
       "\n",
       "    .dataframe thead th {\n",
       "        text-align: right;\n",
       "    }\n",
       "</style>\n",
       "<table border=\"1\" class=\"dataframe\">\n",
       "  <thead>\n",
       "    <tr style=\"text-align: right;\">\n",
       "      <th></th>\n",
       "      <th>A.D.</th>\n",
       "      <th>mes levante</th>\n",
       "    </tr>\n",
       "  </thead>\n",
       "  <tbody>\n",
       "    <tr>\n",
       "      <th>0</th>\n",
       "      <td>54.49</td>\n",
       "      <td>1</td>\n",
       "    </tr>\n",
       "    <tr>\n",
       "      <th>1</th>\n",
       "      <td>50.63</td>\n",
       "      <td>1</td>\n",
       "    </tr>\n",
       "    <tr>\n",
       "      <th>2</th>\n",
       "      <td>56.12</td>\n",
       "      <td>1</td>\n",
       "    </tr>\n",
       "    <tr>\n",
       "      <th>3</th>\n",
       "      <td>56.12</td>\n",
       "      <td>1</td>\n",
       "    </tr>\n",
       "    <tr>\n",
       "      <th>4</th>\n",
       "      <td>60.98</td>\n",
       "      <td>1</td>\n",
       "    </tr>\n",
       "  </tbody>\n",
       "</table>\n",
       "</div>"
      ],
      "text/plain": [
       "    A.D.  mes levante\n",
       "0  54.49            1\n",
       "1  50.63            1\n",
       "2  56.12            1\n",
       "3  56.12            1\n",
       "4  60.98            1"
      ]
     },
     "execution_count": 93,
     "metadata": {},
     "output_type": "execute_result"
    }
   ],
   "source": [
    "df_3=df[['A.D.','mes levante']]\n",
    "df_3.head()"
   ]
  },
  {
   "cell_type": "code",
   "execution_count": 94,
   "id": "abcd2980",
   "metadata": {},
   "outputs": [
    {
     "data": {
      "text/html": [
       "<div>\n",
       "<style scoped>\n",
       "    .dataframe tbody tr th:only-of-type {\n",
       "        vertical-align: middle;\n",
       "    }\n",
       "\n",
       "    .dataframe tbody tr th {\n",
       "        vertical-align: top;\n",
       "    }\n",
       "\n",
       "    .dataframe thead th {\n",
       "        text-align: right;\n",
       "    }\n",
       "</style>\n",
       "<table border=\"1\" class=\"dataframe\">\n",
       "  <thead>\n",
       "    <tr style=\"text-align: right;\">\n",
       "      <th></th>\n",
       "      <th>mes levante</th>\n",
       "      <th>A.D.</th>\n",
       "    </tr>\n",
       "  </thead>\n",
       "  <tbody>\n",
       "    <tr>\n",
       "      <th>0</th>\n",
       "      <td>1</td>\n",
       "      <td>55.41</td>\n",
       "    </tr>\n",
       "    <tr>\n",
       "      <th>1</th>\n",
       "      <td>2</td>\n",
       "      <td>54.79</td>\n",
       "    </tr>\n",
       "    <tr>\n",
       "      <th>2</th>\n",
       "      <td>3</td>\n",
       "      <td>54.84</td>\n",
       "    </tr>\n",
       "    <tr>\n",
       "      <th>3</th>\n",
       "      <td>4</td>\n",
       "      <td>55.37</td>\n",
       "    </tr>\n",
       "    <tr>\n",
       "      <th>4</th>\n",
       "      <td>5</td>\n",
       "      <td>55.99</td>\n",
       "    </tr>\n",
       "    <tr>\n",
       "      <th>5</th>\n",
       "      <td>6</td>\n",
       "      <td>56.43</td>\n",
       "    </tr>\n",
       "    <tr>\n",
       "      <th>6</th>\n",
       "      <td>7</td>\n",
       "      <td>57.09</td>\n",
       "    </tr>\n",
       "    <tr>\n",
       "      <th>7</th>\n",
       "      <td>8</td>\n",
       "      <td>58.67</td>\n",
       "    </tr>\n",
       "    <tr>\n",
       "      <th>8</th>\n",
       "      <td>9</td>\n",
       "      <td>59.53</td>\n",
       "    </tr>\n",
       "    <tr>\n",
       "      <th>9</th>\n",
       "      <td>10</td>\n",
       "      <td>60.37</td>\n",
       "    </tr>\n",
       "    <tr>\n",
       "      <th>10</th>\n",
       "      <td>11</td>\n",
       "      <td>59.99</td>\n",
       "    </tr>\n",
       "    <tr>\n",
       "      <th>11</th>\n",
       "      <td>12</td>\n",
       "      <td>58.69</td>\n",
       "    </tr>\n",
       "  </tbody>\n",
       "</table>\n",
       "</div>"
      ],
      "text/plain": [
       "    mes levante   A.D.\n",
       "0             1  55.41\n",
       "1             2  54.79\n",
       "2             3  54.84\n",
       "3             4  55.37\n",
       "4             5  55.99\n",
       "5             6  56.43\n",
       "6             7  57.09\n",
       "7             8  58.67\n",
       "8             9  59.53\n",
       "9            10  60.37\n",
       "10           11  59.99\n",
       "11           12  58.69"
      ]
     },
     "execution_count": 94,
     "metadata": {},
     "output_type": "execute_result"
    }
   ],
   "source": [
    "df_3=df_3.groupby('mes levante').mean().reset_index().round(2)\n",
    "df_3"
   ]
  },
  {
   "cell_type": "code",
   "execution_count": 97,
   "id": "2c53cd03",
   "metadata": {},
   "outputs": [
    {
     "data": {
      "text/plain": [
       "[Text(0.5, 1.0, 'Ganancia diaria de peso por mes del año')]"
      ]
     },
     "execution_count": 97,
     "metadata": {},
     "output_type": "execute_result"
    },
    {
     "data": {
      "image/png": "[encoded data removed]",
      "text/plain": [
       "<Figure size 640x480 with 1 Axes>"
      ]
     },
     "metadata": {},
     "output_type": "display_data"
    }
   ],
   "source": [
    "# Gráfico\n",
    "ax=sns.barplot(data=df_3, x='mes levante',y='A.D.') \n",
    "ax.set(ylim=(40, 70))\n",
    "ax.set(title='Ganancia diaria de peso por mes del año')"
   ]
  },
  {
   "cell_type": "markdown",
   "id": "34e0f77f",
   "metadata": {},
   "source": [
    "Se observan también diferencias en los valores de ganancia media diaria de peso en los meses del año. Debido a ello a continuación se realizará un análisis según los tipos de ventilación que poseen las granjas."
   ]
  },
  {
   "cell_type": "markdown",
   "id": "3a3b1ddc",
   "metadata": {},
   "source": [
    "Para ello se han clasificado las granjas en tres categorías:\n",
    "\n",
    "S: Ventilación forzada: La ventilación del galpón se realiza a través de la entrada del aire por inlets o aberturas en la zona superior de los galpones y su posterior expulsión por extractores.\n",
    "\n",
    "N: Granjas con sistema de ventilación convencional con encendido manual de ventiladores y/o apertura y cierre de las cortinas laterales del galpón.\n",
    "\n",
    "MI: Mixtas: Granjas que tienen ambos tipos de galpones."
   ]
  },
  {
   "cell_type": "code",
   "execution_count": 98,
   "id": "eb6b0d66",
   "metadata": {},
   "outputs": [
    {
     "data": {
      "text/html": [
       "<div>\n",
       "<style scoped>\n",
       "    .dataframe tbody tr th:only-of-type {\n",
       "        vertical-align: middle;\n",
       "    }\n",
       "\n",
       "    .dataframe tbody tr th {\n",
       "        vertical-align: top;\n",
       "    }\n",
       "\n",
       "    .dataframe thead th {\n",
       "        text-align: right;\n",
       "    }\n",
       "</style>\n",
       "<table border=\"1\" class=\"dataframe\">\n",
       "  <thead>\n",
       "    <tr style=\"text-align: right;\">\n",
       "      <th></th>\n",
       "      <th>Índice</th>\n",
       "      <th>granja</th>\n",
       "      <th>Ulto. Levan.</th>\n",
       "      <th>A Faena</th>\n",
       "      <th>% desvío consumo std</th>\n",
       "      <th>% Mortan.</th>\n",
       "      <th>P. Prom.</th>\n",
       "      <th>Edad</th>\n",
       "      <th>kg pollo/m2</th>\n",
       "      <th>Estación del año</th>\n",
       "      <th>Ventilación forzada</th>\n",
       "      <th>Ambiente controlado</th>\n",
       "      <th>A.D.</th>\n",
       "      <th>Pes conv 2,7</th>\n",
       "      <th>zona prod</th>\n",
       "      <th>mes levante</th>\n",
       "      <th>año levante</th>\n",
       "    </tr>\n",
       "  </thead>\n",
       "  <tbody>\n",
       "    <tr>\n",
       "      <th>0</th>\n",
       "      <td>6</td>\n",
       "      <td>2544</td>\n",
       "      <td>2015-01-01</td>\n",
       "      <td>34964</td>\n",
       "      <td>-10.389276</td>\n",
       "      <td>2.88</td>\n",
       "      <td>2.670175</td>\n",
       "      <td>49.0</td>\n",
       "      <td>31.120000</td>\n",
       "      <td>verano</td>\n",
       "      <td>S</td>\n",
       "      <td>N</td>\n",
       "      <td>54.49</td>\n",
       "      <td>1.262878</td>\n",
       "      <td>BA</td>\n",
       "      <td>1</td>\n",
       "      <td>2015</td>\n",
       "    </tr>\n",
       "    <tr>\n",
       "      <th>1</th>\n",
       "      <td>7</td>\n",
       "      <td>2558</td>\n",
       "      <td>2015-01-01</td>\n",
       "      <td>54217</td>\n",
       "      <td>-14.867094</td>\n",
       "      <td>5.71</td>\n",
       "      <td>2.679233</td>\n",
       "      <td>52.9</td>\n",
       "      <td>26.410909</td>\n",
       "      <td>verano</td>\n",
       "      <td>N</td>\n",
       "      <td>N</td>\n",
       "      <td>50.63</td>\n",
       "      <td>1.164476</td>\n",
       "      <td>BA</td>\n",
       "      <td>1</td>\n",
       "      <td>2015</td>\n",
       "    </tr>\n",
       "    <tr>\n",
       "      <th>2</th>\n",
       "      <td>8</td>\n",
       "      <td>2761</td>\n",
       "      <td>2015-01-01</td>\n",
       "      <td>36483</td>\n",
       "      <td>-1.227077</td>\n",
       "      <td>6.45</td>\n",
       "      <td>2.750870</td>\n",
       "      <td>49.0</td>\n",
       "      <td>24.359223</td>\n",
       "      <td>verano</td>\n",
       "      <td>N</td>\n",
       "      <td>N</td>\n",
       "      <td>56.12</td>\n",
       "      <td>1.194771</td>\n",
       "      <td>BA</td>\n",
       "      <td>1</td>\n",
       "      <td>2015</td>\n",
       "    </tr>\n",
       "    <tr>\n",
       "      <th>3</th>\n",
       "      <td>15</td>\n",
       "      <td>2524</td>\n",
       "      <td>2015-01-02</td>\n",
       "      <td>28231</td>\n",
       "      <td>-1.595289</td>\n",
       "      <td>5.90</td>\n",
       "      <td>2.745705</td>\n",
       "      <td>49.0</td>\n",
       "      <td>25.838000</td>\n",
       "      <td>verano</td>\n",
       "      <td>N</td>\n",
       "      <td>N</td>\n",
       "      <td>56.12</td>\n",
       "      <td>1.196094</td>\n",
       "      <td>BA</td>\n",
       "      <td>1</td>\n",
       "      <td>2015</td>\n",
       "    </tr>\n",
       "    <tr>\n",
       "      <th>4</th>\n",
       "      <td>21</td>\n",
       "      <td>2741</td>\n",
       "      <td>2015-01-04</td>\n",
       "      <td>38912</td>\n",
       "      <td>3.530095</td>\n",
       "      <td>7.35</td>\n",
       "      <td>3.107525</td>\n",
       "      <td>51.0</td>\n",
       "      <td>31.005128</td>\n",
       "      <td>verano</td>\n",
       "      <td>N</td>\n",
       "      <td>N</td>\n",
       "      <td>60.98</td>\n",
       "      <td>1.265246</td>\n",
       "      <td>BA</td>\n",
       "      <td>1</td>\n",
       "      <td>2015</td>\n",
       "    </tr>\n",
       "  </tbody>\n",
       "</table>\n",
       "</div>"
      ],
      "text/plain": [
       "   Índice  granja Ulto. Levan.  A Faena  % desvío consumo std  % Mortan.  \\\n",
       "0       6    2544   2015-01-01    34964            -10.389276       2.88   \n",
       "1       7    2558   2015-01-01    54217            -14.867094       5.71   \n",
       "2       8    2761   2015-01-01    36483             -1.227077       6.45   \n",
       "3      15    2524   2015-01-02    28231             -1.595289       5.90   \n",
       "4      21    2741   2015-01-04    38912              3.530095       7.35   \n",
       "\n",
       "   P. Prom.  Edad  kg pollo/m2 Estación del año Ventilación forzada  \\\n",
       "0  2.670175  49.0    31.120000           verano                   S   \n",
       "1  2.679233  52.9    26.410909           verano                   N   \n",
       "2  2.750870  49.0    24.359223           verano                   N   \n",
       "3  2.745705  49.0    25.838000           verano                   N   \n",
       "4  3.107525  51.0    31.005128           verano                   N   \n",
       "\n",
       "  Ambiente controlado   A.D.  Pes conv 2,7 zona prod  mes levante  año levante  \n",
       "0                   N  54.49      1.262878        BA            1         2015  \n",
       "1                   N  50.63      1.164476        BA            1         2015  \n",
       "2                   N  56.12      1.194771        BA            1         2015  \n",
       "3                   N  56.12      1.196094        BA            1         2015  \n",
       "4                   N  60.98      1.265246        BA            1         2015  "
      ]
     },
     "execution_count": 98,
     "metadata": {},
     "output_type": "execute_result"
    }
   ],
   "source": [
    "dfv=df[['Índice','granja','Ulto. Levan.','A Faena','% desvío consumo std','% Mortan.','P. Prom.','Edad','kg pollo/m2','Estación del año','Ventilación forzada','Ambiente controlado','A.D.','Pes conv 2,7','zona prod','mes levante','año levante']]\n",
    "dfv.head()"
   ]
  },
  {
   "cell_type": "code",
   "execution_count": 99,
   "id": "179488b1",
   "metadata": {},
   "outputs": [
    {
     "data": {
      "text/html": [
       "<div>\n",
       "<style scoped>\n",
       "    .dataframe tbody tr th:only-of-type {\n",
       "        vertical-align: middle;\n",
       "    }\n",
       "\n",
       "    .dataframe tbody tr th {\n",
       "        vertical-align: top;\n",
       "    }\n",
       "\n",
       "    .dataframe thead th {\n",
       "        text-align: right;\n",
       "    }\n",
       "</style>\n",
       "<table border=\"1\" class=\"dataframe\">\n",
       "  <thead>\n",
       "    <tr style=\"text-align: right;\">\n",
       "      <th></th>\n",
       "      <th>granja</th>\n",
       "      <th>Ulto. Levan.</th>\n",
       "      <th>A Faena</th>\n",
       "      <th>% desvío consumo std</th>\n",
       "      <th>% Mortan.</th>\n",
       "      <th>P. Prom.</th>\n",
       "      <th>Edad</th>\n",
       "      <th>kg pollo/m2</th>\n",
       "      <th>Estación del año</th>\n",
       "      <th>Ventilación forzada</th>\n",
       "      <th>Ambiente controlado</th>\n",
       "      <th>A.D.</th>\n",
       "      <th>Pes conv 2,7</th>\n",
       "      <th>zona prod</th>\n",
       "      <th>mes levante</th>\n",
       "      <th>año levante</th>\n",
       "    </tr>\n",
       "    <tr>\n",
       "      <th>Índice</th>\n",
       "      <th></th>\n",
       "      <th></th>\n",
       "      <th></th>\n",
       "      <th></th>\n",
       "      <th></th>\n",
       "      <th></th>\n",
       "      <th></th>\n",
       "      <th></th>\n",
       "      <th></th>\n",
       "      <th></th>\n",
       "      <th></th>\n",
       "      <th></th>\n",
       "      <th></th>\n",
       "      <th></th>\n",
       "      <th></th>\n",
       "      <th></th>\n",
       "    </tr>\n",
       "  </thead>\n",
       "  <tbody>\n",
       "    <tr>\n",
       "      <th>6</th>\n",
       "      <td>2544</td>\n",
       "      <td>2015-01-01</td>\n",
       "      <td>34964</td>\n",
       "      <td>-10.389276</td>\n",
       "      <td>2.88</td>\n",
       "      <td>2.670175</td>\n",
       "      <td>49.0</td>\n",
       "      <td>31.120000</td>\n",
       "      <td>verano</td>\n",
       "      <td>S</td>\n",
       "      <td>N</td>\n",
       "      <td>54.49</td>\n",
       "      <td>1.262878</td>\n",
       "      <td>BA</td>\n",
       "      <td>1</td>\n",
       "      <td>2015</td>\n",
       "    </tr>\n",
       "    <tr>\n",
       "      <th>7</th>\n",
       "      <td>2558</td>\n",
       "      <td>2015-01-01</td>\n",
       "      <td>54217</td>\n",
       "      <td>-14.867094</td>\n",
       "      <td>5.71</td>\n",
       "      <td>2.679233</td>\n",
       "      <td>52.9</td>\n",
       "      <td>26.410909</td>\n",
       "      <td>verano</td>\n",
       "      <td>N</td>\n",
       "      <td>N</td>\n",
       "      <td>50.63</td>\n",
       "      <td>1.164476</td>\n",
       "      <td>BA</td>\n",
       "      <td>1</td>\n",
       "      <td>2015</td>\n",
       "    </tr>\n",
       "    <tr>\n",
       "      <th>8</th>\n",
       "      <td>2761</td>\n",
       "      <td>2015-01-01</td>\n",
       "      <td>36483</td>\n",
       "      <td>-1.227077</td>\n",
       "      <td>6.45</td>\n",
       "      <td>2.750870</td>\n",
       "      <td>49.0</td>\n",
       "      <td>24.359223</td>\n",
       "      <td>verano</td>\n",
       "      <td>N</td>\n",
       "      <td>N</td>\n",
       "      <td>56.12</td>\n",
       "      <td>1.194771</td>\n",
       "      <td>BA</td>\n",
       "      <td>1</td>\n",
       "      <td>2015</td>\n",
       "    </tr>\n",
       "    <tr>\n",
       "      <th>15</th>\n",
       "      <td>2524</td>\n",
       "      <td>2015-01-02</td>\n",
       "      <td>28231</td>\n",
       "      <td>-1.595289</td>\n",
       "      <td>5.90</td>\n",
       "      <td>2.745705</td>\n",
       "      <td>49.0</td>\n",
       "      <td>25.838000</td>\n",
       "      <td>verano</td>\n",
       "      <td>N</td>\n",
       "      <td>N</td>\n",
       "      <td>56.12</td>\n",
       "      <td>1.196094</td>\n",
       "      <td>BA</td>\n",
       "      <td>1</td>\n",
       "      <td>2015</td>\n",
       "    </tr>\n",
       "    <tr>\n",
       "      <th>21</th>\n",
       "      <td>2741</td>\n",
       "      <td>2015-01-04</td>\n",
       "      <td>38912</td>\n",
       "      <td>3.530095</td>\n",
       "      <td>7.35</td>\n",
       "      <td>3.107525</td>\n",
       "      <td>51.0</td>\n",
       "      <td>31.005128</td>\n",
       "      <td>verano</td>\n",
       "      <td>N</td>\n",
       "      <td>N</td>\n",
       "      <td>60.98</td>\n",
       "      <td>1.265246</td>\n",
       "      <td>BA</td>\n",
       "      <td>1</td>\n",
       "      <td>2015</td>\n",
       "    </tr>\n",
       "    <tr>\n",
       "      <th>...</th>\n",
       "      <td>...</td>\n",
       "      <td>...</td>\n",
       "      <td>...</td>\n",
       "      <td>...</td>\n",
       "      <td>...</td>\n",
       "      <td>...</td>\n",
       "      <td>...</td>\n",
       "      <td>...</td>\n",
       "      <td>...</td>\n",
       "      <td>...</td>\n",
       "      <td>...</td>\n",
       "      <td>...</td>\n",
       "      <td>...</td>\n",
       "      <td>...</td>\n",
       "      <td>...</td>\n",
       "      <td>...</td>\n",
       "    </tr>\n",
       "    <tr>\n",
       "      <th>15504</th>\n",
       "      <td>39</td>\n",
       "      <td>2023-04-13</td>\n",
       "      <td>33718</td>\n",
       "      <td>-22.708505</td>\n",
       "      <td>33.10</td>\n",
       "      <td>1.950000</td>\n",
       "      <td>48.0</td>\n",
       "      <td>13.652047</td>\n",
       "      <td>otoño</td>\n",
       "      <td>N</td>\n",
       "      <td>N</td>\n",
       "      <td>40.63</td>\n",
       "      <td>1.018868</td>\n",
       "      <td>ER</td>\n",
       "      <td>4</td>\n",
       "      <td>2023</td>\n",
       "    </tr>\n",
       "    <tr>\n",
       "      <th>15516</th>\n",
       "      <td>405</td>\n",
       "      <td>2023-04-13</td>\n",
       "      <td>17634</td>\n",
       "      <td>-12.533778</td>\n",
       "      <td>4.68</td>\n",
       "      <td>2.870000</td>\n",
       "      <td>49.8</td>\n",
       "      <td>28.772727</td>\n",
       "      <td>otoño</td>\n",
       "      <td>N</td>\n",
       "      <td>N</td>\n",
       "      <td>57.60</td>\n",
       "      <td>1.403813</td>\n",
       "      <td>ER</td>\n",
       "      <td>4</td>\n",
       "      <td>2023</td>\n",
       "    </tr>\n",
       "    <tr>\n",
       "      <th>15543</th>\n",
       "      <td>2344</td>\n",
       "      <td>2023-04-13</td>\n",
       "      <td>28602</td>\n",
       "      <td>-9.467456</td>\n",
       "      <td>4.66</td>\n",
       "      <td>3.000000</td>\n",
       "      <td>51.0</td>\n",
       "      <td>31.529412</td>\n",
       "      <td>otoño</td>\n",
       "      <td>N</td>\n",
       "      <td>N</td>\n",
       "      <td>58.82</td>\n",
       "      <td>1.391753</td>\n",
       "      <td>ER</td>\n",
       "      <td>4</td>\n",
       "      <td>2023</td>\n",
       "    </tr>\n",
       "    <tr>\n",
       "      <th>15535</th>\n",
       "      <td>1743</td>\n",
       "      <td>2023-04-14</td>\n",
       "      <td>38184</td>\n",
       "      <td>-20.298355</td>\n",
       "      <td>4.54</td>\n",
       "      <td>2.570000</td>\n",
       "      <td>47.1</td>\n",
       "      <td>25.771353</td>\n",
       "      <td>otoño</td>\n",
       "      <td>N</td>\n",
       "      <td>N</td>\n",
       "      <td>54.53</td>\n",
       "      <td>1.456835</td>\n",
       "      <td>ER</td>\n",
       "      <td>4</td>\n",
       "      <td>2023</td>\n",
       "    </tr>\n",
       "    <tr>\n",
       "      <th>15574</th>\n",
       "      <td>2503</td>\n",
       "      <td>2020-07-16</td>\n",
       "      <td>23500</td>\n",
       "      <td>-0.991364</td>\n",
       "      <td>6.00</td>\n",
       "      <td>3.100000</td>\n",
       "      <td>50.4</td>\n",
       "      <td>30.366667</td>\n",
       "      <td>invierno</td>\n",
       "      <td>N</td>\n",
       "      <td>N</td>\n",
       "      <td>61.50</td>\n",
       "      <td>1.372881</td>\n",
       "      <td>BA</td>\n",
       "      <td>7</td>\n",
       "      <td>2020</td>\n",
       "    </tr>\n",
       "  </tbody>\n",
       "</table>\n",
       "<p>15571 rows × 16 columns</p>\n",
       "</div>"
      ],
      "text/plain": [
       "        granja Ulto. Levan.  A Faena  % desvío consumo std  % Mortan.  \\\n",
       "Índice                                                                  \n",
       "6         2544   2015-01-01    34964            -10.389276       2.88   \n",
       "7         2558   2015-01-01    54217            -14.867094       5.71   \n",
       "8         2761   2015-01-01    36483             -1.227077       6.45   \n",
       "15        2524   2015-01-02    28231             -1.595289       5.90   \n",
       "21        2741   2015-01-04    38912              3.530095       7.35   \n",
       "...        ...          ...      ...                   ...        ...   \n",
       "15504       39   2023-04-13    33718            -22.708505      33.10   \n",
       "15516      405   2023-04-13    17634            -12.533778       4.68   \n",
       "15543     2344   2023-04-13    28602             -9.467456       4.66   \n",
       "15535     1743   2023-04-14    38184            -20.298355       4.54   \n",
       "15574     2503   2020-07-16    23500             -0.991364       6.00   \n",
       "\n",
       "        P. Prom.  Edad  kg pollo/m2 Estación del año Ventilación forzada  \\\n",
       "Índice                                                                     \n",
       "6       2.670175  49.0    31.120000           verano                   S   \n",
       "7       2.679233  52.9    26.410909           verano                   N   \n",
       "8       2.750870  49.0    24.359223           verano                   N   \n",
       "15      2.745705  49.0    25.838000           verano                   N   \n",
       "21      3.107525  51.0    31.005128           verano                   N   \n",
       "...          ...   ...          ...              ...                 ...   \n",
       "15504   1.950000  48.0    13.652047            otoño                   N   \n",
       "15516   2.870000  49.8    28.772727            otoño                   N   \n",
       "15543   3.000000  51.0    31.529412            otoño                   N   \n",
       "15535   2.570000  47.1    25.771353            otoño                   N   \n",
       "15574   3.100000  50.4    30.366667         invierno                   N   \n",
       "\n",
       "       Ambiente controlado   A.D.  Pes conv 2,7 zona prod  mes levante  \\\n",
       "Índice                                                                   \n",
       "6                        N  54.49      1.262878        BA            1   \n",
       "7                        N  50.63      1.164476        BA            1   \n",
       "8                        N  56.12      1.194771        BA            1   \n",
       "15                       N  56.12      1.196094        BA            1   \n",
       "21                       N  60.98      1.265246        BA            1   \n",
       "...                    ...    ...           ...       ...          ...   \n",
       "15504                    N  40.63      1.018868        ER            4   \n",
       "15516                    N  57.60      1.403813        ER            4   \n",
       "15543                    N  58.82      1.391753        ER            4   \n",
       "15535                    N  54.53      1.456835        ER            4   \n",
       "15574                    N  61.50      1.372881        BA            7   \n",
       "\n",
       "        año levante  \n",
       "Índice               \n",
       "6              2015  \n",
       "7              2015  \n",
       "8              2015  \n",
       "15             2015  \n",
       "21             2015  \n",
       "...             ...  \n",
       "15504          2023  \n",
       "15516          2023  \n",
       "15543          2023  \n",
       "15535          2023  \n",
       "15574          2020  \n",
       "\n",
       "[15571 rows x 16 columns]"
      ]
     },
     "execution_count": 99,
     "metadata": {},
     "output_type": "execute_result"
    }
   ],
   "source": [
    "dfv.set_index('Índice')\n"
   ]
  },
  {
   "cell_type": "code",
   "execution_count": 100,
   "id": "1019c611",
   "metadata": {},
   "outputs": [
    {
     "data": {
      "image/png": "[encoded data removed]",
      "text/plain": [
       "<Figure size 640x480 with 1 Axes>"
      ]
     },
     "metadata": {},
     "output_type": "display_data"
    }
   ],
   "source": [
    "# Datos\n",
    "serie1 =  dfv.loc[dfv['Ventilación forzada'] == 'N' ,'A.D.']\n",
    "serie2 =  dfv.loc[dfv['Ventilación forzada'] == 'S' ,'A.D.']\n",
    "serie3 =  dfv.loc[dfv['Ventilación forzada'] == 'MI' ,'A.D.']\n",
    "\n",
    "# Crear histograma\n",
    "plt.hist([serie1, serie2, serie3], bins=30, density= True, color=['green', 'red','blue'], alpha=0.4)\n",
    "\n",
    "# Personalizar el gráfico\n",
    "plt.title('Ganancia de peso por tipo de ventilación')\n",
    "plt.xlabel('Ganancia de peso (gramos/día)')\n",
    "plt.ylabel('Resultados de ganancia de peso')\n",
    "plt.legend(['N', 'S','MI'])\n",
    "\n",
    "# Mostrar el gráfico\n",
    "plt.show()"
   ]
  },
  {
   "cell_type": "markdown",
   "id": "3127ee9a",
   "metadata": {},
   "source": [
    "En el gráfico se observa que los valores de ganancia de peso de los tres sistemas tienen una distribución normal y que el sistema convencional logra menores ganancias de peso que los sistemas de ventilación forzada y mixto.La distribución de los datos de las granjas convencionales se encuentra desplazada hacia la izquierda, es decir hacia valores menores de ganancia. Su promedio se ubica alrededor de los 56 gramos/días mientras que el promedio de las granjas de ventilación forzada está alrededor de los 60 gramos/día."
   ]
  },
  {
   "cell_type": "code",
   "execution_count": 101,
   "id": "3ecf1e96",
   "metadata": {},
   "outputs": [
    {
     "data": {
      "text/html": [
       "<div>\n",
       "<style scoped>\n",
       "    .dataframe tbody tr th:only-of-type {\n",
       "        vertical-align: middle;\n",
       "    }\n",
       "\n",
       "    .dataframe tbody tr th {\n",
       "        vertical-align: top;\n",
       "    }\n",
       "\n",
       "    .dataframe thead th {\n",
       "        text-align: right;\n",
       "    }\n",
       "</style>\n",
       "<table border=\"1\" class=\"dataframe\">\n",
       "  <thead>\n",
       "    <tr style=\"text-align: right;\">\n",
       "      <th></th>\n",
       "      <th>Ventilación forzada</th>\n",
       "      <th>A.D.</th>\n",
       "    </tr>\n",
       "  </thead>\n",
       "  <tbody>\n",
       "    <tr>\n",
       "      <th>0</th>\n",
       "      <td>MI</td>\n",
       "      <td>58.863315</td>\n",
       "    </tr>\n",
       "    <tr>\n",
       "      <th>1</th>\n",
       "      <td>N</td>\n",
       "      <td>56.731565</td>\n",
       "    </tr>\n",
       "    <tr>\n",
       "      <th>2</th>\n",
       "      <td>S</td>\n",
       "      <td>60.130626</td>\n",
       "    </tr>\n",
       "  </tbody>\n",
       "</table>\n",
       "</div>"
      ],
      "text/plain": [
       "  Ventilación forzada       A.D.\n",
       "0                  MI  58.863315\n",
       "1                   N  56.731565\n",
       "2                   S  60.130626"
      ]
     },
     "execution_count": 101,
     "metadata": {},
     "output_type": "execute_result"
    }
   ],
   "source": [
    "dfv_a= dfv.groupby('Ventilación forzada')['A.D.'].mean().reset_index()\n",
    "dfv_a.set_index('Ventilación forzada')\n",
    "dfv_a"
   ]
  },
  {
   "cell_type": "code",
   "execution_count": 102,
   "id": "e0e28928",
   "metadata": {},
   "outputs": [
    {
     "data": {
      "text/plain": [
       "[Text(0.5, 1.0, 'Ganancia diaria de peso por sistema de ventilación')]"
      ]
     },
     "execution_count": 102,
     "metadata": {},
     "output_type": "execute_result"
    },
    {
     "data": {
      "image/png": "[encoded data removed]",
      "text/plain": [
       "<Figure size 640x480 with 1 Axes>"
      ]
     },
     "metadata": {},
     "output_type": "display_data"
    }
   ],
   "source": [
    "# Gráfico\n",
    "ax=sns.barplot(data=dfv_a, x='Ventilación forzada',y='A.D.', order=['N','S','MI'], palette=['green', 'red','blue']) \n",
    "ax.bar_label(ax.containers[0])\n",
    "ax.set(ylim=(40, 70))\n",
    "ax.set(title='Ganancia diaria de peso por sistema de ventilación')"
   ]
  },
  {
   "cell_type": "markdown",
   "id": "4e8f0578",
   "metadata": {},
   "source": [
    "Habría indicios de que el sistema de ventilación tiene impacto sobre la ganancia de peso de los animales."
   ]
  },
  {
   "cell_type": "code",
   "execution_count": 103,
   "id": "db370bc2",
   "metadata": {},
   "outputs": [],
   "source": [
    "#Genero un dataframe con los datos filtrados para la localidad de Concepción del Uruguay y fechas para los que se tienen valores de temperaturas\n",
    "dfCDU_2=df[['Índice','granja','Ulto. Levan.','A Faena','% desvío consumo std','% Mortan.','P. Prom.','Edad','kg pollo/m2','Estación del año','Ventilación forzada','Ambiente controlado','A.D.','Pes conv 2,7','zona prod','mes levante','año levante','zona climática']]"
   ]
  },
  {
   "cell_type": "code",
   "execution_count": 105,
   "id": "2d4c50b8",
   "metadata": {},
   "outputs": [],
   "source": [
    "dfCDU_3=dfCDU_2[(dfCDU_2['Ulto. Levan.']>'2019-12-31' ) & (dfCDU_2['Ulto. Levan.']<'2023-04-01')]\n"
   ]
  },
  {
   "cell_type": "code",
   "execution_count": 108,
   "id": "b7a663e2",
   "metadata": {},
   "outputs": [
    {
     "data": {
      "text/html": [
       "<div>\n",
       "<style scoped>\n",
       "    .dataframe tbody tr th:only-of-type {\n",
       "        vertical-align: middle;\n",
       "    }\n",
       "\n",
       "    .dataframe tbody tr th {\n",
       "        vertical-align: top;\n",
       "    }\n",
       "\n",
       "    .dataframe thead th {\n",
       "        text-align: right;\n",
       "    }\n",
       "</style>\n",
       "<table border=\"1\" class=\"dataframe\">\n",
       "  <thead>\n",
       "    <tr style=\"text-align: right;\">\n",
       "      <th></th>\n",
       "      <th>time</th>\n",
       "      <th>temperature_2m_max</th>\n",
       "      <th>temperature_2m_min</th>\n",
       "      <th>precipitation_sum</th>\n",
       "      <th>Índice</th>\n",
       "      <th>granja</th>\n",
       "      <th>Ulto. Levan.</th>\n",
       "      <th>A Faena</th>\n",
       "      <th>% desvío consumo std</th>\n",
       "      <th>% Mortan.</th>\n",
       "      <th>...</th>\n",
       "      <th>kg pollo/m2</th>\n",
       "      <th>Estación del año</th>\n",
       "      <th>Ventilación forzada</th>\n",
       "      <th>Ambiente controlado</th>\n",
       "      <th>A.D.</th>\n",
       "      <th>Pes conv 2,7</th>\n",
       "      <th>zona prod</th>\n",
       "      <th>mes levante</th>\n",
       "      <th>año levante</th>\n",
       "      <th>zona climática</th>\n",
       "    </tr>\n",
       "  </thead>\n",
       "  <tbody>\n",
       "    <tr>\n",
       "      <th>0</th>\n",
       "      <td>2020-01-01</td>\n",
       "      <td>26.1</td>\n",
       "      <td>20.8</td>\n",
       "      <td>0.0</td>\n",
       "      <td>9244</td>\n",
       "      <td>107</td>\n",
       "      <td>2020-01-01</td>\n",
       "      <td>23255</td>\n",
       "      <td>-3.957466</td>\n",
       "      <td>6.23</td>\n",
       "      <td>...</td>\n",
       "      <td>22.817778</td>\n",
       "      <td>verano</td>\n",
       "      <td>N</td>\n",
       "      <td>N</td>\n",
       "      <td>55.25</td>\n",
       "      <td>1.321370</td>\n",
       "      <td>ER</td>\n",
       "      <td>1</td>\n",
       "      <td>2020</td>\n",
       "      <td>otra ER</td>\n",
       "    </tr>\n",
       "    <tr>\n",
       "      <th>1</th>\n",
       "      <td>2020-01-01</td>\n",
       "      <td>26.1</td>\n",
       "      <td>20.8</td>\n",
       "      <td>0.0</td>\n",
       "      <td>9245</td>\n",
       "      <td>351</td>\n",
       "      <td>2020-01-01</td>\n",
       "      <td>10368</td>\n",
       "      <td>-7.039973</td>\n",
       "      <td>9.84</td>\n",
       "      <td>...</td>\n",
       "      <td>20.086957</td>\n",
       "      <td>verano</td>\n",
       "      <td>N</td>\n",
       "      <td>N</td>\n",
       "      <td>51.03</td>\n",
       "      <td>1.170520</td>\n",
       "      <td>ER</td>\n",
       "      <td>1</td>\n",
       "      <td>2020</td>\n",
       "      <td>otra ER</td>\n",
       "    </tr>\n",
       "    <tr>\n",
       "      <th>2</th>\n",
       "      <td>2020-01-01</td>\n",
       "      <td>26.1</td>\n",
       "      <td>20.8</td>\n",
       "      <td>0.0</td>\n",
       "      <td>9246</td>\n",
       "      <td>405</td>\n",
       "      <td>2020-01-01</td>\n",
       "      <td>10549</td>\n",
       "      <td>34.718920</td>\n",
       "      <td>37.95</td>\n",
       "      <td>...</td>\n",
       "      <td>17.886364</td>\n",
       "      <td>verano</td>\n",
       "      <td>N</td>\n",
       "      <td>N</td>\n",
       "      <td>58.43</td>\n",
       "      <td>0.904018</td>\n",
       "      <td>ER</td>\n",
       "      <td>1</td>\n",
       "      <td>2020</td>\n",
       "      <td>otra ER</td>\n",
       "    </tr>\n",
       "    <tr>\n",
       "      <th>3</th>\n",
       "      <td>2020-01-01</td>\n",
       "      <td>26.1</td>\n",
       "      <td>20.8</td>\n",
       "      <td>0.0</td>\n",
       "      <td>9247</td>\n",
       "      <td>1409</td>\n",
       "      <td>2020-01-01</td>\n",
       "      <td>12096</td>\n",
       "      <td>-11.679734</td>\n",
       "      <td>10.40</td>\n",
       "      <td>...</td>\n",
       "      <td>21.913043</td>\n",
       "      <td>verano</td>\n",
       "      <td>N</td>\n",
       "      <td>N</td>\n",
       "      <td>50.11</td>\n",
       "      <td>1.200000</td>\n",
       "      <td>ER</td>\n",
       "      <td>1</td>\n",
       "      <td>2020</td>\n",
       "      <td>otra ER</td>\n",
       "    </tr>\n",
       "    <tr>\n",
       "      <th>4</th>\n",
       "      <td>2020-01-01</td>\n",
       "      <td>26.1</td>\n",
       "      <td>20.8</td>\n",
       "      <td>0.0</td>\n",
       "      <td>9248</td>\n",
       "      <td>1837</td>\n",
       "      <td>2020-01-01</td>\n",
       "      <td>44696</td>\n",
       "      <td>-7.923694</td>\n",
       "      <td>5.90</td>\n",
       "      <td>...</td>\n",
       "      <td>32.346325</td>\n",
       "      <td>verano</td>\n",
       "      <td>N</td>\n",
       "      <td>N</td>\n",
       "      <td>57.71</td>\n",
       "      <td>1.345515</td>\n",
       "      <td>ER</td>\n",
       "      <td>1</td>\n",
       "      <td>2020</td>\n",
       "      <td>C. del Uruguay</td>\n",
       "    </tr>\n",
       "  </tbody>\n",
       "</table>\n",
       "<p>5 rows × 22 columns</p>\n",
       "</div>"
      ],
      "text/plain": [
       "        time  temperature_2m_max  temperature_2m_min  precipitation_sum  \\\n",
       "0 2020-01-01                26.1                20.8                0.0   \n",
       "1 2020-01-01                26.1                20.8                0.0   \n",
       "2 2020-01-01                26.1                20.8                0.0   \n",
       "3 2020-01-01                26.1                20.8                0.0   \n",
       "4 2020-01-01                26.1                20.8                0.0   \n",
       "\n",
       "   Índice  granja Ulto. Levan.  A Faena  % desvío consumo std  % Mortan.  ...  \\\n",
       "0    9244     107   2020-01-01    23255             -3.957466       6.23  ...   \n",
       "1    9245     351   2020-01-01    10368             -7.039973       9.84  ...   \n",
       "2    9246     405   2020-01-01    10549             34.718920      37.95  ...   \n",
       "3    9247    1409   2020-01-01    12096            -11.679734      10.40  ...   \n",
       "4    9248    1837   2020-01-01    44696             -7.923694       5.90  ...   \n",
       "\n",
       "   kg pollo/m2  Estación del año  Ventilación forzada Ambiente controlado  \\\n",
       "0    22.817778            verano                    N                   N   \n",
       "1    20.086957            verano                    N                   N   \n",
       "2    17.886364            verano                    N                   N   \n",
       "3    21.913043            verano                    N                   N   \n",
       "4    32.346325            verano                    N                   N   \n",
       "\n",
       "    A.D. Pes conv 2,7  zona prod  mes levante año levante  zona climática  \n",
       "0  55.25     1.321370         ER            1        2020         otra ER  \n",
       "1  51.03     1.170520         ER            1        2020         otra ER  \n",
       "2  58.43     0.904018         ER            1        2020         otra ER  \n",
       "3  50.11     1.200000         ER            1        2020         otra ER  \n",
       "4  57.71     1.345515         ER            1        2020  C. del Uruguay  \n",
       "\n",
       "[5 rows x 22 columns]"
      ]
     },
     "execution_count": 108,
     "metadata": {},
     "output_type": "execute_result"
    }
   ],
   "source": [
    "#Unifico los dos dataframes generados: datos climáticos y datos productivos de la zona de Concepción del Uruguay en Entre Ríos\n",
    "df_U=pd.merge(dfc, dfCDU_3, left_on='time', right_on='Ulto. Levan.')\n",
    "df_U.head()"
   ]
  },
  {
   "cell_type": "code",
   "execution_count": 109,
   "id": "dbfa7d3a",
   "metadata": {},
   "outputs": [
    {
     "data": {
      "text/html": [
       "<div>\n",
       "<style scoped>\n",
       "    .dataframe tbody tr th:only-of-type {\n",
       "        vertical-align: middle;\n",
       "    }\n",
       "\n",
       "    .dataframe tbody tr th {\n",
       "        vertical-align: top;\n",
       "    }\n",
       "\n",
       "    .dataframe thead th {\n",
       "        text-align: right;\n",
       "    }\n",
       "</style>\n",
       "<table border=\"1\" class=\"dataframe\">\n",
       "  <thead>\n",
       "    <tr style=\"text-align: right;\">\n",
       "      <th></th>\n",
       "      <th>año levante</th>\n",
       "      <th>mes levante</th>\n",
       "      <th>temperature_2m_max</th>\n",
       "      <th>A.D.</th>\n",
       "      <th>Ventilación forzada</th>\n",
       "    </tr>\n",
       "  </thead>\n",
       "  <tbody>\n",
       "    <tr>\n",
       "      <th>0</th>\n",
       "      <td>2020</td>\n",
       "      <td>1</td>\n",
       "      <td>26.1</td>\n",
       "      <td>55.25</td>\n",
       "      <td>N</td>\n",
       "    </tr>\n",
       "    <tr>\n",
       "      <th>1</th>\n",
       "      <td>2020</td>\n",
       "      <td>1</td>\n",
       "      <td>26.1</td>\n",
       "      <td>51.03</td>\n",
       "      <td>N</td>\n",
       "    </tr>\n",
       "    <tr>\n",
       "      <th>2</th>\n",
       "      <td>2020</td>\n",
       "      <td>1</td>\n",
       "      <td>26.1</td>\n",
       "      <td>58.43</td>\n",
       "      <td>N</td>\n",
       "    </tr>\n",
       "    <tr>\n",
       "      <th>3</th>\n",
       "      <td>2020</td>\n",
       "      <td>1</td>\n",
       "      <td>26.1</td>\n",
       "      <td>50.11</td>\n",
       "      <td>N</td>\n",
       "    </tr>\n",
       "    <tr>\n",
       "      <th>4</th>\n",
       "      <td>2020</td>\n",
       "      <td>1</td>\n",
       "      <td>26.1</td>\n",
       "      <td>57.71</td>\n",
       "      <td>N</td>\n",
       "    </tr>\n",
       "  </tbody>\n",
       "</table>\n",
       "</div>"
      ],
      "text/plain": [
       "   año levante  mes levante  temperature_2m_max   A.D. Ventilación forzada\n",
       "0         2020            1                26.1  55.25                   N\n",
       "1         2020            1                26.1  51.03                   N\n",
       "2         2020            1                26.1  58.43                   N\n",
       "3         2020            1                26.1  50.11                   N\n",
       "4         2020            1                26.1  57.71                   N"
      ]
     },
     "execution_count": 109,
     "metadata": {},
     "output_type": "execute_result"
    }
   ],
   "source": [
    "df_U2=df_U[['año levante','mes levante','temperature_2m_max','A.D.','Ventilación forzada']]\n",
    "df_U2.head()"
   ]
  },
  {
   "cell_type": "code",
   "execution_count": 110,
   "id": "331a4a31",
   "metadata": {},
   "outputs": [
    {
     "data": {
      "text/html": [
       "<div>\n",
       "<style scoped>\n",
       "    .dataframe tbody tr th:only-of-type {\n",
       "        vertical-align: middle;\n",
       "    }\n",
       "\n",
       "    .dataframe tbody tr th {\n",
       "        vertical-align: top;\n",
       "    }\n",
       "\n",
       "    .dataframe thead th {\n",
       "        text-align: right;\n",
       "    }\n",
       "</style>\n",
       "<table border=\"1\" class=\"dataframe\">\n",
       "  <thead>\n",
       "    <tr style=\"text-align: right;\">\n",
       "      <th></th>\n",
       "      <th>año levante</th>\n",
       "      <th>mes levante</th>\n",
       "      <th>Ventilación forzada</th>\n",
       "      <th>temperature_2m_max</th>\n",
       "      <th>A.D.</th>\n",
       "    </tr>\n",
       "  </thead>\n",
       "  <tbody>\n",
       "    <tr>\n",
       "      <th>0</th>\n",
       "      <td>2020</td>\n",
       "      <td>1</td>\n",
       "      <td>MI</td>\n",
       "      <td>28.471429</td>\n",
       "      <td>59.065714</td>\n",
       "    </tr>\n",
       "    <tr>\n",
       "      <th>1</th>\n",
       "      <td>2020</td>\n",
       "      <td>1</td>\n",
       "      <td>N</td>\n",
       "      <td>28.930573</td>\n",
       "      <td>56.057452</td>\n",
       "    </tr>\n",
       "    <tr>\n",
       "      <th>2</th>\n",
       "      <td>2020</td>\n",
       "      <td>1</td>\n",
       "      <td>S</td>\n",
       "      <td>28.877273</td>\n",
       "      <td>60.679545</td>\n",
       "    </tr>\n",
       "    <tr>\n",
       "      <th>3</th>\n",
       "      <td>2020</td>\n",
       "      <td>2</td>\n",
       "      <td>MI</td>\n",
       "      <td>30.137500</td>\n",
       "      <td>56.728750</td>\n",
       "    </tr>\n",
       "    <tr>\n",
       "      <th>4</th>\n",
       "      <td>2020</td>\n",
       "      <td>2</td>\n",
       "      <td>N</td>\n",
       "      <td>28.905600</td>\n",
       "      <td>54.731760</td>\n",
       "    </tr>\n",
       "  </tbody>\n",
       "</table>\n",
       "</div>"
      ],
      "text/plain": [
       "   año levante  mes levante Ventilación forzada  temperature_2m_max       A.D.\n",
       "0         2020            1                  MI           28.471429  59.065714\n",
       "1         2020            1                   N           28.930573  56.057452\n",
       "2         2020            1                   S           28.877273  60.679545\n",
       "3         2020            2                  MI           30.137500  56.728750\n",
       "4         2020            2                   N           28.905600  54.731760"
      ]
     },
     "execution_count": 110,
     "metadata": {},
     "output_type": "execute_result"
    }
   ],
   "source": [
    "df_U2=df_U2.groupby(['año levante','mes levante','Ventilación forzada']).mean().reset_index()\n",
    "df_U2.head()"
   ]
  },
  {
   "cell_type": "code",
   "execution_count": 117,
   "id": "fb538751",
   "metadata": {},
   "outputs": [
    {
     "data": {
      "text/plain": [
       "<seaborn.axisgrid.FacetGrid at 0x1d88cc40fa0>"
      ]
     },
     "execution_count": 117,
     "metadata": {},
     "output_type": "execute_result"
    },
    {
     "data": {
      "image/png": "[encoded data removed]",
      "text/plain": [
       "<Figure size 444.486x300 with 1 Axes>"
      ]
     },
     "metadata": {},
     "output_type": "display_data"
    }
   ],
   "source": [
    "# Gráfico\n",
    "ax=sns.FacetGrid(df_U2,hue='Ventilación forzada').map(plt.scatter,'temperature_2m_max','A.D.').add_legend()\n",
    "\n",
    "ax.set(title='Ganancia de peso y temperatura máxima por tipo de granja')"
   ]
  },
  {
   "cell_type": "code",
   "execution_count": 122,
   "id": "aab7a741",
   "metadata": {},
   "outputs": [
    {
     "data": {
      "text/html": [
       "<div>\n",
       "<style scoped>\n",
       "    .dataframe tbody tr th:only-of-type {\n",
       "        vertical-align: middle;\n",
       "    }\n",
       "\n",
       "    .dataframe tbody tr th {\n",
       "        vertical-align: top;\n",
       "    }\n",
       "\n",
       "    .dataframe thead th {\n",
       "        text-align: right;\n",
       "    }\n",
       "</style>\n",
       "<table border=\"1\" class=\"dataframe\">\n",
       "  <thead>\n",
       "    <tr style=\"text-align: right;\">\n",
       "      <th></th>\n",
       "      <th>año levante</th>\n",
       "      <th>mes levante</th>\n",
       "      <th>temperature_2m_min</th>\n",
       "      <th>A.D.</th>\n",
       "      <th>Ventilación forzada</th>\n",
       "    </tr>\n",
       "  </thead>\n",
       "  <tbody>\n",
       "    <tr>\n",
       "      <th>0</th>\n",
       "      <td>2020</td>\n",
       "      <td>1</td>\n",
       "      <td>20.8</td>\n",
       "      <td>55.25</td>\n",
       "      <td>N</td>\n",
       "    </tr>\n",
       "    <tr>\n",
       "      <th>1</th>\n",
       "      <td>2020</td>\n",
       "      <td>1</td>\n",
       "      <td>20.8</td>\n",
       "      <td>51.03</td>\n",
       "      <td>N</td>\n",
       "    </tr>\n",
       "    <tr>\n",
       "      <th>2</th>\n",
       "      <td>2020</td>\n",
       "      <td>1</td>\n",
       "      <td>20.8</td>\n",
       "      <td>58.43</td>\n",
       "      <td>N</td>\n",
       "    </tr>\n",
       "    <tr>\n",
       "      <th>3</th>\n",
       "      <td>2020</td>\n",
       "      <td>1</td>\n",
       "      <td>20.8</td>\n",
       "      <td>50.11</td>\n",
       "      <td>N</td>\n",
       "    </tr>\n",
       "    <tr>\n",
       "      <th>4</th>\n",
       "      <td>2020</td>\n",
       "      <td>1</td>\n",
       "      <td>20.8</td>\n",
       "      <td>57.71</td>\n",
       "      <td>N</td>\n",
       "    </tr>\n",
       "  </tbody>\n",
       "</table>\n",
       "</div>"
      ],
      "text/plain": [
       "   año levante  mes levante  temperature_2m_min   A.D. Ventilación forzada\n",
       "0         2020            1                20.8  55.25                   N\n",
       "1         2020            1                20.8  51.03                   N\n",
       "2         2020            1                20.8  58.43                   N\n",
       "3         2020            1                20.8  50.11                   N\n",
       "4         2020            1                20.8  57.71                   N"
      ]
     },
     "execution_count": 122,
     "metadata": {},
     "output_type": "execute_result"
    }
   ],
   "source": [
    "df_U3=df_U[['año levante','mes levante','temperature_2m_min','A.D.','Ventilación forzada']]\n",
    "df_U3.head()"
   ]
  },
  {
   "cell_type": "code",
   "execution_count": 123,
   "id": "c88cf301",
   "metadata": {},
   "outputs": [
    {
     "data": {
      "text/html": [
       "<div>\n",
       "<style scoped>\n",
       "    .dataframe tbody tr th:only-of-type {\n",
       "        vertical-align: middle;\n",
       "    }\n",
       "\n",
       "    .dataframe tbody tr th {\n",
       "        vertical-align: top;\n",
       "    }\n",
       "\n",
       "    .dataframe thead th {\n",
       "        text-align: right;\n",
       "    }\n",
       "</style>\n",
       "<table border=\"1\" class=\"dataframe\">\n",
       "  <thead>\n",
       "    <tr style=\"text-align: right;\">\n",
       "      <th></th>\n",
       "      <th>año levante</th>\n",
       "      <th>mes levante</th>\n",
       "      <th>Ventilación forzada</th>\n",
       "      <th>temperature_2m_min</th>\n",
       "      <th>A.D.</th>\n",
       "    </tr>\n",
       "  </thead>\n",
       "  <tbody>\n",
       "    <tr>\n",
       "      <th>0</th>\n",
       "      <td>2020</td>\n",
       "      <td>1</td>\n",
       "      <td>MI</td>\n",
       "      <td>19.828571</td>\n",
       "      <td>59.065714</td>\n",
       "    </tr>\n",
       "    <tr>\n",
       "      <th>1</th>\n",
       "      <td>2020</td>\n",
       "      <td>1</td>\n",
       "      <td>N</td>\n",
       "      <td>19.871975</td>\n",
       "      <td>56.057452</td>\n",
       "    </tr>\n",
       "    <tr>\n",
       "      <th>2</th>\n",
       "      <td>2020</td>\n",
       "      <td>1</td>\n",
       "      <td>S</td>\n",
       "      <td>19.818182</td>\n",
       "      <td>60.679545</td>\n",
       "    </tr>\n",
       "    <tr>\n",
       "      <th>3</th>\n",
       "      <td>2020</td>\n",
       "      <td>2</td>\n",
       "      <td>MI</td>\n",
       "      <td>20.687500</td>\n",
       "      <td>56.728750</td>\n",
       "    </tr>\n",
       "    <tr>\n",
       "      <th>4</th>\n",
       "      <td>2020</td>\n",
       "      <td>2</td>\n",
       "      <td>N</td>\n",
       "      <td>18.788000</td>\n",
       "      <td>54.731760</td>\n",
       "    </tr>\n",
       "  </tbody>\n",
       "</table>\n",
       "</div>"
      ],
      "text/plain": [
       "   año levante  mes levante Ventilación forzada  temperature_2m_min       A.D.\n",
       "0         2020            1                  MI           19.828571  59.065714\n",
       "1         2020            1                   N           19.871975  56.057452\n",
       "2         2020            1                   S           19.818182  60.679545\n",
       "3         2020            2                  MI           20.687500  56.728750\n",
       "4         2020            2                   N           18.788000  54.731760"
      ]
     },
     "execution_count": 123,
     "metadata": {},
     "output_type": "execute_result"
    }
   ],
   "source": [
    "df_U3=df_U3.groupby(['año levante','mes levante','Ventilación forzada']).mean().reset_index()\n",
    "df_U3.head()"
   ]
  },
  {
   "cell_type": "code",
   "execution_count": 124,
   "id": "df812e53",
   "metadata": {},
   "outputs": [
    {
     "data": {
      "text/plain": [
       "<seaborn.axisgrid.FacetGrid at 0x1d88e10a340>"
      ]
     },
     "execution_count": 124,
     "metadata": {},
     "output_type": "execute_result"
    },
    {
     "data": {
      "image/png": "[encoded data removed]",
      "text/plain": [
       "<Figure size 444.486x300 with 1 Axes>"
      ]
     },
     "metadata": {},
     "output_type": "display_data"
    }
   ],
   "source": [
    "# Gráfico\n",
    "ax=sns.FacetGrid(df_U3,hue='Ventilación forzada').map(plt.scatter,'temperature_2m_min','A.D.').add_legend()\n",
    "\n",
    "ax.set(title='Ganancia de peso y temperatura mínima por tipo de granja')"
   ]
  },
  {
   "cell_type": "markdown",
   "id": "91a43da7",
   "metadata": {},
   "source": [
    "Los gráficos de correlación entre la ganancia de peso y las temperaturas máximas y mínimas diarias no muestran ninguna relación entre estas variables y tampoco en relación al sistema de ventilación."
   ]
  },
  {
   "cell_type": "code",
   "execution_count": 125,
   "id": "0fa3d6e2",
   "metadata": {},
   "outputs": [
    {
     "data": {
      "text/html": [
       "<div>\n",
       "<style scoped>\n",
       "    .dataframe tbody tr th:only-of-type {\n",
       "        vertical-align: middle;\n",
       "    }\n",
       "\n",
       "    .dataframe tbody tr th {\n",
       "        vertical-align: top;\n",
       "    }\n",
       "\n",
       "    .dataframe thead th {\n",
       "        text-align: right;\n",
       "    }\n",
       "</style>\n",
       "<table border=\"1\" class=\"dataframe\">\n",
       "  <thead>\n",
       "    <tr style=\"text-align: right;\">\n",
       "      <th></th>\n",
       "      <th>A.D.</th>\n",
       "      <th>zona prod</th>\n",
       "    </tr>\n",
       "  </thead>\n",
       "  <tbody>\n",
       "    <tr>\n",
       "      <th>0</th>\n",
       "      <td>54.49</td>\n",
       "      <td>BA</td>\n",
       "    </tr>\n",
       "    <tr>\n",
       "      <th>1</th>\n",
       "      <td>50.63</td>\n",
       "      <td>BA</td>\n",
       "    </tr>\n",
       "    <tr>\n",
       "      <th>2</th>\n",
       "      <td>56.12</td>\n",
       "      <td>BA</td>\n",
       "    </tr>\n",
       "    <tr>\n",
       "      <th>3</th>\n",
       "      <td>56.12</td>\n",
       "      <td>BA</td>\n",
       "    </tr>\n",
       "    <tr>\n",
       "      <th>4</th>\n",
       "      <td>60.98</td>\n",
       "      <td>BA</td>\n",
       "    </tr>\n",
       "  </tbody>\n",
       "</table>\n",
       "</div>"
      ],
      "text/plain": [
       "    A.D. zona prod\n",
       "0  54.49        BA\n",
       "1  50.63        BA\n",
       "2  56.12        BA\n",
       "3  56.12        BA\n",
       "4  60.98        BA"
      ]
     },
     "execution_count": 125,
     "metadata": {},
     "output_type": "execute_result"
    }
   ],
   "source": [
    "df_4=df[['A.D.','zona prod']]\n",
    "df_4.head()"
   ]
  },
  {
   "cell_type": "code",
   "execution_count": 128,
   "id": "b3d99e2e",
   "metadata": {},
   "outputs": [
    {
     "data": {
      "text/html": [
       "<div>\n",
       "<style scoped>\n",
       "    .dataframe tbody tr th:only-of-type {\n",
       "        vertical-align: middle;\n",
       "    }\n",
       "\n",
       "    .dataframe tbody tr th {\n",
       "        vertical-align: top;\n",
       "    }\n",
       "\n",
       "    .dataframe thead th {\n",
       "        text-align: right;\n",
       "    }\n",
       "</style>\n",
       "<table border=\"1\" class=\"dataframe\">\n",
       "  <thead>\n",
       "    <tr style=\"text-align: right;\">\n",
       "      <th></th>\n",
       "      <th>zona prod</th>\n",
       "      <th>A.D.</th>\n",
       "    </tr>\n",
       "  </thead>\n",
       "  <tbody>\n",
       "    <tr>\n",
       "      <th>0</th>\n",
       "      <td>BA</td>\n",
       "      <td>58.63</td>\n",
       "    </tr>\n",
       "    <tr>\n",
       "      <th>1</th>\n",
       "      <td>CR</td>\n",
       "      <td>60.43</td>\n",
       "    </tr>\n",
       "    <tr>\n",
       "      <th>2</th>\n",
       "      <td>ER</td>\n",
       "      <td>56.43</td>\n",
       "    </tr>\n",
       "  </tbody>\n",
       "</table>\n",
       "</div>"
      ],
      "text/plain": [
       "  zona prod   A.D.\n",
       "0        BA  58.63\n",
       "1        CR  60.43\n",
       "2        ER  56.43"
      ]
     },
     "execution_count": 128,
     "metadata": {},
     "output_type": "execute_result"
    }
   ],
   "source": [
    "df_4=df_4.groupby(['zona prod']).mean().reset_index().round(2)\n",
    "\n",
    "df_4"
   ]
  },
  {
   "cell_type": "code",
   "execution_count": 129,
   "id": "939848ca",
   "metadata": {},
   "outputs": [
    {
     "data": {
      "text/plain": [
       "[Text(0.5, 1.0, 'Ganancia diaria de peso por zona de producción')]"
      ]
     },
     "execution_count": 129,
     "metadata": {},
     "output_type": "execute_result"
    },
    {
     "data": {
      "image/png": "[encoded data removed]",
      "text/plain": [
       "<Figure size 640x480 with 1 Axes>"
      ]
     },
     "metadata": {},
     "output_type": "display_data"
    }
   ],
   "source": [
    "# Gráfico\n",
    "ax=sns.barplot(data=df_4, x='zona prod',y='A.D.') \n",
    "ax.bar_label(ax.containers[0])\n",
    "ax.set(ylim=(40, 70))\n",
    "ax.set(title='Ganancia diaria de peso por zona de producción')"
   ]
  },
  {
   "cell_type": "markdown",
   "id": "b49b0952",
   "metadata": {},
   "source": [
    "A nivel de promedios, hay diferencias entre las zonas del país donde se encuentran ubicadas las granjas."
   ]
  },
  {
   "cell_type": "code",
   "execution_count": 136,
   "id": "0e21d143",
   "metadata": {
    "scrolled": true
   },
   "outputs": [
    {
     "data": {
      "text/plain": [
       "[Text(0.5, 1.0, 'Ganancia diaria de peso por zona de producción')]"
      ]
     },
     "execution_count": 136,
     "metadata": {},
     "output_type": "execute_result"
    },
    {
     "data": {
      "image/png": "[encoded data removed]",
      "text/plain": [
       "<Figure size 640x480 with 1 Axes>"
      ]
     },
     "metadata": {},
     "output_type": "display_data"
    }
   ],
   "source": [
    "# Gráfico\n",
    "ax=sns.boxplot(data=df, x='zona prod', y='A.D.') \n",
    "ax.set(title='Ganancia diaria de peso por zona de producción')"
   ]
  },
  {
   "cell_type": "markdown",
   "id": "b58d4667",
   "metadata": {},
   "source": [
    "Los mejores resultados se encuentran en la zona de Crespo (CR), no solo porque tiene mayores valores de ganancia de peso sino también porque los resultados tienen menor dispersión y prácticamente no posee resultados atípicos."
   ]
  },
  {
   "cell_type": "markdown",
   "id": "9cdea572",
   "metadata": {},
   "source": [
    "# Machine learning aproximación"
   ]
  },
  {
   "cell_type": "code",
   "execution_count": 137,
   "id": "09d00a32",
   "metadata": {},
   "outputs": [
    {
     "name": "stdout",
     "output_type": "stream",
     "text": [
      "<class 'pandas.core.frame.DataFrame'>\n",
      "Int64Index: 15571 entries, 0 to 15573\n",
      "Data columns (total 16 columns):\n",
      " #   Column                    Non-Null Count  Dtype         \n",
      "---  ------                    --------------  -----         \n",
      " 0   granja                    15571 non-null  int64         \n",
      " 1   Primer BB                 15571 non-null  datetime64[ns]\n",
      " 2   A Faena                   15571 non-null  int64         \n",
      " 3   % Mortan.                 15571 non-null  float64       \n",
      " 4   P. Prom.                  15571 non-null  float64       \n",
      " 5   Ulto. Levan.              15571 non-null  datetime64[ns]\n",
      " 6   Edad                      15571 non-null  float64       \n",
      " 7   A.D.                      15571 non-null  float64       \n",
      " 8   año levante               15571 non-null  int64         \n",
      " 9   mes levante               15571 non-null  int64         \n",
      " 10  Consumo medio diario (g)  15571 non-null  float64       \n",
      " 11  Densidad                  15571 non-null  float64       \n",
      " 12  kg pollo/m2               15571 non-null  float64       \n",
      " 13  % desvío consumo std      15571 non-null  float64       \n",
      " 14  Índice                    15571 non-null  int64         \n",
      " 15  Pes conv 2,7              15571 non-null  float64       \n",
      "dtypes: datetime64[ns](2), float64(9), int64(5)\n",
      "memory usage: 2.5 MB\n"
     ]
    }
   ],
   "source": [
    "df2_num = df.select_dtypes(exclude=object)\n",
    "df2_num.info()"
   ]
  },
  {
   "cell_type": "code",
   "execution_count": 138,
   "id": "353ee7ef",
   "metadata": {},
   "outputs": [
    {
     "name": "stdout",
     "output_type": "stream",
     "text": [
      "<class 'pandas.core.frame.DataFrame'>\n",
      "Int64Index: 15571 entries, 0 to 15573\n",
      "Data columns (total 8 columns):\n",
      " #   Column               Non-Null Count  Dtype \n",
      "---  ------               --------------  ----- \n",
      " 0   Tipo de granja       15571 non-null  object\n",
      " 1   Estación del año     15571 non-null  object\n",
      " 2   Destino              15571 non-null  object\n",
      " 3   Ventilación forzada  15571 non-null  object\n",
      " 4   Ambiente controlado  15571 non-null  object\n",
      " 5   localidad            15571 non-null  object\n",
      " 6   zona climática       15571 non-null  object\n",
      " 7   zona prod            15571 non-null  object\n",
      "dtypes: object(8)\n",
      "memory usage: 1.6+ MB\n"
     ]
    }
   ],
   "source": [
    "df2_object= df.select_dtypes(include=object)\n",
    "df2_object.info()"
   ]
  },
  {
   "cell_type": "code",
   "execution_count": 173,
   "id": "38b868f9",
   "metadata": {},
   "outputs": [
    {
     "data": {
      "text/html": [
       "<div>\n",
       "<style scoped>\n",
       "    .dataframe tbody tr th:only-of-type {\n",
       "        vertical-align: middle;\n",
       "    }\n",
       "\n",
       "    .dataframe tbody tr th {\n",
       "        vertical-align: top;\n",
       "    }\n",
       "\n",
       "    .dataframe thead th {\n",
       "        text-align: right;\n",
       "    }\n",
       "</style>\n",
       "<table border=\"1\" class=\"dataframe\">\n",
       "  <thead>\n",
       "    <tr style=\"text-align: right;\">\n",
       "      <th></th>\n",
       "      <th>A.D.</th>\n",
       "      <th>año levante</th>\n",
       "      <th>mes levante</th>\n",
       "      <th>Estación del año</th>\n",
       "      <th>Ventilación forzada</th>\n",
       "      <th>zona prod</th>\n",
       "    </tr>\n",
       "  </thead>\n",
       "  <tbody>\n",
       "    <tr>\n",
       "      <th>0</th>\n",
       "      <td>54.49</td>\n",
       "      <td>2015</td>\n",
       "      <td>1</td>\n",
       "      <td>verano</td>\n",
       "      <td>S</td>\n",
       "      <td>BA</td>\n",
       "    </tr>\n",
       "    <tr>\n",
       "      <th>1</th>\n",
       "      <td>50.63</td>\n",
       "      <td>2015</td>\n",
       "      <td>1</td>\n",
       "      <td>verano</td>\n",
       "      <td>N</td>\n",
       "      <td>BA</td>\n",
       "    </tr>\n",
       "    <tr>\n",
       "      <th>2</th>\n",
       "      <td>56.12</td>\n",
       "      <td>2015</td>\n",
       "      <td>1</td>\n",
       "      <td>verano</td>\n",
       "      <td>N</td>\n",
       "      <td>BA</td>\n",
       "    </tr>\n",
       "    <tr>\n",
       "      <th>3</th>\n",
       "      <td>56.12</td>\n",
       "      <td>2015</td>\n",
       "      <td>1</td>\n",
       "      <td>verano</td>\n",
       "      <td>N</td>\n",
       "      <td>BA</td>\n",
       "    </tr>\n",
       "    <tr>\n",
       "      <th>4</th>\n",
       "      <td>60.98</td>\n",
       "      <td>2015</td>\n",
       "      <td>1</td>\n",
       "      <td>verano</td>\n",
       "      <td>N</td>\n",
       "      <td>BA</td>\n",
       "    </tr>\n",
       "  </tbody>\n",
       "</table>\n",
       "</div>"
      ],
      "text/plain": [
       "    A.D.  año levante  mes levante Estación del año Ventilación forzada  \\\n",
       "0  54.49         2015            1           verano                   S   \n",
       "1  50.63         2015            1           verano                   N   \n",
       "2  56.12         2015            1           verano                   N   \n",
       "3  56.12         2015            1           verano                   N   \n",
       "4  60.98         2015            1           verano                   N   \n",
       "\n",
       "  zona prod  \n",
       "0        BA  \n",
       "1        BA  \n",
       "2        BA  \n",
       "3        BA  \n",
       "4        BA  "
      ]
     },
     "execution_count": 173,
     "metadata": {},
     "output_type": "execute_result"
    }
   ],
   "source": [
    "df_5= df[['A.D.', 'año levante','mes levante','Estación del año', 'Ventilación forzada','zona prod']]\n",
    "df_5.head()"
   ]
  },
  {
   "cell_type": "code",
   "execution_count": 174,
   "id": "79824393",
   "metadata": {},
   "outputs": [
    {
     "name": "stdout",
     "output_type": "stream",
     "text": [
      "<class 'pandas.core.frame.DataFrame'>\n",
      "Int64Index: 15571 entries, 0 to 15573\n",
      "Data columns (total 13 columns):\n",
      " #   Column                      Non-Null Count  Dtype  \n",
      "---  ------                      --------------  -----  \n",
      " 0   A.D.                        15571 non-null  float64\n",
      " 1   año levante                 15571 non-null  int64  \n",
      " 2   mes levante                 15571 non-null  int64  \n",
      " 3   Estación del año_invierno   15571 non-null  uint8  \n",
      " 4   Estación del año_otoño      15571 non-null  uint8  \n",
      " 5   Estación del año_primavera  15571 non-null  uint8  \n",
      " 6   Estación del año_verano     15571 non-null  uint8  \n",
      " 7   Ventilación forzada_MI      15571 non-null  uint8  \n",
      " 8   Ventilación forzada_N       15571 non-null  uint8  \n",
      " 9   Ventilación forzada_S       15571 non-null  uint8  \n",
      " 10  zona prod_BA                15571 non-null  uint8  \n",
      " 11  zona prod_CR                15571 non-null  uint8  \n",
      " 12  zona prod_ER                15571 non-null  uint8  \n",
      "dtypes: float64(1), int64(2), uint8(10)\n",
      "memory usage: 1.1 MB\n"
     ]
    }
   ],
   "source": [
    "df5_dummies = pd.get_dummies(df_5)\n",
    "df5_dummies.info()"
   ]
  },
  {
   "cell_type": "code",
   "execution_count": 175,
   "id": "b451e9c6",
   "metadata": {},
   "outputs": [
    {
     "data": {
      "text/html": [
       "<div>\n",
       "<style scoped>\n",
       "    .dataframe tbody tr th:only-of-type {\n",
       "        vertical-align: middle;\n",
       "    }\n",
       "\n",
       "    .dataframe tbody tr th {\n",
       "        vertical-align: top;\n",
       "    }\n",
       "\n",
       "    .dataframe thead th {\n",
       "        text-align: right;\n",
       "    }\n",
       "</style>\n",
       "<table border=\"1\" class=\"dataframe\">\n",
       "  <thead>\n",
       "    <tr style=\"text-align: right;\">\n",
       "      <th></th>\n",
       "      <th>A.D.</th>\n",
       "      <th>año levante</th>\n",
       "      <th>mes levante</th>\n",
       "      <th>Estación del año_invierno</th>\n",
       "      <th>Estación del año_otoño</th>\n",
       "      <th>Estación del año_primavera</th>\n",
       "      <th>Estación del año_verano</th>\n",
       "      <th>Ventilación forzada_MI</th>\n",
       "      <th>Ventilación forzada_N</th>\n",
       "      <th>Ventilación forzada_S</th>\n",
       "      <th>zona prod_BA</th>\n",
       "      <th>zona prod_CR</th>\n",
       "      <th>zona prod_ER</th>\n",
       "    </tr>\n",
       "  </thead>\n",
       "  <tbody>\n",
       "    <tr>\n",
       "      <th>0</th>\n",
       "      <td>54.49</td>\n",
       "      <td>2015</td>\n",
       "      <td>1</td>\n",
       "      <td>0</td>\n",
       "      <td>0</td>\n",
       "      <td>0</td>\n",
       "      <td>1</td>\n",
       "      <td>0</td>\n",
       "      <td>0</td>\n",
       "      <td>1</td>\n",
       "      <td>1</td>\n",
       "      <td>0</td>\n",
       "      <td>0</td>\n",
       "    </tr>\n",
       "    <tr>\n",
       "      <th>1</th>\n",
       "      <td>50.63</td>\n",
       "      <td>2015</td>\n",
       "      <td>1</td>\n",
       "      <td>0</td>\n",
       "      <td>0</td>\n",
       "      <td>0</td>\n",
       "      <td>1</td>\n",
       "      <td>0</td>\n",
       "      <td>1</td>\n",
       "      <td>0</td>\n",
       "      <td>1</td>\n",
       "      <td>0</td>\n",
       "      <td>0</td>\n",
       "    </tr>\n",
       "    <tr>\n",
       "      <th>2</th>\n",
       "      <td>56.12</td>\n",
       "      <td>2015</td>\n",
       "      <td>1</td>\n",
       "      <td>0</td>\n",
       "      <td>0</td>\n",
       "      <td>0</td>\n",
       "      <td>1</td>\n",
       "      <td>0</td>\n",
       "      <td>1</td>\n",
       "      <td>0</td>\n",
       "      <td>1</td>\n",
       "      <td>0</td>\n",
       "      <td>0</td>\n",
       "    </tr>\n",
       "    <tr>\n",
       "      <th>3</th>\n",
       "      <td>56.12</td>\n",
       "      <td>2015</td>\n",
       "      <td>1</td>\n",
       "      <td>0</td>\n",
       "      <td>0</td>\n",
       "      <td>0</td>\n",
       "      <td>1</td>\n",
       "      <td>0</td>\n",
       "      <td>1</td>\n",
       "      <td>0</td>\n",
       "      <td>1</td>\n",
       "      <td>0</td>\n",
       "      <td>0</td>\n",
       "    </tr>\n",
       "    <tr>\n",
       "      <th>4</th>\n",
       "      <td>60.98</td>\n",
       "      <td>2015</td>\n",
       "      <td>1</td>\n",
       "      <td>0</td>\n",
       "      <td>0</td>\n",
       "      <td>0</td>\n",
       "      <td>1</td>\n",
       "      <td>0</td>\n",
       "      <td>1</td>\n",
       "      <td>0</td>\n",
       "      <td>1</td>\n",
       "      <td>0</td>\n",
       "      <td>0</td>\n",
       "    </tr>\n",
       "  </tbody>\n",
       "</table>\n",
       "</div>"
      ],
      "text/plain": [
       "    A.D.  año levante  mes levante  Estación del año_invierno  \\\n",
       "0  54.49         2015            1                          0   \n",
       "1  50.63         2015            1                          0   \n",
       "2  56.12         2015            1                          0   \n",
       "3  56.12         2015            1                          0   \n",
       "4  60.98         2015            1                          0   \n",
       "\n",
       "   Estación del año_otoño  Estación del año_primavera  \\\n",
       "0                       0                           0   \n",
       "1                       0                           0   \n",
       "2                       0                           0   \n",
       "3                       0                           0   \n",
       "4                       0                           0   \n",
       "\n",
       "   Estación del año_verano  Ventilación forzada_MI  Ventilación forzada_N  \\\n",
       "0                        1                       0                      0   \n",
       "1                        1                       0                      1   \n",
       "2                        1                       0                      1   \n",
       "3                        1                       0                      1   \n",
       "4                        1                       0                      1   \n",
       "\n",
       "   Ventilación forzada_S  zona prod_BA  zona prod_CR  zona prod_ER  \n",
       "0                      1             1             0             0  \n",
       "1                      0             1             0             0  \n",
       "2                      0             1             0             0  \n",
       "3                      0             1             0             0  \n",
       "4                      0             1             0             0  "
      ]
     },
     "execution_count": 175,
     "metadata": {},
     "output_type": "execute_result"
    }
   ],
   "source": [
    "df5_dummies.head()"
   ]
  },
  {
   "cell_type": "code",
   "execution_count": 176,
   "id": "fa604eb9",
   "metadata": {},
   "outputs": [],
   "source": [
    "# Importar librerías\n",
    "import pandas as pd\n",
    "import numpy as np\n",
    "from sklearn.model_selection import train_test_split\n",
    "from sklearn.svm import SVR\n",
    "from sklearn.metrics import mean_squared_error, r2_score"
   ]
  },
  {
   "cell_type": "code",
   "execution_count": 177,
   "id": "6596c712",
   "metadata": {},
   "outputs": [
    {
     "name": "stderr",
     "output_type": "stream",
     "text": [
      "C:\\Users\\ebover\\AppData\\Local\\Temp\\ipykernel_5416\\1705318218.py:2: FutureWarning: In a future version of pandas all arguments of DataFrame.drop except for the argument 'labels' will be keyword-only.\n",
      "  X = df5_dummies.drop('A.D.', 1)\n"
     ]
    }
   ],
   "source": [
    "# Seleccionar las variables predictoras y la variable de destino\n",
    "X = df5_dummies.drop('A.D.', 1) \n",
    "y = df5_dummies['A.D.']"
   ]
  },
  {
   "cell_type": "code",
   "execution_count": 178,
   "id": "40fc916a",
   "metadata": {},
   "outputs": [],
   "source": [
    "# Dividir el conjunto de datos en conjunto de entrenamiento y prueba\n",
    "X_train, X_test, y_train, y_test = train_test_split(X, y, test_size=0.2, random_state=42)"
   ]
  },
  {
   "cell_type": "markdown",
   "id": "4b5ac4c0",
   "metadata": {},
   "source": [
    "## Modelo SVR"
   ]
  },
  {
   "cell_type": "code",
   "execution_count": 179,
   "id": "b5631b91",
   "metadata": {},
   "outputs": [],
   "source": [
    "# Crear el modelo de SVR\n",
    "model = SVR(kernel='rbf', C=1e3, gamma=0.1)"
   ]
  },
  {
   "cell_type": "code",
   "execution_count": 180,
   "id": "c1513a03",
   "metadata": {},
   "outputs": [
    {
     "data": {
      "text/plain": [
       "SVR(C=1000.0, gamma=0.1)"
      ]
     },
     "execution_count": 180,
     "metadata": {},
     "output_type": "execute_result"
    }
   ],
   "source": [
    "model.fit(X_train, y_train)"
   ]
  },
  {
   "cell_type": "code",
   "execution_count": 181,
   "id": "62ca0cca",
   "metadata": {},
   "outputs": [],
   "source": [
    "# Hacer predicciones en el conjunto de prueba\n",
    "y_pred = model.predict(X_test)"
   ]
  },
  {
   "cell_type": "code",
   "execution_count": 182,
   "id": "7180e410",
   "metadata": {},
   "outputs": [],
   "source": [
    "# Calcular el error cuadrático medio (MSE) y el coeficiente de determinación (R²)\n",
    "mse = mean_squared_error(y_test, y_pred)\n",
    "r2 = r2_score(y_test, y_pred)"
   ]
  },
  {
   "cell_type": "code",
   "execution_count": 183,
   "id": "159bb945",
   "metadata": {},
   "outputs": [
    {
     "name": "stdout",
     "output_type": "stream",
     "text": [
      "Error cuadrático medio (MSE): 25.104881337804418\n",
      "Coeficiente de determinación (R²): 0.24259967583607478\n"
     ]
    }
   ],
   "source": [
    "# Mostrar las métricas de evaluación de rendimiento\n",
    "print(\"Error cuadrático medio (MSE):\", mse)\n",
    "print(\"Coeficiente de determinación (R²):\", r2)"
   ]
  },
  {
   "cell_type": "markdown",
   "id": "62ad72d2",
   "metadata": {},
   "source": [
    "El modelo aplicado tiene un error cuadrático medio de 25.1 con un coeficiente de determinación del 24.25%. "
   ]
  },
  {
   "cell_type": "markdown",
   "id": "8da4a3e6",
   "metadata": {},
   "source": [
    "## Correlaciones"
   ]
  },
  {
   "cell_type": "code",
   "execution_count": 156,
   "id": "f70a2234",
   "metadata": {},
   "outputs": [
    {
     "data": {
      "text/html": [
       "<div>\n",
       "<style scoped>\n",
       "    .dataframe tbody tr th:only-of-type {\n",
       "        vertical-align: middle;\n",
       "    }\n",
       "\n",
       "    .dataframe tbody tr th {\n",
       "        vertical-align: top;\n",
       "    }\n",
       "\n",
       "    .dataframe thead th {\n",
       "        text-align: right;\n",
       "    }\n",
       "</style>\n",
       "<table border=\"1\" class=\"dataframe\">\n",
       "  <thead>\n",
       "    <tr style=\"text-align: right;\">\n",
       "      <th></th>\n",
       "      <th>A.D.</th>\n",
       "      <th>año levante</th>\n",
       "      <th>mes levante</th>\n",
       "      <th>Estación del año_invierno</th>\n",
       "      <th>Estación del año_otoño</th>\n",
       "      <th>Estación del año_primavera</th>\n",
       "      <th>Estación del año_verano</th>\n",
       "      <th>Ventilación forzada_MI</th>\n",
       "      <th>Ventilación forzada_N</th>\n",
       "      <th>Ventilación forzada_S</th>\n",
       "      <th>zona prod_BA</th>\n",
       "      <th>zona prod_CR</th>\n",
       "      <th>zona prod_ER</th>\n",
       "    </tr>\n",
       "  </thead>\n",
       "  <tbody>\n",
       "    <tr>\n",
       "      <th>A.D.</th>\n",
       "      <td>1.00</td>\n",
       "      <td>0.06</td>\n",
       "      <td>0.32</td>\n",
       "      <td>0.08</td>\n",
       "      <td>-0.13</td>\n",
       "      <td>0.27</td>\n",
       "      <td>-0.22</td>\n",
       "      <td>0.05</td>\n",
       "      <td>-0.19</td>\n",
       "      <td>0.19</td>\n",
       "      <td>0.18</td>\n",
       "      <td>0.06</td>\n",
       "      <td>-0.19</td>\n",
       "    </tr>\n",
       "    <tr>\n",
       "      <th>año levante</th>\n",
       "      <td>0.06</td>\n",
       "      <td>1.00</td>\n",
       "      <td>-0.07</td>\n",
       "      <td>-0.02</td>\n",
       "      <td>-0.00</td>\n",
       "      <td>-0.04</td>\n",
       "      <td>0.06</td>\n",
       "      <td>0.09</td>\n",
       "      <td>-0.10</td>\n",
       "      <td>0.07</td>\n",
       "      <td>0.05</td>\n",
       "      <td>0.15</td>\n",
       "      <td>-0.08</td>\n",
       "    </tr>\n",
       "    <tr>\n",
       "      <th>mes levante</th>\n",
       "      <td>0.32</td>\n",
       "      <td>-0.07</td>\n",
       "      <td>1.00</td>\n",
       "      <td>0.21</td>\n",
       "      <td>-0.28</td>\n",
       "      <td>0.70</td>\n",
       "      <td>-0.61</td>\n",
       "      <td>0.00</td>\n",
       "      <td>-0.00</td>\n",
       "      <td>0.00</td>\n",
       "      <td>0.00</td>\n",
       "      <td>0.01</td>\n",
       "      <td>-0.01</td>\n",
       "    </tr>\n",
       "    <tr>\n",
       "      <th>Estación del año_invierno</th>\n",
       "      <td>0.08</td>\n",
       "      <td>-0.02</td>\n",
       "      <td>0.21</td>\n",
       "      <td>1.00</td>\n",
       "      <td>-0.32</td>\n",
       "      <td>-0.32</td>\n",
       "      <td>-0.35</td>\n",
       "      <td>-0.00</td>\n",
       "      <td>0.00</td>\n",
       "      <td>-0.00</td>\n",
       "      <td>-0.01</td>\n",
       "      <td>-0.00</td>\n",
       "      <td>0.01</td>\n",
       "    </tr>\n",
       "    <tr>\n",
       "      <th>Estación del año_otoño</th>\n",
       "      <td>-0.13</td>\n",
       "      <td>-0.00</td>\n",
       "      <td>-0.28</td>\n",
       "      <td>-0.32</td>\n",
       "      <td>1.00</td>\n",
       "      <td>-0.32</td>\n",
       "      <td>-0.34</td>\n",
       "      <td>-0.00</td>\n",
       "      <td>0.01</td>\n",
       "      <td>-0.00</td>\n",
       "      <td>0.00</td>\n",
       "      <td>-0.02</td>\n",
       "      <td>0.00</td>\n",
       "    </tr>\n",
       "    <tr>\n",
       "      <th>Estación del año_primavera</th>\n",
       "      <td>0.27</td>\n",
       "      <td>-0.04</td>\n",
       "      <td>0.70</td>\n",
       "      <td>-0.32</td>\n",
       "      <td>-0.32</td>\n",
       "      <td>1.00</td>\n",
       "      <td>-0.34</td>\n",
       "      <td>0.01</td>\n",
       "      <td>-0.01</td>\n",
       "      <td>0.00</td>\n",
       "      <td>0.01</td>\n",
       "      <td>0.01</td>\n",
       "      <td>-0.01</td>\n",
       "    </tr>\n",
       "    <tr>\n",
       "      <th>Estación del año_verano</th>\n",
       "      <td>-0.22</td>\n",
       "      <td>0.06</td>\n",
       "      <td>-0.61</td>\n",
       "      <td>-0.35</td>\n",
       "      <td>-0.34</td>\n",
       "      <td>-0.34</td>\n",
       "      <td>1.00</td>\n",
       "      <td>-0.00</td>\n",
       "      <td>-0.00</td>\n",
       "      <td>0.00</td>\n",
       "      <td>0.00</td>\n",
       "      <td>0.01</td>\n",
       "      <td>-0.01</td>\n",
       "    </tr>\n",
       "    <tr>\n",
       "      <th>Ventilación forzada_MI</th>\n",
       "      <td>0.05</td>\n",
       "      <td>0.09</td>\n",
       "      <td>0.00</td>\n",
       "      <td>-0.00</td>\n",
       "      <td>-0.00</td>\n",
       "      <td>0.01</td>\n",
       "      <td>-0.00</td>\n",
       "      <td>1.00</td>\n",
       "      <td>-0.41</td>\n",
       "      <td>-0.06</td>\n",
       "      <td>0.07</td>\n",
       "      <td>0.05</td>\n",
       "      <td>-0.08</td>\n",
       "    </tr>\n",
       "    <tr>\n",
       "      <th>Ventilación forzada_N</th>\n",
       "      <td>-0.19</td>\n",
       "      <td>-0.10</td>\n",
       "      <td>-0.00</td>\n",
       "      <td>0.00</td>\n",
       "      <td>0.01</td>\n",
       "      <td>-0.01</td>\n",
       "      <td>-0.00</td>\n",
       "      <td>-0.41</td>\n",
       "      <td>1.00</td>\n",
       "      <td>-0.88</td>\n",
       "      <td>-0.09</td>\n",
       "      <td>-0.22</td>\n",
       "      <td>0.13</td>\n",
       "    </tr>\n",
       "    <tr>\n",
       "      <th>Ventilación forzada_S</th>\n",
       "      <td>0.19</td>\n",
       "      <td>0.07</td>\n",
       "      <td>0.00</td>\n",
       "      <td>-0.00</td>\n",
       "      <td>-0.00</td>\n",
       "      <td>0.00</td>\n",
       "      <td>0.00</td>\n",
       "      <td>-0.06</td>\n",
       "      <td>-0.88</td>\n",
       "      <td>1.00</td>\n",
       "      <td>0.06</td>\n",
       "      <td>0.22</td>\n",
       "      <td>-0.11</td>\n",
       "    </tr>\n",
       "    <tr>\n",
       "      <th>zona prod_BA</th>\n",
       "      <td>0.18</td>\n",
       "      <td>0.05</td>\n",
       "      <td>0.00</td>\n",
       "      <td>-0.01</td>\n",
       "      <td>0.00</td>\n",
       "      <td>0.01</td>\n",
       "      <td>0.00</td>\n",
       "      <td>0.07</td>\n",
       "      <td>-0.09</td>\n",
       "      <td>0.06</td>\n",
       "      <td>1.00</td>\n",
       "      <td>-0.07</td>\n",
       "      <td>-0.98</td>\n",
       "    </tr>\n",
       "    <tr>\n",
       "      <th>zona prod_CR</th>\n",
       "      <td>0.06</td>\n",
       "      <td>0.15</td>\n",
       "      <td>0.01</td>\n",
       "      <td>-0.00</td>\n",
       "      <td>-0.02</td>\n",
       "      <td>0.01</td>\n",
       "      <td>0.01</td>\n",
       "      <td>0.05</td>\n",
       "      <td>-0.22</td>\n",
       "      <td>0.22</td>\n",
       "      <td>-0.07</td>\n",
       "      <td>1.00</td>\n",
       "      <td>-0.14</td>\n",
       "    </tr>\n",
       "    <tr>\n",
       "      <th>zona prod_ER</th>\n",
       "      <td>-0.19</td>\n",
       "      <td>-0.08</td>\n",
       "      <td>-0.01</td>\n",
       "      <td>0.01</td>\n",
       "      <td>0.00</td>\n",
       "      <td>-0.01</td>\n",
       "      <td>-0.01</td>\n",
       "      <td>-0.08</td>\n",
       "      <td>0.13</td>\n",
       "      <td>-0.11</td>\n",
       "      <td>-0.98</td>\n",
       "      <td>-0.14</td>\n",
       "      <td>1.00</td>\n",
       "    </tr>\n",
       "  </tbody>\n",
       "</table>\n",
       "</div>"
      ],
      "text/plain": [
       "                            A.D.  año levante  mes levante  \\\n",
       "A.D.                        1.00         0.06         0.32   \n",
       "año levante                 0.06         1.00        -0.07   \n",
       "mes levante                 0.32        -0.07         1.00   \n",
       "Estación del año_invierno   0.08        -0.02         0.21   \n",
       "Estación del año_otoño     -0.13        -0.00        -0.28   \n",
       "Estación del año_primavera  0.27        -0.04         0.70   \n",
       "Estación del año_verano    -0.22         0.06        -0.61   \n",
       "Ventilación forzada_MI      0.05         0.09         0.00   \n",
       "Ventilación forzada_N      -0.19        -0.10        -0.00   \n",
       "Ventilación forzada_S       0.19         0.07         0.00   \n",
       "zona prod_BA                0.18         0.05         0.00   \n",
       "zona prod_CR                0.06         0.15         0.01   \n",
       "zona prod_ER               -0.19        -0.08        -0.01   \n",
       "\n",
       "                            Estación del año_invierno  Estación del año_otoño  \\\n",
       "A.D.                                             0.08                   -0.13   \n",
       "año levante                                     -0.02                   -0.00   \n",
       "mes levante                                      0.21                   -0.28   \n",
       "Estación del año_invierno                        1.00                   -0.32   \n",
       "Estación del año_otoño                          -0.32                    1.00   \n",
       "Estación del año_primavera                      -0.32                   -0.32   \n",
       "Estación del año_verano                         -0.35                   -0.34   \n",
       "Ventilación forzada_MI                          -0.00                   -0.00   \n",
       "Ventilación forzada_N                            0.00                    0.01   \n",
       "Ventilación forzada_S                           -0.00                   -0.00   \n",
       "zona prod_BA                                    -0.01                    0.00   \n",
       "zona prod_CR                                    -0.00                   -0.02   \n",
       "zona prod_ER                                     0.01                    0.00   \n",
       "\n",
       "                            Estación del año_primavera  \\\n",
       "A.D.                                              0.27   \n",
       "año levante                                      -0.04   \n",
       "mes levante                                       0.70   \n",
       "Estación del año_invierno                        -0.32   \n",
       "Estación del año_otoño                           -0.32   \n",
       "Estación del año_primavera                        1.00   \n",
       "Estación del año_verano                          -0.34   \n",
       "Ventilación forzada_MI                            0.01   \n",
       "Ventilación forzada_N                            -0.01   \n",
       "Ventilación forzada_S                             0.00   \n",
       "zona prod_BA                                      0.01   \n",
       "zona prod_CR                                      0.01   \n",
       "zona prod_ER                                     -0.01   \n",
       "\n",
       "                            Estación del año_verano  Ventilación forzada_MI  \\\n",
       "A.D.                                          -0.22                    0.05   \n",
       "año levante                                    0.06                    0.09   \n",
       "mes levante                                   -0.61                    0.00   \n",
       "Estación del año_invierno                     -0.35                   -0.00   \n",
       "Estación del año_otoño                        -0.34                   -0.00   \n",
       "Estación del año_primavera                    -0.34                    0.01   \n",
       "Estación del año_verano                        1.00                   -0.00   \n",
       "Ventilación forzada_MI                        -0.00                    1.00   \n",
       "Ventilación forzada_N                         -0.00                   -0.41   \n",
       "Ventilación forzada_S                          0.00                   -0.06   \n",
       "zona prod_BA                                   0.00                    0.07   \n",
       "zona prod_CR                                   0.01                    0.05   \n",
       "zona prod_ER                                  -0.01                   -0.08   \n",
       "\n",
       "                            Ventilación forzada_N  Ventilación forzada_S  \\\n",
       "A.D.                                        -0.19                   0.19   \n",
       "año levante                                 -0.10                   0.07   \n",
       "mes levante                                 -0.00                   0.00   \n",
       "Estación del año_invierno                    0.00                  -0.00   \n",
       "Estación del año_otoño                       0.01                  -0.00   \n",
       "Estación del año_primavera                  -0.01                   0.00   \n",
       "Estación del año_verano                     -0.00                   0.00   \n",
       "Ventilación forzada_MI                      -0.41                  -0.06   \n",
       "Ventilación forzada_N                        1.00                  -0.88   \n",
       "Ventilación forzada_S                       -0.88                   1.00   \n",
       "zona prod_BA                                -0.09                   0.06   \n",
       "zona prod_CR                                -0.22                   0.22   \n",
       "zona prod_ER                                 0.13                  -0.11   \n",
       "\n",
       "                            zona prod_BA  zona prod_CR  zona prod_ER  \n",
       "A.D.                                0.18          0.06         -0.19  \n",
       "año levante                         0.05          0.15         -0.08  \n",
       "mes levante                         0.00          0.01         -0.01  \n",
       "Estación del año_invierno          -0.01         -0.00          0.01  \n",
       "Estación del año_otoño              0.00         -0.02          0.00  \n",
       "Estación del año_primavera          0.01          0.01         -0.01  \n",
       "Estación del año_verano             0.00          0.01         -0.01  \n",
       "Ventilación forzada_MI              0.07          0.05         -0.08  \n",
       "Ventilación forzada_N              -0.09         -0.22          0.13  \n",
       "Ventilación forzada_S               0.06          0.22         -0.11  \n",
       "zona prod_BA                        1.00         -0.07         -0.98  \n",
       "zona prod_CR                       -0.07          1.00         -0.14  \n",
       "zona prod_ER                       -0.98         -0.14          1.00  "
      ]
     },
     "execution_count": 156,
     "metadata": {},
     "output_type": "execute_result"
    }
   ],
   "source": [
    "df5_dummies.corr().round(2)"
   ]
  },
  {
   "cell_type": "code",
   "execution_count": 185,
   "id": "d6844c7a",
   "metadata": {},
   "outputs": [
    {
     "data": {
      "image/png": "[encoded data removed]",
      "text/plain": [
       "<Figure size 800x800 with 2 Axes>"
      ]
     },
     "metadata": {},
     "output_type": "display_data"
    }
   ],
   "source": [
    "plt.figure(figsize = (8,8))\n",
    "plt.axis('scaled')\n",
    "sns.heatmap(df5_dummies.corr().round(2), vmin=-1, vmax=1, cmap = \"Greens\", cbar = True, annot=True)\n",
    "plt.xticks(rotation = 70)\n",
    "plt.title('Mapa de calor de los coeficientes de correlación', fontsize = 16)\n",
    "plt.show()"
   ]
  },
  {
   "cell_type": "markdown",
   "id": "c480325c",
   "metadata": {},
   "source": [
    "Del análisis del mapa de calor se desprende que la correlación entre la ganancia diaria de peso y las variables analizadas es baja en general, siendo los mayores valores un 32% para el mes de levante, un 27% de correlación positiva para la estación del año primavera y un 22% de correlación negativa para la estación verano. "
   ]
  },
  {
   "cell_type": "code",
   "execution_count": null,
   "id": "4fcf1c13",
   "metadata": {},
   "outputs": [],
   "source": []
  }
 ],
 "metadata": {
  "kernelspec": {
   "display_name": "Python 3 (ipykernel)",
   "language": "python",
   "name": "python3"
  },
  "language_info": {
   "codemirror_mode": {
    "name": "ipython",
    "version": 3
   },
   "file_extension": ".py",
   "mimetype": "text/x-python",
   "name": "python",
   "nbconvert_exporter": "python",
   "pygments_lexer": "ipython3",
   "version": "3.9.13"
  }
 },
 "nbformat": 4,
 "nbformat_minor": 5
}
