{
 "cells": [
  {
   "cell_type": "code",
   "execution_count": null,
   "id": "d6da22ed",
   "metadata": {},
   "outputs": [],
   "source": [
    "from IPython.display import HTML\n",
    "\n",
    "HTML('''<script>\n",
    "code_show=true; \n",
    "function code_toggle() {\n",
    " if (code_show){\n",
    " $('div.input').hide();\n",
    " } else {\n",
    " $('div.input').show();\n",
    " }\n",
    " code_show = !code_show\n",
    "} \n",
    "$( document ).ready(code_toggle);\n",
    "</script>\n",
    "<form action=\"javascript:code_toggle()\"><input type=\"submit\" value=\"code.\"></form>''')"
   ]
  },
  {
   "cell_type": "markdown",
   "id": "a65ad590",
   "metadata": {},
   "source": [
    "# Introducción"
   ]
  },
  {
   "cell_type": "markdown",
   "id": "943474ae",
   "metadata": {},
   "source": [
    "En presente trabajo se analizaron los resultados productivos de una empresa productora de pollos parrilleros para detectar las variables que impactan sobre los resultados y realizar recomendaciones a partir de ello. En segunda instancia se construyó un modelo de regresión "
   ]
  },
  {
   "cell_type": "markdown",
   "id": "1c303bfc",
   "metadata": {},
   "source": [
    "## Obtención de base de datos"
   ]
  },
  {
   "cell_type": "code",
   "execution_count": null,
   "id": "f473cc0f",
   "metadata": {},
   "outputs": [],
   "source": [
    "# Se presentan las librerías utilizadas:\n",
    "import pandas as pd\n",
    "import xlsxwriter\n",
    "import matplotlib as mpl\n",
    "import matplotlib.pyplot as plt\n",
    "import seaborn as sns\n",
    "import scipy as sp\n",
    "import numpy as np\n",
    "import datetime\n",
    "import statsmodels.api as sm\n",
    "from scipy import stats\n",
    "import requests\n",
    "import json\n",
    "import plotly.express as px\n",
    "import ydata_profiling\n",
    "from sklearn.model_selection import train_test_split\n",
    "from sklearn.svm import SVR\n",
    "from sklearn.metrics import mean_squared_error, r2_score\n",
    "from sklearn import preprocessing\n"
   ]
  },
  {
   "cell_type": "code",
   "execution_count": null,
   "id": "bae7f623",
   "metadata": {},
   "outputs": [],
   "source": [
    "#Ingresos semanales compilado registra resultados finales de la producción en la pestaña BASE. Contiene además datos de genética, nutrición y sanidad.\n",
    "df = pd.read_excel(r\"C:\\Users\\ebover\\OneDrive - FRIGORIFICO DE AVES SOYCHU S.A.I.C.F.I.A\\ingresos semanales compilado.xlsx\",sheet_name='BASE', skiprows=1 , usecols=range(1,67))"
   ]
  },
  {
   "cell_type": "markdown",
   "id": "ca760d02",
   "metadata": {},
   "source": [
    "## Feature extraction preliminar"
   ]
  },
  {
   "cell_type": "code",
   "execution_count": null,
   "id": "895267f6",
   "metadata": {},
   "outputs": [],
   "source": [
    "df.drop(df[(df['A.D.'] >100)].index, inplace=True) #Se eliminan valores erróneos\n",
    "df.drop(df[(df['Edad'] >70)].index, inplace=True) #Se elimninan edades fuera de estándar\n",
    "df.drop(df[(df['Destino'] =='EXP')].index, inplace=True) # se eliminan crianzas de pollos enviados a exportación\n"
   ]
  },
  {
   "cell_type": "code",
   "execution_count": null,
   "id": "9d750780",
   "metadata": {},
   "outputs": [],
   "source": [
    "#subset para modelo\n",
    "dfm=df[['granja','Cantid. BB','% a 7 Días','% Mortan.','A.D.','Edad','mes levante','Consumo medio diario (g)','Estación del año','Densidad','Ventilación forzada','Ambiente controlado','localidad', '% desvío consumo std','zona climática','Pes conv 2,7','zona prod' ]]\n",
    "dfm.head()"
   ]
  },
  {
   "cell_type": "markdown",
   "id": "6cb2b878",
   "metadata": {},
   "source": [
    "# Encoding"
   ]
  },
  {
   "cell_type": "markdown",
   "id": "0af74627",
   "metadata": {},
   "source": [
    "## Transformaciones categóricas"
   ]
  },
  {
   "cell_type": "code",
   "execution_count": null,
   "id": "33481182",
   "metadata": {},
   "outputs": [],
   "source": [
    "label_encoder = preprocessing.LabelEncoder()\n",
    "dfm['Estación del año']= label_encoder.fit_transform(dfm['Estación del año'])\n",
    "dfm['Estación del año'].unique()\n",
    "\n",
    "\n",
    "label_encoder = preprocessing.LabelEncoder()\n",
    "dfm['Ambiente controlado']= label_encoder.fit_transform(dfm['Ambiente controlado'])\n",
    "dfm['Ambiente controlado'].unique()\n",
    "\n",
    "label_encoder = preprocessing.LabelEncoder()\n",
    "dfm['localidad']= label_encoder.fit_transform(dfm['localidad'])\n",
    "dfm['localidad'].unique()\n",
    "\n",
    "label_encoder = preprocessing.LabelEncoder()\n",
    "dfm['zona climática']= label_encoder.fit_transform(dfm['zona climática'])\n",
    "dfm['zona climática'].unique()\n",
    "\n",
    "label_encoder = preprocessing.LabelEncoder()\n",
    "dfm['zona prod']= label_encoder.fit_transform(dfm['zona prod'])\n",
    "dfm['zona prod'].unique()\n",
    "\n",
    "label_encoder = preprocessing.LabelEncoder()\n",
    "dfm['Ventilación forzada']= label_encoder.fit_transform(dfm['Ventilación forzada'])\n",
    "dfm['Ventilación forzada'].unique()\n",
    "\n"
   ]
  },
  {
   "cell_type": "markdown",
   "id": "3f40e884",
   "metadata": {},
   "source": [
    "# Feature selection"
   ]
  },
  {
   "cell_type": "markdown",
   "id": "c8a5929a",
   "metadata": {},
   "source": [
    "## Exploratory Data Analysis\n"
   ]
  },
  {
   "cell_type": "code",
   "execution_count": null,
   "id": "9fea76b7",
   "metadata": {},
   "outputs": [],
   "source": [
    "# Gráfico 1\n",
    "sns.regplot(data=dfm, x = 'Consumo medio diario (g)', y = 'A.D.',\n",
    "            scatter_kws = {\"color\": \"black\", \"alpha\": 0.5},\n",
    "            line_kws = {\"color\": \"red\"},\n",
    "            ci = 99);"
   ]
  },
  {
   "cell_type": "code",
   "execution_count": null,
   "id": "83e697f3",
   "metadata": {},
   "outputs": [],
   "source": [
    "np.corrcoef(dfm['Consumo medio diario (g)'], dfm['A.D.'])"
   ]
  },
  {
   "cell_type": "markdown",
   "id": "800bb8d8",
   "metadata": {},
   "source": [
    "Existe una mediana a alta correlación (64%) entre el consumo de alimento y la ganancia de peso, debido a ello se analizará la variable consumo como variable dependiente del modelo a aplicar."
   ]
  },
  {
   "cell_type": "code",
   "execution_count": null,
   "id": "a5af82bd",
   "metadata": {
    "scrolled": true
   },
   "outputs": [],
   "source": [
    "#Gráfico 2\n",
    "ax=sns.boxplot(data=dfm, y='Consumo medio diario (g)') \n",
    "ax.set(title='Consumo medio diario');\n",
    "\n"
   ]
  },
  {
   "cell_type": "markdown",
   "id": "f0572c16",
   "metadata": {},
   "source": [
    "Se observa una gran cantidad de valores outliers para la variable consumo por lo se generarán dos subsets para analizarlos por separado: \n",
    "dfmwo= Base de datos sin valores outliers\n",
    "dfmout= Base de datos compuesta únicamente por valores outliers"
   ]
  },
  {
   "cell_type": "code",
   "execution_count": null,
   "id": "1160a3c4",
   "metadata": {},
   "outputs": [],
   "source": [
    "dfmo=dfm"
   ]
  },
  {
   "cell_type": "code",
   "execution_count": null,
   "id": "5a949a8b",
   "metadata": {},
   "outputs": [],
   "source": [
    "for x in ['Consumo medio diario (g)']:\n",
    "    q75,q25 = np.percentile(dfmo.loc[:,x],[75,25])\n",
    "    intr_qr = q75-q25\n",
    "\n",
    "    max = q75+(1.5*intr_qr)\n",
    "    min = q25-(1.5*intr_qr)\n",
    "\n",
    "    dfmo.loc[dfmo[x] < min,x] = np.nan\n",
    "    dfmo.loc[dfmo[x] > max,x] = np.nan"
   ]
  },
  {
   "cell_type": "code",
   "execution_count": null,
   "id": "4a1d6b99",
   "metadata": {},
   "outputs": [],
   "source": [
    "dfmwo = dfmo.dropna(axis = 0)"
   ]
  },
  {
   "cell_type": "code",
   "execution_count": null,
   "id": "36c9451e",
   "metadata": {},
   "outputs": [],
   "source": [
    "for x in ['A.D.']:\n",
    "    q75,q25 = np.percentile(dfmo.loc[:,x],[75,25])\n",
    "    intr_qr = q75-q25\n",
    "\n",
    "    max = q75+(1.5*intr_qr)\n",
    "    min = q25-(1.5*intr_qr)\n",
    "\n",
    "    dfmo.loc[dfmo[x] < min,x] = np.nan\n",
    "    dfmo.loc[dfmo[x] > max,x] = np.nan"
   ]
  },
  {
   "cell_type": "code",
   "execution_count": null,
   "id": "39236f95",
   "metadata": {
    "scrolled": true
   },
   "outputs": [],
   "source": [
    "# Gráfico 4\n",
    "sns.regplot(data=dfmwo, x = 'Consumo medio diario (g)', y = 'A.D.',\n",
    "            scatter_kws = {\"color\": \"black\", \"alpha\": 0.5},\n",
    "            line_kws = {\"color\": \"red\"},\n",
    "            ci = 99);"
   ]
  },
  {
   "cell_type": "code",
   "execution_count": null,
   "id": "740ee2af",
   "metadata": {},
   "outputs": [],
   "source": [
    "dfmwo = dfmo.dropna(axis = 0)"
   ]
  },
  {
   "cell_type": "code",
   "execution_count": null,
   "id": "84b6803a",
   "metadata": {},
   "outputs": [],
   "source": [
    "np.corrcoef(dfmwo['Consumo medio diario (g)'], dfmwo['A.D.'])"
   ]
  },
  {
   "cell_type": "markdown",
   "id": "e40e7ced",
   "metadata": {},
   "source": [
    "La correlación entre los valores de consumo y ganancia media diaria de peso no se modificó (63.7%) luego de la extracción de los valores outliers de la base de datos."
   ]
  },
  {
   "cell_type": "code",
   "execution_count": null,
   "id": "ab1912ed",
   "metadata": {},
   "outputs": [],
   "source": [
    "dfmwo.shape"
   ]
  },
  {
   "cell_type": "code",
   "execution_count": null,
   "id": "16687468",
   "metadata": {},
   "outputs": [],
   "source": [
    "# se crea un subset conformado por los valores outliers:\n",
    "dfm2=df[['granja','Cantid. BB','% a 7 Días','% Mortan.','A.D.','Edad','mes levante','Consumo medio diario (g)','Estación del año','Densidad','Ventilación forzada','Ambiente controlado','localidad', '% desvío consumo std','zona climática','Pes conv 2,7','zona prod' ]]\n",
    "dfm2.head()"
   ]
  },
  {
   "cell_type": "code",
   "execution_count": null,
   "id": "6bf4746e",
   "metadata": {},
   "outputs": [],
   "source": [
    "label_encoder = preprocessing.LabelEncoder()\n",
    "dfm2['Estación del año']= label_encoder.fit_transform(dfm2['Estación del año'])\n",
    "dfm2['Estación del año'].unique()\n",
    "\n",
    "\n",
    "label_encoder = preprocessing.LabelEncoder()\n",
    "dfm2['Ambiente controlado']= label_encoder.fit_transform(dfm2['Ambiente controlado'])\n",
    "dfm2['Ambiente controlado'].unique()\n",
    "\n",
    "label_encoder = preprocessing.LabelEncoder()\n",
    "dfm2['localidad']= label_encoder.fit_transform(dfm2['localidad'])\n",
    "dfm2['localidad'].unique()\n",
    "\n",
    "label_encoder = preprocessing.LabelEncoder()\n",
    "dfm2['zona climática']= label_encoder.fit_transform(dfm2['zona climática'])\n",
    "dfm2['zona climática'].unique()\n",
    "\n",
    "label_encoder = preprocessing.LabelEncoder()\n",
    "dfm2['zona prod']= label_encoder.fit_transform(dfm2['zona prod'])\n",
    "dfm2['zona prod'].unique()\n",
    "\n",
    "label_encoder = preprocessing.LabelEncoder()\n",
    "dfm2['Ventilación forzada']= label_encoder.fit_transform(dfm2['Ventilación forzada'])\n",
    "dfm2['Ventilación forzada'].unique()"
   ]
  },
  {
   "cell_type": "code",
   "execution_count": null,
   "id": "036235b4",
   "metadata": {},
   "outputs": [],
   "source": [
    "dfmout=dfm2"
   ]
  },
  {
   "cell_type": "code",
   "execution_count": null,
   "id": "924e3532",
   "metadata": {},
   "outputs": [],
   "source": [
    "dfmout.drop(dfmout[(dfmout['A.D.'] >47.15) & (dfmout['A.D.'] <68.55)].index, inplace=True) \n",
    "dfmout.drop(dfmout[(dfmout['Consumo medio diario (g)'] >99.2) & (dfmout['Consumo medio diario (g)'] <196.05)].index, inplace=True)\n"
   ]
  },
  {
   "cell_type": "code",
   "execution_count": null,
   "id": "d4b16c20",
   "metadata": {},
   "outputs": [],
   "source": [
    "#Gráfico 5\n",
    "corr = dfmwo.corr('pearson')\n",
    "target_corr = corr['Consumo medio diario (g)'].values.reshape(-1,1)\n",
    "\n",
    "sns.heatmap(target_corr, annot=True, yticklabels= dfmwo.columns, cmap='coolwarm')\n",
    "plt.title('Mapa de calor de correlación con variable destino')\n",
    "plt.show()\n"
   ]
  },
  {
   "cell_type": "code",
   "execution_count": null,
   "id": "751be5bc",
   "metadata": {},
   "outputs": [],
   "source": [
    "# Gráfico 6\n",
    "corr = dfmout.corr('pearson')\n",
    "target_corr = corr['Consumo medio diario (g)'].values.reshape(-1,1)\n",
    "\n",
    "sns.heatmap(target_corr, annot=True, yticklabels= dfmout.columns, cmap='coolwarm')\n",
    "plt.title('Mapa de calor de correlación con variable destino outliers')\n",
    "plt.show()"
   ]
  },
  {
   "cell_type": "markdown",
   "id": "c5b30b26",
   "metadata": {},
   "source": [
    "Del análisis de los mapas de calor se desprende que las correlaciones entre el consumo y el resto de las variables analizadas son altas para la ganancia de peso y para el desvío del consumo de alimento respecto del estándar (dependiente). Para el caso del grupo de valores outliers ocurre lo mismo."
   ]
  },
  {
   "cell_type": "markdown",
   "id": "bd6d6c08",
   "metadata": {},
   "source": [
    "# Entrenamiento modelos machine learning"
   ]
  },
  {
   "cell_type": "markdown",
   "id": "db5ab34b",
   "metadata": {},
   "source": [
    "# RandomForestClassifier"
   ]
  },
  {
   "cell_type": "markdown",
   "id": "81218b5a",
   "metadata": {},
   "source": [
    "Se confeccionó un modelo de clasificación para predecir la zona climática de producción en función de los valores del resto de las variables de la base."
   ]
  },
  {
   "cell_type": "code",
   "execution_count": null,
   "id": "515c2a39",
   "metadata": {},
   "outputs": [],
   "source": [
    "# Seleccionar las variables predictoras y la variable de destino\n",
    "X = dfmwo.drop('zona climática', 1) \n",
    "y = dfmwo['zona climática']"
   ]
  },
  {
   "cell_type": "code",
   "execution_count": null,
   "id": "b9baa254",
   "metadata": {},
   "outputs": [],
   "source": [
    "# Dividir el conjunto de datos en conjunto de entrenamiento y prueba\n",
    "X_train, X_test, y_train, y_test = train_test_split(X, y, test_size=0.3, random_state=42)"
   ]
  },
  {
   "cell_type": "code",
   "execution_count": null,
   "id": "cd6155dd",
   "metadata": {},
   "outputs": [],
   "source": [
    "from sklearn.ensemble import RandomForestClassifier\n",
    "clf = RandomForestClassifier(max_depth=4, random_state=42)\n",
    "clf.fit(X_train, y_train)"
   ]
  },
  {
   "cell_type": "code",
   "execution_count": null,
   "id": "a8fcac9a",
   "metadata": {},
   "outputs": [],
   "source": [
    "# Obtener predicciones\n",
    "y_pred= clf.predict(X_test)"
   ]
  },
  {
   "cell_type": "code",
   "execution_count": null,
   "id": "1617ba77",
   "metadata": {},
   "outputs": [],
   "source": [
    "from sklearn.metrics import classification_report\n",
    "print(classification_report(y_pred=y_pred, y_true= y_test))"
   ]
  },
  {
   "cell_type": "code",
   "execution_count": null,
   "id": "afd3a3eb",
   "metadata": {},
   "outputs": [],
   "source": [
    "clf.feature_importances_"
   ]
  },
  {
   "cell_type": "code",
   "execution_count": null,
   "id": "a9a6bcd0",
   "metadata": {},
   "outputs": [],
   "source": [
    "sorted_idx = clf.feature_importances_.argsort()\n",
    "plt.barh(X_train.columns[sorted_idx], clf.feature_importances_[sorted_idx])\n",
    "plt.xlabel(\"Random Forest Feature Importance\");"
   ]
  },
  {
   "cell_type": "markdown",
   "id": "e630f62e",
   "metadata": {},
   "source": [
    "La precisión promedio alcanzada fue del 86%, lo que indica que el modelo fue capaz de clasificar correctamente la mayoría de las muestras. El modelo mostró una alta precisión para todas las clases; mientras que la clase 2 tuvo una precisión perfecta, su recall y f1-score fueron bajos. Esto sugiere que el modelo tuvo dificultades para clasificar correctamente esta clase."
   ]
  },
  {
   "cell_type": "markdown",
   "id": "70c9dc83",
   "metadata": {},
   "source": [
    "## Base de datos sin outliers"
   ]
  },
  {
   "cell_type": "markdown",
   "id": "c14cddc1",
   "metadata": {},
   "source": [
    "# Linear regression"
   ]
  },
  {
   "cell_type": "code",
   "execution_count": null,
   "id": "470fb3ed",
   "metadata": {},
   "outputs": [],
   "source": [
    "from sklearn.model_selection import train_test_split\n",
    "\n",
    "X1=dfmwo.drop(['Consumo medio diario (g)','Pes conv 2,7'], 1) \n",
    "\n",
    "y1=dfmwo['Consumo medio diario (g)']\n",
    "\n",
    "X1_train, X1_test, y1_train, y1_test = train_test_split(X1, y1, test_size=0.30, random_state=42)"
   ]
  },
  {
   "cell_type": "code",
   "execution_count": null,
   "id": "ba1bb076",
   "metadata": {},
   "outputs": [],
   "source": [
    "from sklearn.linear_model import LinearRegression\n"
   ]
  },
  {
   "cell_type": "code",
   "execution_count": null,
   "id": "1dea6340",
   "metadata": {},
   "outputs": [],
   "source": [
    "model = LinearRegression(fit_intercept=True)\n",
    "model.fit(X1, y1)\n",
    "y1_train_pred = model.predict(X1_train)\n",
    "y1_test_pred = model.predict(X1_test)\n"
   ]
  },
  {
   "cell_type": "code",
   "execution_count": null,
   "id": "0d6890c3",
   "metadata": {},
   "outputs": [],
   "source": [
    "print('Error en datos de train:', mean_squared_error(y1_train, y1_train_pred))\n",
    "print('Error en datos de test:', mean_squared_error(y1_test, y1_test_pred))\n",
    "\n",
    "lr_test_mse = mean_squared_error(y1_test, y1_test_pred)\n",
    "lr_train_mse = mean_squared_error(y1_train, y1_train_pred)"
   ]
  },
  {
   "cell_type": "code",
   "execution_count": null,
   "id": "5707523b",
   "metadata": {},
   "outputs": [],
   "source": [
    "model.coef_"
   ]
  },
  {
   "cell_type": "code",
   "execution_count": null,
   "id": "5ea007d6",
   "metadata": {},
   "outputs": [],
   "source": [
    "coeff_df = pd.DataFrame(model.coef_, X1.columns, columns=['Coefficient']).reset_index()\n",
    "coeff_df"
   ]
  },
  {
   "cell_type": "code",
   "execution_count": null,
   "id": "483706b4",
   "metadata": {},
   "outputs": [],
   "source": [
    "ax=sns.barplot(data=coeff_df, x='Coefficient',y='index') \n",
    "ax.bar_label(ax.containers[0])\n",
    "ax.set(xlim=(-40, 40))\n",
    "ax.set(title='Coeficientes de correlación');"
   ]
  },
  {
   "cell_type": "markdown",
   "id": "bc586381",
   "metadata": {},
   "source": [
    "# KNN"
   ]
  },
  {
   "cell_type": "code",
   "execution_count": null,
   "id": "a0d57a9c",
   "metadata": {},
   "outputs": [],
   "source": [
    "from sklearn.neighbors import KNeighborsRegressor\n",
    "k_range = range(1, 50)\n",
    "scores = []\n",
    "for k in k_range:\n",
    "    knn = KNeighborsRegressor(n_neighbors = k)\n",
    "    knn.fit(X1_train, y1_train)\n",
    "    scores.append(knn.score(X1_test, y1_test))\n",
    "plt.figure()\n",
    "plt.xlabel('k')\n",
    "plt.ylabel('accuracy')\n",
    "plt.scatter(k_range, scores)\n",
    "plt.xticks([0,5,10,20,30,40,50]);"
   ]
  },
  {
   "cell_type": "code",
   "execution_count": null,
   "id": "c0f43bcc",
   "metadata": {},
   "outputs": [],
   "source": [
    "from sklearn.neighbors import KNeighborsRegressor\n",
    "\n",
    "model = KNeighborsRegressor(n_neighbors=5)\n",
    "model.fit(X1, y1)\n",
    "y1_train_pred = model.predict(X1_train)\n",
    "y1_test_pred = model.predict(X1_test)\n",
    "\n",
    "\n",
    "\n",
    "print('Error en datos de train:', mean_squared_error(y1_train, y1_train_pred))\n",
    "print('Error en datos de test:', mean_squared_error(y1_test, y1_test_pred))\n",
    "\n",
    "knr_test_mse = mean_squared_error(y1_test, y1_test_pred)\n",
    "knr_train_mse = mean_squared_error(y1_train, y1_train_pred)\n"
   ]
  },
  {
   "cell_type": "markdown",
   "id": "a7d7bae2",
   "metadata": {},
   "source": [
    "# Random forest regression"
   ]
  },
  {
   "cell_type": "code",
   "execution_count": null,
   "id": "af4c5fdd",
   "metadata": {},
   "outputs": [],
   "source": [
    "from sklearn.ensemble import RandomForestRegressor\n",
    "\n",
    "model = RandomForestRegressor(n_estimators=50, random_state=42)\n",
    "model.fit(X1, y1)\n",
    "y1_train_pred = model.predict(X1_train)\n",
    "y1_test_pred = model.predict(X1_test)"
   ]
  },
  {
   "cell_type": "code",
   "execution_count": null,
   "id": "335041e2",
   "metadata": {},
   "outputs": [],
   "source": [
    "print('Error en datos de train:', mean_squared_error(y1_train, y1_train_pred))\n",
    "print('Error en datos de test:', mean_squared_error(y1_test, y1_test_pred))\n",
    "\n",
    "rfr_test_mse = mean_squared_error(y1_train, y1_train_pred)\n",
    "rfr_train_mse = mean_squared_error(y1_test, y1_test_pred)"
   ]
  },
  {
   "cell_type": "markdown",
   "id": "65154cc4",
   "metadata": {},
   "source": [
    "# Xgboost"
   ]
  },
  {
   "cell_type": "code",
   "execution_count": null,
   "id": "21f95d2e",
   "metadata": {
    "scrolled": true
   },
   "outputs": [],
   "source": [
    "! pip install xgboost"
   ]
  },
  {
   "cell_type": "code",
   "execution_count": null,
   "id": "4135a32f",
   "metadata": {},
   "outputs": [],
   "source": [
    "import xgboost as xgb\n",
    "\n",
    "model = xgb.XGBRegressor(n_estimators=50, random_state=42)\n",
    "model.fit(X1, y1)\n",
    "y1_train_pred = model.predict(X1_train)\n",
    "y1_test_pred = model.predict(X1_test)"
   ]
  },
  {
   "cell_type": "code",
   "execution_count": null,
   "id": "fe327db7",
   "metadata": {},
   "outputs": [],
   "source": [
    "print('Error en datos de train:', mean_squared_error(y1_train, y1_train_pred))\n",
    "print('Error en datos de test:', mean_squared_error(y1_test, y1_test_pred))\n",
    "\n",
    "xgb_test_mse = mean_squared_error(y1_train, y1_train_pred)\n",
    "xgb_train_mse = mean_squared_error(y1_test, y1_test_pred)"
   ]
  },
  {
   "cell_type": "code",
   "execution_count": null,
   "id": "55f94566",
   "metadata": {},
   "outputs": [],
   "source": [
    "valores = [lr_train_mse, knr_train_mse, rfr_train_mse, xgb_train_mse]\n",
    "\n",
    "nombres = ['Lineal', 'Knn', 'Forest', 'XGB']\n",
    "\n",
    "plt.figure(figsize=(10, 6))\n",
    "plt.bar(nombres, valores, color='blue')\n",
    "\n",
    "plt.xlabel('Modelo')\n",
    "plt.ylabel('MSE Train')\n",
    "plt.title('Comparación de MSE entre modelos de regresión')\n",
    "\n",
    "for i, value in enumerate(valores):\n",
    "    plt.text(i, value, str(round(value, 2)), ha='center', va='bottom')\n",
    "\n",
    "plt.show()"
   ]
  },
  {
   "cell_type": "code",
   "execution_count": null,
   "id": "6dfe6500",
   "metadata": {},
   "outputs": [],
   "source": [
    "valores = [lr_test_mse, knr_test_mse, rfr_test_mse, xgb_test_mse]\n",
    "\n",
    "nombres = ['Lineal', 'Knn', 'Forest', 'XGB']\n",
    "\n",
    "plt.figure(figsize=(10, 6))\n",
    "plt.bar(nombres, valores, color='blue')\n",
    "\n",
    "plt.xlabel('Modelo')\n",
    "plt.ylabel('MSE Test')\n",
    "plt.title('Comparación de MSE entre modelos de regresión')\n",
    "\n",
    "for i, value in enumerate(valores):\n",
    "    plt.text(i, value, str(round(value, 2)), ha='center', va='bottom')\n",
    "\n",
    "plt.show()"
   ]
  },
  {
   "cell_type": "code",
   "execution_count": null,
   "id": "8199ecdf",
   "metadata": {
    "scrolled": true
   },
   "outputs": [],
   "source": [
    "from sklearn.metrics import mean_squared_error\n",
    "mse = mean_squared_error(y1_test, y1_test_pred)\n",
    "print(\"MSE:\", mse)"
   ]
  },
  {
   "cell_type": "code",
   "execution_count": null,
   "id": "0ece637e",
   "metadata": {},
   "outputs": [],
   "source": [
    "from sklearn.metrics import mean_squared_error\n",
    "rmse = np.sqrt(mse)\n",
    "print(\"RMSE:\", rmse)"
   ]
  },
  {
   "cell_type": "code",
   "execution_count": null,
   "id": "aaa802d2",
   "metadata": {},
   "outputs": [],
   "source": [
    "from sklearn.metrics import mean_absolute_error\n",
    "mae = mean_absolute_error(y1_test, y1_test_pred)\n",
    "print(\"MAE:\", mae)"
   ]
  },
  {
   "cell_type": "code",
   "execution_count": null,
   "id": "c9a52440",
   "metadata": {},
   "outputs": [],
   "source": [
    "from sklearn.metrics import r2_score\n",
    "r2 = r2_score(y1_test, y1_test_pred)\n",
    "print(\"R^2:\", r2)"
   ]
  },
  {
   "cell_type": "markdown",
   "id": "d6d29322",
   "metadata": {},
   "source": [
    "## Base solo outliers"
   ]
  },
  {
   "cell_type": "markdown",
   "id": "588c9041",
   "metadata": {},
   "source": [
    "## Linear regression"
   ]
  },
  {
   "cell_type": "code",
   "execution_count": null,
   "id": "7820958a",
   "metadata": {},
   "outputs": [],
   "source": [
    "from sklearn.model_selection import train_test_split\n",
    "\n",
    "X2=dfmout.drop('Consumo medio diario (g)', 1) \n",
    "\n",
    "y2=dfmout['Consumo medio diario (g)']\n",
    "\n",
    "X2_train, X2_test, y2_train, y2_test = train_test_split(X2, y2, test_size=0.30, random_state=42)"
   ]
  },
  {
   "cell_type": "code",
   "execution_count": null,
   "id": "d3badcd9",
   "metadata": {},
   "outputs": [],
   "source": [
    "from sklearn.linear_model import LinearRegression"
   ]
  },
  {
   "cell_type": "code",
   "execution_count": null,
   "id": "c30a3ea6",
   "metadata": {},
   "outputs": [],
   "source": [
    "model = LinearRegression(fit_intercept=True)\n",
    "model.fit(X2, y2)\n",
    "y2_train_pred = model.predict(X2_train)\n",
    "y2_test_pred = model.predict(X2_test)"
   ]
  },
  {
   "cell_type": "code",
   "execution_count": null,
   "id": "298c7808",
   "metadata": {},
   "outputs": [],
   "source": [
    "print('Error en datos de train:', mean_squared_error(y2_train, y2_train_pred))\n",
    "print('Error en datos de test:', mean_squared_error(y2_test, y2_test_pred))\n",
    "\n",
    "lr_test_mse = mean_squared_error(y2_test, y2_test_pred)\n",
    "lr_train_mse = mean_squared_error(y2_train, y2_train_pred)"
   ]
  },
  {
   "cell_type": "markdown",
   "id": "76f17780",
   "metadata": {},
   "source": [
    "# KNN"
   ]
  },
  {
   "cell_type": "code",
   "execution_count": null,
   "id": "bd4912ed",
   "metadata": {},
   "outputs": [],
   "source": [
    "from sklearn.neighbors import KNeighborsRegressor\n",
    "k_range = range(1, 50)\n",
    "scores = []\n",
    "for k in k_range:\n",
    "    knn = KNeighborsRegressor(n_neighbors = k)\n",
    "    knn.fit(X2_train, y2_train)\n",
    "    scores.append(knn.score(X2_test, y2_test))\n",
    "plt.figure()\n",
    "plt.xlabel('k')\n",
    "plt.ylabel('accuracy')\n",
    "plt.scatter(k_range, scores)\n",
    "plt.xticks([0,5,10,20,30,40,50]);"
   ]
  },
  {
   "cell_type": "code",
   "execution_count": null,
   "id": "a3ea5c19",
   "metadata": {},
   "outputs": [],
   "source": [
    "from sklearn.neighbors import KNeighborsRegressor\n",
    "\n",
    "model = KNeighborsRegressor(n_neighbors=5)\n",
    "model.fit(X2, y2)\n",
    "y2_train_pred = model.predict(X2_train)\n",
    "y2_test_pred = model.predict(X2_test)\n",
    "\n",
    "\n",
    "\n",
    "print('Error en datos de train:', mean_squared_error(y2_train, y2_train_pred))\n",
    "print('Error en datos de test:', mean_squared_error(y2_test, y2_test_pred))\n",
    "\n",
    "knr_test_mse = mean_squared_error(y2_test, y2_test_pred)\n",
    "knr_train_mse = mean_squared_error(y2_train, y2_train_pred)\n"
   ]
  },
  {
   "cell_type": "markdown",
   "id": "a33dcd2d",
   "metadata": {},
   "source": [
    "## Random forest regression"
   ]
  },
  {
   "cell_type": "code",
   "execution_count": null,
   "id": "87aae448",
   "metadata": {},
   "outputs": [],
   "source": [
    "from sklearn.ensemble import RandomForestRegressor\n",
    "\n",
    "model = RandomForestRegressor(n_estimators=50, random_state=42)\n",
    "model.fit(X2, y2)\n",
    "y2_train_pred = model.predict(X2_train)\n",
    "y2_test_pred = model.predict(X2_test)"
   ]
  },
  {
   "cell_type": "code",
   "execution_count": null,
   "id": "5a5362e4",
   "metadata": {},
   "outputs": [],
   "source": [
    "print('Error en datos de train:', mean_squared_error(y2_train, y2_train_pred))\n",
    "print('Error en datos de test:', mean_squared_error(y2_test, y2_test_pred))\n",
    "\n",
    "rfr_test_mse = mean_squared_error(y2_train, y2_train_pred)\n",
    "rfr_train_mse = mean_squared_error(y2_test, y2_test_pred)"
   ]
  },
  {
   "cell_type": "markdown",
   "id": "1b37ad34",
   "metadata": {},
   "source": [
    "## Xgboost"
   ]
  },
  {
   "cell_type": "code",
   "execution_count": null,
   "id": "79cd66b9",
   "metadata": {},
   "outputs": [],
   "source": [
    "import xgboost as xgb\n",
    "\n",
    "model = xgb.XGBRegressor(n_estimators=50, random_state=42)\n",
    "model.fit(X2, y2)\n",
    "y2_train_pred = model.predict(X2_train)\n",
    "y2_test_pred = model.predict(X2_test)"
   ]
  },
  {
   "cell_type": "code",
   "execution_count": null,
   "id": "54568532",
   "metadata": {},
   "outputs": [],
   "source": [
    "print('Error en datos de train:', mean_squared_error(y2_train, y2_train_pred))\n",
    "print('Error en datos de test:', mean_squared_error(y2_test, y2_test_pred))\n",
    "\n",
    "xgb_test_mse = mean_squared_error(y2_train, y2_train_pred)\n",
    "xgb_train_mse = mean_squared_error(y2_test, y2_test_pred)"
   ]
  },
  {
   "cell_type": "code",
   "execution_count": null,
   "id": "b7549190",
   "metadata": {},
   "outputs": [],
   "source": [
    "valores = [lr_train_mse, knr_train_mse, rfr_train_mse, xgb_train_mse]\n",
    "\n",
    "nombres = ['Lineal', 'Knn', 'Forest', 'XGB']\n",
    "\n",
    "plt.figure(figsize=(10, 6))\n",
    "plt.bar(nombres, valores, color='blue')\n",
    "\n",
    "plt.xlabel('Modelo')\n",
    "plt.ylabel('MSE Train')\n",
    "plt.title('Comparación de MSE entre modelos de regresión')\n",
    "\n",
    "for i, value in enumerate(valores):\n",
    "    plt.text(i, value, str(round(value, 2)), ha='center', va='bottom')\n",
    "\n",
    "plt.show()"
   ]
  },
  {
   "cell_type": "code",
   "execution_count": null,
   "id": "2e975e79",
   "metadata": {},
   "outputs": [],
   "source": [
    "valores = [lr_test_mse, knr_test_mse, rfr_test_mse, xgb_test_mse]\n",
    "\n",
    "nombres = ['Lineal', 'Knn', 'Forest', 'XGB']\n",
    "\n",
    "plt.figure(figsize=(10, 6))\n",
    "plt.bar(nombres, valores, color='blue')\n",
    "\n",
    "plt.xlabel('Modelo')\n",
    "plt.ylabel('MSE Test')\n",
    "plt.title('Comparación de MSE entre modelos de regresión')\n",
    "\n",
    "for i, value in enumerate(valores):\n",
    "    plt.text(i, value, str(round(value, 2)), ha='center', va='bottom')\n",
    "\n",
    "plt.show()"
   ]
  },
  {
   "cell_type": "code",
   "execution_count": null,
   "id": "cdf4b4ea",
   "metadata": {},
   "outputs": [],
   "source": [
    "from sklearn.metrics import mean_squared_error\n",
    "mse = mean_squared_error(y2_test, y2_test_pred)\n",
    "print(\"MSE:\", mse)"
   ]
  },
  {
   "cell_type": "code",
   "execution_count": null,
   "id": "ab24bea1",
   "metadata": {},
   "outputs": [],
   "source": [
    "from sklearn.metrics import mean_squared_error\n",
    "rmse = np.sqrt(mse)\n",
    "print(\"RMSE:\", rmse)"
   ]
  },
  {
   "cell_type": "code",
   "execution_count": null,
   "id": "4132b071",
   "metadata": {},
   "outputs": [],
   "source": [
    "from sklearn.metrics import mean_absolute_error\n",
    "mae = mean_absolute_error(y2_test, y2_test_pred)\n",
    "print(\"MAE:\", mae)"
   ]
  },
  {
   "cell_type": "code",
   "execution_count": null,
   "id": "0372d145",
   "metadata": {},
   "outputs": [],
   "source": [
    "from sklearn.metrics import r2_score\n",
    "r2 = r2_score(y2_test, y2_test_pred)\n",
    "print(\"R^2:\", r2)"
   ]
  },
  {
   "cell_type": "markdown",
   "id": "25bc699b",
   "metadata": {},
   "source": [
    "Tanto en los modelos de la base de datos sin outliers y la de los outliers tienen buenos valores de MSE con excepción de KNN."
   ]
  },
  {
   "cell_type": "markdown",
   "id": "690b19c9",
   "metadata": {},
   "source": [
    "# Modelos con base completa"
   ]
  },
  {
   "cell_type": "code",
   "execution_count": null,
   "id": "ee4c4393",
   "metadata": {},
   "outputs": [],
   "source": [
    "dfn=df[['granja','Cantid. BB','% a 7 Días','% Mortan.','A.D.','Edad','mes levante','Consumo medio diario (g)','Estación del año','Densidad','Ventilación forzada','Ambiente controlado','localidad', '% desvío consumo std','zona climática','Pes conv 2,7','zona prod' ]]\n",
    "dfn.head()"
   ]
  },
  {
   "cell_type": "code",
   "execution_count": null,
   "id": "0971cd06",
   "metadata": {},
   "outputs": [],
   "source": [
    "label_encoder = preprocessing.LabelEncoder()\n",
    "dfn['Estación del año']= label_encoder.fit_transform(dfn['Estación del año'])\n",
    "dfn['Estación del año'].unique()\n",
    "\n",
    "\n",
    "label_encoder = preprocessing.LabelEncoder()\n",
    "dfn['Ambiente controlado']= label_encoder.fit_transform(dfn['Ambiente controlado'])\n",
    "dfn['Ambiente controlado'].unique()\n",
    "\n",
    "label_encoder = preprocessing.LabelEncoder()\n",
    "dfn['localidad']= label_encoder.fit_transform(dfn['localidad'])\n",
    "dfn['localidad'].unique()\n",
    "\n",
    "label_encoder = preprocessing.LabelEncoder()\n",
    "dfn['zona climática']= label_encoder.fit_transform(dfn['zona climática'])\n",
    "dfn['zona climática'].unique()\n",
    "\n",
    "label_encoder = preprocessing.LabelEncoder()\n",
    "dfn['zona prod']= label_encoder.fit_transform(dfn['zona prod'])\n",
    "dfm['zona prod'].unique()\n",
    "\n",
    "label_encoder = preprocessing.LabelEncoder()\n",
    "dfn['Ventilación forzada']= label_encoder.fit_transform(dfn['Ventilación forzada'])\n",
    "dfn['Ventilación forzada'].unique()"
   ]
  },
  {
   "cell_type": "code",
   "execution_count": null,
   "id": "22a43b58",
   "metadata": {},
   "outputs": [],
   "source": [
    "from sklearn.model_selection import train_test_split\n",
    "\n",
    "X3=dfn.drop('Consumo medio diario (g)', 1) \n",
    "\n",
    "y3=dfn['Consumo medio diario (g)']\n",
    "\n",
    "X3_train, X3_test, y3_train, y3_test = train_test_split(X3, y3, test_size=0.30, random_state=42)"
   ]
  },
  {
   "cell_type": "markdown",
   "id": "4f13a67f",
   "metadata": {},
   "source": [
    "## Linear regression"
   ]
  },
  {
   "cell_type": "code",
   "execution_count": null,
   "id": "e3d0d8d0",
   "metadata": {},
   "outputs": [],
   "source": [
    "from sklearn.linear_model import LinearRegression\n"
   ]
  },
  {
   "cell_type": "code",
   "execution_count": null,
   "id": "07d689bb",
   "metadata": {},
   "outputs": [],
   "source": [
    "model = LinearRegression(fit_intercept=True)\n",
    "model.fit(X3, y3)\n",
    "y3_train_pred = model.predict(X3_train)\n",
    "y3_test_pred = model.predict(X3_test)\n"
   ]
  },
  {
   "cell_type": "code",
   "execution_count": null,
   "id": "a2278eed",
   "metadata": {},
   "outputs": [],
   "source": [
    "print('Error en datos de train:', mean_squared_error(y3_train, y3_train_pred))\n",
    "print('Error en datos de test:', mean_squared_error(y3_test, y3_test_pred))\n",
    "\n",
    "lr_test_mse = mean_squared_error(y3_test, y3_test_pred)\n",
    "lr_train_mse = mean_squared_error(y3_train, y3_train_pred)"
   ]
  },
  {
   "cell_type": "code",
   "execution_count": null,
   "id": "5bbedb2f",
   "metadata": {},
   "outputs": [],
   "source": [
    "model.coef_"
   ]
  },
  {
   "cell_type": "code",
   "execution_count": null,
   "id": "0d36e7fb",
   "metadata": {},
   "outputs": [],
   "source": [
    "coeff_df2 = pd.DataFrame(model.coef_, X3.columns, columns=['Coefficient']).reset_index()\n",
    "coeff_df2"
   ]
  },
  {
   "cell_type": "code",
   "execution_count": null,
   "id": "c1e72423",
   "metadata": {},
   "outputs": [],
   "source": [
    "ax=sns.barplot(data=coeff_df2, x='Coefficient',y='index') \n",
    "ax.bar_label(ax.containers[0])\n",
    "ax.set(xlim=(-100, 40))\n",
    "ax.set(title='Coeficientes de correlación');"
   ]
  },
  {
   "cell_type": "markdown",
   "id": "8d48efc5",
   "metadata": {},
   "source": [
    "# KNN"
   ]
  },
  {
   "cell_type": "code",
   "execution_count": null,
   "id": "e391806d",
   "metadata": {},
   "outputs": [],
   "source": [
    "from sklearn.neighbors import KNeighborsRegressor\n",
    "k_range = range(1, 50)\n",
    "scores = []\n",
    "for k in k_range:\n",
    "    knn = KNeighborsRegressor(n_neighbors = k)\n",
    "    knn.fit(X3_train, y3_train)\n",
    "    scores.append(knn.score(X3_test, y3_test))\n",
    "plt.figure()\n",
    "plt.xlabel('k')\n",
    "plt.ylabel('accuracy')\n",
    "plt.scatter(k_range, scores)\n",
    "plt.xticks([0,5,10,20,30,40,50]);"
   ]
  },
  {
   "cell_type": "code",
   "execution_count": null,
   "id": "25db7bbf",
   "metadata": {},
   "outputs": [],
   "source": [
    "from sklearn.neighbors import KNeighborsRegressor\n",
    "\n",
    "model = KNeighborsRegressor(n_neighbors=5)\n",
    "model.fit(X3, y3)\n",
    "y3_train_pred = model.predict(X3_train)\n",
    "y3_test_pred = model.predict(X3_test)\n",
    "\n",
    "\n",
    "\n",
    "print('Error en datos de train:', mean_squared_error(y3_train, y3_train_pred))\n",
    "print('Error en datos de test:', mean_squared_error(y3_test, y3_test_pred))\n",
    "\n",
    "knr_test_mse = mean_squared_error(y3_test, y3_test_pred)\n",
    "knr_train_mse = mean_squared_error(y3_train, y3_train_pred)\n"
   ]
  },
  {
   "cell_type": "markdown",
   "id": "3b745b6b",
   "metadata": {},
   "source": [
    "# Random forest regression"
   ]
  },
  {
   "cell_type": "code",
   "execution_count": null,
   "id": "55a19d5d",
   "metadata": {},
   "outputs": [],
   "source": [
    "from sklearn.ensemble import RandomForestRegressor\n",
    "\n",
    "model = RandomForestRegressor(n_estimators=50, random_state=42)\n",
    "model.fit(X3, y3)\n",
    "y3_train_pred = model.predict(X3_train)\n",
    "y3_test_pred = model.predict(X3_test)"
   ]
  },
  {
   "cell_type": "code",
   "execution_count": null,
   "id": "b6a567d9",
   "metadata": {},
   "outputs": [],
   "source": [
    "print('Error en datos de train:', mean_squared_error(y3_train, y3_train_pred))\n",
    "print('Error en datos de test:', mean_squared_error(y3_test, y3_test_pred))\n",
    "\n",
    "rfr_test_mse = mean_squared_error(y3_train, y3_train_pred)\n",
    "rfr_train_mse = mean_squared_error(y3_test, y3_test_pred)"
   ]
  },
  {
   "cell_type": "markdown",
   "id": "fb04c5e4",
   "metadata": {},
   "source": [
    "# Xgboost"
   ]
  },
  {
   "cell_type": "code",
   "execution_count": null,
   "id": "ca4922d9",
   "metadata": {
    "scrolled": true
   },
   "outputs": [],
   "source": [
    "! pip install xgboost"
   ]
  },
  {
   "cell_type": "code",
   "execution_count": null,
   "id": "443c33b1",
   "metadata": {},
   "outputs": [],
   "source": [
    "import xgboost as xgb\n",
    "\n",
    "model = xgb.XGBRegressor(n_estimators=50, random_state=42)\n",
    "model.fit(X3, y3)\n",
    "y3_train_pred = model.predict(X3_train)\n",
    "y3_test_pred = model.predict(X3_test)"
   ]
  },
  {
   "cell_type": "code",
   "execution_count": null,
   "id": "50e0b8ce",
   "metadata": {},
   "outputs": [],
   "source": [
    "print('Error en datos de train:', mean_squared_error(y3_train, y3_train_pred))\n",
    "print('Error en datos de test:', mean_squared_error(y3_test, y3_test_pred))\n",
    "\n",
    "xgb_test_mse = mean_squared_error(y3_train, y3_train_pred)\n",
    "xgb_train_mse = mean_squared_error(y3_test, y3_test_pred)"
   ]
  },
  {
   "cell_type": "code",
   "execution_count": null,
   "id": "3d232858",
   "metadata": {},
   "outputs": [],
   "source": [
    "valores = [lr_train_mse, knr_train_mse, rfr_train_mse, xgb_train_mse]\n",
    "\n",
    "nombres = ['Lineal', 'Knn', 'Forest', 'XGB']\n",
    "\n",
    "plt.figure(figsize=(10, 6))\n",
    "plt.bar(nombres, valores, color='blue')\n",
    "\n",
    "plt.xlabel('Modelo')\n",
    "plt.ylabel('MSE Train')\n",
    "plt.title('Comparación de MSE entre modelos de regresión')\n",
    "\n",
    "for i, value in enumerate(valores):\n",
    "    plt.text(i, value, str(round(value, 2)), ha='center', va='bottom')\n",
    "\n",
    "plt.show()"
   ]
  },
  {
   "cell_type": "code",
   "execution_count": null,
   "id": "a53457f8",
   "metadata": {},
   "outputs": [],
   "source": [
    "valores = [lr_test_mse, knr_test_mse, rfr_test_mse, xgb_test_mse]\n",
    "\n",
    "nombres = ['Lineal', 'Knn', 'Forest', 'XGB']\n",
    "\n",
    "plt.figure(figsize=(10, 6))\n",
    "plt.bar(nombres, valores, color='blue')\n",
    "\n",
    "plt.xlabel('Modelo')\n",
    "plt.ylabel('MSE Test')\n",
    "plt.title('Comparación de MSE entre modelos de regresión')\n",
    "\n",
    "for i, value in enumerate(valores):\n",
    "    plt.text(i, value, str(round(value, 2)), ha='center', va='bottom')\n",
    "\n",
    "plt.show()"
   ]
  },
  {
   "cell_type": "code",
   "execution_count": null,
   "id": "15125f39",
   "metadata": {
    "scrolled": true
   },
   "outputs": [],
   "source": [
    "from sklearn.metrics import mean_squared_error\n",
    "mse = mean_squared_error(y3_test, y3_test_pred)\n",
    "print(\"MSE:\", mse)"
   ]
  },
  {
   "cell_type": "code",
   "execution_count": null,
   "id": "a678a107",
   "metadata": {},
   "outputs": [],
   "source": [
    "from sklearn.metrics import mean_squared_error\n",
    "rmse = np.sqrt(mse)\n",
    "print(\"RMSE:\", rmse)"
   ]
  },
  {
   "cell_type": "code",
   "execution_count": null,
   "id": "b4605262",
   "metadata": {},
   "outputs": [],
   "source": [
    "from sklearn.metrics import mean_absolute_error\n",
    "mae = mean_absolute_error(y3_test, y3_test_pred)\n",
    "print(\"MAE:\", mae)"
   ]
  },
  {
   "cell_type": "code",
   "execution_count": null,
   "id": "d8cddc01",
   "metadata": {},
   "outputs": [],
   "source": [
    "from sklearn.metrics import r2_score\n",
    "r2 = r2_score(y3_test, y3_test_pred)\n",
    "print(\"R^2:\", r2)"
   ]
  },
  {
   "cell_type": "markdown",
   "id": "99867739",
   "metadata": {},
   "source": [
    "Al igual que con las bases anteriores, utilizando los datos de la base original todos los modelos con excepción del KNN tienen valores muy bajos de MSE y elevada correlación. A continuación se realizarán pruebas con tratamientos diferentes de los datos."
   ]
  },
  {
   "cell_type": "markdown",
   "id": "37a0472f",
   "metadata": {},
   "source": [
    "## Cross validation"
   ]
  },
  {
   "cell_type": "code",
   "execution_count": null,
   "id": "d4fc6153",
   "metadata": {},
   "outputs": [],
   "source": [
    "from sklearn.model_selection import cross_val_score\n",
    "from sklearn.ensemble import RandomForestRegressor\n",
    "# crear el modelo\n",
    "model = RandomForestRegressor(random_state=42, n_estimators=10,max_depth=4)\n",
    "scores = cross_val_score(model, X3, y3, cv=7, verbose=1,scoring='r2')"
   ]
  },
  {
   "cell_type": "code",
   "execution_count": null,
   "id": "e07e8d8a",
   "metadata": {},
   "outputs": [],
   "source": [
    "print(\"%0.2f de r2 promedio con una desviacion estandar de %0.2f\" % (scores.mean(), scores.std()))"
   ]
  },
  {
   "cell_type": "markdown",
   "id": "8b67faab",
   "metadata": {},
   "source": [
    "Realizando una prueba de cross validation previa a hacer correr el modelo de RandomForestRegressor el valor de correlación se redujo al 85%, por lo que disminuyó el overfitting de los modelos anteriores."
   ]
  },
  {
   "cell_type": "markdown",
   "id": "818d5d11",
   "metadata": {},
   "source": [
    "## PCA"
   ]
  },
  {
   "cell_type": "code",
   "execution_count": null,
   "id": "0834c006",
   "metadata": {},
   "outputs": [],
   "source": [
    "from sklearn.preprocessing import StandardScaler"
   ]
  },
  {
   "cell_type": "code",
   "execution_count": null,
   "id": "bd2e5d9e",
   "metadata": {},
   "outputs": [],
   "source": [
    "scaler = StandardScaler()\n",
    "X = scaler.fit_transform(X3)"
   ]
  },
  {
   "cell_type": "code",
   "execution_count": null,
   "id": "1e86930e",
   "metadata": {},
   "outputs": [],
   "source": [
    "cov_matrix = np.cov(X.T)\n",
    "cov_matrix"
   ]
  },
  {
   "cell_type": "code",
   "execution_count": null,
   "id": "8ca005f6",
   "metadata": {},
   "outputs": [],
   "source": [
    "eig_values, eig_vectors = np.linalg.eig(cov_matrix)"
   ]
  },
  {
   "cell_type": "code",
   "execution_count": null,
   "id": "24dfe058",
   "metadata": {},
   "outputs": [],
   "source": [
    "eig_vectors"
   ]
  },
  {
   "cell_type": "code",
   "execution_count": null,
   "id": "61696d8f",
   "metadata": {},
   "outputs": [],
   "source": [
    "eig_values"
   ]
  },
  {
   "cell_type": "code",
   "execution_count": null,
   "id": "cdbe4674",
   "metadata": {},
   "outputs": [],
   "source": [
    "eig_values / eig_values.sum()"
   ]
  },
  {
   "cell_type": "code",
   "execution_count": null,
   "id": "40e6e87d",
   "metadata": {},
   "outputs": [],
   "source": [
    "idx = eig_values.argsort()[::-1]\n",
    "eig_values = eig_values[idx]\n",
    "eig_vectors = eig_vectors[:, idx]"
   ]
  },
  {
   "cell_type": "code",
   "execution_count": null,
   "id": "4a6fe092",
   "metadata": {},
   "outputs": [],
   "source": [
    "eig_vectors"
   ]
  },
  {
   "cell_type": "code",
   "execution_count": null,
   "id": "5f6accb5",
   "metadata": {},
   "outputs": [],
   "source": [
    "sns.scatterplot(eig_vectors);"
   ]
  },
  {
   "cell_type": "code",
   "execution_count": null,
   "id": "dff05535",
   "metadata": {},
   "outputs": [],
   "source": [
    "# A partir de los autovalores, calculamos la varianza explicada\n",
    "tot = sum(eig_values)\n",
    "var_exp = [(i / tot)*100 for i in sorted(eig_values, reverse=True)]\n",
    "cum_var_exp = np.cumsum(var_exp)\n",
    "\n",
    "# Representamos en un diagrama de barras la varianza explicada por cada autovalor, y la acumulada\n",
    "with plt.style.context('seaborn-pastel'):\n",
    "    plt.figure(figsize=(6, 4))\n",
    "\n",
    "    plt.bar(range(16), var_exp, alpha=0.5, align='center',\n",
    "            label='Varianza individual explicada', color='g')\n",
    "    plt.step(range(16), cum_var_exp, where='mid', linestyle='--', label='Varianza explicada acumulada')\n",
    "    plt.ylabel('Ratio de Varianza Explicada')\n",
    "    plt.xlabel('Componentes Principales')\n",
    "    plt.legend(loc='best')\n",
    "    plt.tight_layout()"
   ]
  },
  {
   "cell_type": "markdown",
   "id": "fde9284b",
   "metadata": {},
   "source": [
    "En el gráfico se observa que los tres primeros grupos explican la mayor parte de la varianza."
   ]
  },
  {
   "cell_type": "code",
   "execution_count": null,
   "id": "6ba8c040",
   "metadata": {},
   "outputs": [],
   "source": [
    "W = eig_vectors[:, :3]\n",
    "X_pca = X.dot(W)"
   ]
  },
  {
   "cell_type": "code",
   "execution_count": null,
   "id": "71307e9d",
   "metadata": {
    "scrolled": true
   },
   "outputs": [],
   "source": [
    "data_pca = pd.DataFrame(X_pca, columns = ['PC1', 'PC2','PC3'])\n",
    "data_pca = pd.concat([data_pca, y3], axis = 1)\n",
    "data_pca.head()"
   ]
  },
  {
   "cell_type": "code",
   "execution_count": null,
   "id": "c90e7d89",
   "metadata": {},
   "outputs": [],
   "source": [
    "data_pca.info()"
   ]
  },
  {
   "cell_type": "code",
   "execution_count": null,
   "id": "7ac84406",
   "metadata": {},
   "outputs": [],
   "source": [
    "data_pca.isna().sum()"
   ]
  },
  {
   "cell_type": "code",
   "execution_count": null,
   "id": "13b9776d",
   "metadata": {},
   "outputs": [],
   "source": [
    "data_pca=data_pca.dropna()"
   ]
  },
  {
   "cell_type": "code",
   "execution_count": null,
   "id": "38548ad6",
   "metadata": {},
   "outputs": [],
   "source": [
    "X4=data_pca.drop('Consumo medio diario (g)', 1) \n",
    "\n",
    "y4=data_pca['Consumo medio diario (g)']\n",
    "\n",
    "X4_train, X4_test, y4_train, y4_test = train_test_split(X4, y4, test_size=0.30, random_state=42)"
   ]
  },
  {
   "cell_type": "code",
   "execution_count": 135,
   "id": "92e3dcd6",
   "metadata": {},
   "outputs": [
    {
     "data": {
      "text/plain": [
       "PC1    0\n",
       "PC2    0\n",
       "PC3    0\n",
       "dtype: int64"
      ]
     },
     "execution_count": 135,
     "metadata": {},
     "output_type": "execute_result"
    }
   ],
   "source": [
    "X4.isna().sum()"
   ]
  },
  {
   "cell_type": "code",
   "execution_count": 136,
   "id": "7cab8bd6",
   "metadata": {},
   "outputs": [
    {
     "data": {
      "text/plain": [
       "0"
      ]
     },
     "execution_count": 136,
     "metadata": {},
     "output_type": "execute_result"
    }
   ],
   "source": [
    "y4.isna().sum()"
   ]
  },
  {
   "cell_type": "markdown",
   "id": "95666ab9",
   "metadata": {},
   "source": [
    "## Linear regression"
   ]
  },
  {
   "cell_type": "code",
   "execution_count": 139,
   "id": "7c147066",
   "metadata": {},
   "outputs": [],
   "source": [
    "model = LinearRegression(fit_intercept=True)\n",
    "model.fit(X4, y4)\n",
    "y4_train_pred = model.predict(X4_train)\n",
    "y4_test_pred = model.predict(X4_test)\n"
   ]
  },
  {
   "cell_type": "code",
   "execution_count": 140,
   "id": "42843a61",
   "metadata": {},
   "outputs": [
    {
     "name": "stdout",
     "output_type": "stream",
     "text": [
      "Error en datos de train: 75.6922260257605\n",
      "Error en datos de test: 75.06989611986045\n"
     ]
    }
   ],
   "source": [
    "print('Error en datos de train:', mean_squared_error(y4_train, y4_train_pred))\n",
    "print('Error en datos de test:', mean_squared_error(y4_test, y4_test_pred))\n",
    "\n",
    "lr_test_mse = mean_squared_error(y4_test, y4_test_pred)\n",
    "lr_train_mse = mean_squared_error(y4_train, y4_train_pred)"
   ]
  },
  {
   "cell_type": "code",
   "execution_count": 141,
   "id": "c70e5220",
   "metadata": {},
   "outputs": [
    {
     "data": {
      "text/plain": [
       "array([ 0.04809881, -0.17469432, -0.20888588])"
      ]
     },
     "execution_count": 141,
     "metadata": {},
     "output_type": "execute_result"
    }
   ],
   "source": [
    "model.coef_"
   ]
  },
  {
   "cell_type": "code",
   "execution_count": 142,
   "id": "62b12056",
   "metadata": {},
   "outputs": [
    {
     "data": {
      "text/html": [
       "<div>\n",
       "<style scoped>\n",
       "    .dataframe tbody tr th:only-of-type {\n",
       "        vertical-align: middle;\n",
       "    }\n",
       "\n",
       "    .dataframe tbody tr th {\n",
       "        vertical-align: top;\n",
       "    }\n",
       "\n",
       "    .dataframe thead th {\n",
       "        text-align: right;\n",
       "    }\n",
       "</style>\n",
       "<table border=\"1\" class=\"dataframe\">\n",
       "  <thead>\n",
       "    <tr style=\"text-align: right;\">\n",
       "      <th></th>\n",
       "      <th>index</th>\n",
       "      <th>Coefficient</th>\n",
       "    </tr>\n",
       "  </thead>\n",
       "  <tbody>\n",
       "    <tr>\n",
       "      <th>0</th>\n",
       "      <td>PC1</td>\n",
       "      <td>0.048099</td>\n",
       "    </tr>\n",
       "    <tr>\n",
       "      <th>1</th>\n",
       "      <td>PC2</td>\n",
       "      <td>-0.174694</td>\n",
       "    </tr>\n",
       "    <tr>\n",
       "      <th>2</th>\n",
       "      <td>PC3</td>\n",
       "      <td>-0.208886</td>\n",
       "    </tr>\n",
       "  </tbody>\n",
       "</table>\n",
       "</div>"
      ],
      "text/plain": [
       "  index  Coefficient\n",
       "0   PC1     0.048099\n",
       "1   PC2    -0.174694\n",
       "2   PC3    -0.208886"
      ]
     },
     "execution_count": 142,
     "metadata": {},
     "output_type": "execute_result"
    }
   ],
   "source": [
    "coeff_df2 = pd.DataFrame(model.coef_, X4.columns, columns=['Coefficient']).reset_index()\n",
    "coeff_df2"
   ]
  },
  {
   "cell_type": "code",
   "execution_count": 143,
   "id": "e3b25380",
   "metadata": {},
   "outputs": [
    {
     "data": {
      "image/png": "[encoded data removed]",
      "text/plain": [
       "<Figure size 640x480 with 1 Axes>"
      ]
     },
     "metadata": {},
     "output_type": "display_data"
    }
   ],
   "source": [
    "ax=sns.barplot(data=coeff_df2, x='Coefficient',y='index') \n",
    "ax.bar_label(ax.containers[0])\n",
    "ax.set(xlim=(-100, 40))\n",
    "ax.set(title='Coeficientes de correlación');"
   ]
  },
  {
   "cell_type": "markdown",
   "id": "6c90e878",
   "metadata": {},
   "source": [
    "# KNN"
   ]
  },
  {
   "cell_type": "code",
   "execution_count": 144,
   "id": "a0436214",
   "metadata": {},
   "outputs": [
    {
     "data": {
      "image/png": "[encoded data removed]",
      "text/plain": [
       "<Figure size 640x480 with 1 Axes>"
      ]
     },
     "metadata": {},
     "output_type": "display_data"
    }
   ],
   "source": [
    "from sklearn.neighbors import KNeighborsRegressor\n",
    "k_range = range(1, 50)\n",
    "scores = []\n",
    "for k in k_range:\n",
    "    knn = KNeighborsRegressor(n_neighbors = k)\n",
    "    knn.fit(X4_train, y4_train)\n",
    "    scores.append(knn.score(X4_test, y4_test))\n",
    "plt.figure()\n",
    "plt.xlabel('k')\n",
    "plt.ylabel('accuracy')\n",
    "plt.scatter(k_range, scores)\n",
    "plt.xticks([0,5,10,20,30,40,50]);"
   ]
  },
  {
   "cell_type": "code",
   "execution_count": 145,
   "id": "886815a6",
   "metadata": {},
   "outputs": [
    {
     "name": "stdout",
     "output_type": "stream",
     "text": [
      "Error en datos de train: 72.67589671631842\n",
      "Error en datos de test: 71.87307945907287\n"
     ]
    }
   ],
   "source": [
    "from sklearn.neighbors import KNeighborsRegressor\n",
    "\n",
    "model = KNeighborsRegressor(n_neighbors=40)\n",
    "model.fit(X4, y4)\n",
    "y4_train_pred = model.predict(X4_train)\n",
    "y4_test_pred = model.predict(X4_test)\n",
    "\n",
    "\n",
    "\n",
    "print('Error en datos de train:', mean_squared_error(y4_train, y4_train_pred))\n",
    "print('Error en datos de test:', mean_squared_error(y4_test, y4_test_pred))\n",
    "\n",
    "knr_test_mse = mean_squared_error(y4_test, y4_test_pred)\n",
    "knr_train_mse = mean_squared_error(y4_train, y4_train_pred)\n"
   ]
  },
  {
   "cell_type": "markdown",
   "id": "1033c41f",
   "metadata": {},
   "source": [
    "# Random forest regression"
   ]
  },
  {
   "cell_type": "code",
   "execution_count": 146,
   "id": "422ace9a",
   "metadata": {},
   "outputs": [],
   "source": [
    "from sklearn.ensemble import RandomForestRegressor\n",
    "\n",
    "model = RandomForestRegressor(n_estimators=50, random_state=42)\n",
    "model.fit(X4, y4)\n",
    "y4_train_pred = model.predict(X4_train)\n",
    "y4_test_pred = model.predict(X4_test)"
   ]
  },
  {
   "cell_type": "code",
   "execution_count": 147,
   "id": "2a8e11d1",
   "metadata": {},
   "outputs": [
    {
     "name": "stdout",
     "output_type": "stream",
     "text": [
      "Error en datos de train: 11.993211355243806\n",
      "Error en datos de test: 11.801563601923005\n"
     ]
    }
   ],
   "source": [
    "print('Error en datos de train:', mean_squared_error(y4_train, y4_train_pred))\n",
    "print('Error en datos de test:', mean_squared_error(y4_test, y4_test_pred))\n",
    "\n",
    "rfr_test_mse = mean_squared_error(y4_train, y4_train_pred)\n",
    "rfr_train_mse = mean_squared_error(y4_test, y4_test_pred)"
   ]
  },
  {
   "cell_type": "markdown",
   "id": "dae678ef",
   "metadata": {},
   "source": [
    "# Xgboost"
   ]
  },
  {
   "cell_type": "code",
   "execution_count": 148,
   "id": "25e79eb1",
   "metadata": {},
   "outputs": [],
   "source": [
    "import xgboost as xgb\n",
    "\n",
    "model = xgb.XGBRegressor(n_estimators=50, random_state=42)\n",
    "model.fit(X4, y4)\n",
    "y4_train_pred = model.predict(X4_train)\n",
    "y4_test_pred = model.predict(X4_test)"
   ]
  },
  {
   "cell_type": "code",
   "execution_count": 149,
   "id": "9c45c2ce",
   "metadata": {},
   "outputs": [
    {
     "name": "stdout",
     "output_type": "stream",
     "text": [
      "Error en datos de train: 61.285227852145155\n",
      "Error en datos de test: 59.28369880831099\n"
     ]
    }
   ],
   "source": [
    "print('Error en datos de train:', mean_squared_error(y4_train, y4_train_pred))\n",
    "print('Error en datos de test:', mean_squared_error(y4_test, y4_test_pred))\n",
    "\n",
    "xgb_test_mse = mean_squared_error(y4_train, y4_train_pred)\n",
    "xgb_train_mse = mean_squared_error(y4_test, y4_test_pred)"
   ]
  },
  {
   "cell_type": "code",
   "execution_count": 150,
   "id": "4d634012",
   "metadata": {},
   "outputs": [
    {
     "data": {
      "image/png": "[encoded data removed]",
      "text/plain": [
       "<Figure size 1000x600 with 1 Axes>"
      ]
     },
     "metadata": {},
     "output_type": "display_data"
    }
   ],
   "source": [
    "valores = [lr_train_mse, knr_train_mse, rfr_train_mse, xgb_train_mse]\n",
    "\n",
    "nombres = ['Lineal', 'Knn', 'Forest', 'XGB']\n",
    "\n",
    "plt.figure(figsize=(10, 6))\n",
    "plt.bar(nombres, valores, color='blue')\n",
    "\n",
    "plt.xlabel('Modelo')\n",
    "plt.ylabel('MSE Train')\n",
    "plt.title('Comparación de MSE entre modelos de regresión')\n",
    "\n",
    "for i, value in enumerate(valores):\n",
    "    plt.text(i, value, str(round(value, 2)), ha='center', va='bottom')\n",
    "\n",
    "plt.show()"
   ]
  },
  {
   "cell_type": "code",
   "execution_count": 151,
   "id": "739839f9",
   "metadata": {},
   "outputs": [
    {
     "data": {
      "image/png": "[encoded data removed]",
      "text/plain": [
       "<Figure size 1000x600 with 1 Axes>"
      ]
     },
     "metadata": {},
     "output_type": "display_data"
    }
   ],
   "source": [
    "valores = [lr_test_mse, knr_test_mse, rfr_test_mse, xgb_test_mse]\n",
    "\n",
    "nombres = ['Lineal', 'Knn', 'Forest', 'XGB']\n",
    "\n",
    "plt.figure(figsize=(10, 6))\n",
    "plt.bar(nombres, valores, color='blue')\n",
    "\n",
    "plt.xlabel('Modelo')\n",
    "plt.ylabel('MSE Test')\n",
    "plt.title('Comparación de MSE entre modelos de regresión')\n",
    "\n",
    "for i, value in enumerate(valores):\n",
    "    plt.text(i, value, str(round(value, 2)), ha='center', va='bottom')\n",
    "\n",
    "plt.show()"
   ]
  },
  {
   "cell_type": "code",
   "execution_count": 152,
   "id": "86f32c7f",
   "metadata": {
    "scrolled": true
   },
   "outputs": [
    {
     "name": "stdout",
     "output_type": "stream",
     "text": [
      "MSE: 59.28369880831099\n"
     ]
    }
   ],
   "source": [
    "from sklearn.metrics import mean_squared_error\n",
    "mse = mean_squared_error(y4_test, y4_test_pred)\n",
    "print(\"MSE:\", mse)"
   ]
  },
  {
   "cell_type": "code",
   "execution_count": 153,
   "id": "e78b70cd",
   "metadata": {},
   "outputs": [
    {
     "name": "stdout",
     "output_type": "stream",
     "text": [
      "RMSE: 7.699590820836584\n"
     ]
    }
   ],
   "source": [
    "from sklearn.metrics import mean_squared_error\n",
    "rmse = np.sqrt(mse)\n",
    "print(\"RMSE:\", rmse)"
   ]
  },
  {
   "cell_type": "code",
   "execution_count": 154,
   "id": "2ea29118",
   "metadata": {},
   "outputs": [
    {
     "name": "stdout",
     "output_type": "stream",
     "text": [
      "MAE: 6.0073149470693314\n"
     ]
    }
   ],
   "source": [
    "from sklearn.metrics import mean_absolute_error\n",
    "mae = mean_absolute_error(y4_test, y4_test_pred)\n",
    "print(\"MAE:\", mae)"
   ]
  },
  {
   "cell_type": "code",
   "execution_count": 155,
   "id": "70f08337",
   "metadata": {},
   "outputs": [
    {
     "name": "stdout",
     "output_type": "stream",
     "text": [
      "R^2: 0.210990514850671\n"
     ]
    }
   ],
   "source": [
    "from sklearn.metrics import r2_score\n",
    "r2 = r2_score(y4_test, y4_test_pred)\n",
    "print(\"R^2:\", r2)"
   ]
  },
  {
   "cell_type": "markdown",
   "id": "4633123d",
   "metadata": {},
   "source": [
    "Luego de reducir a 3 los componentes originales de la base todos los valores de MSE resultaron elevados con excepción de RandomForest, el coeficiente de determinación, a su vez, se redujo al 20%."
   ]
  },
  {
   "cell_type": "code",
   "execution_count": null,
   "id": "46a75565",
   "metadata": {},
   "outputs": [],
   "source": []
  }
 ],
 "metadata": {
  "kernelspec": {
   "display_name": "Python 3 (ipykernel)",
   "language": "python",
   "name": "python3"
  },
  "language_info": {
   "codemirror_mode": {
    "name": "ipython",
    "version": 3
   },
   "file_extension": ".py",
   "mimetype": "text/x-python",
   "name": "python",
   "nbconvert_exporter": "python",
   "pygments_lexer": "ipython3",
   "version": "3.9.13"
  }
 },
 "nbformat": 4,
 "nbformat_minor": 5
}
