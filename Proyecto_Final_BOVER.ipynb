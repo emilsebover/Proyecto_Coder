{
 "cells": [
  {
   "attachments": {},
   "cell_type": "markdown",
   "metadata": {},
   "source": [
    "Proyecto Final - Data Scientist Coderhouse\n",
    "Emilse Bover"
   ]
  },
  {
   "attachments": {},
   "cell_type": "markdown",
   "metadata": {},
   "source": [
    "*La producción de pollos parrilleros en Argentina se encuentra concentrada en unas pocas empresas y la mayoría de ellas son de tipo familiar. Las más grandes realizan todos los procesos de la cadena de producción: desde las cabañas de la genética (Abuelos) hasta la distribución en los puntos finales del producto terminado: cadenas de supermercados, minoristas, consumidor directo y puertos (productos de exportación).Los pollos parrilleros se crían en granjas conformadas por galpones en los que se ingresan los animales recién nacidos (pollitos BB), las empresas productoras proveen todos los insumos necesarios para la crianza (alimento, medicamentos, desinfectantes, material de cama, servicios de limpieza, entre otros) y el encargado o dueño de la granja (integrado) se ocupa del manejo de las aves y su ambiente (provisión de agua, alimento, condiciones de temperatura y humedad, etc.). La duración del ciclo de crianza es de aproximadamente 48 días y el peso final de alrededor de 2.8 Kilos. La empresa productora retira los animales para llevarlos al frigorífico. \n",
    "La producción se analiza en función de la eficiencia productiva de cada crianza. Una mayor eficiencia significa lograr un animal de mayor peso con el menor consumo de alimento posible ya que el alimento constituye aproximadamente el 70% del costo de producción. La relación alimento consumido/peso final logrado es la conversión alimenticia. El impacto de la mortalidad es negativo y es creciente con la edad: a mayor edad, más cantidad de alimento habrá consumido sin producir kilos.*\n",
    "*La edad a faena está condicionada por la demanda del sector de ventas: tamaño de las aves, cantidad de kilos; por el ritmo de crecimiento (ganancia media diaria de peso) y por las condiciones sanitarias (enfermedades).\n",
    "El valor de conversión como indicador productivo tiene la limitación de que no puede ser utilizado para comparar resultados entre granjas y períodos de tiempo por depender de la edad, el peso final y la mortalidad.\n",
    "Debido a ello se utilizan otros parámetros como la ganancia media diaria de peso (A.D.), la conversión ajustada a un peso teórico (Conversión aj. a 2.7 kg) y la relación Peso/Conversión.*\n",
    "\n",
    "*El resultado productivo será la resultante de la interacción de los siguientes factores:\n",
    "•La genética: La línea genética de las aves, el origen y edad de los reproductores (padres), el tipo de huevo que dio origen a los pollitos BB.\n",
    "•La nutrición: La composición de la dieta, la calidad de las materias primas utilizadas.\n",
    "•El ambiente: El tipo de galpón de crianza (convencional, ambiente controlado), las condiciones de temperatura y humedad y la disponibilidad de recursos: comederos, bebederos, ventiladores, etc.\n",
    "•La sanidad: Planes de vacunación y salud intestinal, medicaciones, lavado y desinfección, aplicación de medidas de bioseguridad, etc.\n",
    "El planteo del presente trabajo es analizar los diferentes factores que impactan sobre los resultados de ganancia media diaria de peso y sugerir acciones de manejo para mejorar los valores de este indicador productivo.*"
   ]
  },
  {
   "attachments": {},
   "cell_type": "markdown",
   "metadata": {},
   "source": [
    "**Definición de objetivo**\n",
    "El objetivo del presente trabajo es detectar el impacto de los factores que afectan al crecimiento de los pollos parrilleros para tomar decisiones que mejoren los resultados productivos. \n",
    "\n",
    "**Contexto comercial**\n",
    "El retorno económico de la empresa productora de pollos parrilleros depende de la obtención de mejores resultados productivos. A mayor ganancia de peso diaria, por ejemplo, el consumo total de alimento será menor disminuyendo el costo. Otro impacto positivo del aumento de la ganancia de peso diaria es que se reduce la edad a faena de los animales ya que se alcanza el peso deseado en menor cantidad de días. Esta reducción de días permite: liberación de superficie de producción (metros cuadrados de galpón, rotación), menor propensión a sufrir enfermedades y accidentes (por ejemplo cortes de luz). También el dueño de la granja tiene menores costos de luz y gas y por lo tanto mayores ganancias finales también.\n",
    "\n",
    "**Problema comercial**\n",
    "La empresa plantea los siguientes interrogantes: ¿Por qué la ganancia de peso no es similar en todas las granjas? ¿Por qué tampoco es uniforme a lo largo del año? ¿Es posible predecir el crecimiento en el futuro? ¿El alimento es el adecuado? ¿Qué tiene mayor impacto, el alimento o las condiciones del ambiente? ¿Es posible mejorar los valores de ganancia de peso manteniendo iguales las condiciones de genética, nutrición y ambiente (en el sentido estricto de la localización geográfica de las granjas).\n",
    "\n",
    "**Contexto analítico**\n",
    "La empresa ha provisto un archivo excel con información de resultados y otros parámetros con localización geográfica, tipo de granja y zona de producción.\n",
    "\n",
    "**Exploración de datos**\n",
    "Se realizarán gráficos para explorar los datos provistos."
   ]
  },
  {
   "attachments": {},
   "cell_type": "markdown",
   "metadata": {},
   "source": [
    "Importación de librerías"
   ]
  },
  {
   "cell_type": "code",
   "execution_count": 1,
   "metadata": {},
   "outputs": [
    {
     "name": "stdout",
     "output_type": "stream",
     "text": [
      "Requirement already satisfied: ipython-autotime in c:\\users\\ebover\\anaconda3\\lib\\site-packages (0.3.1)Note: you may need to restart the kernel to use updated packages.\n",
      "\n",
      "Requirement already satisfied: ipython in c:\\users\\ebover\\anaconda3\\lib\\site-packages (from ipython-autotime) (7.31.1)\n",
      "Requirement already satisfied: setuptools>=18.5 in c:\\users\\ebover\\anaconda3\\lib\\site-packages (from ipython->ipython-autotime) (63.4.1)\n",
      "Requirement already satisfied: jedi>=0.16 in c:\\users\\ebover\\anaconda3\\lib\\site-packages (from ipython->ipython-autotime) (0.18.1)\n",
      "Requirement already satisfied: decorator in c:\\users\\ebover\\anaconda3\\lib\\site-packages (from ipython->ipython-autotime) (5.1.1)\n",
      "Requirement already satisfied: pickleshare in c:\\users\\ebover\\anaconda3\\lib\\site-packages (from ipython->ipython-autotime) (0.7.5)\n",
      "Requirement already satisfied: traitlets>=4.2 in c:\\users\\ebover\\anaconda3\\lib\\site-packages (from ipython->ipython-autotime) (5.1.1)\n",
      "Requirement already satisfied: prompt-toolkit!=3.0.0,!=3.0.1,<3.1.0,>=2.0.0 in c:\\users\\ebover\\anaconda3\\lib\\site-packages (from ipython->ipython-autotime) (3.0.20)\n",
      "Requirement already satisfied: pygments in c:\\users\\ebover\\anaconda3\\lib\\site-packages (from ipython->ipython-autotime) (2.11.2)\n",
      "Requirement already satisfied: backcall in c:\\users\\ebover\\anaconda3\\lib\\site-packages (from ipython->ipython-autotime) (0.2.0)\n",
      "Requirement already satisfied: matplotlib-inline in c:\\users\\ebover\\anaconda3\\lib\\site-packages (from ipython->ipython-autotime) (0.1.6)\n",
      "Requirement already satisfied: colorama in c:\\users\\ebover\\anaconda3\\lib\\site-packages (from ipython->ipython-autotime) (0.4.5)\n",
      "Requirement already satisfied: parso<0.9.0,>=0.8.0 in c:\\users\\ebover\\anaconda3\\lib\\site-packages (from jedi>=0.16->ipython->ipython-autotime) (0.8.3)\n",
      "Requirement already satisfied: wcwidth in c:\\users\\ebover\\anaconda3\\lib\\site-packages (from prompt-toolkit!=3.0.0,!=3.0.1,<3.1.0,>=2.0.0->ipython->ipython-autotime) (0.2.5)\n",
      "time: 0 ns (started: 2023-06-30 14:35:10 -03:00)\n"
     ]
    },
    {
     "name": "stderr",
     "output_type": "stream",
     "text": [
      "WARNING: Ignoring invalid distribution -illow (c:\\users\\ebover\\anaconda3\\lib\\site-packages)\n",
      "WARNING: Ignoring invalid distribution -illow (c:\\users\\ebover\\anaconda3\\lib\\site-packages)\n"
     ]
    }
   ],
   "source": [
    "import numpy as np\n",
    "import pandas as pd\n",
    "#import pandas_profiling\n",
    "import plotly.express as px\n",
    "import seaborn as sns\n",
    "import matplotlib.pyplot as plt\n",
    "from prettytable import PrettyTable\n",
    "import xlsxwriter\n",
    "import datetime\n",
    "import statsmodels.api as sm\n",
    "import requests\n",
    "import json\n",
    "import plotly.express as px\n",
    "import ydata_profiling\n",
    "from matplotlib import rcParams\n",
    "from numpy import mean\n",
    "from numpy import std\n",
    "\n",
    "# Para modelaje:\n",
    "from sklearn.svm import SVR\n",
    "from sklearn.model_selection import train_test_split\n",
    "from sklearn.linear_model import LassoCV\n",
    "from sklearn.ensemble import RandomForestRegressor\n",
    "import xgboost as xgb\n",
    "from sklearn.impute import SimpleImputer\n",
    "from sklearn.compose import ColumnTransformer\n",
    "from sklearn.pipeline import Pipeline\n",
    "from sklearn.preprocessing import OneHotEncoder, StandardScaler\n",
    "from sklearn.model_selection import RandomizedSearchCV\n",
    "from sklearn.model_selection import cross_val_score\n",
    "from sklearn.feature_selection import VarianceThreshold\n",
    "from sklearn.ensemble import VotingRegressor\n",
    "from imblearn import FunctionSampler\n",
    "from sklearn import metrics\n",
    "%pip install ipython-autotime\n",
    "%load_ext autotime\n",
    "import pickle\n",
    "from sklearn.metrics import mean_squared_error, r2_score, mean_absolute_error\n",
    "from sklearn import preprocessing"
   ]
  },
  {
   "attachments": {},
   "cell_type": "markdown",
   "metadata": {},
   "source": [
    "Base de datos"
   ]
  },
  {
   "cell_type": "code",
   "execution_count": 2,
   "metadata": {},
   "outputs": [
    {
     "name": "stdout",
     "output_type": "stream",
     "text": [
      "time: 19.9 s (started: 2023-06-30 14:35:10 -03:00)\n"
     ]
    }
   ],
   "source": [
    "#Ingresos semanales compilado registra resultados finales de la producción en la pestaña BASE. Contiene además datos de genética, nutrición y sanidad.\n",
    "df = pd.read_excel(r\"C:\\Users\\ebover\\OneDrive - FRIGORIFICO DE AVES SOYCHU S.A.I.C.F.I.A\\ingresos semanales compilado.xlsx\",sheet_name='BASE', skiprows=1 , usecols=range(1,67))"
   ]
  },
  {
   "attachments": {},
   "cell_type": "markdown",
   "metadata": {},
   "source": [
    "Feature extraction preliminar"
   ]
  },
  {
   "cell_type": "code",
   "execution_count": 3,
   "metadata": {},
   "outputs": [
    {
     "name": "stdout",
     "output_type": "stream",
     "text": [
      "time: 62 ms (started: 2023-06-30 14:35:30 -03:00)\n"
     ]
    }
   ],
   "source": [
    "df.drop(df[(df['A.D.'] >100)].index, inplace=True) #Se eliminan valores erróneos\n",
    "df.drop(df[(df['Edad'] >70)].index, inplace=True) #Se elimninan edades fuera de estándar\n",
    "df.drop(df[(df['Destino'] =='EXP')].index, inplace=True) # se eliminan crianzas de pollos enviados a exportación"
   ]
  },
  {
   "cell_type": "code",
   "execution_count": 4,
   "metadata": {},
   "outputs": [
    {
     "data": {
      "text/plain": [
       "(14702, 66)"
      ]
     },
     "execution_count": 4,
     "metadata": {},
     "output_type": "execute_result"
    },
    {
     "name": "stdout",
     "output_type": "stream",
     "text": [
      "time: 15 ms (started: 2023-06-30 14:35:30 -03:00)\n"
     ]
    }
   ],
   "source": [
    "df.shape"
   ]
  },
  {
   "cell_type": "code",
   "execution_count": 5,
   "metadata": {},
   "outputs": [
    {
     "data": {
      "text/html": [
       "<div>\n",
       "<style scoped>\n",
       "    .dataframe tbody tr th:only-of-type {\n",
       "        vertical-align: middle;\n",
       "    }\n",
       "\n",
       "    .dataframe tbody tr th {\n",
       "        vertical-align: top;\n",
       "    }\n",
       "\n",
       "    .dataframe thead th {\n",
       "        text-align: right;\n",
       "    }\n",
       "</style>\n",
       "<table border=\"1\" class=\"dataframe\">\n",
       "  <thead>\n",
       "    <tr style=\"text-align: right;\">\n",
       "      <th></th>\n",
       "      <th>granja</th>\n",
       "      <th>Nombre</th>\n",
       "      <th>Primer BB</th>\n",
       "      <th>Cantid. BB</th>\n",
       "      <th>A Faena</th>\n",
       "      <th>% a 7 Días</th>\n",
       "      <th>% Mortan.</th>\n",
       "      <th>% Fal.</th>\n",
       "      <th>Kg. Pollo</th>\n",
       "      <th>P. Prom.</th>\n",
       "      <th>...</th>\n",
       "      <th>Índice</th>\n",
       "      <th>nd</th>\n",
       "      <th>zona climática</th>\n",
       "      <th>Cuartil EFS 2021</th>\n",
       "      <th>conv aj aviagen 2021</th>\n",
       "      <th>conv aj AVIAGEN</th>\n",
       "      <th>hepatitis</th>\n",
       "      <th>consumo total</th>\n",
       "      <th>Pes conv 2,7</th>\n",
       "      <th>zona prod</th>\n",
       "    </tr>\n",
       "  </thead>\n",
       "  <tbody>\n",
       "    <tr>\n",
       "      <th>0</th>\n",
       "      <td>2544</td>\n",
       "      <td>\"GRANJA DON MIGUEL\"</td>\n",
       "      <td>2014-11-13</td>\n",
       "      <td>36000</td>\n",
       "      <td>34964</td>\n",
       "      <td>0.55</td>\n",
       "      <td>2.88</td>\n",
       "      <td>-0.33</td>\n",
       "      <td>93360</td>\n",
       "      <td>2.670175</td>\n",
       "      <td>...</td>\n",
       "      <td>6</td>\n",
       "      <td>NaN</td>\n",
       "      <td>Arrecifes</td>\n",
       "      <td>NaN</td>\n",
       "      <td>2.133946</td>\n",
       "      <td>2.134802</td>\n",
       "      <td>NaN</td>\n",
       "      <td>5.682216</td>\n",
       "      <td>1.262878</td>\n",
       "      <td>BA</td>\n",
       "    </tr>\n",
       "    <tr>\n",
       "      <th>1</th>\n",
       "      <td>2558</td>\n",
       "      <td>LA MAMA</td>\n",
       "      <td>2014-11-07</td>\n",
       "      <td>57500</td>\n",
       "      <td>54217</td>\n",
       "      <td>0.83</td>\n",
       "      <td>5.71</td>\n",
       "      <td>-0.26</td>\n",
       "      <td>145260</td>\n",
       "      <td>2.679233</td>\n",
       "      <td>...</td>\n",
       "      <td>7</td>\n",
       "      <td>NaN</td>\n",
       "      <td>Arrecifes</td>\n",
       "      <td>NaN</td>\n",
       "      <td>2.315835</td>\n",
       "      <td>2.316431</td>\n",
       "      <td>NaN</td>\n",
       "      <td>6.193629</td>\n",
       "      <td>1.164476</td>\n",
       "      <td>BA</td>\n",
       "    </tr>\n",
       "    <tr>\n",
       "      <th>2</th>\n",
       "      <td>2761</td>\n",
       "      <td>LOS CHOCHOS</td>\n",
       "      <td>2014-11-13</td>\n",
       "      <td>39000</td>\n",
       "      <td>36483</td>\n",
       "      <td>0.92</td>\n",
       "      <td>6.45</td>\n",
       "      <td>-0.48</td>\n",
       "      <td>100360</td>\n",
       "      <td>2.750870</td>\n",
       "      <td>...</td>\n",
       "      <td>8</td>\n",
       "      <td>NaN</td>\n",
       "      <td>25 de mayo</td>\n",
       "      <td>NaN</td>\n",
       "      <td>2.266716</td>\n",
       "      <td>2.265256</td>\n",
       "      <td>NaN</td>\n",
       "      <td>6.263191</td>\n",
       "      <td>1.194771</td>\n",
       "      <td>BA</td>\n",
       "    </tr>\n",
       "    <tr>\n",
       "      <th>3</th>\n",
       "      <td>2524</td>\n",
       "      <td>GRANJA DIAMANTE</td>\n",
       "      <td>2014-11-14</td>\n",
       "      <td>30000</td>\n",
       "      <td>28231</td>\n",
       "      <td>1.35</td>\n",
       "      <td>5.90</td>\n",
       "      <td>1.07</td>\n",
       "      <td>77514</td>\n",
       "      <td>2.745705</td>\n",
       "      <td>...</td>\n",
       "      <td>15</td>\n",
       "      <td>NaN</td>\n",
       "      <td>Arrecifes</td>\n",
       "      <td>NaN</td>\n",
       "      <td>2.263520</td>\n",
       "      <td>2.262208</td>\n",
       "      <td>NaN</td>\n",
       "      <td>6.239843</td>\n",
       "      <td>1.196094</td>\n",
       "      <td>BA</td>\n",
       "    </tr>\n",
       "    <tr>\n",
       "      <th>4</th>\n",
       "      <td>2741</td>\n",
       "      <td>KBB ARRECIFES SA</td>\n",
       "      <td>2014-11-14</td>\n",
       "      <td>42000</td>\n",
       "      <td>38912</td>\n",
       "      <td>0.76</td>\n",
       "      <td>7.35</td>\n",
       "      <td>0.19</td>\n",
       "      <td>120920</td>\n",
       "      <td>3.107525</td>\n",
       "      <td>...</td>\n",
       "      <td>21</td>\n",
       "      <td>NaN</td>\n",
       "      <td>Arrecifes</td>\n",
       "      <td>NaN</td>\n",
       "      <td>2.189003</td>\n",
       "      <td>2.177307</td>\n",
       "      <td>NaN</td>\n",
       "      <td>7.053505</td>\n",
       "      <td>1.265246</td>\n",
       "      <td>BA</td>\n",
       "    </tr>\n",
       "  </tbody>\n",
       "</table>\n",
       "<p>5 rows × 66 columns</p>\n",
       "</div>"
      ],
      "text/plain": [
       "   granja               Nombre  Primer BB  Cantid. BB  A Faena  % a 7 Días  \\\n",
       "0    2544  \"GRANJA DON MIGUEL\" 2014-11-13       36000    34964        0.55   \n",
       "1    2558              LA MAMA 2014-11-07       57500    54217        0.83   \n",
       "2    2761          LOS CHOCHOS 2014-11-13       39000    36483        0.92   \n",
       "3    2524      GRANJA DIAMANTE 2014-11-14       30000    28231        1.35   \n",
       "4    2741     KBB ARRECIFES SA 2014-11-14       42000    38912        0.76   \n",
       "\n",
       "   % Mortan.  % Fal.  Kg. Pollo  P. Prom.  ...  Índice   nd zona climática  \\\n",
       "0       2.88   -0.33      93360  2.670175  ...       6  NaN      Arrecifes   \n",
       "1       5.71   -0.26     145260  2.679233  ...       7  NaN      Arrecifes   \n",
       "2       6.45   -0.48     100360  2.750870  ...       8  NaN     25 de mayo   \n",
       "3       5.90    1.07      77514  2.745705  ...      15  NaN      Arrecifes   \n",
       "4       7.35    0.19     120920  3.107525  ...      21  NaN      Arrecifes   \n",
       "\n",
       "   Cuartil EFS 2021  conv aj aviagen 2021  conv aj AVIAGEN  hepatitis  \\\n",
       "0               NaN              2.133946         2.134802        NaN   \n",
       "1               NaN              2.315835         2.316431        NaN   \n",
       "2               NaN              2.266716         2.265256        NaN   \n",
       "3               NaN              2.263520         2.262208        NaN   \n",
       "4               NaN              2.189003         2.177307        NaN   \n",
       "\n",
       "   consumo total  Pes conv 2,7  zona prod  \n",
       "0       5.682216      1.262878         BA  \n",
       "1       6.193629      1.164476         BA  \n",
       "2       6.263191      1.194771         BA  \n",
       "3       6.239843      1.196094         BA  \n",
       "4       7.053505      1.265246         BA  \n",
       "\n",
       "[5 rows x 66 columns]"
      ]
     },
     "execution_count": 5,
     "metadata": {},
     "output_type": "execute_result"
    },
    {
     "name": "stdout",
     "output_type": "stream",
     "text": [
      "time: 31 ms (started: 2023-06-30 14:35:30 -03:00)\n"
     ]
    }
   ],
   "source": [
    "df.head()"
   ]
  },
  {
   "attachments": {},
   "cell_type": "markdown",
   "metadata": {},
   "source": [
    "La base de datos posee 14.629 filas, cada una de las cuáles representa una crianza de una granja. La base tiene 66 columnas con información sobre las características de la granja, su ubicación y los resultados de producción obtenidos."
   ]
  },
  {
   "cell_type": "code",
   "execution_count": 6,
   "metadata": {},
   "outputs": [
    {
     "name": "stdout",
     "output_type": "stream",
     "text": [
      "Shape:  (14702, 66)\n",
      "+------------------------------+----------------+----------------+-------------+---------+----------------+---------------------+\n",
      "|           Variable           |      Tipo      | Cant. No Nulos | Cant. Nulos | % Nulos | Valores Únicos |       Ejemplo       |\n",
      "+------------------------------+----------------+----------------+-------------+---------+----------------+---------------------+\n",
      "|            granja            |     int64      |     14702      |      0      |   0.0   |      753       |         2544        |\n",
      "|            Nombre            |     object     |     14702      |      0      |   0.0   |      784       | \"GRANJA DON MIGUEL\" |\n",
      "|          Primer BB           | datetime64[ns] |     14702      |      0      |   0.0   |      1974      | 2014-11-13 00:00:00 |\n",
      "|          Cantid. BB          |     int64      |     14702      |      0      |   0.0   |      2397      |        36000        |\n",
      "|           A Faena            |     int64      |     14702      |      0      |   0.0   |     12280      |        34964        |\n",
      "|          % a 7 Días          |    float64     |     14702      |      0      |   0.0   |      620       |         0.55        |\n",
      "|          % Mortan.           |    float64     |     14702      |      0      |   0.0   |      2236      |         2.88        |\n",
      "|            % Fal.            |    float64     |     14702      |      0      |   0.0   |      1144      |        -0.33        |\n",
      "|          Kg. Pollo           |     int64      |     14702      |      0      |   0.0   |      9696      |        93360        |\n",
      "|           P. Prom.           |    float64     |     14702      |      0      |   0.0   |      4488      |  2.6701750371811004 |\n",
      "|          Kg. Alim.           |     int64      |     14702      |      0      |   0.0   |     14408      |        198673       |\n",
      "|             Conv             |    float64     |     14702      |      0      |   0.0   |      6216      |  2.1280312767780636 |\n",
      "|         Ulto. Levan.         | datetime64[ns] |     14702      |      0      |   0.0   |      2464      | 2015-01-01 00:00:00 |\n",
      "|             Edad             |    float64     |     14702      |      0      |   0.0   |      212       |         49.0        |\n",
      "|             A.D.             |    float64     |     14702      |      0      |   0.0   |      2392      |        54.49        |\n",
      "|            E.F.S.            |    float64     |     14702      |      0      |   0.0   |      316       |        249.0        |\n",
      "|             Gas              |    float64     |     10269      |     4433    |  30.15  |      5277      |        1456.0       |\n",
      "|         $ x Ave Ter.         |    float64     |     14699      |      3      |   0.02  |     13896      |        2.0878       |\n",
      "|        Gas x Ave In.         |    float64     |      6347      |     8355    |  56.83  |      1816      |         0.0         |\n",
      "|         Bonificación         |    float64     |     10795      |     3907    |  26.57  |     10477      |       14067.9       |\n",
      "|         Total Liqu.          |    float64     |     14701      |      1      |   0.01  |     14697      |       72997.74      |\n",
      "| Total Liq. con Bioseguridad  |    float64     |     14701      |      1      |   0.01  |     14698      |       72997.74      |\n",
      "|   $ AVE FINAL POR SISTEMA    |    float64     |     14700      |      2      |   0.01  |     14700      |  2.087797162796019  |\n",
      "|         año ingreso          |     int64      |     14702      |      0      |   0.0   |       10       |         2014        |\n",
      "|         mes ingreso          |     int64      |     14702      |      0      |   0.0   |       12       |          11         |\n",
      "|        semana ingreso        |     int64      |     14702      |      0      |   0.0   |       53       |          46         |\n",
      "|         año levante          |     int64      |     14702      |      0      |   0.0   |       9        |         2015        |\n",
      "|         mes levante          |     int64      |     14702      |      0      |   0.0   |       12       |          1          |\n",
      "|        semana levante        |     int64      |     14702      |      0      |   0.0   |       53       |          1          |\n",
      "|             sexo             |     object     |     14702      |      0      |   0.0   |       4        |          H          |\n",
      "|             zona             |     object     |     14702      |      0      |   0.0   |       2        |          BA         |\n",
      "|        Tipo de granja        |     object     |     14702      |      0      |   0.0   |       2        |      integrada      |\n",
      "|       Estación del año       |     object     |     14702      |      0      |   0.0   |       4        |        verano       |\n",
      "|        Días de receso        |     int64      |     14702      |      0      |   0.0   |      166       |          14         |\n",
      "|   Días de receso corregido   |     int64      |     14702      |      0      |   0.0   |       28       |          14         |\n",
      "|  Fuera de rango por receso   |    float64     |      367       |    14335    |   97.5  |       2        |         1.0         |\n",
      "| fuera de rango por mortandad |    float64     |      1429      |    13273    |  90.28  |       2        |         1.0         |\n",
      "|  mortandad semanal promedio  |    float64     |     14702      |      0      |   0.0   |     12207      |  0.4114285714285714 |\n",
      "| Conversión ajustada a 2,7 kg |    float64     |     14702      |      0      |   0.0   |      6730      |   2.13797293105103  |\n",
      "|   Consumo medio diario (g)   |    float64     |     14702      |      0      |   0.0   |     14045      |  115.96359170598797 |\n",
      "|  Consumo ajustado a 2,7 kg   |    float64     |     14702      |      0      |   0.0   |      6677      |  5.7725269138377815 |\n",
      "|           Destino            |     object     |     14702      |      0      |   0.0   |       1        |          MI         |\n",
      "|          capacidad           |    float64     |     14702      |      0      |   0.0   |      778       |        3000.0       |\n",
      "|           Densidad           |    float64     |     14702      |      0      |   0.0   |      5411      |         12.0        |\n",
      "|         kg pollo/m2          |    float64     |     14702      |      0      |   0.0   |     13230      |        31.12        |\n",
      "|        aves/comedero         |    float64     |     11925      |     2777    |  18.89  |      1261      |  58.32349941724941  |\n",
      "|   Cuartil por crianza 2017   |     object     |      8354      |     6348    |  43.18  |       5        |          IV         |\n",
      "|     Ventilación forzada      |     object     |     14702      |      0      |   0.0   |       3        |          S          |\n",
      "|     Ambiente controlado      |     object     |     14702      |      0      |   0.0   |       2        |          N          |\n",
      "| Distancia a planta alimento  |    float64     |     14320      |     382     |   2.6   |      202       |         88.0        |\n",
      "|          localidad           |     object     |     14702      |      0      |   0.0   |       41       |      San Pedro      |\n",
      "|           experim            |    float64     |      144       |    14558    |  99.02  |       2        |         1.0         |\n",
      "|         dada de baja         |     object     |      1487      |    13215    |  89.89  |       2        |          x          |\n",
      "|       Cuartil EFS 2019       |     object     |     12435      |     2267    |  15.42  |       5        |          I          |\n",
      "|     % desvío consumo std     |    float64     |     14702      |      0      |   0.0   |     14378      | -10.389276240444559 |\n",
      "|     EFS según ranking 19     |     object     |      8140      |     6562    |  44.63  |       5        |          IV         |\n",
      "|            Índice            |     int64      |     14702      |      0      |   0.0   |     14702      |          6          |\n",
      "|              nd              |     object     |       17       |    14685    |  99.88  |       3        |      corregido      |\n",
      "|        zona climática        |     object     |     14702      |      0      |   0.0   |       5        |      Arrecifes      |\n",
      "|       Cuartil EFS 2021       |     object     |      4278      |    10424    |   70.9  |       5        |          II         |\n",
      "|     conv aj aviagen 2021     |    float64     |     14702      |      0      |   0.0   |     10134      |  2.1339455669050515 |\n",
      "|       conv aj AVIAGEN        |    float64     |     14702      |      0      |   0.0   |     10134      |  2.1348015433379537 |\n",
      "|          hepatitis           |     object     |      730       |    13972    |  95.03  |       2        |      hepatitis      |\n",
      "|        consumo total         |    float64     |     14702      |      0      |   0.0   |      9815      |  5.6822159935934105 |\n",
      "|         Pes conv 2,7         |    float64     |     14702      |      0      |   0.0   |      6704      |  1.2628784774523207 |\n",
      "|          zona prod           |     object     |     14702      |      0      |   0.0   |       3        |          BA         |\n",
      "+------------------------------+----------------+----------------+-------------+---------+----------------+---------------------+\n",
      "\n",
      "time: 812 ms (started: 2023-06-30 14:35:30 -03:00)\n"
     ]
    }
   ],
   "source": [
    "def df_explore(df):\n",
    "    # Tabla de descripción de las principales características de cada columna de un conjunto de datos\n",
    "    print( 'Shape: ', df.shape)\n",
    "\n",
    "    t = PrettyTable(['Variable',\n",
    "                     'Tipo',\n",
    "                     'Cant. No Nulos',\n",
    "                     'Cant. Nulos',\n",
    "                     '% Nulos',\n",
    "                     'Valores Únicos',\n",
    "                     'Ejemplo',\n",
    "                    ])\n",
    "\n",
    "    for c in df.columns:\n",
    "        t.add_row([c,                                                                                         # Variable\n",
    "                   df[c].dtype,                                                                               # tipo\n",
    "                   len(df[c])-np.sum(df[c].isna().sort_values(ascending=False)),                              # Cant. No Nulos\n",
    "                   np.sum(df[c].isna()),                                                                 # Cant. Nulos\n",
    "                   np.round(df[c].isna().sort_values(ascending=False).sum()/len(df)*100, 2),        # % Nulos\n",
    "                   np.count_nonzero(df[c].unique()),                                                          # Valores Únicos\n",
    "                   df[~df[c].isnull()][c].iloc[0],                                                            # Ejemplo\n",
    "                  ])\n",
    "    print(t)\n",
    "    print()\n",
    "    return\n",
    "\n",
    "df_explore(df)"
   ]
  },
  {
   "attachments": {},
   "cell_type": "markdown",
   "metadata": {},
   "source": [
    "Análisis exploratorio de datos"
   ]
  },
  {
   "attachments": {},
   "cell_type": "markdown",
   "metadata": {},
   "source": [
    "### Histograma de ganancia media diaria de peso (A.D.)"
   ]
  },
  {
   "cell_type": "code",
   "execution_count": 7,
   "metadata": {},
   "outputs": [
    {
     "data": {
      "image/png": "[encoded data removed]",
      "text/plain": [
       "<Figure size 640x480 with 1 Axes>"
      ]
     },
     "metadata": {},
     "output_type": "display_data"
    },
    {
     "name": "stdout",
     "output_type": "stream",
     "text": [
      "time: 718 ms (started: 2023-06-30 14:35:31 -03:00)\n"
     ]
    }
   ],
   "source": [
    "#Gráfico 1\n",
    "#Histograma de Ganancia media diaria de peso#\n",
    "ax=sns.histplot(data=df, x='A.D.')\n",
    "ax.set(title='Ganancia media diaria de peso', ylabel='cantidad de crianzas');"
   ]
  },
  {
   "cell_type": "code",
   "execution_count": 8,
   "metadata": {},
   "outputs": [
    {
     "data": {
      "text/plain": [
       "57.86142111639684"
      ]
     },
     "execution_count": 8,
     "metadata": {},
     "output_type": "execute_result"
    },
    {
     "name": "stdout",
     "output_type": "stream",
     "text": [
      "time: 16 ms (started: 2023-06-30 14:35:31 -03:00)\n"
     ]
    }
   ],
   "source": [
    "df['A.D.'].mean()\n"
   ]
  },
  {
   "attachments": {},
   "cell_type": "markdown",
   "metadata": {},
   "source": [
    "La **ganancia media diaria de peso** es una medida que permite comparar resultados entre granjas y además permite ver la evolución de los resultados globales de la empresa a lo largo del tiempo. A mayor valor, mejor será el resultado. El valor medio es de **57.87** gramos de peso ganados promedio por día."
   ]
  },
  {
   "attachments": {},
   "cell_type": "markdown",
   "metadata": {},
   "source": [
    "### A.D. por año"
   ]
  },
  {
   "cell_type": "code",
   "execution_count": 9,
   "metadata": {},
   "outputs": [
    {
     "data": {
      "image/png": "[encoded data removed]",
      "text/plain": [
       "<Figure size 640x480 with 1 Axes>"
      ]
     },
     "metadata": {},
     "output_type": "display_data"
    },
    {
     "name": "stdout",
     "output_type": "stream",
     "text": [
      "time: 688 ms (started: 2023-06-30 14:35:31 -03:00)\n"
     ]
    }
   ],
   "source": [
    "# Gráfico 2\n",
    "ax=sns.barplot(data=df, x='año levante',y='A.D.') \n",
    "ax.bar_label(ax.containers[0],fmt='%.2f')\n",
    "ax.set(ylim=(40, 70))\n",
    "ax.set(title='Ganancia media diaria de peso por año');"
   ]
  },
  {
   "attachments": {},
   "cell_type": "markdown",
   "metadata": {},
   "source": [
    "Se observa que las ganancias de peso de los años 2017 y 2021 fueron superiores al resto de los años analizados. "
   ]
  },
  {
   "attachments": {},
   "cell_type": "markdown",
   "metadata": {},
   "source": [
    "### A.D. por estación del año"
   ]
  },
  {
   "cell_type": "code",
   "execution_count": 10,
   "metadata": {},
   "outputs": [
    {
     "data": {
      "image/png": "[encoded data removed]",
      "text/plain": [
       "<Figure size 640x480 with 1 Axes>"
      ]
     },
     "metadata": {},
     "output_type": "display_data"
    },
    {
     "name": "stdout",
     "output_type": "stream",
     "text": [
      "time: 453 ms (started: 2023-06-30 14:35:32 -03:00)\n"
     ]
    }
   ],
   "source": [
    "# Gráfico 3\n",
    "ax=sns.barplot(data=df, x='Estación del año',y='A.D.') \n",
    "ax.bar_label(ax.containers[0],fmt='%.2f')\n",
    "ax.set(ylim=(40, 70))\n",
    "ax.set(title='Ganancia media diaria de peso por estación del año');"
   ]
  },
  {
   "attachments": {},
   "cell_type": "markdown",
   "metadata": {},
   "source": [
    "Se observa que la ganancia de peso es variable según la estación del año en la que se desarrolle la crianza, las mayores ganancias de peso ocurren en primavera y las peores en verano dando indicios de que el ambiente puede estar afectando el resultado productivo."
   ]
  },
  {
   "attachments": {},
   "cell_type": "markdown",
   "metadata": {},
   "source": [
    "### A.D. por mes del año"
   ]
  },
  {
   "cell_type": "code",
   "execution_count": 11,
   "metadata": {},
   "outputs": [
    {
     "data": {
      "text/plain": [
       "{1: 'ene',\n",
       " 2: 'feb',\n",
       " 3: 'mar',\n",
       " 4: 'abr',\n",
       " 5: 'may',\n",
       " 6: 'jun',\n",
       " 7: 'jul',\n",
       " 8: 'ago',\n",
       " 9: 'sep',\n",
       " 10: 'oct',\n",
       " 11: 'nov',\n",
       " 12: 'dic'}"
      ]
     },
     "execution_count": 11,
     "metadata": {},
     "output_type": "execute_result"
    },
    {
     "name": "stdout",
     "output_type": "stream",
     "text": [
      "time: 0 ns (started: 2023-06-30 14:35:33 -03:00)\n"
     ]
    }
   ],
   "source": [
    "dic={1:'ene',2:'feb', 3:'mar',4:'abr',5:'may', 6:'jun',7:'jul',8:'ago',9:'sep', 10:'oct',11:'nov', 12:'dic'}\n",
    "dic"
   ]
  },
  {
   "cell_type": "code",
   "execution_count": 12,
   "metadata": {},
   "outputs": [
    {
     "name": "stdout",
     "output_type": "stream",
     "text": [
      "time: 16 ms (started: 2023-06-30 14:35:33 -03:00)\n"
     ]
    }
   ],
   "source": [
    "#subset para mes del año\n",
    "df_3=df[['A.D.','mes levante']]\n",
    "df_3=df_3.groupby('mes levante').mean().reset_index().round(1)"
   ]
  },
  {
   "cell_type": "code",
   "execution_count": 13,
   "metadata": {},
   "outputs": [
    {
     "name": "stdout",
     "output_type": "stream",
     "text": [
      "time: 16 ms (started: 2023-06-30 14:35:33 -03:00)\n"
     ]
    }
   ],
   "source": [
    "df_3 = df_3.replace({'mes levante': dic})"
   ]
  },
  {
   "cell_type": "code",
   "execution_count": 14,
   "metadata": {},
   "outputs": [
    {
     "data": {
      "image/png": "[encoded data removed]",
      "text/plain": [
       "<Figure size 640x480 with 1 Axes>"
      ]
     },
     "metadata": {},
     "output_type": "display_data"
    },
    {
     "name": "stdout",
     "output_type": "stream",
     "text": [
      "time: 265 ms (started: 2023-06-30 14:35:33 -03:00)\n"
     ]
    }
   ],
   "source": [
    "# Gráfico 4\n",
    "ax=sns.barplot(data=df_3, x='mes levante',y='A.D.') \n",
    "ax.set(ylim=(40, 70))\n",
    "ax.bar_label(ax.containers[0],fmt='%.2f')\n",
    "ax.set(title='Ganancia media diaria de peso por mes del año');"
   ]
  },
  {
   "attachments": {},
   "cell_type": "markdown",
   "metadata": {},
   "source": [
    "Se observan también diferencias en los valores de ganancia media diaria de peso en los meses del año. Debido a ello a continuación se realizará un análisis según los tipos de ventilación que poseen las granjas."
   ]
  },
  {
   "attachments": {},
   "cell_type": "markdown",
   "metadata": {},
   "source": [
    "Para ello se han clasificado las granjas en tres categorías:\n",
    "\n",
    "S: Ventilación forzada: La ventilación del galpón se realiza a través de la entrada del aire por inlets o aberturas en la zona superior de los galpones y su posterior expulsión por extractores.\n",
    "\n",
    "N: Granjas con sistema de ventilación convencional con encendido manual de ventiladores y/o apertura y cierre de las cortinas laterales del galpón.\n",
    "\n",
    "MI: Mixtas: Granjas que tienen ambos tipos de galpones."
   ]
  },
  {
   "attachments": {},
   "cell_type": "markdown",
   "metadata": {},
   "source": [
    "### Histograma A.D. por tipo de ventilación"
   ]
  },
  {
   "cell_type": "code",
   "execution_count": 15,
   "metadata": {},
   "outputs": [
    {
     "name": "stdout",
     "output_type": "stream",
     "text": [
      "time: 15 ms (started: 2023-06-30 14:35:33 -03:00)\n"
     ]
    }
   ],
   "source": [
    "# Datos para gráfico 5\n",
    "serie1 =  df.loc[df['Ventilación forzada'] == 'N' ,'A.D.']\n",
    "serie2 =  df.loc[df['Ventilación forzada'] == 'S' ,'A.D.']\n",
    "serie3 =  df.loc[df['Ventilación forzada'] == 'MI' ,'A.D.']"
   ]
  },
  {
   "cell_type": "code",
   "execution_count": 16,
   "metadata": {},
   "outputs": [
    {
     "data": {
      "image/png": "[encoded data removed]",
      "text/plain": [
       "<Figure size 640x480 with 1 Axes>"
      ]
     },
     "metadata": {},
     "output_type": "display_data"
    },
    {
     "name": "stdout",
     "output_type": "stream",
     "text": [
      "time: 344 ms (started: 2023-06-30 14:35:33 -03:00)\n"
     ]
    }
   ],
   "source": [
    "# Gráfico 5\n",
    "plt.hist([serie1, serie2, serie3], bins=30, density= True, color=['green', 'red','blue'], alpha=0.4)\n",
    "plt.title('Ganancia media diaria de peso por tipo de ventilación')\n",
    "plt.xlabel('A.D.')\n",
    "plt.ylabel('Frecuencia de resultados')\n",
    "plt.legend(['N', 'S','MI']);"
   ]
  },
  {
   "attachments": {},
   "cell_type": "markdown",
   "metadata": {},
   "source": [
    "### A.D. por sistema de ventilación "
   ]
  },
  {
   "cell_type": "code",
   "execution_count": 17,
   "metadata": {},
   "outputs": [
    {
     "data": {
      "image/png": "[encoded data removed]",
      "text/plain": [
       "<Figure size 640x480 with 1 Axes>"
      ]
     },
     "metadata": {},
     "output_type": "display_data"
    },
    {
     "name": "stdout",
     "output_type": "stream",
     "text": [
      "time: 282 ms (started: 2023-06-30 14:35:33 -03:00)\n"
     ]
    }
   ],
   "source": [
    "# Gráfico 6\n",
    "ax=sns.barplot(data=df, x='Ventilación forzada',y='A.D.', order=['N','S','MI'], palette=['green', 'red','blue']) \n",
    "ax.bar_label(ax.containers[0],fmt='%.2f')\n",
    "ax.set(ylim=(40, 70))\n",
    "ax.set(title='Ganancia diaria de peso por sistema de ventilación');"
   ]
  },
  {
   "attachments": {},
   "cell_type": "markdown",
   "metadata": {},
   "source": [
    "Habría indicios de que el sistema de ventilación tiene impacto sobre la ganancia de peso de los animales."
   ]
  },
  {
   "attachments": {},
   "cell_type": "markdown",
   "metadata": {},
   "source": [
    "### A.D. por zona de producción"
   ]
  },
  {
   "cell_type": "code",
   "execution_count": 18,
   "metadata": {},
   "outputs": [
    {
     "data": {
      "image/png": "[encoded data removed]",
      "text/plain": [
       "<Figure size 640x480 with 1 Axes>"
      ]
     },
     "metadata": {},
     "output_type": "display_data"
    },
    {
     "name": "stdout",
     "output_type": "stream",
     "text": [
      "time: 266 ms (started: 2023-06-30 14:35:34 -03:00)\n"
     ]
    }
   ],
   "source": [
    "# Gráfico 7\n",
    "ax=sns.barplot(data=df, x='zona prod',y='A.D.') \n",
    "ax.bar_label(ax.containers[0],fmt='%.2f')\n",
    "ax.set(ylim=(40, 70))\n",
    "ax.set(title='Ganancia diaria de peso por zona de producción');"
   ]
  },
  {
   "attachments": {},
   "cell_type": "markdown",
   "metadata": {},
   "source": [
    "A nivel de promedios, hay diferencias entre las zonas del país donde se encuentran ubicadas las granjas."
   ]
  },
  {
   "attachments": {},
   "cell_type": "markdown",
   "metadata": {},
   "source": [
    "### A.D. por zona de producción dispersión"
   ]
  },
  {
   "cell_type": "code",
   "execution_count": 19,
   "metadata": {},
   "outputs": [
    {
     "data": {
      "image/png": "[encoded data removed]",
      "text/plain": [
       "<Figure size 640x480 with 1 Axes>"
      ]
     },
     "metadata": {},
     "output_type": "display_data"
    },
    {
     "name": "stdout",
     "output_type": "stream",
     "text": [
      "time: 125 ms (started: 2023-06-30 14:35:34 -03:00)\n"
     ]
    }
   ],
   "source": [
    "# Gráfico 8\n",
    "ax=sns.boxplot(data=df, x='zona prod', y='A.D.') \n",
    "ax.set(title='Ganancia diaria de peso por zona de producción');"
   ]
  },
  {
   "attachments": {},
   "cell_type": "markdown",
   "metadata": {},
   "source": [
    "Los mejores resultados se encuentran en la zona de Crespo (CR), no solo porque tiene mayores valores de ganancia de peso sino también porque los resultados tienen menor dispersión y prácticamente no posee resultados atípicos."
   ]
  },
  {
   "cell_type": "code",
   "execution_count": null,
   "metadata": {},
   "outputs": [],
   "source": []
  },
  {
   "cell_type": "code",
   "execution_count": 20,
   "metadata": {},
   "outputs": [
    {
     "data": {
      "image/png": "[encoded data removed]",
      "text/plain": [
       "<Figure size 640x480 with 1 Axes>"
      ]
     },
     "metadata": {},
     "output_type": "display_data"
    },
    {
     "name": "stdout",
     "output_type": "stream",
     "text": [
      "time: 1 s (started: 2023-06-30 14:35:34 -03:00)\n"
     ]
    }
   ],
   "source": [
    "# Gráfico 9\n",
    "ax=sns.regplot(data=df, x = 'Consumo medio diario (g)', y = 'A.D.',\n",
    "            scatter_kws = {\"color\": \"black\", \"alpha\": 0.5},\n",
    "            line_kws = {\"color\": \"red\"},\n",
    "            ci = 99)\n",
    "ax.set(title='Ganancia diaria de peso y consumo de alimento');\n",
    "\n",
    "\n",
    "\n"
   ]
  },
  {
   "cell_type": "code",
   "execution_count": 21,
   "metadata": {},
   "outputs": [
    {
     "data": {
      "text/plain": [
       "0.6441996537292715"
      ]
     },
     "execution_count": 21,
     "metadata": {},
     "output_type": "execute_result"
    },
    {
     "name": "stdout",
     "output_type": "stream",
     "text": [
      "time: 0 ns (started: 2023-06-30 14:35:35 -03:00)\n"
     ]
    }
   ],
   "source": [
    "df['A.D.'].corr(df['Consumo medio diario (g)'])"
   ]
  },
  {
   "attachments": {},
   "cell_type": "markdown",
   "metadata": {},
   "source": [
    "Se observa una correlación considerable entre la ganancia media diaria de peso y el consumo de alimento. Debido a ello se utilizará la variable Consumo medio diario de alimento (g) como variable dependiente en los modelos de machine learning de regresión que se probarán."
   ]
  },
  {
   "attachments": {},
   "cell_type": "markdown",
   "metadata": {},
   "source": [
    "Preparación de los datos"
   ]
  },
  {
   "cell_type": "code",
   "execution_count": 22,
   "metadata": {},
   "outputs": [
    {
     "data": {
      "text/html": [
       "<div>\n",
       "<style scoped>\n",
       "    .dataframe tbody tr th:only-of-type {\n",
       "        vertical-align: middle;\n",
       "    }\n",
       "\n",
       "    .dataframe tbody tr th {\n",
       "        vertical-align: top;\n",
       "    }\n",
       "\n",
       "    .dataframe thead th {\n",
       "        text-align: right;\n",
       "    }\n",
       "</style>\n",
       "<table border=\"1\" class=\"dataframe\">\n",
       "  <thead>\n",
       "    <tr style=\"text-align: right;\">\n",
       "      <th></th>\n",
       "      <th>Días de receso corregido</th>\n",
       "      <th>granja</th>\n",
       "      <th>Cantid. BB</th>\n",
       "      <th>% a 7 Días</th>\n",
       "      <th>% Mortan.</th>\n",
       "      <th>Edad</th>\n",
       "      <th>mes levante</th>\n",
       "      <th>Consumo medio diario (g)</th>\n",
       "      <th>Estación del año</th>\n",
       "      <th>Densidad</th>\n",
       "      <th>Ventilación forzada</th>\n",
       "      <th>Ambiente controlado</th>\n",
       "      <th>localidad</th>\n",
       "      <th>zona climática</th>\n",
       "      <th>zona prod</th>\n",
       "    </tr>\n",
       "  </thead>\n",
       "  <tbody>\n",
       "    <tr>\n",
       "      <th>0</th>\n",
       "      <td>14</td>\n",
       "      <td>2544</td>\n",
       "      <td>36000</td>\n",
       "      <td>0.55</td>\n",
       "      <td>2.88</td>\n",
       "      <td>49.0</td>\n",
       "      <td>1</td>\n",
       "      <td>115.963592</td>\n",
       "      <td>verano</td>\n",
       "      <td>12.000000</td>\n",
       "      <td>S</td>\n",
       "      <td>N</td>\n",
       "      <td>San Pedro</td>\n",
       "      <td>Arrecifes</td>\n",
       "      <td>BA</td>\n",
       "    </tr>\n",
       "    <tr>\n",
       "      <th>1</th>\n",
       "      <td>12</td>\n",
       "      <td>2558</td>\n",
       "      <td>57500</td>\n",
       "      <td>0.83</td>\n",
       "      <td>5.71</td>\n",
       "      <td>52.9</td>\n",
       "      <td>1</td>\n",
       "      <td>117.081839</td>\n",
       "      <td>verano</td>\n",
       "      <td>10.454545</td>\n",
       "      <td>N</td>\n",
       "      <td>N</td>\n",
       "      <td>Salto</td>\n",
       "      <td>Arrecifes</td>\n",
       "      <td>BA</td>\n",
       "    </tr>\n",
       "    <tr>\n",
       "      <th>2</th>\n",
       "      <td>11</td>\n",
       "      <td>2761</td>\n",
       "      <td>39000</td>\n",
       "      <td>0.92</td>\n",
       "      <td>6.45</td>\n",
       "      <td>49.0</td>\n",
       "      <td>1</td>\n",
       "      <td>127.820226</td>\n",
       "      <td>verano</td>\n",
       "      <td>9.470000</td>\n",
       "      <td>N</td>\n",
       "      <td>N</td>\n",
       "      <td>Chivilcoy</td>\n",
       "      <td>25 de mayo</td>\n",
       "      <td>BA</td>\n",
       "    </tr>\n",
       "    <tr>\n",
       "      <th>3</th>\n",
       "      <td>9</td>\n",
       "      <td>2524</td>\n",
       "      <td>30000</td>\n",
       "      <td>1.35</td>\n",
       "      <td>5.90</td>\n",
       "      <td>49.0</td>\n",
       "      <td>1</td>\n",
       "      <td>127.343729</td>\n",
       "      <td>verano</td>\n",
       "      <td>10.000000</td>\n",
       "      <td>N</td>\n",
       "      <td>N</td>\n",
       "      <td>San Pedro</td>\n",
       "      <td>Arrecifes</td>\n",
       "      <td>BA</td>\n",
       "    </tr>\n",
       "    <tr>\n",
       "      <th>4</th>\n",
       "      <td>10</td>\n",
       "      <td>2741</td>\n",
       "      <td>42000</td>\n",
       "      <td>0.76</td>\n",
       "      <td>7.35</td>\n",
       "      <td>51.0</td>\n",
       "      <td>1</td>\n",
       "      <td>138.304026</td>\n",
       "      <td>verano</td>\n",
       "      <td>10.769231</td>\n",
       "      <td>N</td>\n",
       "      <td>N</td>\n",
       "      <td>Arrecifes</td>\n",
       "      <td>Arrecifes</td>\n",
       "      <td>BA</td>\n",
       "    </tr>\n",
       "  </tbody>\n",
       "</table>\n",
       "</div>"
      ],
      "text/plain": [
       "   Días de receso corregido  granja  Cantid. BB  % a 7 Días  % Mortan.  Edad  \\\n",
       "0                        14    2544       36000        0.55       2.88  49.0   \n",
       "1                        12    2558       57500        0.83       5.71  52.9   \n",
       "2                        11    2761       39000        0.92       6.45  49.0   \n",
       "3                         9    2524       30000        1.35       5.90  49.0   \n",
       "4                        10    2741       42000        0.76       7.35  51.0   \n",
       "\n",
       "   mes levante  Consumo medio diario (g) Estación del año   Densidad  \\\n",
       "0            1                115.963592           verano  12.000000   \n",
       "1            1                117.081839           verano  10.454545   \n",
       "2            1                127.820226           verano   9.470000   \n",
       "3            1                127.343729           verano  10.000000   \n",
       "4            1                138.304026           verano  10.769231   \n",
       "\n",
       "  Ventilación forzada Ambiente controlado  localidad zona climática zona prod  \n",
       "0                   S                   N  San Pedro      Arrecifes        BA  \n",
       "1                   N                   N      Salto      Arrecifes        BA  \n",
       "2                   N                   N  Chivilcoy     25 de mayo        BA  \n",
       "3                   N                   N  San Pedro      Arrecifes        BA  \n",
       "4                   N                   N  Arrecifes      Arrecifes        BA  "
      ]
     },
     "execution_count": 22,
     "metadata": {},
     "output_type": "execute_result"
    },
    {
     "name": "stdout",
     "output_type": "stream",
     "text": [
      "time: 31 ms (started: 2023-06-30 14:35:35 -03:00)\n"
     ]
    }
   ],
   "source": [
    "#subset para modelo\n",
    "dfm=df[['Días de receso corregido','granja','Cantid. BB','% a 7 Días','% Mortan.','Edad','mes levante','Consumo medio diario (g)','Estación del año','Densidad','Ventilación forzada','Ambiente controlado','localidad','zona climática','zona prod' ]]\n",
    "dfm.head()"
   ]
  },
  {
   "cell_type": "code",
   "execution_count": 23,
   "metadata": {},
   "outputs": [
    {
     "data": {
      "text/plain": [
       "(14702, 15)"
      ]
     },
     "execution_count": 23,
     "metadata": {},
     "output_type": "execute_result"
    },
    {
     "name": "stdout",
     "output_type": "stream",
     "text": [
      "time: 16 ms (started: 2023-06-30 14:35:35 -03:00)\n"
     ]
    }
   ],
   "source": [
    "dfm.shape"
   ]
  },
  {
   "attachments": {},
   "cell_type": "markdown",
   "metadata": {},
   "source": [
    "Se seleccionan las variables que pueden tener impacto en el consumo de alimento."
   ]
  },
  {
   "cell_type": "code",
   "execution_count": 24,
   "metadata": {},
   "outputs": [
    {
     "data": {
      "image/png": "[encoded data removed]",
      "text/plain": [
       "<Figure size 640x480 with 1 Axes>"
      ]
     },
     "metadata": {},
     "output_type": "display_data"
    },
    {
     "name": "stdout",
     "output_type": "stream",
     "text": [
      "time: 203 ms (started: 2023-06-30 14:35:35 -03:00)\n"
     ]
    }
   ],
   "source": [
    "#Gráfico 10\n",
    "ax=sns.boxplot(data=dfm, y='Consumo medio diario (g)') \n",
    "ax.set(title='Consumo medio diario');"
   ]
  },
  {
   "attachments": {},
   "cell_type": "markdown",
   "metadata": {},
   "source": [
    "Se observa una gran cantidad de valores outliers para la variable consumo por lo se generarán dos subsets para analizarlos por separado: \n",
    "dfmwo= Base de datos sin valores outliers\n",
    "dfmout= Base de datos compuesta únicamente por valores outliers"
   ]
  },
  {
   "cell_type": "code",
   "execution_count": 25,
   "metadata": {},
   "outputs": [
    {
     "data": {
      "text/plain": [
       "(14496, 15)"
      ]
     },
     "execution_count": 25,
     "metadata": {},
     "output_type": "execute_result"
    },
    {
     "name": "stdout",
     "output_type": "stream",
     "text": [
      "time: 16 ms (started: 2023-06-30 14:35:35 -03:00)\n"
     ]
    }
   ],
   "source": [
    "# Encontramos el Q1, Q3, y el rango intercuartílico para cada columna\n",
    "from scipy import stats\n",
    "\n",
    "\n",
    "Q1 = dfm['Consumo medio diario (g)'].quantile(q=.25)\n",
    "Q3 = dfm['Consumo medio diario (g)'].quantile(q=.75)\n",
    "IQR = Q3-Q1\n",
    "\n",
    "# Solo mantenemos filas que esten dentro de 1.5*IQR de Q1 y Q3\n",
    "dfm = dfm[~((dfm['Consumo medio diario (g)'] < (Q1-1.5*IQR)) | (dfm['Consumo medio diario (g)'] > (Q3+1.5*IQR)))]\n",
    "\n",
    "# Calculamos cuantas filas desaparecerian\n",
    "dfm.shape\n"
   ]
  },
  {
   "cell_type": "code",
   "execution_count": 26,
   "metadata": {},
   "outputs": [
    {
     "data": {
      "text/plain": [
       "111.34920212765958"
      ]
     },
     "execution_count": 26,
     "metadata": {},
     "output_type": "execute_result"
    },
    {
     "name": "stdout",
     "output_type": "stream",
     "text": [
      "time: 0 ns (started: 2023-06-30 14:35:35 -03:00)\n"
     ]
    }
   ],
   "source": [
    "Q1"
   ]
  },
  {
   "cell_type": "code",
   "execution_count": 27,
   "metadata": {},
   "outputs": [
    {
     "data": {
      "text/plain": [
       "122.63551643148399"
      ]
     },
     "execution_count": 27,
     "metadata": {},
     "output_type": "execute_result"
    },
    {
     "name": "stdout",
     "output_type": "stream",
     "text": [
      "time: 0 ns (started: 2023-06-30 14:35:35 -03:00)\n"
     ]
    }
   ],
   "source": [
    "Q3"
   ]
  },
  {
   "cell_type": "code",
   "execution_count": 28,
   "metadata": {},
   "outputs": [
    {
     "data": {
      "text/plain": [
       "11.286314303824412"
      ]
     },
     "execution_count": 28,
     "metadata": {},
     "output_type": "execute_result"
    },
    {
     "name": "stdout",
     "output_type": "stream",
     "text": [
      "time: 0 ns (started: 2023-06-30 14:35:35 -03:00)\n"
     ]
    }
   ],
   "source": [
    "IQR"
   ]
  },
  {
   "cell_type": "code",
   "execution_count": 29,
   "metadata": {},
   "outputs": [
    {
     "name": "stdout",
     "output_type": "stream",
     "text": [
      "<class 'pandas.core.frame.DataFrame'>\n",
      "Index: 14496 entries, 0 to 15821\n",
      "Data columns (total 15 columns):\n",
      " #   Column                    Non-Null Count  Dtype  \n",
      "---  ------                    --------------  -----  \n",
      " 0   Días de receso corregido  14496 non-null  int64  \n",
      " 1   granja                    14496 non-null  int64  \n",
      " 2   Cantid. BB                14496 non-null  int64  \n",
      " 3   % a 7 Días                14496 non-null  float64\n",
      " 4   % Mortan.                 14496 non-null  float64\n",
      " 5   Edad                      14496 non-null  float64\n",
      " 6   mes levante               14496 non-null  int64  \n",
      " 7   Consumo medio diario (g)  14496 non-null  float64\n",
      " 8   Estación del año          14496 non-null  object \n",
      " 9   Densidad                  14496 non-null  float64\n",
      " 10  Ventilación forzada       14496 non-null  object \n",
      " 11  Ambiente controlado       14496 non-null  object \n",
      " 12  localidad                 14496 non-null  object \n",
      " 13  zona climática            14496 non-null  object \n",
      " 14  zona prod                 14496 non-null  object \n",
      "dtypes: float64(5), int64(4), object(6)\n",
      "memory usage: 1.8+ MB\n",
      "time: 15 ms (started: 2023-06-30 14:35:36 -03:00)\n"
     ]
    }
   ],
   "source": [
    "dfm.info()"
   ]
  },
  {
   "attachments": {},
   "cell_type": "markdown",
   "metadata": {},
   "source": [
    "# Encoding"
   ]
  },
  {
   "attachments": {},
   "cell_type": "markdown",
   "metadata": {},
   "source": [
    "## Transformaciones categóricas"
   ]
  },
  {
   "cell_type": "code",
   "execution_count": 30,
   "metadata": {},
   "outputs": [
    {
     "data": {
      "text/plain": [
       "array([[0., 0., 0., 1.],\n",
       "       [0., 0., 0., 1.],\n",
       "       [0., 0., 0., 1.],\n",
       "       ...,\n",
       "       [0., 1., 0., 0.],\n",
       "       [0., 1., 0., 0.],\n",
       "       [0., 1., 0., 0.]])"
      ]
     },
     "execution_count": 30,
     "metadata": {},
     "output_type": "execute_result"
    },
    {
     "name": "stdout",
     "output_type": "stream",
     "text": [
      "time: 15 ms (started: 2023-06-30 14:35:36 -03:00)\n"
     ]
    }
   ],
   "source": [
    "encoder = OneHotEncoder()\n",
    "data = encoder.fit_transform(dfm['Estación del año'].values.reshape(-1, 1))\n",
    "data\n",
    "data = encoder.fit_transform(dfm['Estación del año'].values.reshape(-1, 1)).toarray()\n",
    "data"
   ]
  },
  {
   "cell_type": "code",
   "execution_count": 31,
   "metadata": {},
   "outputs": [
    {
     "data": {
      "text/plain": [
       "[array(['invierno', 'otoño', 'primavera', 'verano'], dtype=object)]"
      ]
     },
     "execution_count": 31,
     "metadata": {},
     "output_type": "execute_result"
    },
    {
     "name": "stdout",
     "output_type": "stream",
     "text": [
      "time: 0 ns (started: 2023-06-30 14:35:36 -03:00)\n"
     ]
    }
   ],
   "source": [
    "encoder.categories_"
   ]
  },
  {
   "cell_type": "code",
   "execution_count": 32,
   "metadata": {},
   "outputs": [
    {
     "name": "stdout",
     "output_type": "stream",
     "text": [
      "time: 16 ms (started: 2023-06-30 14:35:36 -03:00)\n"
     ]
    }
   ],
   "source": [
    "dfm = pd.concat([\n",
    "    dfm.drop('Estación del año', axis = 1),\n",
    "    pd.DataFrame(data, columns = encoder.categories_[0])\n",
    "], axis = 1)"
   ]
  },
  {
   "cell_type": "code",
   "execution_count": 33,
   "metadata": {},
   "outputs": [
    {
     "name": "stdout",
     "output_type": "stream",
     "text": [
      "time: 16 ms (started: 2023-06-30 14:35:36 -03:00)\n"
     ]
    }
   ],
   "source": [
    "encoder = OneHotEncoder()\n",
    "data = encoder.fit_transform(dfm['Ambiente controlado'].values.reshape(-1, 1))\n",
    "data\n",
    "data = encoder.fit_transform(dfm['Ambiente controlado'].values.reshape(-1, 1)).toarray()\n",
    "data\n",
    "encoder.categories_\n",
    "dfm = pd.concat([\n",
    "    dfm.drop('Ambiente controlado', axis = 1),\n",
    "    pd.DataFrame(data, columns = encoder.categories_[0])\n",
    "], axis = 1)\n"
   ]
  },
  {
   "cell_type": "code",
   "execution_count": 34,
   "metadata": {},
   "outputs": [
    {
     "name": "stdout",
     "output_type": "stream",
     "text": [
      "time: 32 ms (started: 2023-06-30 14:35:36 -03:00)\n"
     ]
    }
   ],
   "source": [
    "encoder = OneHotEncoder()\n",
    "data = encoder.fit_transform(dfm['localidad'].values.reshape(-1, 1))\n",
    "data\n",
    "data = encoder.fit_transform(dfm['localidad'].values.reshape(-1, 1)).toarray()\n",
    "data\n",
    "encoder.categories_\n",
    "dfm = pd.concat([\n",
    "    dfm.drop('localidad', axis = 1),\n",
    "    pd.DataFrame(data, columns = encoder.categories_[0])\n",
    "], axis = 1)"
   ]
  },
  {
   "cell_type": "code",
   "execution_count": 35,
   "metadata": {},
   "outputs": [
    {
     "name": "stdout",
     "output_type": "stream",
     "text": [
      "time: 31 ms (started: 2023-06-30 14:35:36 -03:00)\n"
     ]
    }
   ],
   "source": [
    "encoder = OneHotEncoder()\n",
    "data = encoder.fit_transform(dfm['zona climática'].values.reshape(-1, 1))\n",
    "data\n",
    "data = encoder.fit_transform(dfm['zona climática'].values.reshape(-1, 1)).toarray()\n",
    "data\n",
    "encoder.categories_\n",
    "dfm = pd.concat([\n",
    "    dfm.drop('zona climática', axis = 1),\n",
    "    pd.DataFrame(data, columns = encoder.categories_[0])\n",
    "], axis = 1)"
   ]
  },
  {
   "cell_type": "code",
   "execution_count": 36,
   "metadata": {},
   "outputs": [
    {
     "name": "stdout",
     "output_type": "stream",
     "text": [
      "time: 31 ms (started: 2023-06-30 14:35:36 -03:00)\n"
     ]
    }
   ],
   "source": [
    "encoder = OneHotEncoder()\n",
    "data = encoder.fit_transform(dfm['zona prod'].values.reshape(-1, 1))\n",
    "data\n",
    "data = encoder.fit_transform(dfm['zona prod'].values.reshape(-1, 1)).toarray()\n",
    "data\n",
    "encoder.categories_\n",
    "dfm = pd.concat([\n",
    "    dfm.drop('zona prod', axis = 1),\n",
    "    pd.DataFrame(data, columns = encoder.categories_[0])\n",
    "], axis = 1)"
   ]
  },
  {
   "cell_type": "code",
   "execution_count": 37,
   "metadata": {},
   "outputs": [
    {
     "name": "stdout",
     "output_type": "stream",
     "text": [
      "time: 31 ms (started: 2023-06-30 14:35:36 -03:00)\n"
     ]
    }
   ],
   "source": [
    "encoder = OneHotEncoder()\n",
    "data = encoder.fit_transform(dfm['Ventilación forzada'].values.reshape(-1, 1))\n",
    "data\n",
    "data = encoder.fit_transform(dfm['Ventilación forzada'].values.reshape(-1, 1)).toarray()\n",
    "data\n",
    "encoder.categories_\n",
    "dfm = pd.concat([\n",
    "    dfm.drop('Ventilación forzada', axis = 1),\n",
    "    pd.DataFrame(data, columns = encoder.categories_[0])\n",
    "], axis = 1)\n"
   ]
  },
  {
   "cell_type": "code",
   "execution_count": 38,
   "metadata": {},
   "outputs": [
    {
     "data": {
      "text/plain": [
       "(15822, 72)"
      ]
     },
     "execution_count": 38,
     "metadata": {},
     "output_type": "execute_result"
    },
    {
     "name": "stdout",
     "output_type": "stream",
     "text": [
      "time: 0 ns (started: 2023-06-30 14:35:36 -03:00)\n"
     ]
    }
   ],
   "source": [
    "dfm.shape"
   ]
  },
  {
   "cell_type": "code",
   "execution_count": 39,
   "metadata": {},
   "outputs": [
    {
     "data": {
      "text/plain": [
       "Días de receso corregido    1326\n",
       "granja                      1326\n",
       "Cantid. BB                  1326\n",
       "% a 7 Días                  1326\n",
       "% Mortan.                   1326\n",
       "                            ... \n",
       "NaN                            0\n",
       "MI                             0\n",
       "N                              0\n",
       "S                              0\n",
       "NaN                            0\n",
       "Length: 72, dtype: int64"
      ]
     },
     "execution_count": 39,
     "metadata": {},
     "output_type": "execute_result"
    },
    {
     "name": "stdout",
     "output_type": "stream",
     "text": [
      "time: 16 ms (started: 2023-06-30 14:35:36 -03:00)\n"
     ]
    }
   ],
   "source": [
    "dfm.isna().sum()"
   ]
  },
  {
   "cell_type": "code",
   "execution_count": 40,
   "metadata": {},
   "outputs": [
    {
     "name": "stdout",
     "output_type": "stream",
     "text": [
      "time: 15 ms (started: 2023-06-30 14:35:36 -03:00)\n"
     ]
    }
   ],
   "source": [
    "dfm=dfm.dropna()"
   ]
  },
  {
   "cell_type": "code",
   "execution_count": 41,
   "metadata": {},
   "outputs": [
    {
     "data": {
      "text/plain": [
       "(13205, 72)"
      ]
     },
     "execution_count": 41,
     "metadata": {},
     "output_type": "execute_result"
    },
    {
     "name": "stdout",
     "output_type": "stream",
     "text": [
      "time: 16 ms (started: 2023-06-30 14:35:36 -03:00)\n"
     ]
    }
   ],
   "source": [
    "dfm.shape"
   ]
  },
  {
   "cell_type": "code",
   "execution_count": 42,
   "metadata": {},
   "outputs": [
    {
     "data": {
      "text/plain": [
       "Días de receso corregido    0\n",
       "granja                      0\n",
       "Cantid. BB                  0\n",
       "% a 7 Días                  0\n",
       "% Mortan.                   0\n",
       "                           ..\n",
       "NaN                         0\n",
       "MI                          0\n",
       "N                           0\n",
       "S                           0\n",
       "NaN                         0\n",
       "Length: 72, dtype: int64"
      ]
     },
     "execution_count": 42,
     "metadata": {},
     "output_type": "execute_result"
    },
    {
     "name": "stdout",
     "output_type": "stream",
     "text": [
      "time: 31 ms (started: 2023-06-30 14:35:36 -03:00)\n"
     ]
    }
   ],
   "source": [
    "dfm.isna().sum()"
   ]
  },
  {
   "attachments": {},
   "cell_type": "markdown",
   "metadata": {},
   "source": [
    "Modelos de regresión"
   ]
  },
  {
   "cell_type": "code",
   "execution_count": 43,
   "metadata": {},
   "outputs": [
    {
     "name": "stdout",
     "output_type": "stream",
     "text": [
      "time: 31 ms (started: 2023-06-30 14:35:36 -03:00)\n"
     ]
    }
   ],
   "source": [
    "from sklearn.model_selection import train_test_split\n",
    "\n",
    "X3=dfm.drop('Consumo medio diario (g)', axis=1) \n",
    "\n",
    "y3=dfm['Consumo medio diario (g)']\n",
    "\n",
    "X3_train, X3_test, y3_train, y3_test = train_test_split(X3, y3, test_size=0.30, random_state=42)"
   ]
  },
  {
   "attachments": {},
   "cell_type": "markdown",
   "metadata": {},
   "source": [
    "## Linear regression"
   ]
  },
  {
   "cell_type": "code",
   "execution_count": 44,
   "metadata": {},
   "outputs": [
    {
     "name": "stdout",
     "output_type": "stream",
     "text": [
      "time: 78 ms (started: 2023-06-30 14:35:36 -03:00)\n"
     ]
    },
    {
     "name": "stderr",
     "output_type": "stream",
     "text": [
      "c:\\Users\\ebover\\Anaconda3\\lib\\site-packages\\sklearn\\utils\\validation.py:1688: FutureWarning: Feature names only support names that are all strings. Got feature names with dtypes: ['float', 'str']. An error will be raised in 1.2.\n",
      "  warnings.warn(\n",
      "c:\\Users\\ebover\\Anaconda3\\lib\\site-packages\\sklearn\\utils\\validation.py:1688: FutureWarning: Feature names only support names that are all strings. Got feature names with dtypes: ['float', 'str']. An error will be raised in 1.2.\n",
      "  warnings.warn(\n",
      "c:\\Users\\ebover\\Anaconda3\\lib\\site-packages\\sklearn\\utils\\validation.py:1688: FutureWarning: Feature names only support names that are all strings. Got feature names with dtypes: ['float', 'str']. An error will be raised in 1.2.\n",
      "  warnings.warn(\n"
     ]
    }
   ],
   "source": [
    "from sklearn.linear_model import LinearRegression\n",
    "\n",
    "model = LinearRegression(fit_intercept=True)\n",
    "model.fit(X3, y3)\n",
    "y3_train_pred = model.predict(X3_train)\n",
    "y3_test_pred = model.predict(X3_test)\n",
    "\n",
    "lr_test_mse = mean_squared_error(y3_test, y3_test_pred)\n",
    "lr_train_mse = mean_squared_error(y3_train, y3_train_pred)\n",
    "\n",
    "lr_test_rmse = np.sqrt(lr_test_mse)\n",
    "lr_train_rmse = np.sqrt(lr_train_mse)\n",
    "\n",
    "lr_test_mae = mean_absolute_error(y3_test, y3_test_pred)\n",
    "lr_train_mae = mean_absolute_error(y3_train, y3_train_pred)\n",
    "\n",
    "lr_test_r2 = r2_score(y3_test, y3_test_pred)\n",
    "lr_train_r2 = r2_score(y3_train, y3_train_pred)"
   ]
  },
  {
   "attachments": {},
   "cell_type": "markdown",
   "metadata": {},
   "source": [
    "# KNN\n"
   ]
  },
  {
   "cell_type": "code",
   "execution_count": 45,
   "metadata": {},
   "outputs": [
    {
     "name": "stderr",
     "output_type": "stream",
     "text": [
      "c:\\Users\\ebover\\Anaconda3\\lib\\site-packages\\sklearn\\utils\\validation.py:1688: FutureWarning: Feature names only support names that are all strings. Got feature names with dtypes: ['float', 'str']. An error will be raised in 1.2.\n",
      "  warnings.warn(\n",
      "c:\\Users\\ebover\\Anaconda3\\lib\\site-packages\\sklearn\\utils\\validation.py:1688: FutureWarning: Feature names only support names that are all strings. Got feature names with dtypes: ['float', 'str']. An error will be raised in 1.2.\n",
      "  warnings.warn(\n"
     ]
    },
    {
     "name": "stderr",
     "output_type": "stream",
     "text": [
      "c:\\Users\\ebover\\Anaconda3\\lib\\site-packages\\sklearn\\utils\\validation.py:1688: FutureWarning: Feature names only support names that are all strings. Got feature names with dtypes: ['float', 'str']. An error will be raised in 1.2.\n",
      "  warnings.warn(\n"
     ]
    },
    {
     "name": "stdout",
     "output_type": "stream",
     "text": [
      "time: 22.8 s (started: 2023-06-30 14:35:36 -03:00)\n"
     ]
    }
   ],
   "source": [
    "from sklearn.neighbors import KNeighborsRegressor\n",
    "\n",
    "model = KNeighborsRegressor(n_neighbors=10)\n",
    "model.fit(X3, y3)\n",
    "y3_train_pred = model.predict(X3_train)\n",
    "y3_test_pred = model.predict(X3_test)\n",
    "\n",
    "\n",
    "\n",
    "knr_test_mse = mean_squared_error(y3_test, y3_test_pred)\n",
    "knr_train_mse = mean_squared_error(y3_train, y3_train_pred)\n",
    "\n",
    "knr_test_rmse = np.sqrt(knr_test_mse)\n",
    "knr_train_rmse = np.sqrt(knr_train_mse)\n",
    "\n",
    "knr_test_mae = mean_absolute_error(y3_test, y3_test_pred)\n",
    "knr_train_mae = mean_absolute_error(y3_train, y3_train_pred)\n",
    "\n",
    "knr_test_r2 = r2_score(y3_test, y3_test_pred)\n",
    "knr_train_r2 = r2_score(y3_train, y3_train_pred)"
   ]
  },
  {
   "attachments": {},
   "cell_type": "markdown",
   "metadata": {},
   "source": [
    "# Random forest regression"
   ]
  },
  {
   "cell_type": "code",
   "execution_count": 46,
   "metadata": {},
   "outputs": [
    {
     "name": "stderr",
     "output_type": "stream",
     "text": [
      "c:\\Users\\ebover\\Anaconda3\\lib\\site-packages\\sklearn\\utils\\validation.py:1688: FutureWarning: Feature names only support names that are all strings. Got feature names with dtypes: ['float', 'str']. An error will be raised in 1.2.\n",
      "  warnings.warn(\n"
     ]
    },
    {
     "name": "stdout",
     "output_type": "stream",
     "text": [
      "time: 7.98 s (started: 2023-06-30 14:35:59 -03:00)\n"
     ]
    },
    {
     "name": "stderr",
     "output_type": "stream",
     "text": [
      "c:\\Users\\ebover\\Anaconda3\\lib\\site-packages\\sklearn\\utils\\validation.py:1688: FutureWarning: Feature names only support names that are all strings. Got feature names with dtypes: ['float', 'str']. An error will be raised in 1.2.\n",
      "  warnings.warn(\n",
      "c:\\Users\\ebover\\Anaconda3\\lib\\site-packages\\sklearn\\utils\\validation.py:1688: FutureWarning: Feature names only support names that are all strings. Got feature names with dtypes: ['float', 'str']. An error will be raised in 1.2.\n",
      "  warnings.warn(\n"
     ]
    }
   ],
   "source": [
    "from sklearn.ensemble import RandomForestRegressor\n",
    "\n",
    "model = RandomForestRegressor(n_estimators=50, random_state=42)\n",
    "model.fit(X3, y3)\n",
    "y3_train_pred = model.predict(X3_train)\n",
    "y3_test_pred = model.predict(X3_test)\n",
    "\n",
    "\n",
    "rfr_test_mse = mean_squared_error(y3_train, y3_train_pred)\n",
    "rfr_train_mse = mean_squared_error(y3_test, y3_test_pred)\n",
    "\n",
    "rfr_test_rmse = np.sqrt(rfr_test_mse)\n",
    "rfr_train_rmse = np.sqrt(rfr_train_mse)\n",
    "\n",
    "rfr_test_mae = mean_absolute_error(y3_test, y3_test_pred)\n",
    "rfr_train_mae = mean_absolute_error(y3_train, y3_train_pred)\n",
    "\n",
    "rfr_test_r2 = r2_score(y3_test, y3_test_pred)\n",
    "rfr_train_r2 = r2_score(y3_train, y3_train_pred)"
   ]
  },
  {
   "attachments": {},
   "cell_type": "markdown",
   "metadata": {},
   "source": [
    "# Xgboost"
   ]
  },
  {
   "cell_type": "code",
   "execution_count": 47,
   "metadata": {},
   "outputs": [
    {
     "name": "stdout",
     "output_type": "stream",
     "text": [
      "Requirement already satisfied: xgboost in c:\\users\\ebover\\anaconda3\\lib\\site-packages (1.7.5)time: 7.5 s (started: 2023-06-30 14:36:07 -03:00)\n"
     ]
    },
    {
     "name": "stderr",
     "output_type": "stream",
     "text": [
      "WARNING: Ignoring invalid distribution -illow (c:\\users\\ebover\\anaconda3\\lib\\site-packages)\n",
      "WARNING: Ignoring invalid distribution -illow (c:\\users\\ebover\\anaconda3\\lib\\site-packages)\n"
     ]
    },
    {
     "name": "stdout",
     "output_type": "stream",
     "text": [
      "\n",
      "Requirement already satisfied: numpy in c:\\users\\ebover\\anaconda3\\lib\\site-packages (from xgboost) (1.21.5)\n",
      "Requirement already satisfied: scipy in c:\\users\\ebover\\anaconda3\\lib\\site-packages (from xgboost) (1.9.1)\n"
     ]
    }
   ],
   "source": [
    "! pip install xgboost"
   ]
  },
  {
   "cell_type": "code",
   "execution_count": 48,
   "metadata": {},
   "outputs": [
    {
     "ename": "ValueError",
     "evalue": "feature_names must be unique",
     "output_type": "error",
     "traceback": [
      "\u001b[1;31m---------------------------------------------------------------------------\u001b[0m",
      "\u001b[1;31mValueError\u001b[0m                                Traceback (most recent call last)",
      "\u001b[1;32m~\\AppData\\Local\\Temp\\ipykernel_24092\\175910455.py\u001b[0m in \u001b[0;36m<module>\u001b[1;34m\u001b[0m\n\u001b[0;32m      2\u001b[0m \u001b[1;33m\u001b[0m\u001b[0m\n\u001b[0;32m      3\u001b[0m \u001b[0mmodel\u001b[0m \u001b[1;33m=\u001b[0m \u001b[0mxgb\u001b[0m\u001b[1;33m.\u001b[0m\u001b[0mXGBRegressor\u001b[0m\u001b[1;33m(\u001b[0m\u001b[0mn_estimators\u001b[0m\u001b[1;33m=\u001b[0m\u001b[1;36m50\u001b[0m\u001b[1;33m,\u001b[0m \u001b[0mrandom_state\u001b[0m\u001b[1;33m=\u001b[0m\u001b[1;36m42\u001b[0m\u001b[1;33m)\u001b[0m\u001b[1;33m\u001b[0m\u001b[1;33m\u001b[0m\u001b[0m\n\u001b[1;32m----> 4\u001b[1;33m \u001b[0mmodel\u001b[0m\u001b[1;33m.\u001b[0m\u001b[0mfit\u001b[0m\u001b[1;33m(\u001b[0m\u001b[0mX3\u001b[0m\u001b[1;33m,\u001b[0m \u001b[0my3\u001b[0m\u001b[1;33m)\u001b[0m\u001b[1;33m\u001b[0m\u001b[1;33m\u001b[0m\u001b[0m\n\u001b[0m\u001b[0;32m      5\u001b[0m \u001b[0my3_train_pred\u001b[0m \u001b[1;33m=\u001b[0m \u001b[0mmodel\u001b[0m\u001b[1;33m.\u001b[0m\u001b[0mpredict\u001b[0m\u001b[1;33m(\u001b[0m\u001b[0mX3_train\u001b[0m\u001b[1;33m)\u001b[0m\u001b[1;33m\u001b[0m\u001b[1;33m\u001b[0m\u001b[0m\n\u001b[0;32m      6\u001b[0m \u001b[0my3_test_pred\u001b[0m \u001b[1;33m=\u001b[0m \u001b[0mmodel\u001b[0m\u001b[1;33m.\u001b[0m\u001b[0mpredict\u001b[0m\u001b[1;33m(\u001b[0m\u001b[0mX3_test\u001b[0m\u001b[1;33m)\u001b[0m\u001b[1;33m\u001b[0m\u001b[1;33m\u001b[0m\u001b[0m\n",
      "\u001b[1;32mc:\\Users\\ebover\\Anaconda3\\lib\\site-packages\\xgboost\\core.py\u001b[0m in \u001b[0;36minner_f\u001b[1;34m(*args, **kwargs)\u001b[0m\n\u001b[0;32m    618\u001b[0m             \u001b[1;32mfor\u001b[0m \u001b[0mk\u001b[0m\u001b[1;33m,\u001b[0m \u001b[0marg\u001b[0m \u001b[1;32min\u001b[0m \u001b[0mzip\u001b[0m\u001b[1;33m(\u001b[0m\u001b[0msig\u001b[0m\u001b[1;33m.\u001b[0m\u001b[0mparameters\u001b[0m\u001b[1;33m,\u001b[0m \u001b[0margs\u001b[0m\u001b[1;33m)\u001b[0m\u001b[1;33m:\u001b[0m\u001b[1;33m\u001b[0m\u001b[1;33m\u001b[0m\u001b[0m\n\u001b[0;32m    619\u001b[0m                 \u001b[0mkwargs\u001b[0m\u001b[1;33m[\u001b[0m\u001b[0mk\u001b[0m\u001b[1;33m]\u001b[0m \u001b[1;33m=\u001b[0m \u001b[0marg\u001b[0m\u001b[1;33m\u001b[0m\u001b[1;33m\u001b[0m\u001b[0m\n\u001b[1;32m--> 620\u001b[1;33m             \u001b[1;32mreturn\u001b[0m \u001b[0mfunc\u001b[0m\u001b[1;33m(\u001b[0m\u001b[1;33m**\u001b[0m\u001b[0mkwargs\u001b[0m\u001b[1;33m)\u001b[0m\u001b[1;33m\u001b[0m\u001b[1;33m\u001b[0m\u001b[0m\n\u001b[0m\u001b[0;32m    621\u001b[0m \u001b[1;33m\u001b[0m\u001b[0m\n\u001b[0;32m    622\u001b[0m         \u001b[1;32mreturn\u001b[0m \u001b[0minner_f\u001b[0m\u001b[1;33m\u001b[0m\u001b[1;33m\u001b[0m\u001b[0m\n",
      "\u001b[1;32mc:\\Users\\ebover\\Anaconda3\\lib\\site-packages\\xgboost\\sklearn.py\u001b[0m in \u001b[0;36mfit\u001b[1;34m(self, X, y, sample_weight, base_margin, eval_set, eval_metric, early_stopping_rounds, verbose, xgb_model, sample_weight_eval_set, base_margin_eval_set, feature_weights, callbacks)\u001b[0m\n\u001b[0;32m    986\u001b[0m         \u001b[1;32mwith\u001b[0m \u001b[0mconfig_context\u001b[0m\u001b[1;33m(\u001b[0m\u001b[0mverbosity\u001b[0m\u001b[1;33m=\u001b[0m\u001b[0mself\u001b[0m\u001b[1;33m.\u001b[0m\u001b[0mverbosity\u001b[0m\u001b[1;33m)\u001b[0m\u001b[1;33m:\u001b[0m\u001b[1;33m\u001b[0m\u001b[1;33m\u001b[0m\u001b[0m\n\u001b[0;32m    987\u001b[0m             \u001b[0mevals_result\u001b[0m\u001b[1;33m:\u001b[0m \u001b[0mTrainingCallback\u001b[0m\u001b[1;33m.\u001b[0m\u001b[0mEvalsLog\u001b[0m \u001b[1;33m=\u001b[0m \u001b[1;33m{\u001b[0m\u001b[1;33m}\u001b[0m\u001b[1;33m\u001b[0m\u001b[1;33m\u001b[0m\u001b[0m\n\u001b[1;32m--> 988\u001b[1;33m             train_dmatrix, evals = _wrap_evaluation_matrices(\n\u001b[0m\u001b[0;32m    989\u001b[0m                 \u001b[0mmissing\u001b[0m\u001b[1;33m=\u001b[0m\u001b[0mself\u001b[0m\u001b[1;33m.\u001b[0m\u001b[0mmissing\u001b[0m\u001b[1;33m,\u001b[0m\u001b[1;33m\u001b[0m\u001b[1;33m\u001b[0m\u001b[0m\n\u001b[0;32m    990\u001b[0m                 \u001b[0mX\u001b[0m\u001b[1;33m=\u001b[0m\u001b[0mX\u001b[0m\u001b[1;33m,\u001b[0m\u001b[1;33m\u001b[0m\u001b[1;33m\u001b[0m\u001b[0m\n",
      "\u001b[1;32mc:\\Users\\ebover\\Anaconda3\\lib\\site-packages\\xgboost\\sklearn.py\u001b[0m in \u001b[0;36m_wrap_evaluation_matrices\u001b[1;34m(missing, X, y, group, qid, sample_weight, base_margin, feature_weights, eval_set, sample_weight_eval_set, base_margin_eval_set, eval_group, eval_qid, create_dmatrix, enable_categorical, feature_types)\u001b[0m\n\u001b[0;32m    446\u001b[0m     \"\"\"Convert array_like evaluation matrices into DMatrix.  Perform validation on the\n\u001b[0;32m    447\u001b[0m     way.\"\"\"\n\u001b[1;32m--> 448\u001b[1;33m     train_dmatrix = create_dmatrix(\n\u001b[0m\u001b[0;32m    449\u001b[0m         \u001b[0mdata\u001b[0m\u001b[1;33m=\u001b[0m\u001b[0mX\u001b[0m\u001b[1;33m,\u001b[0m\u001b[1;33m\u001b[0m\u001b[1;33m\u001b[0m\u001b[0m\n\u001b[0;32m    450\u001b[0m         \u001b[0mlabel\u001b[0m\u001b[1;33m=\u001b[0m\u001b[0my\u001b[0m\u001b[1;33m,\u001b[0m\u001b[1;33m\u001b[0m\u001b[1;33m\u001b[0m\u001b[0m\n",
      "\u001b[1;32mc:\\Users\\ebover\\Anaconda3\\lib\\site-packages\\xgboost\\sklearn.py\u001b[0m in \u001b[0;36m_create_dmatrix\u001b[1;34m(self, ref, **kwargs)\u001b[0m\n\u001b[0;32m    906\u001b[0m             \u001b[1;32mexcept\u001b[0m \u001b[0mTypeError\u001b[0m\u001b[1;33m:\u001b[0m  \u001b[1;31m# `QuantileDMatrix` supports lesser types than DMatrix\u001b[0m\u001b[1;33m\u001b[0m\u001b[1;33m\u001b[0m\u001b[0m\n\u001b[0;32m    907\u001b[0m                 \u001b[1;32mpass\u001b[0m\u001b[1;33m\u001b[0m\u001b[1;33m\u001b[0m\u001b[0m\n\u001b[1;32m--> 908\u001b[1;33m         \u001b[1;32mreturn\u001b[0m \u001b[0mDMatrix\u001b[0m\u001b[1;33m(\u001b[0m\u001b[1;33m**\u001b[0m\u001b[0mkwargs\u001b[0m\u001b[1;33m,\u001b[0m \u001b[0mnthread\u001b[0m\u001b[1;33m=\u001b[0m\u001b[0mself\u001b[0m\u001b[1;33m.\u001b[0m\u001b[0mn_jobs\u001b[0m\u001b[1;33m)\u001b[0m\u001b[1;33m\u001b[0m\u001b[1;33m\u001b[0m\u001b[0m\n\u001b[0m\u001b[0;32m    909\u001b[0m \u001b[1;33m\u001b[0m\u001b[0m\n\u001b[0;32m    910\u001b[0m     \u001b[1;32mdef\u001b[0m \u001b[0m_set_evaluation_result\u001b[0m\u001b[1;33m(\u001b[0m\u001b[0mself\u001b[0m\u001b[1;33m,\u001b[0m \u001b[0mevals_result\u001b[0m\u001b[1;33m:\u001b[0m \u001b[0mTrainingCallback\u001b[0m\u001b[1;33m.\u001b[0m\u001b[0mEvalsLog\u001b[0m\u001b[1;33m)\u001b[0m \u001b[1;33m->\u001b[0m \u001b[1;32mNone\u001b[0m\u001b[1;33m:\u001b[0m\u001b[1;33m\u001b[0m\u001b[1;33m\u001b[0m\u001b[0m\n",
      "\u001b[1;32mc:\\Users\\ebover\\Anaconda3\\lib\\site-packages\\xgboost\\core.py\u001b[0m in \u001b[0;36minner_f\u001b[1;34m(*args, **kwargs)\u001b[0m\n\u001b[0;32m    618\u001b[0m             \u001b[1;32mfor\u001b[0m \u001b[0mk\u001b[0m\u001b[1;33m,\u001b[0m \u001b[0marg\u001b[0m \u001b[1;32min\u001b[0m \u001b[0mzip\u001b[0m\u001b[1;33m(\u001b[0m\u001b[0msig\u001b[0m\u001b[1;33m.\u001b[0m\u001b[0mparameters\u001b[0m\u001b[1;33m,\u001b[0m \u001b[0margs\u001b[0m\u001b[1;33m)\u001b[0m\u001b[1;33m:\u001b[0m\u001b[1;33m\u001b[0m\u001b[1;33m\u001b[0m\u001b[0m\n\u001b[0;32m    619\u001b[0m                 \u001b[0mkwargs\u001b[0m\u001b[1;33m[\u001b[0m\u001b[0mk\u001b[0m\u001b[1;33m]\u001b[0m \u001b[1;33m=\u001b[0m \u001b[0marg\u001b[0m\u001b[1;33m\u001b[0m\u001b[1;33m\u001b[0m\u001b[0m\n\u001b[1;32m--> 620\u001b[1;33m             \u001b[1;32mreturn\u001b[0m \u001b[0mfunc\u001b[0m\u001b[1;33m(\u001b[0m\u001b[1;33m**\u001b[0m\u001b[0mkwargs\u001b[0m\u001b[1;33m)\u001b[0m\u001b[1;33m\u001b[0m\u001b[1;33m\u001b[0m\u001b[0m\n\u001b[0m\u001b[0;32m    621\u001b[0m \u001b[1;33m\u001b[0m\u001b[0m\n\u001b[0;32m    622\u001b[0m         \u001b[1;32mreturn\u001b[0m \u001b[0minner_f\u001b[0m\u001b[1;33m\u001b[0m\u001b[1;33m\u001b[0m\u001b[0m\n",
      "\u001b[1;32mc:\\Users\\ebover\\Anaconda3\\lib\\site-packages\\xgboost\\core.py\u001b[0m in \u001b[0;36m__init__\u001b[1;34m(self, data, label, weight, base_margin, missing, silent, feature_names, feature_types, nthread, group, qid, label_lower_bound, label_upper_bound, feature_weights, enable_categorical)\u001b[0m\n\u001b[0;32m    764\u001b[0m \u001b[1;33m\u001b[0m\u001b[0m\n\u001b[0;32m    765\u001b[0m         \u001b[1;32mif\u001b[0m \u001b[0mfeature_names\u001b[0m \u001b[1;32mis\u001b[0m \u001b[1;32mnot\u001b[0m \u001b[1;32mNone\u001b[0m\u001b[1;33m:\u001b[0m\u001b[1;33m\u001b[0m\u001b[1;33m\u001b[0m\u001b[0m\n\u001b[1;32m--> 766\u001b[1;33m             \u001b[0mself\u001b[0m\u001b[1;33m.\u001b[0m\u001b[0mfeature_names\u001b[0m \u001b[1;33m=\u001b[0m \u001b[0mfeature_names\u001b[0m\u001b[1;33m\u001b[0m\u001b[1;33m\u001b[0m\u001b[0m\n\u001b[0m\u001b[0;32m    767\u001b[0m         \u001b[1;32mif\u001b[0m \u001b[0mfeature_types\u001b[0m \u001b[1;32mis\u001b[0m \u001b[1;32mnot\u001b[0m \u001b[1;32mNone\u001b[0m\u001b[1;33m:\u001b[0m\u001b[1;33m\u001b[0m\u001b[1;33m\u001b[0m\u001b[0m\n\u001b[0;32m    768\u001b[0m             \u001b[0mself\u001b[0m\u001b[1;33m.\u001b[0m\u001b[0mfeature_types\u001b[0m \u001b[1;33m=\u001b[0m \u001b[0mfeature_types\u001b[0m\u001b[1;33m\u001b[0m\u001b[1;33m\u001b[0m\u001b[0m\n",
      "\u001b[1;32mc:\\Users\\ebover\\Anaconda3\\lib\\site-packages\\xgboost\\core.py\u001b[0m in \u001b[0;36mfeature_names\u001b[1;34m(self, feature_names)\u001b[0m\n\u001b[0;32m   1153\u001b[0m \u001b[1;33m\u001b[0m\u001b[0m\n\u001b[0;32m   1154\u001b[0m             \u001b[1;32mif\u001b[0m \u001b[0mlen\u001b[0m\u001b[1;33m(\u001b[0m\u001b[0mfeature_names\u001b[0m\u001b[1;33m)\u001b[0m \u001b[1;33m!=\u001b[0m \u001b[0mlen\u001b[0m\u001b[1;33m(\u001b[0m\u001b[0mset\u001b[0m\u001b[1;33m(\u001b[0m\u001b[0mfeature_names\u001b[0m\u001b[1;33m)\u001b[0m\u001b[1;33m)\u001b[0m\u001b[1;33m:\u001b[0m\u001b[1;33m\u001b[0m\u001b[1;33m\u001b[0m\u001b[0m\n\u001b[1;32m-> 1155\u001b[1;33m                 \u001b[1;32mraise\u001b[0m \u001b[0mValueError\u001b[0m\u001b[1;33m(\u001b[0m\u001b[1;34m'feature_names must be unique'\u001b[0m\u001b[1;33m)\u001b[0m\u001b[1;33m\u001b[0m\u001b[1;33m\u001b[0m\u001b[0m\n\u001b[0m\u001b[0;32m   1156\u001b[0m             \u001b[1;32mif\u001b[0m \u001b[0mlen\u001b[0m\u001b[1;33m(\u001b[0m\u001b[0mfeature_names\u001b[0m\u001b[1;33m)\u001b[0m \u001b[1;33m!=\u001b[0m \u001b[0mself\u001b[0m\u001b[1;33m.\u001b[0m\u001b[0mnum_col\u001b[0m\u001b[1;33m(\u001b[0m\u001b[1;33m)\u001b[0m \u001b[1;32mand\u001b[0m \u001b[0mself\u001b[0m\u001b[1;33m.\u001b[0m\u001b[0mnum_col\u001b[0m\u001b[1;33m(\u001b[0m\u001b[1;33m)\u001b[0m \u001b[1;33m!=\u001b[0m \u001b[1;36m0\u001b[0m\u001b[1;33m:\u001b[0m\u001b[1;33m\u001b[0m\u001b[1;33m\u001b[0m\u001b[0m\n\u001b[0;32m   1157\u001b[0m                 msg = (\"feature_names must have the same length as data, \",\n",
      "\u001b[1;31mValueError\u001b[0m: feature_names must be unique"
     ]
    },
    {
     "name": "stdout",
     "output_type": "stream",
     "text": [
      "time: 3.77 s (started: 2023-06-30 14:36:15 -03:00)\n"
     ]
    }
   ],
   "source": [
    "import xgboost as xgb\n",
    "\n",
    "model = xgb.XGBRegressor(n_estimators=50, random_state=42)\n",
    "model.fit(X3, y3)\n",
    "y3_train_pred = model.predict(X3_train)\n",
    "y3_test_pred = model.predict(X3_test)\n",
    "\n",
    "\n",
    "xgb_test_mse = mean_squared_error(y3_train, y3_train_pred)\n",
    "xgb_train_mse = mean_squared_error(y3_test, y3_test_pred)\n",
    "\n",
    "xgb_test_rmse = np.sqrt(xgb_test_mse)\n",
    "xgb_train_rmse = np.sqrt(xgb_train_mse)\n",
    "\n",
    "xgb_test_mae = mean_absolute_error(y3_test, y3_test_pred)\n",
    "xgb_train_mae = mean_absolute_error(y3_train, y3_train_pred)\n",
    "\n",
    "xgb_test_r2 = r2_score(y3_test, y3_test_pred)\n",
    "xgb_train_r2 = r2_score(y3_train, y3_train_pred)"
   ]
  },
  {
   "attachments": {},
   "cell_type": "markdown",
   "metadata": {},
   "source": [
    "SVR"
   ]
  },
  {
   "cell_type": "code",
   "execution_count": null,
   "metadata": {},
   "outputs": [
    {
     "name": "stderr",
     "output_type": "stream",
     "text": [
      "c:\\Users\\ebover\\Anaconda3\\lib\\site-packages\\sklearn\\utils\\validation.py:1688: FutureWarning: Feature names only support names that are all strings. Got feature names with dtypes: ['float', 'str']. An error will be raised in 1.2.\n",
      "  warnings.warn(\n"
     ]
    }
   ],
   "source": [
    "\n"
   ]
  }
 ],
 "metadata": {
  "kernelspec": {
   "display_name": "Python 3",
   "language": "python",
   "name": "python3"
  },
  "language_info": {
   "codemirror_mode": {
    "name": "ipython",
    "version": 3
   },
   "file_extension": ".py",
   "mimetype": "text/x-python",
   "name": "python",
   "nbconvert_exporter": "python",
   "pygments_lexer": "ipython3",
   "version": "3.9.13"
  },
  "orig_nbformat": 4
 },
 "nbformat": 4,
 "nbformat_minor": 2
}
