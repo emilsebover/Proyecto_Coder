{
 "cells": [
  {
   "attachments": {},
   "cell_type": "markdown",
   "metadata": {},
   "source": [
    "Proyecto Final - Data Scientist Coderhouse\n",
    "Emilse Bover"
   ]
  },
  {
   "attachments": {},
   "cell_type": "markdown",
   "metadata": {},
   "source": [
    "*La producción de pollos parrilleros en Argentina se encuentra concentrada en unas pocas empresas y la mayoría de ellas son de tipo familiar. Las más grandes realizan todos los procesos de la cadena de producción: desde las cabañas de la genética (Abuelos) hasta la distribución en los puntos finales del producto terminado: cadenas de supermercados, minoristas, consumidor directo y puertos (productos de exportación).Los pollos parrilleros se crían en granjas conformadas por galpones en los que se ingresan los animales recién nacidos (pollitos BB), las empresas productoras proveen todos los insumos necesarios para la crianza (alimento, medicamentos, desinfectantes, material de cama, servicios de limpieza, entre otros) y el encargado o dueño de la granja (integrado) se ocupa del manejo de las aves y su ambiente (provisión de agua, alimento, condiciones de temperatura y humedad, etc.). La duración del ciclo de crianza es de aproximadamente 48 días y el peso final de alrededor de 2.8 Kilos. La empresa productora retira los animales para llevarlos al frigorífico. \n",
    "La producción se analiza en función de la eficiencia productiva de cada crianza. Una mayor eficiencia significa lograr un animal de mayor peso con el menor consumo de alimento posible ya que el alimento constituye aproximadamente el 70% del costo de producción. La relación alimento consumido/peso final logrado es la conversión alimenticia. El impacto de la mortalidad es negativo y es creciente con la edad: a mayor edad, más cantidad de alimento habrá consumido sin producir kilos.*\n",
    "*La edad a faena está condicionada por la demanda del sector de ventas: tamaño de las aves, cantidad de kilos; por el ritmo de crecimiento (ganancia media diaria de peso) y por las condiciones sanitarias (enfermedades).\n",
    "El valor de conversión como indicador productivo tiene la limitación de que no puede ser utilizado para comparar resultados entre granjas y períodos de tiempo por depender de la edad, el peso final y la mortalidad.\n",
    "Debido a ello se utilizan otros parámetros como la ganancia media diaria de peso (A.D.), la conversión ajustada a un peso teórico (Conversión aj. a 2.7 kg) y la relación Peso/Conversión.*\n",
    "\n",
    "*El resultado productivo será la resultante de la interacción de los siguientes factores:\n",
    "•La genética: La línea genética de las aves, el origen y edad de los reproductores (padres), el tipo de huevo que dio origen a los pollitos BB.\n",
    "•La nutrición: La composición de la dieta, la calidad de las materias primas utilizadas.\n",
    "•El ambiente: El tipo de galpón de crianza (convencional, ambiente controlado), las condiciones de temperatura y humedad y la disponibilidad de recursos: comederos, bebederos, ventiladores, etc.\n",
    "•La sanidad: Planes de vacunación y salud intestinal, medicaciones, lavado y desinfección, aplicación de medidas de bioseguridad, etc.\n",
    "El planteo del presente trabajo es analizar los diferentes factores que impactan sobre los resultados de ganancia media diaria de peso y sugerir acciones de manejo para mejorar los valores de este indicador productivo.*"
   ]
  },
  {
   "attachments": {},
   "cell_type": "markdown",
   "metadata": {},
   "source": [
    "**Definición de objetivo**\n",
    "El objetivo del presente trabajo es detectar el impacto de los factores que afectan al crecimiento de los pollos parrilleros para tomar decisiones que mejoren los resultados productivos. \n",
    "\n",
    "**Contexto comercial**\n",
    "El retorno económico de la empresa productora de pollos parrilleros depende de la obtención de mejores resultados productivos. A mayor ganancia de peso diaria, por ejemplo, el consumo total de alimento será menor disminuyendo el costo. Otro impacto positivo del aumento de la ganancia de peso diaria es que se reduce la edad a faena de los animales ya que se alcanza el peso deseado en menor cantidad de días. Esta reducción de días permite: liberación de superficie de producción (metros cuadrados de galpón, rotación), menor propensión a sufrir enfermedades y accidentes (por ejemplo cortes de luz). También el dueño de la granja tiene menores costos de luz y gas y por lo tanto mayores ganancias finales también.\n",
    "\n",
    "**Problema comercial**\n",
    "La empresa plantea los siguientes interrogantes: ¿Por qué la ganancia de peso no es similar en todas las granjas? ¿Por qué tampoco es uniforme a lo largo del año? ¿Es posible predecir el crecimiento en el futuro? ¿El alimento es el adecuado? ¿Qué tiene mayor impacto, el alimento o las condiciones del ambiente? ¿Es posible mejorar los valores de ganancia de peso manteniendo iguales las condiciones de genética, nutrición y ambiente (en el sentido estricto de la localización geográfica de las granjas).\n",
    "\n",
    "**Contexto analítico**\n",
    "La empresa ha provisto un archivo excel con información de resultados y otros parámetros con localización geográfica, tipo de granja y zona de producción.\n",
    "\n",
    "**Exploración de datos**\n",
    "Se realizarán gráficos para explorar los datos provistos."
   ]
  },
  {
   "attachments": {},
   "cell_type": "markdown",
   "metadata": {},
   "source": [
    "Importación de librerías"
   ]
  },
  {
   "cell_type": "code",
   "execution_count": 1,
   "metadata": {},
   "outputs": [
    {
     "name": "stdout",
     "output_type": "stream",
     "text": [
      "Requirement already satisfied: ipython-autotime in c:\\users\\ebover\\anaconda3\\lib\\site-packages (0.3.1)Note: you may need to restart the kernel to use updated packages.\n",
      "\n",
      "Requirement already satisfied: ipython in c:\\users\\ebover\\anaconda3\\lib\\site-packages (from ipython-autotime) (7.31.1)\n",
      "Requirement already satisfied: setuptools>=18.5 in c:\\users\\ebover\\anaconda3\\lib\\site-packages (from ipython->ipython-autotime) (63.4.1)\n",
      "Requirement already satisfied: jedi>=0.16 in c:\\users\\ebover\\anaconda3\\lib\\site-packages (from ipython->ipython-autotime) (0.18.1)\n",
      "Requirement already satisfied: decorator in c:\\users\\ebover\\anaconda3\\lib\\site-packages (from ipython->ipython-autotime) (5.1.1)\n",
      "Requirement already satisfied: pickleshare in c:\\users\\ebover\\anaconda3\\lib\\site-packages (from ipython->ipython-autotime) (0.7.5)\n",
      "Requirement already satisfied: traitlets>=4.2 in c:\\users\\ebover\\anaconda3\\lib\\site-packages (from ipython->ipython-autotime) (5.1.1)\n",
      "Requirement already satisfied: prompt-toolkit!=3.0.0,!=3.0.1,<3.1.0,>=2.0.0 in c:\\users\\ebover\\anaconda3\\lib\\site-packages (from ipython->ipython-autotime) (3.0.20)\n",
      "Requirement already satisfied: pygments in c:\\users\\ebover\\anaconda3\\lib\\site-packages (from ipython->ipython-autotime) (2.11.2)\n",
      "Requirement already satisfied: backcall in c:\\users\\ebover\\anaconda3\\lib\\site-packages (from ipython->ipython-autotime) (0.2.0)\n",
      "Requirement already satisfied: matplotlib-inline in c:\\users\\ebover\\anaconda3\\lib\\site-packages (from ipython->ipython-autotime) (0.1.6)\n",
      "Requirement already satisfied: colorama in c:\\users\\ebover\\anaconda3\\lib\\site-packages (from ipython->ipython-autotime) (0.4.5)\n",
      "Requirement already satisfied: parso<0.9.0,>=0.8.0 in c:\\users\\ebover\\anaconda3\\lib\\site-packages (from jedi>=0.16->ipython->ipython-autotime) (0.8.3)\n",
      "Requirement already satisfied: wcwidth in c:\\users\\ebover\\anaconda3\\lib\\site-packages (from prompt-toolkit!=3.0.0,!=3.0.1,<3.1.0,>=2.0.0->ipython->ipython-autotime) (0.2.5)\n",
      "time: 0 ns (started: 2023-06-26 19:05:02 -03:00)\n"
     ]
    },
    {
     "name": "stderr",
     "output_type": "stream",
     "text": [
      "WARNING: Ignoring invalid distribution -illow (c:\\users\\ebover\\anaconda3\\lib\\site-packages)\n",
      "WARNING: Ignoring invalid distribution -illow (c:\\users\\ebover\\anaconda3\\lib\\site-packages)\n"
     ]
    }
   ],
   "source": [
    "import numpy as np\n",
    "import pandas as pd\n",
    "#import pandas_profiling\n",
    "import plotly.express as px\n",
    "import seaborn as sns\n",
    "import matplotlib.pyplot as plt\n",
    "from prettytable import PrettyTable\n",
    "import xlsxwriter\n",
    "import datetime\n",
    "import statsmodels.api as sm\n",
    "import requests\n",
    "import json\n",
    "import plotly.express as px\n",
    "import ydata_profiling\n",
    "from matplotlib import rcParams\n",
    "from numpy import mean\n",
    "from numpy import std\n",
    "\n",
    "# Para modelaje:\n",
    "from sklearn.svm import SVR\n",
    "from sklearn.model_selection import train_test_split\n",
    "from sklearn.linear_model import LassoCV\n",
    "from sklearn.ensemble import RandomForestRegressor\n",
    "import xgboost as xgb\n",
    "from sklearn.impute import SimpleImputer\n",
    "from sklearn.compose import ColumnTransformer\n",
    "from sklearn.pipeline import Pipeline\n",
    "from sklearn.preprocessing import OneHotEncoder, StandardScaler\n",
    "from sklearn.model_selection import RandomizedSearchCV\n",
    "from sklearn.model_selection import cross_val_score\n",
    "from sklearn.feature_selection import VarianceThreshold\n",
    "from sklearn.ensemble import VotingRegressor\n",
    "from imblearn import FunctionSampler\n",
    "from sklearn import metrics\n",
    "%pip install ipython-autotime\n",
    "%load_ext autotime\n",
    "import pickle\n",
    "from sklearn.metrics import mean_squared_error, r2_score, mean_absolute_error\n",
    "from sklearn import preprocessing"
   ]
  },
  {
   "attachments": {},
   "cell_type": "markdown",
   "metadata": {},
   "source": [
    "Base de datos"
   ]
  },
  {
   "cell_type": "code",
   "execution_count": 2,
   "metadata": {},
   "outputs": [
    {
     "name": "stdout",
     "output_type": "stream",
     "text": [
      "time: 17.1 s (started: 2023-06-26 19:05:27 -03:00)\n"
     ]
    }
   ],
   "source": [
    "#Ingresos semanales compilado registra resultados finales de la producción en la pestaña BASE. Contiene además datos de genética, nutrición y sanidad.\n",
    "df = pd.read_excel(r\"C:\\Users\\ebover\\OneDrive - FRIGORIFICO DE AVES SOYCHU S.A.I.C.F.I.A\\ingresos semanales compilado.xlsx\",sheet_name='BASE', skiprows=1 , usecols=range(1,67))"
   ]
  },
  {
   "attachments": {},
   "cell_type": "markdown",
   "metadata": {},
   "source": [
    "Feature extraction preliminar"
   ]
  },
  {
   "cell_type": "code",
   "execution_count": 3,
   "metadata": {},
   "outputs": [
    {
     "name": "stdout",
     "output_type": "stream",
     "text": [
      "time: 62 ms (started: 2023-06-26 19:07:54 -03:00)\n"
     ]
    }
   ],
   "source": [
    "df.drop(df[(df['A.D.'] >100)].index, inplace=True) #Se eliminan valores erróneos\n",
    "df.drop(df[(df['Edad'] >70)].index, inplace=True) #Se elimninan edades fuera de estándar\n",
    "df.drop(df[(df['Destino'] =='EXP')].index, inplace=True) # se eliminan crianzas de pollos enviados a exportación"
   ]
  },
  {
   "cell_type": "code",
   "execution_count": 8,
   "metadata": {},
   "outputs": [
    {
     "data": {
      "text/plain": [
       "(14629, 66)"
      ]
     },
     "execution_count": 8,
     "metadata": {},
     "output_type": "execute_result"
    },
    {
     "name": "stdout",
     "output_type": "stream",
     "text": [
      "time: 16 ms (started: 2023-06-26 19:12:31 -03:00)\n"
     ]
    }
   ],
   "source": [
    "df.shape"
   ]
  },
  {
   "cell_type": "code",
   "execution_count": 6,
   "metadata": {},
   "outputs": [
    {
     "data": {
      "text/html": [
       "<div>\n",
       "<style scoped>\n",
       "    .dataframe tbody tr th:only-of-type {\n",
       "        vertical-align: middle;\n",
       "    }\n",
       "\n",
       "    .dataframe tbody tr th {\n",
       "        vertical-align: top;\n",
       "    }\n",
       "\n",
       "    .dataframe thead th {\n",
       "        text-align: right;\n",
       "    }\n",
       "</style>\n",
       "<table border=\"1\" class=\"dataframe\">\n",
       "  <thead>\n",
       "    <tr style=\"text-align: right;\">\n",
       "      <th></th>\n",
       "      <th>granja</th>\n",
       "      <th>Nombre</th>\n",
       "      <th>Primer BB</th>\n",
       "      <th>Cantid. BB</th>\n",
       "      <th>A Faena</th>\n",
       "      <th>% a 7 Días</th>\n",
       "      <th>% Mortan.</th>\n",
       "      <th>% Fal.</th>\n",
       "      <th>Kg. Pollo</th>\n",
       "      <th>P. Prom.</th>\n",
       "      <th>...</th>\n",
       "      <th>Índice</th>\n",
       "      <th>nd</th>\n",
       "      <th>zona climática</th>\n",
       "      <th>Cuartil EFS 2021</th>\n",
       "      <th>conv aj aviagen 2021</th>\n",
       "      <th>conv aj AVIAGEN</th>\n",
       "      <th>hepatitis</th>\n",
       "      <th>consumo total</th>\n",
       "      <th>Pes conv 2,7</th>\n",
       "      <th>zona prod</th>\n",
       "    </tr>\n",
       "  </thead>\n",
       "  <tbody>\n",
       "    <tr>\n",
       "      <th>0</th>\n",
       "      <td>2544</td>\n",
       "      <td>\"GRANJA DON MIGUEL\"</td>\n",
       "      <td>2014-11-13</td>\n",
       "      <td>36000</td>\n",
       "      <td>34964</td>\n",
       "      <td>0.55</td>\n",
       "      <td>2.88</td>\n",
       "      <td>-0.33</td>\n",
       "      <td>93360</td>\n",
       "      <td>2.670175</td>\n",
       "      <td>...</td>\n",
       "      <td>6</td>\n",
       "      <td>NaN</td>\n",
       "      <td>Arrecifes</td>\n",
       "      <td>NaN</td>\n",
       "      <td>2.133946</td>\n",
       "      <td>2.134802</td>\n",
       "      <td>NaN</td>\n",
       "      <td>5.682216</td>\n",
       "      <td>1.262878</td>\n",
       "      <td>BA</td>\n",
       "    </tr>\n",
       "    <tr>\n",
       "      <th>1</th>\n",
       "      <td>2558</td>\n",
       "      <td>LA MAMA</td>\n",
       "      <td>2014-11-07</td>\n",
       "      <td>57500</td>\n",
       "      <td>54217</td>\n",
       "      <td>0.83</td>\n",
       "      <td>5.71</td>\n",
       "      <td>-0.26</td>\n",
       "      <td>145260</td>\n",
       "      <td>2.679233</td>\n",
       "      <td>...</td>\n",
       "      <td>7</td>\n",
       "      <td>NaN</td>\n",
       "      <td>Arrecifes</td>\n",
       "      <td>NaN</td>\n",
       "      <td>2.315835</td>\n",
       "      <td>2.316431</td>\n",
       "      <td>NaN</td>\n",
       "      <td>6.193629</td>\n",
       "      <td>1.164476</td>\n",
       "      <td>BA</td>\n",
       "    </tr>\n",
       "    <tr>\n",
       "      <th>2</th>\n",
       "      <td>2761</td>\n",
       "      <td>LOS CHOCHOS</td>\n",
       "      <td>2014-11-13</td>\n",
       "      <td>39000</td>\n",
       "      <td>36483</td>\n",
       "      <td>0.92</td>\n",
       "      <td>6.45</td>\n",
       "      <td>-0.48</td>\n",
       "      <td>100360</td>\n",
       "      <td>2.750870</td>\n",
       "      <td>...</td>\n",
       "      <td>8</td>\n",
       "      <td>NaN</td>\n",
       "      <td>25 de mayo</td>\n",
       "      <td>NaN</td>\n",
       "      <td>2.266716</td>\n",
       "      <td>2.265256</td>\n",
       "      <td>NaN</td>\n",
       "      <td>6.263191</td>\n",
       "      <td>1.194771</td>\n",
       "      <td>BA</td>\n",
       "    </tr>\n",
       "    <tr>\n",
       "      <th>3</th>\n",
       "      <td>2524</td>\n",
       "      <td>GRANJA DIAMANTE</td>\n",
       "      <td>2014-11-14</td>\n",
       "      <td>30000</td>\n",
       "      <td>28231</td>\n",
       "      <td>1.35</td>\n",
       "      <td>5.90</td>\n",
       "      <td>1.07</td>\n",
       "      <td>77514</td>\n",
       "      <td>2.745705</td>\n",
       "      <td>...</td>\n",
       "      <td>15</td>\n",
       "      <td>NaN</td>\n",
       "      <td>Arrecifes</td>\n",
       "      <td>NaN</td>\n",
       "      <td>2.263520</td>\n",
       "      <td>2.262208</td>\n",
       "      <td>NaN</td>\n",
       "      <td>6.239843</td>\n",
       "      <td>1.196094</td>\n",
       "      <td>BA</td>\n",
       "    </tr>\n",
       "    <tr>\n",
       "      <th>4</th>\n",
       "      <td>2741</td>\n",
       "      <td>KBB ARRECIFES SA</td>\n",
       "      <td>2014-11-14</td>\n",
       "      <td>42000</td>\n",
       "      <td>38912</td>\n",
       "      <td>0.76</td>\n",
       "      <td>7.35</td>\n",
       "      <td>0.19</td>\n",
       "      <td>120920</td>\n",
       "      <td>3.107525</td>\n",
       "      <td>...</td>\n",
       "      <td>21</td>\n",
       "      <td>NaN</td>\n",
       "      <td>Arrecifes</td>\n",
       "      <td>NaN</td>\n",
       "      <td>2.189003</td>\n",
       "      <td>2.177307</td>\n",
       "      <td>NaN</td>\n",
       "      <td>7.053505</td>\n",
       "      <td>1.265246</td>\n",
       "      <td>BA</td>\n",
       "    </tr>\n",
       "  </tbody>\n",
       "</table>\n",
       "<p>5 rows × 66 columns</p>\n",
       "</div>"
      ],
      "text/plain": [
       "   granja               Nombre  Primer BB  Cantid. BB  A Faena  % a 7 Días  \\\n",
       "0    2544  \"GRANJA DON MIGUEL\" 2014-11-13       36000    34964        0.55   \n",
       "1    2558              LA MAMA 2014-11-07       57500    54217        0.83   \n",
       "2    2761          LOS CHOCHOS 2014-11-13       39000    36483        0.92   \n",
       "3    2524      GRANJA DIAMANTE 2014-11-14       30000    28231        1.35   \n",
       "4    2741     KBB ARRECIFES SA 2014-11-14       42000    38912        0.76   \n",
       "\n",
       "   % Mortan.  % Fal.  Kg. Pollo  P. Prom.  ...  Índice   nd zona climática  \\\n",
       "0       2.88   -0.33      93360  2.670175  ...       6  NaN      Arrecifes   \n",
       "1       5.71   -0.26     145260  2.679233  ...       7  NaN      Arrecifes   \n",
       "2       6.45   -0.48     100360  2.750870  ...       8  NaN     25 de mayo   \n",
       "3       5.90    1.07      77514  2.745705  ...      15  NaN      Arrecifes   \n",
       "4       7.35    0.19     120920  3.107525  ...      21  NaN      Arrecifes   \n",
       "\n",
       "   Cuartil EFS 2021  conv aj aviagen 2021  conv aj AVIAGEN  hepatitis  \\\n",
       "0               NaN              2.133946         2.134802        NaN   \n",
       "1               NaN              2.315835         2.316431        NaN   \n",
       "2               NaN              2.266716         2.265256        NaN   \n",
       "3               NaN              2.263520         2.262208        NaN   \n",
       "4               NaN              2.189003         2.177307        NaN   \n",
       "\n",
       "   consumo total  Pes conv 2,7  zona prod  \n",
       "0       5.682216      1.262878         BA  \n",
       "1       6.193629      1.164476         BA  \n",
       "2       6.263191      1.194771         BA  \n",
       "3       6.239843      1.196094         BA  \n",
       "4       7.053505      1.265246         BA  \n",
       "\n",
       "[5 rows x 66 columns]"
      ]
     },
     "execution_count": 6,
     "metadata": {},
     "output_type": "execute_result"
    },
    {
     "name": "stdout",
     "output_type": "stream",
     "text": [
      "time: 47 ms (started: 2023-06-26 19:11:58 -03:00)\n"
     ]
    }
   ],
   "source": [
    "df.head()"
   ]
  },
  {
   "attachments": {},
   "cell_type": "markdown",
   "metadata": {},
   "source": [
    "La base de datos posee 14.629 filas, cada una de las cuáles representa una crianza de una granja. La base tiene 66 columnas con información sobre las características de la granja, su ubicación y los resultados de producción obtenidos."
   ]
  },
  {
   "cell_type": "code",
   "execution_count": 5,
   "metadata": {},
   "outputs": [
    {
     "name": "stdout",
     "output_type": "stream",
     "text": [
      "Shape:  (14629, 66)\n",
      "+------------------------------+----------------+----------------+-------------+---------+----------------+---------------------+\n",
      "|           Variable           |      Tipo      | Cant. No Nulos | Cant. Nulos | % Nulos | Valores Únicos |       Ejemplo       |\n",
      "+------------------------------+----------------+----------------+-------------+---------+----------------+---------------------+\n",
      "|            granja            |     int64      |     14629      |      0      |   0.0   |      753       |         2544        |\n",
      "|            Nombre            |     object     |     14629      |      0      |   0.0   |      784       | \"GRANJA DON MIGUEL\" |\n",
      "|          Primer BB           | datetime64[ns] |     14629      |      0      |   0.0   |      1964      | 2014-11-13 00:00:00 |\n",
      "|          Cantid. BB          |     int64      |     14629      |      0      |   0.0   |      2390      |        36000        |\n",
      "|           A Faena            |     int64      |     14629      |      0      |   0.0   |     12224      |        34964        |\n",
      "|          % a 7 Días          |    float64     |     14629      |      0      |   0.0   |      620       |         0.55        |\n",
      "|          % Mortan.           |    float64     |     14629      |      0      |   0.0   |      2228      |         2.88        |\n",
      "|            % Fal.            |    float64     |     14629      |      0      |   0.0   |      1140      |        -0.33        |\n",
      "|          Kg. Pollo           |     int64      |     14629      |      0      |   0.0   |      9657      |        93360        |\n",
      "|           P. Prom.           |    float64     |     14629      |      0      |   0.0   |      4488      |  2.6701750371811004 |\n",
      "|          Kg. Alim.           |     int64      |     14629      |      0      |   0.0   |     14340      |        198673       |\n",
      "|             Conv             |    float64     |     14629      |      0      |   0.0   |      6216      |  2.1280312767780636 |\n",
      "|         Ulto. Levan.         | datetime64[ns] |     14629      |      0      |   0.0   |      2452      | 2015-01-01 00:00:00 |\n",
      "|             Edad             |    float64     |     14629      |      0      |   0.0   |      212       |         49.0        |\n",
      "|             A.D.             |    float64     |     14629      |      0      |   0.0   |      2388      |        54.49        |\n",
      "|            E.F.S.            |    float64     |     14629      |      0      |   0.0   |      316       |        249.0        |\n",
      "|             Gas              |    float64     |     10196      |     4433    |   30.3  |      5241      |        1456.0       |\n",
      "|         $ x Ave Ter.         |    float64     |     14626      |      3      |   0.02  |     13823      |        2.0878       |\n",
      "|        Gas x Ave In.         |    float64     |      6274      |     8355    |  57.11  |      1806      |         0.0         |\n",
      "|         Bonificación         |    float64     |     10722      |     3907    |  26.71  |     10404      |       14067.9       |\n",
      "|         Total Liqu.          |    float64     |     14628      |      1      |   0.01  |     14624      |       72997.74      |\n",
      "| Total Liq. con Bioseguridad  |    float64     |     14628      |      1      |   0.01  |     14625      |       72997.74      |\n",
      "|   $ AVE FINAL POR SISTEMA    |    float64     |     14627      |      2      |   0.01  |     14627      |  2.087797162796019  |\n",
      "|         año ingreso          |     int64      |     14629      |      0      |   0.0   |       10       |         2014        |\n",
      "|         mes ingreso          |     int64      |     14629      |      0      |   0.0   |       12       |          11         |\n",
      "|        semana ingreso        |     int64      |     14629      |      0      |   0.0   |       53       |          46         |\n",
      "|         año levante          |     int64      |     14629      |      0      |   0.0   |       9        |         2015        |\n",
      "|         mes levante          |     int64      |     14629      |      0      |   0.0   |       12       |          1          |\n",
      "|        semana levante        |     int64      |     14629      |      0      |   0.0   |       53       |          1          |\n",
      "|             sexo             |     object     |     14629      |      0      |   0.0   |       4        |          H          |\n",
      "|             zona             |     object     |     14629      |      0      |   0.0   |       2        |          BA         |\n",
      "|        Tipo de granja        |     object     |     14629      |      0      |   0.0   |       2        |      integrada      |\n",
      "|       Estación del año       |     object     |     14629      |      0      |   0.0   |       4        |        verano       |\n",
      "|        Días de receso        |     int64      |     14629      |      0      |   0.0   |      166       |          14         |\n",
      "|   Días de receso corregido   |     int64      |     14629      |      0      |   0.0   |       28       |          14         |\n",
      "|  Fuera de rango por receso   |    float64     |      367       |    14262    |  97.49  |       2        |         1.0         |\n",
      "| fuera de rango por mortandad |    float64     |      1414      |    13215    |  90.33  |       2        |         1.0         |\n",
      "|  mortandad semanal promedio  |    float64     |     14629      |      0      |   0.0   |     12152      |  0.4114285714285714 |\n",
      "| Conversión ajustada a 2,7 kg |    float64     |     14629      |      0      |   0.0   |      6730      |   2.13797293105103  |\n",
      "|   Consumo medio diario (g)   |    float64     |     14629      |      0      |   0.0   |     13978      |  115.96359170598797 |\n",
      "|  Consumo ajustado a 2,7 kg   |    float64     |     14629      |      0      |   0.0   |      6677      |  5.7725269138377815 |\n",
      "|           Destino            |     object     |     14629      |      0      |   0.0   |       1        |          MI         |\n",
      "|          capacidad           |    float64     |     14629      |      0      |   0.0   |      777       |        3000.0       |\n",
      "|           Densidad           |    float64     |     14629      |      0      |   0.0   |      5391      |         12.0        |\n",
      "|         kg pollo/m2          |    float64     |     14629      |      0      |   0.0   |     13171      |        31.12        |\n",
      "|        aves/comedero         |    float64     |     11905      |     2724    |  18.62  |      1261      |  58.32349941724941  |\n",
      "|   Cuartil por crianza 2017   |     object     |      8354      |     6275    |  42.89  |       5        |          IV         |\n",
      "|     Ventilación forzada      |     object     |     14629      |      0      |   0.0   |       3        |          S          |\n",
      "|     Ambiente controlado      |     object     |     14629      |      0      |   0.0   |       2        |          N          |\n",
      "| Distancia a planta alimento  |    float64     |     14255      |     374     |   2.56  |      202       |         88.0        |\n",
      "|          localidad           |     object     |     14629      |      0      |   0.0   |       41       |      San Pedro      |\n",
      "|           experim            |    float64     |      144       |    14485    |  99.02  |       2        |         1.0         |\n",
      "|         dada de baja         |     object     |      1486      |    13143    |  89.84  |       2        |          x          |\n",
      "|       Cuartil EFS 2019       |     object     |     12375      |     2254    |  15.41  |       5        |          I          |\n",
      "|     % desvío consumo std     |    float64     |     14629      |      0      |   0.0   |     14305      | -10.389276240444559 |\n",
      "|     EFS según ranking 19     |     object     |      8067      |     6562    |  44.86  |       5        |          IV         |\n",
      "|            Índice            |     int64      |     14629      |      0      |   0.0   |     14629      |          6          |\n",
      "|              nd              |     object     |       17       |    14612    |  99.88  |       3        |      corregido      |\n",
      "|        zona climática        |     object     |     14629      |      0      |   0.0   |       5        |      Arrecifes      |\n",
      "|       Cuartil EFS 2021       |     object     |      4211      |    10418    |  71.21  |       5        |          II         |\n",
      "|     conv aj aviagen 2021     |    float64     |     14629      |      0      |   0.0   |     10111      |  2.1339455669050515 |\n",
      "|       conv aj AVIAGEN        |    float64     |     14629      |      0      |   0.0   |     10111      |  2.1348015433379537 |\n",
      "|          hepatitis           |     object     |      730       |    13899    |  95.01  |       2        |      hepatitis      |\n",
      "|        consumo total         |    float64     |     14629      |      0      |   0.0   |      9794      |  5.6822159935934105 |\n",
      "|         Pes conv 2,7         |    float64     |     14629      |      0      |   0.0   |      6704      |  1.2628784774523207 |\n",
      "|          zona prod           |     object     |     14629      |      0      |   0.0   |       3        |          BA         |\n",
      "+------------------------------+----------------+----------------+-------------+---------+----------------+---------------------+\n",
      "\n",
      "time: 781 ms (started: 2023-06-26 19:11:05 -03:00)\n"
     ]
    }
   ],
   "source": [
    "def df_explore(df):\n",
    "    # Tabla de descripción de las principales características de cada columna de un conjunto de datos\n",
    "    print( 'Shape: ', df.shape)\n",
    "\n",
    "    t = PrettyTable(['Variable',\n",
    "                     'Tipo',\n",
    "                     'Cant. No Nulos',\n",
    "                     'Cant. Nulos',\n",
    "                     '% Nulos',\n",
    "                     'Valores Únicos',\n",
    "                     'Ejemplo',\n",
    "                    ])\n",
    "\n",
    "    for c in df.columns:\n",
    "        t.add_row([c,                                                                                         # Variable\n",
    "                   df[c].dtype,                                                                               # tipo\n",
    "                   len(df[c])-np.sum(df[c].isna().sort_values(ascending=False)),                              # Cant. No Nulos\n",
    "                   np.sum(df[c].isna()),                                                                 # Cant. Nulos\n",
    "                   np.round(df[c].isna().sort_values(ascending=False).sum()/len(df)*100, 2),        # % Nulos\n",
    "                   np.count_nonzero(df[c].unique()),                                                          # Valores Únicos\n",
    "                   df[~df[c].isnull()][c].iloc[0],                                                            # Ejemplo\n",
    "                  ])\n",
    "    print(t)\n",
    "    print()\n",
    "    return\n",
    "\n",
    "df_explore(df)"
   ]
  },
  {
   "attachments": {},
   "cell_type": "markdown",
   "metadata": {},
   "source": [
    "Análisis exploratorio de datos"
   ]
  },
  {
   "attachments": {},
   "cell_type": "markdown",
   "metadata": {},
   "source": [
    "### Histograma de ganancia media diaria de peso (A.D.)"
   ]
  },
  {
   "cell_type": "code",
   "execution_count": 9,
   "metadata": {},
   "outputs": [
    {
     "data": {
      "image/png": "[encoded data removed]",
      "text/plain": [
       "<Figure size 640x480 with 1 Axes>"
      ]
     },
     "metadata": {},
     "output_type": "display_data"
    },
    {
     "name": "stdout",
     "output_type": "stream",
     "text": [
      "time: 578 ms (started: 2023-06-26 19:17:59 -03:00)\n"
     ]
    }
   ],
   "source": [
    "#Gráfico 1\n",
    "#Histograma de Ganancia media diaria de peso#\n",
    "ax=sns.histplot(data=df, x='A.D.')\n",
    "ax.set(title='Ganancia media diaria de peso', ylabel='cantidad de crianzas');"
   ]
  },
  {
   "cell_type": "code",
   "execution_count": 12,
   "metadata": {},
   "outputs": [
    {
     "data": {
      "text/plain": [
       "57.87417275639253"
      ]
     },
     "execution_count": 12,
     "metadata": {},
     "output_type": "execute_result"
    },
    {
     "name": "stdout",
     "output_type": "stream",
     "text": [
      "time: 0 ns (started: 2023-06-26 19:21:34 -03:00)\n"
     ]
    }
   ],
   "source": [
    "df['A.D.'].mean()\n"
   ]
  },
  {
   "attachments": {},
   "cell_type": "markdown",
   "metadata": {},
   "source": [
    "La **ganancia media diaria de peso** es una medida que permite comparar resultados entre granjas y además permite ver la evolución de los resultados globales de la empresa a lo largo del tiempo. A mayor valor, mejor será el resultado. El valor medio es de **57.87** gramos de peso ganados promedio por día."
   ]
  },
  {
   "attachments": {},
   "cell_type": "markdown",
   "metadata": {},
   "source": [
    "### A.D. por año"
   ]
  },
  {
   "cell_type": "code",
   "execution_count": 33,
   "metadata": {},
   "outputs": [
    {
     "data": {
      "image/png": "[encoded data removed]",
      "text/plain": [
       "<Figure size 640x480 with 1 Axes>"
      ]
     },
     "metadata": {},
     "output_type": "display_data"
    },
    {
     "name": "stdout",
     "output_type": "stream",
     "text": [
      "time: 515 ms (started: 2023-06-26 20:12:53 -03:00)\n"
     ]
    }
   ],
   "source": [
    "# Gráfico 2\n",
    "ax=sns.barplot(data=df, x='año levante',y='A.D.') \n",
    "ax.bar_label(ax.containers[0],fmt='%.2f')\n",
    "ax.set(ylim=(40, 70))\n",
    "ax.set(title='Ganancia media diaria de peso por año');"
   ]
  },
  {
   "attachments": {},
   "cell_type": "markdown",
   "metadata": {},
   "source": [
    "Se observa que las ganancias de peso de los años 2017 y 2021 fueron superiores al resto de los años analizados. "
   ]
  },
  {
   "attachments": {},
   "cell_type": "markdown",
   "metadata": {},
   "source": [
    "### A.D. por estación del año"
   ]
  },
  {
   "cell_type": "code",
   "execution_count": null,
   "metadata": {},
   "outputs": [],
   "source": []
  }
 ],
 "metadata": {
  "kernelspec": {
   "display_name": "Python 3",
   "language": "python",
   "name": "python3"
  },
  "language_info": {
   "codemirror_mode": {
    "name": "ipython",
    "version": 3
   },
   "file_extension": ".py",
   "mimetype": "text/x-python",
   "name": "python",
   "nbconvert_exporter": "python",
   "pygments_lexer": "ipython3",
   "version": "3.9.13"
  },
  "orig_nbformat": 4
 },
 "nbformat": 4,
 "nbformat_minor": 2
}
