{
 "cells": [
  {
   "cell_type": "code",
   "execution_count": null,
   "id": "d6da22ed",
   "metadata": {},
   "outputs": [],
   "source": [
    "from IPython.display import HTML\n",
    "\n",
    "HTML('''<script>\n",
    "code_show=true; \n",
    "function code_toggle() {\n",
    " if (code_show){\n",
    " $('div.input').hide();\n",
    " } else {\n",
    " $('div.input').show();\n",
    " }\n",
    " code_show = !code_show\n",
    "} \n",
    "$( document ).ready(code_toggle);\n",
    "</script>\n",
    "<form action=\"javascript:code_toggle()\"><input type=\"submit\" value=\"code.\"></form>''')"
   ]
  },
  {
   "attachments": {},
   "cell_type": "markdown",
   "id": "a65ad590",
   "metadata": {},
   "source": [
    "# Introducción"
   ]
  },
  {
   "attachments": {},
   "cell_type": "markdown",
   "id": "943474ae",
   "metadata": {},
   "source": [
    "En presente trabajo se analizaron los resultados productivos de una empresa productora de pollos parrilleros para detectar las variables que impactan sobre los resultados y realizar recomendaciones a partir de ello. En segunda instancia se construyó un modelo de regresión "
   ]
  },
  {
   "attachments": {},
   "cell_type": "markdown",
   "id": "1c303bfc",
   "metadata": {},
   "source": [
    "## Obtención de base de datos"
   ]
  },
  {
   "cell_type": "code",
   "execution_count": 19,
   "id": "f473cc0f",
   "metadata": {},
   "outputs": [
    {
     "name": "stdout",
     "output_type": "stream",
     "text": [
      "Requirement already satisfied: ipython-autotime in c:\\users\\ebover\\anaconda3\\lib\\site-packages (0.3.1)\n",
      "Requirement already satisfied: ipython in c:\\users\\ebover\\anaconda3\\lib\\site-packages (from ipython-autotime) (7.31.1)\n",
      "Requirement already satisfied: setuptools>=18.5 in c:\\users\\ebover\\anaconda3\\lib\\site-packages (from ipython->ipython-autotime) (63.4.1)\n",
      "Requirement already satisfied: jedi>=0.16 in c:\\users\\ebover\\anaconda3\\lib\\site-packages (from ipython->ipython-autotime) (0.18.1)\n",
      "Requirement already satisfied: decorator in c:\\users\\ebover\\anaconda3\\lib\\site-packages (from ipython->ipython-autotime) (5.1.1)\n",
      "Requirement already satisfied: pickleshare in c:\\users\\ebover\\anaconda3\\lib\\site-packages (from ipython->ipython-autotime) (0.7.5)\n",
      "Requirement already satisfied: traitlets>=4.2 in c:\\users\\ebover\\anaconda3\\lib\\site-packages (from ipython->ipython-autotime) (5.1.1)\n",
      "Requirement already satisfied: prompt-toolkit!=3.0.0,!=3.0.1,<3.1.0,>=2.0.0 in c:\\users\\ebover\\anaconda3\\lib\\site-packages (from ipython->ipython-autotime) (3.0.20)\n",
      "Requirement already satisfied: pygments in c:\\users\\ebover\\anaconda3\\lib\\site-packages (from ipython->ipython-autotime) (2.11.2)\n",
      "Requirement already satisfied: backcall in c:\\users\\ebover\\anaconda3\\lib\\site-packages (from ipython->ipython-autotime) (0.2.0)\n",
      "Requirement already satisfied: matplotlib-inline in c:\\users\\ebover\\anaconda3\\lib\\site-packages (from ipython->ipython-autotime) (0.1.6)\n",
      "Requirement already satisfied: colorama in c:\\users\\ebover\\anaconda3\\lib\\site-packages (from ipython->ipython-autotime) (0.4.5)\n",
      "Requirement already satisfied: parso<0.9.0,>=0.8.0 in c:\\users\\ebover\\anaconda3\\lib\\site-packages (from jedi>=0.16->ipython->ipython-autotime) (0.8.3)\n",
      "Requirement already satisfied: wcwidth in c:\\users\\ebover\\anaconda3\\lib\\site-packages (from prompt-toolkit!=3.0.0,!=3.0.1,<3.1.0,>=2.0.0->ipython->ipython-autotime) (0.2.5)\n",
      "Note: you may need to restart the kernel to use updated packages.\n",
      "The autotime extension is already loaded. To reload it, use:\n",
      "  %reload_ext autotime\n",
      "time: 5.98 s (started: 2023-06-24 22:19:08 -03:00)\n"
     ]
    },
    {
     "name": "stderr",
     "output_type": "stream",
     "text": [
      "WARNING: Ignoring invalid distribution -illow (c:\\users\\ebover\\anaconda3\\lib\\site-packages)\n",
      "WARNING: Ignoring invalid distribution -illow (c:\\users\\ebover\\anaconda3\\lib\\site-packages)\n"
     ]
    }
   ],
   "source": [
    "# Se presentan las librerías utilizadas:\n",
    "# Importaciones\n",
    "import numpy as np\n",
    "import pandas as pd\n",
    "#import pandas_profiling\n",
    "import plotly.express as px\n",
    "import seaborn as sns\n",
    "import matplotlib.pyplot as plt\n",
    "from prettytable import PrettyTable\n",
    "import xlsxwriter\n",
    "import datetime\n",
    "import statsmodels.api as sm\n",
    "import requests\n",
    "import json\n",
    "import plotly.express as px\n",
    "import ydata_profiling\n",
    "from matplotlib import rcParams\n",
    "from numpy import mean\n",
    "from numpy import std\n",
    "\n",
    "# Para modelaje:\n",
    "from sklearn.svm import SVR\n",
    "from sklearn.model_selection import train_test_split\n",
    "from sklearn.linear_model import LassoCV\n",
    "from sklearn.ensemble import RandomForestRegressor\n",
    "import xgboost as xgb\n",
    "from sklearn.impute import SimpleImputer\n",
    "from sklearn.compose import ColumnTransformer\n",
    "from sklearn.pipeline import Pipeline\n",
    "from sklearn.preprocessing import OneHotEncoder, StandardScaler\n",
    "from sklearn.model_selection import RandomizedSearchCV\n",
    "from sklearn.model_selection import cross_val_score\n",
    "from sklearn.feature_selection import VarianceThreshold\n",
    "from sklearn.ensemble import VotingRegressor\n",
    "from imblearn import FunctionSampler\n",
    "from sklearn import metrics\n",
    "%pip install ipython-autotime\n",
    "%load_ext autotime\n",
    "import pickle\n",
    "from sklearn.metrics import mean_squared_error, r2_score, mean_absolute_error\n",
    "from sklearn import preprocessing"
   ]
  },
  {
   "cell_type": "code",
   "execution_count": 20,
   "id": "bae7f623",
   "metadata": {},
   "outputs": [
    {
     "name": "stdout",
     "output_type": "stream",
     "text": [
      "time: 13.2 s (started: 2023-06-24 22:19:27 -03:00)\n"
     ]
    }
   ],
   "source": [
    "#Ingresos semanales compilado registra resultados finales de la producción en la pestaña BASE. Contiene además datos de genética, nutrición y sanidad.\n",
    "df = pd.read_excel(r\"C:\\Users\\ebover\\OneDrive - FRIGORIFICO DE AVES SOYCHU S.A.I.C.F.I.A\\ingresos semanales compilado.xlsx\",sheet_name='BASE', skiprows=1 , usecols=range(1,67))"
   ]
  },
  {
   "attachments": {},
   "cell_type": "markdown",
   "id": "ca760d02",
   "metadata": {},
   "source": [
    "## Feature extraction preliminar"
   ]
  },
  {
   "cell_type": "code",
   "execution_count": 21,
   "id": "895267f6",
   "metadata": {},
   "outputs": [
    {
     "name": "stdout",
     "output_type": "stream",
     "text": [
      "time: 47 ms (started: 2023-06-24 22:19:43 -03:00)\n"
     ]
    }
   ],
   "source": [
    "df.drop(df[(df['A.D.'] >100)].index, inplace=True) #Se eliminan valores erróneos\n",
    "df.drop(df[(df['Edad'] >70)].index, inplace=True) #Se elimninan edades fuera de estándar\n",
    "df.drop(df[(df['Destino'] =='EXP')].index, inplace=True) # se eliminan crianzas de pollos enviados a exportación\n"
   ]
  },
  {
   "cell_type": "code",
   "execution_count": null,
   "id": "ba4146c5",
   "metadata": {},
   "outputs": [],
   "source": [
    "columns_names = df.columns.values\n",
    "columns_names"
   ]
  },
  {
   "cell_type": "code",
   "execution_count": 22,
   "id": "9d750780",
   "metadata": {},
   "outputs": [
    {
     "data": {
      "text/html": [
       "<div>\n",
       "<style scoped>\n",
       "    .dataframe tbody tr th:only-of-type {\n",
       "        vertical-align: middle;\n",
       "    }\n",
       "\n",
       "    .dataframe tbody tr th {\n",
       "        vertical-align: top;\n",
       "    }\n",
       "\n",
       "    .dataframe thead th {\n",
       "        text-align: right;\n",
       "    }\n",
       "</style>\n",
       "<table border=\"1\" class=\"dataframe\">\n",
       "  <thead>\n",
       "    <tr style=\"text-align: right;\">\n",
       "      <th></th>\n",
       "      <th>Días de receso corregido</th>\n",
       "      <th>granja</th>\n",
       "      <th>Cantid. BB</th>\n",
       "      <th>% a 7 Días</th>\n",
       "      <th>% Mortan.</th>\n",
       "      <th>Edad</th>\n",
       "      <th>mes levante</th>\n",
       "      <th>Consumo medio diario (g)</th>\n",
       "      <th>Estación del año</th>\n",
       "      <th>Densidad</th>\n",
       "      <th>Ventilación forzada</th>\n",
       "      <th>Ambiente controlado</th>\n",
       "      <th>localidad</th>\n",
       "      <th>zona climática</th>\n",
       "      <th>zona prod</th>\n",
       "    </tr>\n",
       "  </thead>\n",
       "  <tbody>\n",
       "    <tr>\n",
       "      <th>0</th>\n",
       "      <td>14</td>\n",
       "      <td>2544</td>\n",
       "      <td>36000</td>\n",
       "      <td>0.55</td>\n",
       "      <td>2.88</td>\n",
       "      <td>49.0</td>\n",
       "      <td>1</td>\n",
       "      <td>115.963592</td>\n",
       "      <td>verano</td>\n",
       "      <td>12.000000</td>\n",
       "      <td>S</td>\n",
       "      <td>N</td>\n",
       "      <td>San Pedro</td>\n",
       "      <td>Arrecifes</td>\n",
       "      <td>BA</td>\n",
       "    </tr>\n",
       "    <tr>\n",
       "      <th>1</th>\n",
       "      <td>12</td>\n",
       "      <td>2558</td>\n",
       "      <td>57500</td>\n",
       "      <td>0.83</td>\n",
       "      <td>5.71</td>\n",
       "      <td>52.9</td>\n",
       "      <td>1</td>\n",
       "      <td>117.081839</td>\n",
       "      <td>verano</td>\n",
       "      <td>10.454545</td>\n",
       "      <td>N</td>\n",
       "      <td>N</td>\n",
       "      <td>Salto</td>\n",
       "      <td>Arrecifes</td>\n",
       "      <td>BA</td>\n",
       "    </tr>\n",
       "    <tr>\n",
       "      <th>2</th>\n",
       "      <td>11</td>\n",
       "      <td>2761</td>\n",
       "      <td>39000</td>\n",
       "      <td>0.92</td>\n",
       "      <td>6.45</td>\n",
       "      <td>49.0</td>\n",
       "      <td>1</td>\n",
       "      <td>127.820226</td>\n",
       "      <td>verano</td>\n",
       "      <td>9.470000</td>\n",
       "      <td>N</td>\n",
       "      <td>N</td>\n",
       "      <td>Chivilcoy</td>\n",
       "      <td>25 de mayo</td>\n",
       "      <td>BA</td>\n",
       "    </tr>\n",
       "    <tr>\n",
       "      <th>3</th>\n",
       "      <td>9</td>\n",
       "      <td>2524</td>\n",
       "      <td>30000</td>\n",
       "      <td>1.35</td>\n",
       "      <td>5.90</td>\n",
       "      <td>49.0</td>\n",
       "      <td>1</td>\n",
       "      <td>127.343729</td>\n",
       "      <td>verano</td>\n",
       "      <td>10.000000</td>\n",
       "      <td>N</td>\n",
       "      <td>N</td>\n",
       "      <td>San Pedro</td>\n",
       "      <td>Arrecifes</td>\n",
       "      <td>BA</td>\n",
       "    </tr>\n",
       "    <tr>\n",
       "      <th>4</th>\n",
       "      <td>10</td>\n",
       "      <td>2741</td>\n",
       "      <td>42000</td>\n",
       "      <td>0.76</td>\n",
       "      <td>7.35</td>\n",
       "      <td>51.0</td>\n",
       "      <td>1</td>\n",
       "      <td>138.304026</td>\n",
       "      <td>verano</td>\n",
       "      <td>10.769231</td>\n",
       "      <td>N</td>\n",
       "      <td>N</td>\n",
       "      <td>Arrecifes</td>\n",
       "      <td>Arrecifes</td>\n",
       "      <td>BA</td>\n",
       "    </tr>\n",
       "  </tbody>\n",
       "</table>\n",
       "</div>"
      ],
      "text/plain": [
       "   Días de receso corregido  granja  Cantid. BB  % a 7 Días  % Mortan.  Edad  \\\n",
       "0                        14    2544       36000        0.55       2.88  49.0   \n",
       "1                        12    2558       57500        0.83       5.71  52.9   \n",
       "2                        11    2761       39000        0.92       6.45  49.0   \n",
       "3                         9    2524       30000        1.35       5.90  49.0   \n",
       "4                        10    2741       42000        0.76       7.35  51.0   \n",
       "\n",
       "   mes levante  Consumo medio diario (g) Estación del año   Densidad  \\\n",
       "0            1                115.963592           verano  12.000000   \n",
       "1            1                117.081839           verano  10.454545   \n",
       "2            1                127.820226           verano   9.470000   \n",
       "3            1                127.343729           verano  10.000000   \n",
       "4            1                138.304026           verano  10.769231   \n",
       "\n",
       "  Ventilación forzada Ambiente controlado  localidad zona climática zona prod  \n",
       "0                   S                   N  San Pedro      Arrecifes        BA  \n",
       "1                   N                   N      Salto      Arrecifes        BA  \n",
       "2                   N                   N  Chivilcoy     25 de mayo        BA  \n",
       "3                   N                   N  San Pedro      Arrecifes        BA  \n",
       "4                   N                   N  Arrecifes      Arrecifes        BA  "
      ]
     },
     "execution_count": 22,
     "metadata": {},
     "output_type": "execute_result"
    },
    {
     "name": "stdout",
     "output_type": "stream",
     "text": [
      "time: 16 ms (started: 2023-06-24 22:19:52 -03:00)\n"
     ]
    }
   ],
   "source": [
    "#subset para modelo\n",
    "dfm=df[['Días de receso corregido','granja','Cantid. BB','% a 7 Días','% Mortan.','Edad','mes levante','Consumo medio diario (g)','Estación del año','Densidad','Ventilación forzada','Ambiente controlado','localidad','zona climática','zona prod' ]]\n",
    "dfm.head()"
   ]
  },
  {
   "cell_type": "code",
   "execution_count": 23,
   "id": "b8f7890e",
   "metadata": {},
   "outputs": [
    {
     "name": "stdout",
     "output_type": "stream",
     "text": [
      "Shape:  (14629, 66)\n",
      "+--------------------------+---------+----------------+-------------+---------+----------------+--------------------+\n",
      "|         Variable         |   Tipo  | Cant. No Nulos | Cant. Nulos | % Nulos | Valores Únicos |      Ejemplo       |\n",
      "+--------------------------+---------+----------------+-------------+---------+----------------+--------------------+\n",
      "| Días de receso corregido |  int64  |     14629      |      0      |   0.0   |       28       |         14         |\n",
      "|          granja          |  int64  |     14629      |      0      |   0.0   |      753       |        2544        |\n",
      "|        Cantid. BB        |  int64  |     14629      |      0      |   0.0   |      2390      |       36000        |\n",
      "|        % a 7 Días        | float64 |     14629      |      0      |   0.0   |      620       |        0.55        |\n",
      "|        % Mortan.         | float64 |     14629      |      0      |   0.0   |      2228      |        2.88        |\n",
      "|           Edad           | float64 |     14629      |      0      |   0.0   |      212       |        49.0        |\n",
      "|       mes levante        |  int64  |     14629      |      0      |   0.0   |       12       |         1          |\n",
      "| Consumo medio diario (g) | float64 |     14629      |      0      |   0.0   |     13978      | 115.96359170598797 |\n",
      "|     Estación del año     |  object |     14629      |      0      |   0.0   |       4        |       verano       |\n",
      "|         Densidad         | float64 |     14629      |      0      |   0.0   |      5391      |        12.0        |\n",
      "|   Ventilación forzada    |  object |     14629      |      0      |   0.0   |       3        |         S          |\n",
      "|   Ambiente controlado    |  object |     14629      |      0      |   0.0   |       2        |         N          |\n",
      "|        localidad         |  object |     14629      |      0      |   0.0   |       41       |     San Pedro      |\n",
      "|      zona climática      |  object |     14629      |      0      |   0.0   |       5        |     Arrecifes      |\n",
      "|        zona prod         |  object |     14629      |      0      |   0.0   |       3        |         BA         |\n",
      "+--------------------------+---------+----------------+-------------+---------+----------------+--------------------+\n",
      "\n",
      "time: 94 ms (started: 2023-06-24 22:19:57 -03:00)\n"
     ]
    }
   ],
   "source": [
    "def df_explore(dfm):\n",
    "    # Tabla de descripción de las principales características de cada columna de un conjunto de datos\n",
    "    print( 'Shape: ', df.shape)\n",
    "\n",
    "    t = PrettyTable(['Variable',\n",
    "                     'Tipo',\n",
    "                     'Cant. No Nulos',\n",
    "                     'Cant. Nulos',\n",
    "                     '% Nulos',\n",
    "                     'Valores Únicos',\n",
    "                     'Ejemplo',\n",
    "                    ])\n",
    "\n",
    "    for c in dfm.columns:\n",
    "        t.add_row([c,                                                                                         # Variable\n",
    "                   dfm[c].dtype,                                                                               # tipo\n",
    "                   len(dfm[c])-np.sum(dfm[c].isna().sort_values(ascending=False)),                              # Cant. No Nulos\n",
    "                   np.sum(dfm[c].isna()),                                                                 # Cant. Nulos\n",
    "                   np.round(dfm[c].isna().sort_values(ascending=False).sum()/len(df)*100, 2),        # % Nulos\n",
    "                   np.count_nonzero(dfm[c].unique()),                                                          # Valores Únicos\n",
    "                   dfm[~dfm[c].isnull()][c].iloc[0],                                                            # Ejemplo\n",
    "                  ])\n",
    "    print(t)\n",
    "    print()\n",
    "    return\n",
    "\n",
    "df_explore(dfm)"
   ]
  },
  {
   "cell_type": "code",
   "execution_count": 24,
   "id": "718845f4",
   "metadata": {},
   "outputs": [
    {
     "name": "stdout",
     "output_type": "stream",
     "text": [
      "Empty DataFrame\n",
      "Columns: [Correlacion]\n",
      "Index: []\n",
      "time: 16 ms (started: 2023-06-24 22:20:03 -03:00)\n"
     ]
    }
   ],
   "source": [
    "c = dfm.corr(numeric_only=True).abs()\n",
    "s = c.unstack()\n",
    "correlacion=pd.DataFrame(s)\n",
    "correlacion.columns=[\"Correlacion\"]\n",
    "correlaciones_max=correlacion.query(\"Correlacion>0.8 & Correlacion!=1\")\n",
    "\n",
    "with pd.option_context('display.max_rows', None,\n",
    "                       'display.max_columns', None,\n",
    "                       'display.precision', 3,\n",
    "                       ):\n",
    "    print(correlaciones_max)"
   ]
  },
  {
   "cell_type": "code",
   "execution_count": 25,
   "id": "015c4b5a",
   "metadata": {},
   "outputs": [
    {
     "data": {
      "text/html": [
       "<div>\n",
       "<style scoped>\n",
       "    .dataframe tbody tr th:only-of-type {\n",
       "        vertical-align: middle;\n",
       "    }\n",
       "\n",
       "    .dataframe tbody tr th {\n",
       "        vertical-align: top;\n",
       "    }\n",
       "\n",
       "    .dataframe thead th {\n",
       "        text-align: right;\n",
       "    }\n",
       "</style>\n",
       "<table border=\"1\" class=\"dataframe\">\n",
       "  <thead>\n",
       "    <tr style=\"text-align: right;\">\n",
       "      <th></th>\n",
       "      <th></th>\n",
       "      <th>Correlacion</th>\n",
       "    </tr>\n",
       "  </thead>\n",
       "  <tbody>\n",
       "    <tr>\n",
       "      <th rowspan=\"5\" valign=\"top\">Consumo medio diario (g)</th>\n",
       "      <th>mes levante</th>\n",
       "      <td>0.184582</td>\n",
       "    </tr>\n",
       "    <tr>\n",
       "      <th>Edad</th>\n",
       "      <td>0.170924</td>\n",
       "    </tr>\n",
       "    <tr>\n",
       "      <th>% a 7 Días</th>\n",
       "      <td>0.100126</td>\n",
       "    </tr>\n",
       "    <tr>\n",
       "      <th>% Mortan.</th>\n",
       "      <td>0.084959</td>\n",
       "    </tr>\n",
       "    <tr>\n",
       "      <th>Días de receso corregido</th>\n",
       "      <td>0.073382</td>\n",
       "    </tr>\n",
       "  </tbody>\n",
       "</table>\n",
       "</div>"
      ],
      "text/plain": [
       "                                                   Correlacion\n",
       "Consumo medio diario (g) mes levante                  0.184582\n",
       "                         Edad                         0.170924\n",
       "                         % a 7 Días                   0.100126\n",
       "                         % Mortan.                    0.084959\n",
       "                         Días de receso corregido     0.073382"
      ]
     },
     "execution_count": 25,
     "metadata": {},
     "output_type": "execute_result"
    },
    {
     "name": "stdout",
     "output_type": "stream",
     "text": [
      "time: 31 ms (started: 2023-06-24 22:20:08 -03:00)\n"
     ]
    }
   ],
   "source": [
    "c = dfm.corr(numeric_only=True).abs()\n",
    "s = c.unstack()\n",
    "correlacion=pd.DataFrame(s)\n",
    "correlacion.columns=[\"Correlacion\"]\n",
    "correlacion=correlacion[correlacion.index.isin(['Consumo medio diario (g)'], level=0)]\n",
    "correlacion.query(\"Correlacion>0.05 & Correlacion!=1\").sort_values(by=\"Correlacion\",ascending=False)"
   ]
  },
  {
   "cell_type": "code",
   "execution_count": null,
   "id": "1a4028c0",
   "metadata": {},
   "outputs": [],
   "source": [
    "plot=sns.histplot(x=\"Consumo medio diario (g)\", data=dfm);"
   ]
  },
  {
   "cell_type": "code",
   "execution_count": null,
   "id": "36bf2626",
   "metadata": {},
   "outputs": [],
   "source": [
    "sns.scatterplot(x=\"mes levante\",y=\"Consumo medio diario (g)\", data=dfm);"
   ]
  },
  {
   "cell_type": "code",
   "execution_count": null,
   "id": "410f3978",
   "metadata": {},
   "outputs": [],
   "source": [
    "sns.boxplot(x=\"Ventilación forzada\",y=\"Consumo medio diario (g)\", data=dfm);"
   ]
  },
  {
   "attachments": {},
   "cell_type": "markdown",
   "id": "6cb2b878",
   "metadata": {},
   "source": [
    "# Encoding"
   ]
  },
  {
   "attachments": {},
   "cell_type": "markdown",
   "id": "0af74627",
   "metadata": {},
   "source": [
    "## Transformaciones categóricas"
   ]
  },
  {
   "cell_type": "code",
   "execution_count": 26,
   "id": "763e8982",
   "metadata": {},
   "outputs": [
    {
     "data": {
      "text/html": [
       "<div>\n",
       "<style scoped>\n",
       "    .dataframe tbody tr th:only-of-type {\n",
       "        vertical-align: middle;\n",
       "    }\n",
       "\n",
       "    .dataframe tbody tr th {\n",
       "        vertical-align: top;\n",
       "    }\n",
       "\n",
       "    .dataframe thead th {\n",
       "        text-align: right;\n",
       "    }\n",
       "</style>\n",
       "<table border=\"1\" class=\"dataframe\">\n",
       "  <thead>\n",
       "    <tr style=\"text-align: right;\">\n",
       "      <th></th>\n",
       "      <th>Días de receso corregido</th>\n",
       "      <th>granja</th>\n",
       "      <th>Cantid. BB</th>\n",
       "      <th>% a 7 Días</th>\n",
       "      <th>% Mortan.</th>\n",
       "      <th>Edad</th>\n",
       "      <th>mes levante</th>\n",
       "      <th>Consumo medio diario (g)</th>\n",
       "      <th>Estación del año</th>\n",
       "      <th>Densidad</th>\n",
       "      <th>Ventilación forzada</th>\n",
       "      <th>Ambiente controlado</th>\n",
       "      <th>localidad</th>\n",
       "      <th>zona climática</th>\n",
       "      <th>zona prod</th>\n",
       "    </tr>\n",
       "  </thead>\n",
       "  <tbody>\n",
       "    <tr>\n",
       "      <th>0</th>\n",
       "      <td>14</td>\n",
       "      <td>2544</td>\n",
       "      <td>36000</td>\n",
       "      <td>0.55</td>\n",
       "      <td>2.88</td>\n",
       "      <td>49.0</td>\n",
       "      <td>1</td>\n",
       "      <td>115.963592</td>\n",
       "      <td>verano</td>\n",
       "      <td>12.000000</td>\n",
       "      <td>S</td>\n",
       "      <td>N</td>\n",
       "      <td>San Pedro</td>\n",
       "      <td>Arrecifes</td>\n",
       "      <td>BA</td>\n",
       "    </tr>\n",
       "    <tr>\n",
       "      <th>1</th>\n",
       "      <td>12</td>\n",
       "      <td>2558</td>\n",
       "      <td>57500</td>\n",
       "      <td>0.83</td>\n",
       "      <td>5.71</td>\n",
       "      <td>52.9</td>\n",
       "      <td>1</td>\n",
       "      <td>117.081839</td>\n",
       "      <td>verano</td>\n",
       "      <td>10.454545</td>\n",
       "      <td>N</td>\n",
       "      <td>N</td>\n",
       "      <td>Salto</td>\n",
       "      <td>Arrecifes</td>\n",
       "      <td>BA</td>\n",
       "    </tr>\n",
       "    <tr>\n",
       "      <th>2</th>\n",
       "      <td>11</td>\n",
       "      <td>2761</td>\n",
       "      <td>39000</td>\n",
       "      <td>0.92</td>\n",
       "      <td>6.45</td>\n",
       "      <td>49.0</td>\n",
       "      <td>1</td>\n",
       "      <td>127.820226</td>\n",
       "      <td>verano</td>\n",
       "      <td>9.470000</td>\n",
       "      <td>N</td>\n",
       "      <td>N</td>\n",
       "      <td>Chivilcoy</td>\n",
       "      <td>25 de mayo</td>\n",
       "      <td>BA</td>\n",
       "    </tr>\n",
       "    <tr>\n",
       "      <th>3</th>\n",
       "      <td>9</td>\n",
       "      <td>2524</td>\n",
       "      <td>30000</td>\n",
       "      <td>1.35</td>\n",
       "      <td>5.90</td>\n",
       "      <td>49.0</td>\n",
       "      <td>1</td>\n",
       "      <td>127.343729</td>\n",
       "      <td>verano</td>\n",
       "      <td>10.000000</td>\n",
       "      <td>N</td>\n",
       "      <td>N</td>\n",
       "      <td>San Pedro</td>\n",
       "      <td>Arrecifes</td>\n",
       "      <td>BA</td>\n",
       "    </tr>\n",
       "    <tr>\n",
       "      <th>4</th>\n",
       "      <td>10</td>\n",
       "      <td>2741</td>\n",
       "      <td>42000</td>\n",
       "      <td>0.76</td>\n",
       "      <td>7.35</td>\n",
       "      <td>51.0</td>\n",
       "      <td>1</td>\n",
       "      <td>138.304026</td>\n",
       "      <td>verano</td>\n",
       "      <td>10.769231</td>\n",
       "      <td>N</td>\n",
       "      <td>N</td>\n",
       "      <td>Arrecifes</td>\n",
       "      <td>Arrecifes</td>\n",
       "      <td>BA</td>\n",
       "    </tr>\n",
       "  </tbody>\n",
       "</table>\n",
       "</div>"
      ],
      "text/plain": [
       "   Días de receso corregido  granja  Cantid. BB  % a 7 Días  % Mortan.  Edad  \\\n",
       "0                        14    2544       36000        0.55       2.88  49.0   \n",
       "1                        12    2558       57500        0.83       5.71  52.9   \n",
       "2                        11    2761       39000        0.92       6.45  49.0   \n",
       "3                         9    2524       30000        1.35       5.90  49.0   \n",
       "4                        10    2741       42000        0.76       7.35  51.0   \n",
       "\n",
       "   mes levante  Consumo medio diario (g) Estación del año   Densidad  \\\n",
       "0            1                115.963592           verano  12.000000   \n",
       "1            1                117.081839           verano  10.454545   \n",
       "2            1                127.820226           verano   9.470000   \n",
       "3            1                127.343729           verano  10.000000   \n",
       "4            1                138.304026           verano  10.769231   \n",
       "\n",
       "  Ventilación forzada Ambiente controlado  localidad zona climática zona prod  \n",
       "0                   S                   N  San Pedro      Arrecifes        BA  \n",
       "1                   N                   N      Salto      Arrecifes        BA  \n",
       "2                   N                   N  Chivilcoy     25 de mayo        BA  \n",
       "3                   N                   N  San Pedro      Arrecifes        BA  \n",
       "4                   N                   N  Arrecifes      Arrecifes        BA  "
      ]
     },
     "execution_count": 26,
     "metadata": {},
     "output_type": "execute_result"
    },
    {
     "name": "stdout",
     "output_type": "stream",
     "text": [
      "time: 16 ms (started: 2023-06-24 22:20:19 -03:00)\n"
     ]
    }
   ],
   "source": [
    "dfn=dfm\n",
    "dfn.head()"
   ]
  },
  {
   "cell_type": "code",
   "execution_count": 27,
   "id": "0b437580",
   "metadata": {},
   "outputs": [
    {
     "name": "stderr",
     "output_type": "stream",
     "text": [
      "C:\\Users\\ebover\\AppData\\Local\\Temp\\ipykernel_22500\\2655755794.py:2: SettingWithCopyWarning: \n",
      "A value is trying to be set on a copy of a slice from a DataFrame.\n",
      "Try using .loc[row_indexer,col_indexer] = value instead\n",
      "\n",
      "See the caveats in the documentation: https://pandas.pydata.org/pandas-docs/stable/user_guide/indexing.html#returning-a-view-versus-a-copy\n",
      "  dfn['Estación del año']= label_encoder.fit_transform(dfn['Estación del año'])\n",
      "C:\\Users\\ebover\\AppData\\Local\\Temp\\ipykernel_22500\\2655755794.py:7: SettingWithCopyWarning: \n",
      "A value is trying to be set on a copy of a slice from a DataFrame.\n",
      "Try using .loc[row_indexer,col_indexer] = value instead\n",
      "\n",
      "See the caveats in the documentation: https://pandas.pydata.org/pandas-docs/stable/user_guide/indexing.html#returning-a-view-versus-a-copy\n",
      "  dfn['Ambiente controlado']= label_encoder.fit_transform(dfn['Ambiente controlado'])\n",
      "C:\\Users\\ebover\\AppData\\Local\\Temp\\ipykernel_22500\\2655755794.py:11: SettingWithCopyWarning: \n",
      "A value is trying to be set on a copy of a slice from a DataFrame.\n",
      "Try using .loc[row_indexer,col_indexer] = value instead\n",
      "\n",
      "See the caveats in the documentation: https://pandas.pydata.org/pandas-docs/stable/user_guide/indexing.html#returning-a-view-versus-a-copy\n",
      "  dfn['localidad']= label_encoder.fit_transform(dfn['localidad'])\n",
      "C:\\Users\\ebover\\AppData\\Local\\Temp\\ipykernel_22500\\2655755794.py:15: SettingWithCopyWarning: \n",
      "A value is trying to be set on a copy of a slice from a DataFrame.\n",
      "Try using .loc[row_indexer,col_indexer] = value instead\n",
      "\n",
      "See the caveats in the documentation: https://pandas.pydata.org/pandas-docs/stable/user_guide/indexing.html#returning-a-view-versus-a-copy\n",
      "  dfn['zona climática']= label_encoder.fit_transform(dfn['zona climática'])\n",
      "C:\\Users\\ebover\\AppData\\Local\\Temp\\ipykernel_22500\\2655755794.py:19: SettingWithCopyWarning: \n",
      "A value is trying to be set on a copy of a slice from a DataFrame.\n",
      "Try using .loc[row_indexer,col_indexer] = value instead\n",
      "\n",
      "See the caveats in the documentation: https://pandas.pydata.org/pandas-docs/stable/user_guide/indexing.html#returning-a-view-versus-a-copy\n",
      "  dfn['zona prod']= label_encoder.fit_transform(dfn['zona prod'])\n",
      "C:\\Users\\ebover\\AppData\\Local\\Temp\\ipykernel_22500\\2655755794.py:23: SettingWithCopyWarning: \n",
      "A value is trying to be set on a copy of a slice from a DataFrame.\n",
      "Try using .loc[row_indexer,col_indexer] = value instead\n",
      "\n",
      "See the caveats in the documentation: https://pandas.pydata.org/pandas-docs/stable/user_guide/indexing.html#returning-a-view-versus-a-copy\n",
      "  dfn['Ventilación forzada']= label_encoder.fit_transform(dfn['Ventilación forzada'])\n"
     ]
    },
    {
     "data": {
      "text/plain": [
       "array([2, 1, 0])"
      ]
     },
     "execution_count": 27,
     "metadata": {},
     "output_type": "execute_result"
    },
    {
     "name": "stdout",
     "output_type": "stream",
     "text": [
      "time: 46 ms (started: 2023-06-24 22:20:22 -03:00)\n"
     ]
    }
   ],
   "source": [
    "label_encoder = preprocessing.LabelEncoder()\n",
    "dfn['Estación del año']= label_encoder.fit_transform(dfn['Estación del año'])\n",
    "dfn['Estación del año'].unique()\n",
    "\n",
    "\n",
    "label_encoder = preprocessing.LabelEncoder()\n",
    "dfn['Ambiente controlado']= label_encoder.fit_transform(dfn['Ambiente controlado'])\n",
    "dfn['Ambiente controlado'].unique()\n",
    "\n",
    "label_encoder = preprocessing.LabelEncoder()\n",
    "dfn['localidad']= label_encoder.fit_transform(dfn['localidad'])\n",
    "dfn['localidad'].unique()\n",
    "\n",
    "label_encoder = preprocessing.LabelEncoder()\n",
    "dfn['zona climática']= label_encoder.fit_transform(dfn['zona climática'])\n",
    "dfn['zona climática'].unique()\n",
    "\n",
    "label_encoder = preprocessing.LabelEncoder()\n",
    "dfn['zona prod']= label_encoder.fit_transform(dfn['zona prod'])\n",
    "dfm['zona prod'].unique()\n",
    "\n",
    "label_encoder = preprocessing.LabelEncoder()\n",
    "dfn['Ventilación forzada']= label_encoder.fit_transform(dfn['Ventilación forzada'])\n",
    "dfn['Ventilación forzada'].unique()"
   ]
  },
  {
   "attachments": {},
   "cell_type": "markdown",
   "id": "3f40e884",
   "metadata": {},
   "source": [
    "# Feature selection"
   ]
  },
  {
   "attachments": {},
   "cell_type": "markdown",
   "id": "c8a5929a",
   "metadata": {},
   "source": [
    "## Exploratory Data Analysis\n"
   ]
  },
  {
   "attachments": {},
   "cell_type": "markdown",
   "id": "bd6d6c08",
   "metadata": {},
   "source": [
    "# Entrenamiento modelos machine learning"
   ]
  },
  {
   "attachments": {},
   "cell_type": "markdown",
   "id": "690b19c9",
   "metadata": {},
   "source": [
    "# Modelos de regresión con base completa"
   ]
  },
  {
   "cell_type": "code",
   "execution_count": 28,
   "id": "22a43b58",
   "metadata": {},
   "outputs": [
    {
     "name": "stdout",
     "output_type": "stream",
     "text": [
      "time: 15 ms (started: 2023-06-24 22:20:31 -03:00)\n"
     ]
    }
   ],
   "source": [
    "from sklearn.model_selection import train_test_split\n",
    "\n",
    "X3=dfn.drop('Consumo medio diario (g)', axis=1) \n",
    "\n",
    "y3=dfn['Consumo medio diario (g)']\n",
    "\n",
    "X3_train, X3_test, y3_train, y3_test = train_test_split(X3, y3, test_size=0.30, random_state=42)"
   ]
  },
  {
   "attachments": {},
   "cell_type": "markdown",
   "id": "4f13a67f",
   "metadata": {},
   "source": [
    "## Linear regression"
   ]
  },
  {
   "cell_type": "code",
   "execution_count": 29,
   "id": "e3d0d8d0",
   "metadata": {},
   "outputs": [
    {
     "name": "stdout",
     "output_type": "stream",
     "text": [
      "time: 0 ns (started: 2023-06-24 22:20:34 -03:00)\n"
     ]
    }
   ],
   "source": [
    "from sklearn.linear_model import LinearRegression\n"
   ]
  },
  {
   "cell_type": "code",
   "execution_count": 84,
   "id": "07d689bb",
   "metadata": {},
   "outputs": [
    {
     "name": "stdout",
     "output_type": "stream",
     "text": [
      "time: 31 ms (started: 2023-06-24 23:09:28 -03:00)\n"
     ]
    }
   ],
   "source": [
    "model = LinearRegression(fit_intercept=True)\n",
    "model.fit(X3, y3)\n",
    "y3_train_pred = model.predict(X3_train)\n",
    "y3_test_pred = model.predict(X3_test)\n",
    "\n",
    "lr_test_mse = mean_squared_error(y3_test, y3_test_pred)\n",
    "lr_train_mse = mean_squared_error(y3_train, y3_train_pred)\n",
    "\n",
    "lr_test_rmse = np.sqrt(lr_test_mse)\n",
    "lr_train_rmse = np.sqrt(lr_train_mse)\n",
    "\n",
    "lr_test_mae = mean_absolute_error(y3_test, y3_test_pred)\n",
    "lr_train_mae = mean_absolute_error(y3_train, y3_train_pred)\n",
    "\n",
    "lr_test_r2 = r2_score(y3_test, y3_test_pred)\n",
    "lr_train_r2 = r2_score(y3_train, y3_train_pred)"
   ]
  },
  {
   "cell_type": "code",
   "execution_count": null,
   "id": "5bbedb2f",
   "metadata": {},
   "outputs": [],
   "source": [
    "model.coef_"
   ]
  },
  {
   "cell_type": "code",
   "execution_count": null,
   "id": "0d36e7fb",
   "metadata": {},
   "outputs": [],
   "source": [
    "coeff_df2 = pd.DataFrame(model.coef_, X3.columns, columns=['Coefficient']).reset_index()\n",
    "coeff_df2"
   ]
  },
  {
   "cell_type": "code",
   "execution_count": null,
   "id": "c1e72423",
   "metadata": {},
   "outputs": [],
   "source": [
    "ax=sns.barplot(data=coeff_df2, x='Coefficient',y='index') \n",
    "ax.bar_label(ax.containers[0])\n",
    "ax.set(xlim=(-100, 40))\n",
    "ax.set(title='Coeficientes de correlación');"
   ]
  },
  {
   "attachments": {},
   "cell_type": "markdown",
   "id": "8d48efc5",
   "metadata": {},
   "source": [
    "# KNN"
   ]
  },
  {
   "cell_type": "code",
   "execution_count": 64,
   "id": "e391806d",
   "metadata": {},
   "outputs": [
    {
     "data": {
      "image/png": "[encoded data removed]",
      "text/plain": [
       "<Figure size 640x480 with 1 Axes>"
      ]
     },
     "metadata": {},
     "output_type": "display_data"
    },
    {
     "name": "stdout",
     "output_type": "stream",
     "text": [
      "time: 4.17 s (started: 2023-06-24 22:59:36 -03:00)\n"
     ]
    }
   ],
   "source": [
    "from sklearn.neighbors import KNeighborsRegressor\n",
    "k_range = range(1, 50)\n",
    "scores = []\n",
    "for k in k_range:\n",
    "    knn = KNeighborsRegressor(n_neighbors = k)\n",
    "    knn.fit(X3_train, y3_train)\n",
    "    scores.append(knn.score(X3_test, y3_test))\n",
    "plt.figure()\n",
    "plt.xlabel('k')\n",
    "plt.ylabel('RMSE')\n",
    "plt.scatter(k_range, scores)\n",
    "plt.xticks([0,5,10,20,30,40,50]);"
   ]
  },
  {
   "cell_type": "code",
   "execution_count": 85,
   "id": "25db7bbf",
   "metadata": {},
   "outputs": [
    {
     "name": "stdout",
     "output_type": "stream",
     "text": [
      "time: 172 ms (started: 2023-06-24 23:09:34 -03:00)\n"
     ]
    }
   ],
   "source": [
    "from sklearn.neighbors import KNeighborsRegressor\n",
    "\n",
    "model = KNeighborsRegressor(n_neighbors=10)\n",
    "model.fit(X3, y3)\n",
    "y3_train_pred = model.predict(X3_train)\n",
    "y3_test_pred = model.predict(X3_test)\n",
    "\n",
    "\n",
    "\n",
    "knr_test_mse = mean_squared_error(y3_test, y3_test_pred)\n",
    "knr_train_mse = mean_squared_error(y3_train, y3_train_pred)\n",
    "\n",
    "knr_test_rmse = np.sqrt(knr_test_mse)\n",
    "knr_train_rmse = np.sqrt(knr_train_mse)\n",
    "\n",
    "knr_test_mae = mean_absolute_error(y3_test, y3_test_pred)\n",
    "knr_train_mae = mean_absolute_error(y3_train, y3_train_pred)\n",
    "\n",
    "knr_test_r2 = r2_score(y3_test, y3_test_pred)\n",
    "knr_train_r2 = r2_score(y3_train, y3_train_pred)\n"
   ]
  },
  {
   "attachments": {},
   "cell_type": "markdown",
   "id": "3b745b6b",
   "metadata": {},
   "source": [
    "# Random forest regression"
   ]
  },
  {
   "cell_type": "code",
   "execution_count": 86,
   "id": "55a19d5d",
   "metadata": {},
   "outputs": [
    {
     "name": "stdout",
     "output_type": "stream",
     "text": [
      "time: 5.39 s (started: 2023-06-24 23:09:38 -03:00)\n"
     ]
    }
   ],
   "source": [
    "from sklearn.ensemble import RandomForestRegressor\n",
    "\n",
    "model = RandomForestRegressor(n_estimators=50, random_state=42)\n",
    "model.fit(X3, y3)\n",
    "y3_train_pred = model.predict(X3_train)\n",
    "y3_test_pred = model.predict(X3_test)\n",
    "\n",
    "\n",
    "rfr_test_mse = mean_squared_error(y3_train, y3_train_pred)\n",
    "rfr_train_mse = mean_squared_error(y3_test, y3_test_pred)\n",
    "\n",
    "rfr_test_rmse = np.sqrt(rfr_test_mse)\n",
    "rfr_train_rmse = np.sqrt(rfr_train_mse)\n",
    "\n",
    "rfr_test_mae = mean_absolute_error(y3_test, y3_test_pred)\n",
    "rfr_train_mae = mean_absolute_error(y3_train, y3_train_pred)\n",
    "\n",
    "rfr_test_r2 = r2_score(y3_test, y3_test_pred)\n",
    "rfr_train_r2 = r2_score(y3_train, y3_train_pred)"
   ]
  },
  {
   "attachments": {},
   "cell_type": "markdown",
   "id": "fb04c5e4",
   "metadata": {},
   "source": [
    "# Xgboost"
   ]
  },
  {
   "cell_type": "code",
   "execution_count": null,
   "id": "ca4922d9",
   "metadata": {
    "scrolled": true
   },
   "outputs": [],
   "source": [
    "! pip install xgboost"
   ]
  },
  {
   "cell_type": "code",
   "execution_count": 87,
   "id": "443c33b1",
   "metadata": {},
   "outputs": [
    {
     "name": "stdout",
     "output_type": "stream",
     "text": [
      "time: 375 ms (started: 2023-06-24 23:09:47 -03:00)\n"
     ]
    }
   ],
   "source": []
  },
  {
   "cell_type": "code",
   "execution_count": 88,
   "id": "3d232858",
   "metadata": {},
   "outputs": [
    {
     "data": {
      "image/png": "[encoded data removed]",
      "text/plain": [
       "<Figure size 1000x600 with 1 Axes>"
      ]
     },
     "metadata": {},
     "output_type": "display_data"
    },
    {
     "name": "stdout",
     "output_type": "stream",
     "text": [
      "time: 156 ms (started: 2023-06-24 23:09:51 -03:00)\n"
     ]
    }
   ],
   "source": [
    "valores = [lr_train_mse, knr_train_mse, rfr_train_mse, xgb_train_mse]\n",
    "\n",
    "nombres = ['Lineal', 'Knn', 'Forest', 'XGB']\n",
    "\n",
    "plt.figure(figsize=(10, 6))\n",
    "plt.bar(nombres, valores, color='blue')\n",
    "\n",
    "plt.xlabel('Modelo')\n",
    "plt.ylabel('MSE Train')\n",
    "plt.title('Comparación de MSE entre modelos de regresión datos entrenamiento')\n",
    "\n",
    "for i, value in enumerate(valores):\n",
    "    plt.text(i, value, str(round(value, 2)), ha='center', va='bottom')\n",
    "\n",
    "plt.show()"
   ]
  },
  {
   "cell_type": "code",
   "execution_count": 89,
   "id": "a53457f8",
   "metadata": {},
   "outputs": [
    {
     "data": {
      "image/png": "[encoded data removed]",
      "text/plain": [
       "<Figure size 1000x600 with 1 Axes>"
      ]
     },
     "metadata": {},
     "output_type": "display_data"
    },
    {
     "name": "stdout",
     "output_type": "stream",
     "text": [
      "time: 187 ms (started: 2023-06-24 23:09:56 -03:00)\n"
     ]
    }
   ],
   "source": [
    "valores = [lr_test_mse, knr_test_mse, rfr_test_mse, xgb_test_mse]\n",
    "\n",
    "nombres = ['Lineal', 'Knn', 'Forest', 'XGB']\n",
    "\n",
    "plt.figure(figsize=(10, 6))\n",
    "plt.bar(nombres, valores, color='blue')\n",
    "\n",
    "plt.xlabel('Modelo')\n",
    "plt.ylabel('MSE Test')\n",
    "plt.title('Comparación de MSE entre modelos de regresión datos de prueba')\n",
    "\n",
    "for i, value in enumerate(valores):\n",
    "    plt.text(i, value, str(round(value, 2)), ha='center', va='bottom')\n",
    "\n",
    "plt.show()"
   ]
  },
  {
   "cell_type": "code",
   "execution_count": 90,
   "id": "d805e8e5",
   "metadata": {},
   "outputs": [
    {
     "data": {
      "image/png": "[encoded data removed]",
      "text/plain": [
       "<Figure size 1000x600 with 1 Axes>"
      ]
     },
     "metadata": {},
     "output_type": "display_data"
    },
    {
     "name": "stdout",
     "output_type": "stream",
     "text": [
      "time: 141 ms (started: 2023-06-24 23:10:09 -03:00)\n"
     ]
    }
   ],
   "source": [
    "valores = [lr_train_rmse, knr_train_rmse, rfr_train_rmse, xgb_train_rmse]\n",
    "\n",
    "nombres = ['Lineal', 'Knn', 'Forest', 'XGB']\n",
    "\n",
    "plt.figure(figsize=(10, 6))\n",
    "plt.bar(nombres, valores, color='blue')\n",
    "\n",
    "plt.xlabel('Modelo')\n",
    "plt.ylabel('MSE Train')\n",
    "plt.title('Comparación de RMSE entre modelos de regresión datos entrenamiento')\n",
    "\n",
    "for i, value in enumerate(valores):\n",
    "    plt.text(i, value, str(round(value, 2)), ha='center', va='bottom')\n",
    "\n",
    "plt.show()"
   ]
  },
  {
   "cell_type": "code",
   "execution_count": 91,
   "id": "b2feea8b",
   "metadata": {},
   "outputs": [
    {
     "data": {
      "image/png": "[encoded data removed]",
      "text/plain": [
       "<Figure size 1000x600 with 1 Axes>"
      ]
     },
     "metadata": {},
     "output_type": "display_data"
    },
    {
     "name": "stdout",
     "output_type": "stream",
     "text": [
      "time: 141 ms (started: 2023-06-24 23:11:20 -03:00)\n"
     ]
    }
   ],
   "source": [
    "valores = [lr_test_rmse, knr_test_rmse, rfr_test_rmse, xgb_test_rmse]\n",
    "\n",
    "nombres = ['Lineal', 'Knn', 'Forest', 'XGB']\n",
    "\n",
    "plt.figure(figsize=(10, 6))\n",
    "plt.bar(nombres, valores, color='blue')\n",
    "\n",
    "plt.xlabel('Modelo')\n",
    "plt.ylabel('MSE Test')\n",
    "plt.title('Comparación de RMSE entre modelos de regresión datos de prueba')\n",
    "\n",
    "for i, value in enumerate(valores):\n",
    "    plt.text(i, value, str(round(value, 2)), ha='center', va='bottom')\n",
    "\n",
    "plt.show()"
   ]
  },
  {
   "cell_type": "code",
   "execution_count": 92,
   "id": "83c7dd9e",
   "metadata": {},
   "outputs": [
    {
     "data": {
      "image/png": "[encoded data removed]",
      "text/plain": [
       "<Figure size 1000x600 with 1 Axes>"
      ]
     },
     "metadata": {},
     "output_type": "display_data"
    },
    {
     "name": "stdout",
     "output_type": "stream",
     "text": [
      "time: 203 ms (started: 2023-06-24 23:11:29 -03:00)\n"
     ]
    }
   ],
   "source": [
    "valores = [lr_train_mae, knr_train_mae, rfr_train_mae, xgb_train_mae]\n",
    "\n",
    "nombres = ['Lineal', 'Knn', 'Forest', 'XGB']\n",
    "\n",
    "plt.figure(figsize=(10, 6))\n",
    "plt.bar(nombres, valores, color='blue')\n",
    "\n",
    "plt.xlabel('Modelo')\n",
    "plt.ylabel('MSE Train')\n",
    "plt.title('Comparación de MAE entre modelos de regresión datos entrenamiento')\n",
    "\n",
    "for i, value in enumerate(valores):\n",
    "    plt.text(i, value, str(round(value, 2)), ha='center', va='bottom')\n",
    "\n",
    "plt.show()"
   ]
  },
  {
   "cell_type": "code",
   "execution_count": 93,
   "id": "a861fc6e",
   "metadata": {},
   "outputs": [
    {
     "data": {
      "image/png": "[encoded data removed]",
      "text/plain": [
       "<Figure size 1000x600 with 1 Axes>"
      ]
     },
     "metadata": {},
     "output_type": "display_data"
    },
    {
     "name": "stdout",
     "output_type": "stream",
     "text": [
      "time: 140 ms (started: 2023-06-24 23:11:43 -03:00)\n"
     ]
    }
   ],
   "source": [
    "valores = [lr_test_mae, knr_test_mae, rfr_test_mae, xgb_test_mae]\n",
    "\n",
    "nombres = ['Lineal', 'Knn', 'Forest', 'XGB']\n",
    "\n",
    "plt.figure(figsize=(10, 6))\n",
    "plt.bar(nombres, valores, color='blue')\n",
    "\n",
    "plt.xlabel('Modelo')\n",
    "plt.ylabel('MSE Test')\n",
    "plt.title('Comparación de MAE entre modelos de regresión datos de prueba')\n",
    "\n",
    "for i, value in enumerate(valores):\n",
    "    plt.text(i, value, str(round(value, 2)), ha='center', va='bottom')\n",
    "\n",
    "plt.show()"
   ]
  },
  {
   "cell_type": "code",
   "execution_count": 94,
   "id": "3f2f6eea",
   "metadata": {},
   "outputs": [
    {
     "data": {
      "image/png": "[encoded data removed]",
      "text/plain": [
       "<Figure size 1000x600 with 1 Axes>"
      ]
     },
     "metadata": {},
     "output_type": "display_data"
    },
    {
     "name": "stdout",
     "output_type": "stream",
     "text": [
      "time: 141 ms (started: 2023-06-24 23:11:52 -03:00)\n"
     ]
    }
   ],
   "source": [
    "valores = [lr_train_r2, knr_train_r2, rfr_train_r2, xgb_train_r2]\n",
    "\n",
    "nombres = ['Lineal', 'Knn', 'Forest', 'XGB']\n",
    "\n",
    "plt.figure(figsize=(10, 6))\n",
    "plt.bar(nombres, valores, color='blue')\n",
    "\n",
    "plt.xlabel('Modelo')\n",
    "plt.ylabel('MSE Train')\n",
    "plt.title('Comparación de R2 entre modelos de regresión datos entrenamiento')\n",
    "\n",
    "for i, value in enumerate(valores):\n",
    "    plt.text(i, value, str(round(value, 2)), ha='center', va='bottom')\n",
    "\n",
    "plt.show()"
   ]
  },
  {
   "cell_type": "code",
   "execution_count": 95,
   "id": "37a7cf3c",
   "metadata": {},
   "outputs": [
    {
     "data": {
      "image/png": "[encoded data removed]",
      "text/plain": [
       "<Figure size 1000x600 with 1 Axes>"
      ]
     },
     "metadata": {},
     "output_type": "display_data"
    },
    {
     "name": "stdout",
     "output_type": "stream",
     "text": [
      "time: 187 ms (started: 2023-06-24 23:12:03 -03:00)\n"
     ]
    }
   ],
   "source": [
    "valores = [lr_test_r2, knr_test_r2, rfr_test_r2, xgb_test_r2]\n",
    "\n",
    "nombres = ['Lineal', 'Knn', 'Forest', 'XGB']\n",
    "\n",
    "plt.figure(figsize=(10, 6))\n",
    "plt.bar(nombres, valores, color='blue')\n",
    "\n",
    "plt.xlabel('Modelo')\n",
    "plt.ylabel('MSE Test')\n",
    "plt.title('Comparación de R2 entre modelos de regresión datos de prueba')\n",
    "\n",
    "for i, value in enumerate(valores):\n",
    "    plt.text(i, value, str(round(value, 2)), ha='center', va='bottom')\n",
    "\n",
    "plt.show()"
   ]
  },
  {
   "attachments": {},
   "cell_type": "markdown",
   "id": "99867739",
   "metadata": {},
   "source": [
    "Comparando las métricas MSE, RMSE, MAE y R2 de los 4 modelos los mejores valores son para Random Forest en primer lugar y XGB en segundo lugar."
   ]
  },
  {
   "attachments": {},
   "cell_type": "markdown",
   "id": "b28b1af6",
   "metadata": {},
   "source": [
    "## Validación del modelo"
   ]
  },
  {
   "attachments": {},
   "cell_type": "markdown",
   "id": "37a0472f",
   "metadata": {},
   "source": [
    "## Stratified-K fold para Random Forest Regressor"
   ]
  },
  {
   "cell_type": "code",
   "execution_count": 104,
   "id": "d4fc6153",
   "metadata": {},
   "outputs": [
    {
     "name": "stderr",
     "output_type": "stream",
     "text": [
      "[Parallel(n_jobs=1)]: Using backend SequentialBackend with 1 concurrent workers.\n"
     ]
    },
    {
     "name": "stdout",
     "output_type": "stream",
     "text": [
      "time: 1.02 s (started: 2023-06-24 23:28:28 -03:00)\n"
     ]
    },
    {
     "name": "stderr",
     "output_type": "stream",
     "text": [
      "[Parallel(n_jobs=1)]: Done   7 out of   7 | elapsed:    0.9s finished\n"
     ]
    }
   ],
   "source": [
    "from sklearn.model_selection import cross_val_score\n",
    "from sklearn.ensemble import RandomForestRegressor\n",
    "# crear el modelo\n",
    "model = RandomForestRegressor(random_state=42, n_estimators=10,max_depth=4)\n",
    "scores = cross_val_score(model, X3_train, y3_train, cv=7, verbose=1,scoring='neg_mean_squared_error')"
   ]
  },
  {
   "cell_type": "code",
   "execution_count": 105,
   "id": "e07e8d8a",
   "metadata": {},
   "outputs": [
    {
     "data": {
      "text/plain": [
       "array([-64.4783928 , -66.40946028, -65.03677095, -65.56104414,\n",
       "       -66.93682591, -67.40908668, -63.94366257])"
      ]
     },
     "execution_count": 105,
     "metadata": {},
     "output_type": "execute_result"
    },
    {
     "name": "stdout",
     "output_type": "stream",
     "text": [
      "time: 0 ns (started: 2023-06-24 23:28:32 -03:00)\n"
     ]
    }
   ],
   "source": [
    "scores"
   ]
  },
  {
   "attachments": {},
   "cell_type": "markdown",
   "id": "8b67faab",
   "metadata": {},
   "source": [
    "Realizando una prueba de cross validation para el modelo de RandomForestRegressor se observa que el modelo es estable ya que al variar la conformación del grupo de datos de entrenamiento los valores de RMSE obtenidos son similares."
   ]
  },
  {
   "cell_type": "code",
   "execution_count": null,
   "id": "e6cb6e17",
   "metadata": {},
   "outputs": [],
   "source": []
  }
 ],
 "metadata": {
  "kernelspec": {
   "display_name": "Python 3 (ipykernel)",
   "language": "python",
   "name": "python3"
  },
  "language_info": {
   "codemirror_mode": {
    "name": "ipython",
    "version": 3
   },
   "file_extension": ".py",
   "mimetype": "text/x-python",
   "name": "python",
   "nbconvert_exporter": "python",
   "pygments_lexer": "ipython3",
   "version": "3.9.13"
  }
 },
 "nbformat": 4,
 "nbformat_minor": 5
}
